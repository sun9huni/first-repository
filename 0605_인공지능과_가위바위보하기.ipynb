{
  "nbformat": 4,
  "nbformat_minor": 0,
  "metadata": {
    "colab": {
      "provenance": [],
      "authorship_tag": "ABX9TyOsQSKqIUyKc5K9ZRngmzvH",
      "include_colab_link": true
    },
    "kernelspec": {
      "name": "python3",
      "display_name": "Python 3"
    },
    "language_info": {
      "name": "python"
    }
  },
  "cells": [
    {
      "cell_type": "markdown",
      "metadata": {
        "id": "view-in-github",
        "colab_type": "text"
      },
      "source": [
        "<a href=\"https://colab.research.google.com/github/sun9huni/first-repository/blob/main/0605_%EC%9D%B8%EA%B3%B5%EC%A7%80%EB%8A%A5%EA%B3%BC_%EA%B0%80%EC%9C%84%EB%B0%94%EC%9C%84%EB%B3%B4%ED%95%98%EA%B8%B0.ipynb\" target=\"_parent\"><img src=\"https://colab.research.google.com/assets/colab-badge.svg\" alt=\"Open In Colab\"/></a>"
      ]
    },
    {
      "cell_type": "markdown",
      "source": [
        "# 1-2 데이터 준비"
      ],
      "metadata": {
        "id": "Y0sT_52enzwg"
      }
    },
    {
      "cell_type": "markdown",
      "source": [
        "## MNIST 숫자 손글씨 Dataset 불러들이기"
      ],
      "metadata": {
        "id": "S2CqW813oCRJ"
      }
    },
    {
      "cell_type": "code",
      "execution_count": null,
      "metadata": {
        "colab": {
          "base_uri": "https://localhost:8080/"
        },
        "id": "IXBSt6PCnsYU",
        "outputId": "dbb2effb-5683-4b4c-977c-0086f0f17b96"
      },
      "outputs": [
        {
          "output_type": "stream",
          "name": "stdout",
          "text": [
            "2.18.0\n",
            "Downloading data from https://storage.googleapis.com/tensorflow/tf-keras-datasets/mnist.npz\n",
            "\u001b[1m11490434/11490434\u001b[0m \u001b[32m━━━━━━━━━━━━━━━━━━━━\u001b[0m\u001b[37m\u001b[0m \u001b[1m0s\u001b[0m 0us/step\n",
            "60000\n"
          ]
        }
      ],
      "source": [
        "import tensorflow as tf\n",
        "from tensorflow import keras\n",
        "\n",
        "import numpy as np\n",
        "import matplotlib.pyplot as plt\n",
        "import os\n",
        "\n",
        "print(tf.__version__)\n",
        "\n",
        "mnist = keras.datasets.mnist\n",
        "\n",
        "# MNIST 데이터를 로드. 다운로드하지 않았다면 다운로드까지 자동으로 진행됩니다.\n",
        "\n",
        "(x_train, y_train), (x_test, y_test) = mnist.load_data()\n",
        "\n",
        "print(len(x_train))"
      ]
    },
    {
      "cell_type": "code",
      "source": [
        "# 손글씨 이미지 하나 출력\n",
        "plt.imshow(x_train[1], cmap = plt.cm.binary)\n",
        "plt.show()"
      ],
      "metadata": {
        "colab": {
          "base_uri": "https://localhost:8080/",
          "height": 430
        },
        "id": "MJMNT2t7pFVD",
        "outputId": "21ffef54-032c-4896-a07d-9a0b28914c25"
      },
      "execution_count": null,
      "outputs": [
        {
          "output_type": "display_data",
          "data": {
            "text/plain": [
              "<Figure size 640x480 with 1 Axes>"
            ],
            "image/png": "[encoded data removed]"
          },
          "metadata": {}
        }
      ]
    },
    {
      "cell_type": "code",
      "source": [
        "print(y_train[1])"
      ],
      "metadata": {
        "colab": {
          "base_uri": "https://localhost:8080/"
        },
        "id": "S36ivTNwpQQR",
        "outputId": "51b0061b-4619-4bc9-ac86-7d2627b544ef"
      },
      "execution_count": null,
      "outputs": [
        {
          "output_type": "stream",
          "name": "stdout",
          "text": [
            "0\n"
          ]
        }
      ]
    },
    {
      "cell_type": "code",
      "source": [
        "# index에서 0에서 59999 사이 숫자를 지정\n",
        "index = 10000\n",
        "plt.imshow(x_train[index], cmap = plt.cm.binary)\n",
        "plt.show()\n",
        "print( (index + 1), '번째 이미지의 숫자는 바로', y_train[index], '입니다.')"
      ],
      "metadata": {
        "colab": {
          "base_uri": "https://localhost:8080/",
          "height": 448
        },
        "id": "OMBqBTz4pTYA",
        "outputId": "193466f5-c316-452d-93bf-65574b270cf3"
      },
      "execution_count": null,
      "outputs": [
        {
          "output_type": "display_data",
          "data": {
            "text/plain": [
              "<Figure size 640x480 with 1 Axes>"
            ],
            "image/png": "[encoded data removed]"
          },
          "metadata": {}
        },
        {
          "output_type": "stream",
          "name": "stdout",
          "text": [
            "10001 번째 이미지의 숫자는 바로 3 입니다.\n"
          ]
        }
      ]
    },
    {
      "cell_type": "markdown",
      "source": [
        "## train data, test_data\n",
        "- (x_train, y_train), (x_test, y_test) = mnist.load_data()\n",
        "- mnist.load( ) 함수를 통해 학습용 데이터 (x_train, y_train)와 시험용 데이터 (x_test, y_test)를 나누어서 받아들이는 것"
      ],
      "metadata": {
        "id": "k_JUfUgZp0My"
      }
    },
    {
      "cell_type": "code",
      "source": [
        "print(x_train.shape)"
      ],
      "metadata": {
        "colab": {
          "base_uri": "https://localhost:8080/"
        },
        "id": "l4MgCcawpofD",
        "outputId": "ba851350-ea02-4913-fd7e-f3c139e3cbbb"
      },
      "execution_count": null,
      "outputs": [
        {
          "output_type": "stream",
          "name": "stdout",
          "text": [
            "(60000, 28, 28)\n"
          ]
        }
      ]
    },
    {
      "cell_type": "code",
      "source": [
        "print(x_test.shape)"
      ],
      "metadata": {
        "colab": {
          "base_uri": "https://localhost:8080/"
        },
        "id": "VomDdxEvqA7p",
        "outputId": "555cacb3-4309-4e9b-b39c-4324689aaa81"
      },
      "execution_count": null,
      "outputs": [
        {
          "output_type": "stream",
          "name": "stdout",
          "text": [
            "(10000, 28, 28)\n"
          ]
        }
      ]
    },
    {
      "cell_type": "code",
      "source": [
        "print('최소값:',np.min(x_train), '최대값',np.max(x_train))"
      ],
      "metadata": {
        "colab": {
          "base_uri": "https://localhost:8080/"
        },
        "id": "Mfe0jheAqRuF",
        "outputId": "76738671-84a9-4f54-a3e3-1bef9aa3bcb2"
      },
      "execution_count": null,
      "outputs": [
        {
          "output_type": "stream",
          "name": "stdout",
          "text": [
            "최소값: 0 최대값 255\n"
          ]
        }
      ]
    },
    {
      "cell_type": "markdown",
      "source": [
        "### 인공지능 모델을 훈련시키고 사용할 때, 일반적으로 입력은 0~1 사이의 값으로 정규화 시켜주는 것이 좋습니다. MNIST 데이터는 각 픽셀의 값이 0~255 사이 범위에 있으므로 데이터들을 255.0 으로 나누어주면 됩니다. 최소값이 0, 최대값이 1에 근접하도록 나오는지 확인해 봅시다.\n",
        "\n",
        "\n",
        "\n",
        "\n"
      ],
      "metadata": {
        "id": "C6zNFcSbqgkp"
      }
    },
    {
      "cell_type": "code",
      "source": [
        "x_train_norm, x_test_norm = x_train / 255.0, x_test / 255.0\n",
        "print('최소값:',np.min(x_train_norm), '최대값',np.max(x_train_norm))"
      ],
      "metadata": {
        "colab": {
          "base_uri": "https://localhost:8080/"
        },
        "id": "ZgZeEfVYqb1A",
        "outputId": "89c6a41b-e052-4d9c-d505-2c57a35c8b22"
      },
      "execution_count": null,
      "outputs": [
        {
          "output_type": "stream",
          "name": "stdout",
          "text": [
            "최소값: 0.0 최대값 1.0\n"
          ]
        }
      ]
    },
    {
      "cell_type": "markdown",
      "source": [
        "# 1-3 딥러닝 네트워크 설계\n",
        "- tf.keras에서 Sequential API라는 방법을 사용"
      ],
      "metadata": {
        "id": "Bne1rZzsqzUD"
      }
    },
    {
      "cell_type": "code",
      "source": [
        "model = keras.models.Sequential()\n",
        "# Conv2D(x -> 얼마나 다양한 이미지의 특징을 살펴볼 것인가?,)\n",
        "# input_shape -> 입력이미지의 형태\n",
        "# 28x28 사이즈인 흑백 이미지, 마지막 숫자는 차원 수(채널 수), 흑백은 1, 컬러이미지는 3\n",
        "model.add(keras.layers.Conv2D(16,(3,3), activation = 'relu',input_shape = (28,28,1)))\n",
        "model.add(keras.layers.MaxPool2D(2,2))\n",
        "model.add(keras.layers.Conv2D(32,(3,3), activation = 'relu'))\n",
        "model.add(keras.layers.MaxPooling2D((2,2)))\n",
        "model.add(keras.layers.Flatten()) # Add Flatten layer here\n",
        "model.add(keras.layers.Dense(32 , activation = 'relu'))\n",
        "# 32 -> 분류기 알고리즘을 얼마나 복잡하게 할 것인가\n",
        "model.add(keras.layers.Dense(10, activation = 'softmax'))\n",
        "# 10 -> 최종 분류기의 class 수, 여기서는 0~9까지 총 10개의 class를 구분하므로 10.\n",
        "\n",
        "print('Model에 추가된 Layer 개수', len(model.layers))"
      ],
      "metadata": {
        "colab": {
          "base_uri": "https://localhost:8080/"
        },
        "id": "MHMNJm9ArNUp",
        "outputId": "d52da7ff-6ca1-4af0-ecc9-cafe56fa1882"
      },
      "execution_count": null,
      "outputs": [
        {
          "output_type": "stream",
          "name": "stdout",
          "text": [
            "Model에 추가된 Layer 개수 7\n"
          ]
        }
      ]
    },
    {
      "cell_type": "code",
      "source": [
        "model.summary()"
      ],
      "metadata": {
        "colab": {
          "base_uri": "https://localhost:8080/",
          "height": 358
        },
        "id": "ngifDDKAtI0S",
        "outputId": "5bfc12c8-dd35-440c-ed8d-b9f186778358"
      },
      "execution_count": null,
      "outputs": [
        {
          "output_type": "display_data",
          "data": {
            "text/plain": [
              "\u001b[1mModel: \"sequential_2\"\u001b[0m\n"
            ],
            "text/html": [
              "<pre style=\"white-space:pre;overflow-x:auto;line-height:normal;font-family:Menlo,'DejaVu Sans Mono',consolas,'Courier New',monospace\"><span style=\"font-weight: bold\">Model: \"sequential_2\"</span>\n",
              "</pre>\n"
            ]
          },
          "metadata": {}
        },
        {
          "output_type": "display_data",
          "data": {
            "text/plain": [
              "┏━━━━━━━━━━━━━━━━━━━━━━━━━━━━━━━━━┳━━━━━━━━━━━━━━━━━━━━━━━━┳━━━━━━━━━━━━━━━┓\n",
              "┃\u001b[1m \u001b[0m\u001b[1mLayer (type)                   \u001b[0m\u001b[1m \u001b[0m┃\u001b[1m \u001b[0m\u001b[1mOutput Shape          \u001b[0m\u001b[1m \u001b[0m┃\u001b[1m \u001b[0m\u001b[1m      Param #\u001b[0m\u001b[1m \u001b[0m┃\n",
              "┡━━━━━━━━━━━━━━━━━━━━━━━━━━━━━━━━━╇━━━━━━━━━━━━━━━━━━━━━━━━╇━━━━━━━━━━━━━━━┩\n",
              "│ conv2d_4 (\u001b[38;5;33mConv2D\u001b[0m)               │ (\u001b[38;5;45mNone\u001b[0m, \u001b[38;5;34m26\u001b[0m, \u001b[38;5;34m26\u001b[0m, \u001b[38;5;34m16\u001b[0m)     │           \u001b[38;5;34m160\u001b[0m │\n",
              "├─────────────────────────────────┼────────────────────────┼───────────────┤\n",
              "│ max_pooling2d_4 (\u001b[38;5;33mMaxPooling2D\u001b[0m)  │ (\u001b[38;5;45mNone\u001b[0m, \u001b[38;5;34m13\u001b[0m, \u001b[38;5;34m13\u001b[0m, \u001b[38;5;34m16\u001b[0m)     │             \u001b[38;5;34m0\u001b[0m │\n",
              "├─────────────────────────────────┼────────────────────────┼───────────────┤\n",
              "│ conv2d_5 (\u001b[38;5;33mConv2D\u001b[0m)               │ (\u001b[38;5;45mNone\u001b[0m, \u001b[38;5;34m11\u001b[0m, \u001b[38;5;34m11\u001b[0m, \u001b[38;5;34m32\u001b[0m)     │         \u001b[38;5;34m4,640\u001b[0m │\n",
              "├─────────────────────────────────┼────────────────────────┼───────────────┤\n",
              "│ max_pooling2d_5 (\u001b[38;5;33mMaxPooling2D\u001b[0m)  │ (\u001b[38;5;45mNone\u001b[0m, \u001b[38;5;34m5\u001b[0m, \u001b[38;5;34m5\u001b[0m, \u001b[38;5;34m32\u001b[0m)       │             \u001b[38;5;34m0\u001b[0m │\n",
              "├─────────────────────────────────┼────────────────────────┼───────────────┤\n",
              "│ flatten_1 (\u001b[38;5;33mFlatten\u001b[0m)             │ (\u001b[38;5;45mNone\u001b[0m, \u001b[38;5;34m800\u001b[0m)            │             \u001b[38;5;34m0\u001b[0m │\n",
              "├─────────────────────────────────┼────────────────────────┼───────────────┤\n",
              "│ dense_4 (\u001b[38;5;33mDense\u001b[0m)                 │ (\u001b[38;5;45mNone\u001b[0m, \u001b[38;5;34m32\u001b[0m)             │        \u001b[38;5;34m25,632\u001b[0m │\n",
              "├─────────────────────────────────┼────────────────────────┼───────────────┤\n",
              "│ dense_5 (\u001b[38;5;33mDense\u001b[0m)                 │ (\u001b[38;5;45mNone\u001b[0m, \u001b[38;5;34m10\u001b[0m)             │           \u001b[38;5;34m330\u001b[0m │\n",
              "└─────────────────────────────────┴────────────────────────┴───────────────┘\n"
            ],
            "text/html": [
              "<pre style=\"white-space:pre;overflow-x:auto;line-height:normal;font-family:Menlo,'DejaVu Sans Mono',consolas,'Courier New',monospace\">┏━━━━━━━━━━━━━━━━━━━━━━━━━━━━━━━━━┳━━━━━━━━━━━━━━━━━━━━━━━━┳━━━━━━━━━━━━━━━┓\n",
              "┃<span style=\"font-weight: bold\"> Layer (type)                    </span>┃<span style=\"font-weight: bold\"> Output Shape           </span>┃<span style=\"font-weight: bold\">       Param # </span>┃\n",
              "┡━━━━━━━━━━━━━━━━━━━━━━━━━━━━━━━━━╇━━━━━━━━━━━━━━━━━━━━━━━━╇━━━━━━━━━━━━━━━┩\n",
              "│ conv2d_4 (<span style=\"color: #0087ff; text-decoration-color: #0087ff\">Conv2D</span>)               │ (<span style=\"color: #00d7ff; text-decoration-color: #00d7ff\">None</span>, <span style=\"color: #00af00; text-decoration-color: #00af00\">26</span>, <span style=\"color: #00af00; text-decoration-color: #00af00\">26</span>, <span style=\"color: #00af00; text-decoration-color: #00af00\">16</span>)     │           <span style=\"color: #00af00; text-decoration-color: #00af00\">160</span> │\n",
              "├─────────────────────────────────┼────────────────────────┼───────────────┤\n",
              "│ max_pooling2d_4 (<span style=\"color: #0087ff; text-decoration-color: #0087ff\">MaxPooling2D</span>)  │ (<span style=\"color: #00d7ff; text-decoration-color: #00d7ff\">None</span>, <span style=\"color: #00af00; text-decoration-color: #00af00\">13</span>, <span style=\"color: #00af00; text-decoration-color: #00af00\">13</span>, <span style=\"color: #00af00; text-decoration-color: #00af00\">16</span>)     │             <span style=\"color: #00af00; text-decoration-color: #00af00\">0</span> │\n",
              "├─────────────────────────────────┼────────────────────────┼───────────────┤\n",
              "│ conv2d_5 (<span style=\"color: #0087ff; text-decoration-color: #0087ff\">Conv2D</span>)               │ (<span style=\"color: #00d7ff; text-decoration-color: #00d7ff\">None</span>, <span style=\"color: #00af00; text-decoration-color: #00af00\">11</span>, <span style=\"color: #00af00; text-decoration-color: #00af00\">11</span>, <span style=\"color: #00af00; text-decoration-color: #00af00\">32</span>)     │         <span style=\"color: #00af00; text-decoration-color: #00af00\">4,640</span> │\n",
              "├─────────────────────────────────┼────────────────────────┼───────────────┤\n",
              "│ max_pooling2d_5 (<span style=\"color: #0087ff; text-decoration-color: #0087ff\">MaxPooling2D</span>)  │ (<span style=\"color: #00d7ff; text-decoration-color: #00d7ff\">None</span>, <span style=\"color: #00af00; text-decoration-color: #00af00\">5</span>, <span style=\"color: #00af00; text-decoration-color: #00af00\">5</span>, <span style=\"color: #00af00; text-decoration-color: #00af00\">32</span>)       │             <span style=\"color: #00af00; text-decoration-color: #00af00\">0</span> │\n",
              "├─────────────────────────────────┼────────────────────────┼───────────────┤\n",
              "│ flatten_1 (<span style=\"color: #0087ff; text-decoration-color: #0087ff\">Flatten</span>)             │ (<span style=\"color: #00d7ff; text-decoration-color: #00d7ff\">None</span>, <span style=\"color: #00af00; text-decoration-color: #00af00\">800</span>)            │             <span style=\"color: #00af00; text-decoration-color: #00af00\">0</span> │\n",
              "├─────────────────────────────────┼────────────────────────┼───────────────┤\n",
              "│ dense_4 (<span style=\"color: #0087ff; text-decoration-color: #0087ff\">Dense</span>)                 │ (<span style=\"color: #00d7ff; text-decoration-color: #00d7ff\">None</span>, <span style=\"color: #00af00; text-decoration-color: #00af00\">32</span>)             │        <span style=\"color: #00af00; text-decoration-color: #00af00\">25,632</span> │\n",
              "├─────────────────────────────────┼────────────────────────┼───────────────┤\n",
              "│ dense_5 (<span style=\"color: #0087ff; text-decoration-color: #0087ff\">Dense</span>)                 │ (<span style=\"color: #00d7ff; text-decoration-color: #00d7ff\">None</span>, <span style=\"color: #00af00; text-decoration-color: #00af00\">10</span>)             │           <span style=\"color: #00af00; text-decoration-color: #00af00\">330</span> │\n",
              "└─────────────────────────────────┴────────────────────────┴───────────────┘\n",
              "</pre>\n"
            ]
          },
          "metadata": {}
        },
        {
          "output_type": "display_data",
          "data": {
            "text/plain": [
              "\u001b[1m Total params: \u001b[0m\u001b[38;5;34m30,762\u001b[0m (120.16 KB)\n"
            ],
            "text/html": [
              "<pre style=\"white-space:pre;overflow-x:auto;line-height:normal;font-family:Menlo,'DejaVu Sans Mono',consolas,'Courier New',monospace\"><span style=\"font-weight: bold\"> Total params: </span><span style=\"color: #00af00; text-decoration-color: #00af00\">30,762</span> (120.16 KB)\n",
              "</pre>\n"
            ]
          },
          "metadata": {}
        },
        {
          "output_type": "display_data",
          "data": {
            "text/plain": [
              "\u001b[1m Trainable params: \u001b[0m\u001b[38;5;34m30,762\u001b[0m (120.16 KB)\n"
            ],
            "text/html": [
              "<pre style=\"white-space:pre;overflow-x:auto;line-height:normal;font-family:Menlo,'DejaVu Sans Mono',consolas,'Courier New',monospace\"><span style=\"font-weight: bold\"> Trainable params: </span><span style=\"color: #00af00; text-decoration-color: #00af00\">30,762</span> (120.16 KB)\n",
              "</pre>\n"
            ]
          },
          "metadata": {}
        },
        {
          "output_type": "display_data",
          "data": {
            "text/plain": [
              "\u001b[1m Non-trainable params: \u001b[0m\u001b[38;5;34m0\u001b[0m (0.00 B)\n"
            ],
            "text/html": [
              "<pre style=\"white-space:pre;overflow-x:auto;line-height:normal;font-family:Menlo,'DejaVu Sans Mono',consolas,'Courier New',monospace\"><span style=\"font-weight: bold\"> Non-trainable params: </span><span style=\"color: #00af00; text-decoration-color: #00af00\">0</span> (0.00 B)\n",
              "</pre>\n"
            ]
          },
          "metadata": {}
        }
      ]
    },
    {
      "cell_type": "markdown",
      "source": [
        "# 1-4. 딥러닝 네트워크 학습시키기\n",
        "- 네트워크의 입력은 (데이터갯수, 이미지 크기 x, 이미지 크기 y, 채널수) 와 같은 형태\n",
        "- print(x_train.shape) 을 해보면, (60000, 28, 28) 로 채널수에 대한 정보가 없다. 따라서 (60000, 28, 28, 1) 로 만들어 주어야 한다."
      ],
      "metadata": {
        "id": "_9e9kU7CtQfZ"
      }
    },
    {
      "cell_type": "code",
      "source": [
        "print(f\"Before Reshape - x_train_norm shape: {x_train_norm.shape}\")\n",
        "print(f\"Before Reshape - x_test_norm shape: {x_test_norm.shape}\")\n",
        "\n",
        "x_train_reshaped=x_train_norm.reshape( -1, 28, 28, 1)  # 데이터갯수에 -1을 쓰면 reshape시 자동계산됩니다.\n",
        "x_test_reshaped=x_test_norm.reshape( -1, 28, 28, 1)\n",
        "\n",
        "print(f\"After Reshape - x_train_reshaped shape: {x_train_reshaped.shape}\")\n",
        "print(f\"After Reshape - x_test_reshaped shape: {x_test_reshaped.shape}\")"
      ],
      "metadata": {
        "colab": {
          "base_uri": "https://localhost:8080/"
        },
        "id": "CELjQruOt8BW",
        "outputId": "ab8661f5-8ea6-4554-cc94-5ee9d15a606a"
      },
      "execution_count": null,
      "outputs": [
        {
          "output_type": "stream",
          "name": "stdout",
          "text": [
            "Before Reshape - x_train_norm shape: (60000, 28, 28)\n",
            "Before Reshape - x_test_norm shape: (10000, 28, 28)\n",
            "After Reshape - x_train_reshaped shape: (60000, 28, 28, 1)\n",
            "After Reshape - x_test_reshaped shape: (10000, 28, 28, 1)\n"
          ]
        }
      ]
    },
    {
      "cell_type": "markdown",
      "source": [
        "-  epochs=10 은 전체 60,000개의 데이터를 10번 반복 사용해서 학습을 시키라는 뜻"
      ],
      "metadata": {
        "id": "wWHDOR0GvbgQ"
      }
    },
    {
      "cell_type": "code",
      "source": [
        "model.compile(optimizer='adam',\n",
        "             loss='sparse_categorical_crossentropy',\n",
        "             metrics=['accuracy'])\n",
        "\n",
        "model.fit(x_train_reshaped, y_train, epochs=10)"
      ],
      "metadata": {
        "colab": {
          "base_uri": "https://localhost:8080/"
        },
        "id": "YJcetDeaum_2",
        "outputId": "4bec0246-1ae8-43b3-a674-046d83ffe158"
      },
      "execution_count": null,
      "outputs": [
        {
          "output_type": "stream",
          "name": "stdout",
          "text": [
            "Epoch 1/10\n",
            "\u001b[1m1875/1875\u001b[0m \u001b[32m━━━━━━━━━━━━━━━━━━━━\u001b[0m\u001b[37m\u001b[0m \u001b[1m28s\u001b[0m 13ms/step - accuracy: 0.8699 - loss: 0.4300\n",
            "Epoch 2/10\n",
            "\u001b[1m1875/1875\u001b[0m \u001b[32m━━━━━━━━━━━━━━━━━━━━\u001b[0m\u001b[37m\u001b[0m \u001b[1m26s\u001b[0m 14ms/step - accuracy: 0.9786 - loss: 0.0704\n",
            "Epoch 3/10\n",
            "\u001b[1m1875/1875\u001b[0m \u001b[32m━━━━━━━━━━━━━━━━━━━━\u001b[0m\u001b[37m\u001b[0m \u001b[1m46s\u001b[0m 17ms/step - accuracy: 0.9848 - loss: 0.0491\n",
            "Epoch 4/10\n",
            "\u001b[1m1875/1875\u001b[0m \u001b[32m━━━━━━━━━━━━━━━━━━━━\u001b[0m\u001b[37m\u001b[0m \u001b[1m37s\u001b[0m 15ms/step - accuracy: 0.9880 - loss: 0.0382\n",
            "Epoch 5/10\n",
            "\u001b[1m1875/1875\u001b[0m \u001b[32m━━━━━━━━━━━━━━━━━━━━\u001b[0m\u001b[37m\u001b[0m \u001b[1m27s\u001b[0m 14ms/step - accuracy: 0.9909 - loss: 0.0293\n",
            "Epoch 6/10\n",
            "\u001b[1m1875/1875\u001b[0m \u001b[32m━━━━━━━━━━━━━━━━━━━━\u001b[0m\u001b[37m\u001b[0m \u001b[1m45s\u001b[0m 17ms/step - accuracy: 0.9921 - loss: 0.0244\n",
            "Epoch 7/10\n",
            "\u001b[1m1875/1875\u001b[0m \u001b[32m━━━━━━━━━━━━━━━━━━━━\u001b[0m\u001b[37m\u001b[0m \u001b[1m29s\u001b[0m 15ms/step - accuracy: 0.9936 - loss: 0.0195\n",
            "Epoch 8/10\n",
            "\u001b[1m1875/1875\u001b[0m \u001b[32m━━━━━━━━━━━━━━━━━━━━\u001b[0m\u001b[37m\u001b[0m \u001b[1m26s\u001b[0m 14ms/step - accuracy: 0.9942 - loss: 0.0167\n",
            "Epoch 9/10\n",
            "\u001b[1m1875/1875\u001b[0m \u001b[32m━━━━━━━━━━━━━━━━━━━━\u001b[0m\u001b[37m\u001b[0m \u001b[1m45s\u001b[0m 16ms/step - accuracy: 0.9960 - loss: 0.0124\n",
            "Epoch 10/10\n",
            "\u001b[1m1875/1875\u001b[0m \u001b[32m━━━━━━━━━━━━━━━━━━━━\u001b[0m\u001b[37m\u001b[0m \u001b[1m26s\u001b[0m 14ms/step - accuracy: 0.9962 - loss: 0.0106\n"
          ]
        },
        {
          "output_type": "execute_result",
          "data": {
            "text/plain": [
              "<keras.src.callbacks.history.History at 0x7ef09fb47950>"
            ]
          },
          "metadata": {},
          "execution_count": 23
        }
      ]
    },
    {
      "cell_type": "markdown",
      "source": [
        "# 1-5. 얼마나 잘 만들었는지 확인하기\n",
        "시험용 데이터(x_test)를 가지고 확인"
      ],
      "metadata": {
        "id": "0Ra2byUuvgiG"
      }
    },
    {
      "cell_type": "code",
      "source": [
        "test_loss, test_accuracy = model.evaluate(x_test_reshaped, y_test, verbose = 2)\n",
        "print(f\"test_loss: {test_loss}\")\n",
        "print(f\"test_accuracy: { test_accuracy}\")"
      ],
      "metadata": {
        "colab": {
          "base_uri": "https://localhost:8080/"
        },
        "id": "l0AnQbfcvkn2",
        "outputId": "b5d59067-90dc-4eef-a81f-a11d04478887"
      },
      "execution_count": null,
      "outputs": [
        {
          "output_type": "stream",
          "name": "stdout",
          "text": [
            "313/313 - 3s - 10ms/step - accuracy: 0.9891 - loss: 0.0410\n",
            "test_loss: 0.04102623462677002\n",
            "test_accuracy: 0.9890999794006348\n"
          ]
        }
      ]
    },
    {
      "cell_type": "markdown",
      "source": [
        "- model.evaluate() 대신 model.predict()를 사용하면 model이 입력값을 보고 실제로 추론한 확률분포를 출력할 수 있다.\n",
        "- 우리가 만든 model이란 사실 10개의 숫자 중 어느 것일지에 대한 확률값을 출력하는 함수이다. 이 함수의 출력값, 즉 확률값이 가장 높은 숫자가 바로 model이 추론한 숫자가 된다."
      ],
      "metadata": {
        "id": "wWIE8xAjv4iT"
      }
    },
    {
      "cell_type": "code",
      "source": [
        "predicted_result = model.predict(x_test_reshaped)\n",
        "predicted_labels = np.argmax(predicted_result, axis = 1)\n",
        "\n",
        "idx = 0 # 1 번째 x_test 살펴보기\n",
        "print('model.predict() 결과 : ', predicted_result[idx])\n",
        "print('model이 추론한 가장 가능성이 높은 결과 : ', predicted_labels[idx])\n",
        "print('실제 데이터의 라벨 : ', y_test[idx])"
      ],
      "metadata": {
        "colab": {
          "base_uri": "https://localhost:8080/"
        },
        "id": "RfY1s8tsv1-z",
        "outputId": "3e8610e7-5f69-45bc-fbff-9fda1a638518"
      },
      "execution_count": null,
      "outputs": [
        {
          "output_type": "stream",
          "name": "stdout",
          "text": [
            "\u001b[1m313/313\u001b[0m \u001b[32m━━━━━━━━━━━━━━━━━━━━\u001b[0m\u001b[37m\u001b[0m \u001b[1m2s\u001b[0m 7ms/step\n",
            "model.predict() 결과 :  [2.0716569e-13 1.4204081e-08 2.4112774e-09 2.7767557e-09 1.3104731e-10\n",
            " 5.7910848e-10 3.8552361e-18 9.9999994e-01 3.2309674e-10 5.8712093e-09]\n",
            "model이 추론한 가장 가능성이 높은 결과 :  7\n",
            "실제 데이터의 라벨 :  7\n"
          ]
        }
      ]
    },
    {
      "cell_type": "code",
      "source": [
        "plt.imshow(x_test[idx], cmap = plt.cm.binary)\n",
        "plt.show()"
      ],
      "metadata": {
        "colab": {
          "base_uri": "https://localhost:8080/",
          "height": 430
        },
        "id": "UMkx-NwGwUiv",
        "outputId": "faa9bcc7-8d87-42ef-e076-4152c50d127f"
      },
      "execution_count": null,
      "outputs": [
        {
          "output_type": "display_data",
          "data": {
            "text/plain": [
              "<Figure size 640x480 with 1 Axes>"
            ],
            "image/png": "[encoded data removed]"
          },
          "metadata": {}
        }
      ]
    },
    {
      "cell_type": "code",
      "source": [
        "# model이 추런해 낸 숫자와 실제 라벨의 값이 다른 경우는 어떤 경우인지 직접 확인\n",
        "import random\n",
        "wrong_predict_list = []\n",
        "for i, _ in enumerate(predicted_labels):\n",
        "  # i번째 test_labels과 y_test이 다른 경우만 모으기\n",
        "  if predicted_labels[i] != y_test[i]:\n",
        "    wrong_predict_list.append(i)\n",
        "\n",
        "# wrong_predict_list에 랜덤하게 5개 뽑기\n",
        "samples = random.choices(population = wrong_predict_list, k = 5)\n",
        "\n",
        "for n in samples:\n",
        "  print(\"예측확률분포: \" + str(predicted_result[n]))\n",
        "  print(\"라벨: \" + str(y_test[n]) + \", 예측결과: \" + str(predicted_labels[n]))\n",
        "  plt.imshow(x_test[n], cmap = plt.cm.binary)\n",
        "  plt.show()"
      ],
      "metadata": {
        "colab": {
          "base_uri": "https://localhost:8080/",
          "height": 1000
        },
        "id": "iB6oU0fNwk5G",
        "outputId": "7c05e640-36d5-408e-e752-a215cbfa7226"
      },
      "execution_count": null,
      "outputs": [
        {
          "output_type": "stream",
          "name": "stdout",
          "text": [
            "예측확률분포: [4.3861571e-01 1.1350121e-07 4.4580150e-01 1.1525008e-01 3.9859202e-10\n",
            " 1.3065398e-06 3.2209625e-06 4.7358787e-07 3.2225437e-04 5.2835398e-06]\n",
            "라벨: 3, 예측결과: 2\n"
          ]
        },
        {
          "output_type": "display_data",
          "data": {
            "text/plain": [
              "<Figure size 640x480 with 1 Axes>"
            ],
            "image/png": "[encoded data removed]"
          },
          "metadata": {}
        },
        {
          "output_type": "stream",
          "name": "stdout",
          "text": [
            "예측확률분포: [9.8860342e-09 6.0166000e-12 5.7355776e-11 1.4657084e-08 1.5877865e-11\n",
            " 9.9588996e-01 3.6176103e-03 7.0452184e-13 4.9227045e-04 4.6805813e-11]\n",
            "라벨: 6, 예측결과: 5\n"
          ]
        },
        {
          "output_type": "display_data",
          "data": {
            "text/plain": [
              "<Figure size 640x480 with 1 Axes>"
            ],
            "image/png": "[encoded data removed]"
          },
          "metadata": {}
        },
        {
          "output_type": "stream",
          "name": "stdout",
          "text": [
            "예측확률분포: [3.9066086e-04 2.9921341e-07 5.7004677e-06 4.8371831e-09 2.2154851e-03\n",
            " 2.4730031e-07 9.9738580e-01 1.6916226e-06 8.6246956e-08 1.0504074e-08]\n",
            "라벨: 4, 예측결과: 6\n"
          ]
        },
        {
          "output_type": "display_data",
          "data": {
            "text/plain": [
              "<Figure size 640x480 with 1 Axes>"
            ],
            "image/png": "[encoded data removed]"
          },
          "metadata": {}
        },
        {
          "output_type": "stream",
          "name": "stdout",
          "text": [
            "예측확률분포: [1.5985107e-09 1.6319029e-02 1.4251578e-01 3.1214229e-06 8.0146079e-10\n",
            " 1.4485852e-07 2.9896617e-15 8.4116197e-01 3.1091052e-08 1.2760046e-10]\n",
            "라벨: 2, 예측결과: 7\n"
          ]
        },
        {
          "output_type": "display_data",
          "data": {
            "text/plain": [
              "<Figure size 640x480 with 1 Axes>"
            ],
            "image/png": "[encoded data removed]"
          },
          "metadata": {}
        },
        {
          "output_type": "stream",
          "name": "stdout",
          "text": [
            "예측확률분포: [2.0401454e-05 1.3674943e-04 9.7240918e-05 1.3930820e-13 8.4899127e-01\n",
            " 3.8048210e-11 1.5075396e-01 3.9992912e-08 4.8215796e-09 1.8158116e-07]\n",
            "라벨: 6, 예측결과: 4\n"
          ]
        },
        {
          "output_type": "display_data",
          "data": {
            "text/plain": [
              "<Figure size 640x480 with 1 Axes>"
            ],
            "image/png": "[encoded data removed]"
          },
          "metadata": {}
        }
      ]
    },
    {
      "cell_type": "markdown",
      "source": [
        "# 1-6. 더 좋은 네트워크 만들어 보기"
      ],
      "metadata": {
        "id": "t9fSAwwVxm4S"
      }
    },
    {
      "cell_type": "code",
      "source": [
        "# 바꿔 볼 수 있는 하이퍼파라미터들\n",
        "n_channel_1=16\n",
        "n_channel_2=32\n",
        "n_dense=32\n",
        "n_train_epoch=10\n",
        "\n",
        "model=keras.models.Sequential()\n",
        "model.add(keras.layers.Conv2D(n_channel_1, (3,3), activation='relu', input_shape=(28,28,1)))\n",
        "model.add(keras.layers.MaxPool2D(2,2))\n",
        "model.add(keras.layers.Conv2D(n_channel_2, (3,3), activation='relu'))\n",
        "model.add(keras.layers.MaxPooling2D((2,2)))\n",
        "model.add(keras.layers.Flatten())\n",
        "model.add(keras.layers.Dense(n_dense, activation='relu'))\n",
        "model.add(keras.layers.Dense(10, activation='softmax'))\n",
        "\n",
        "model.summary()\n",
        "model.compile(optimizer='adam',\n",
        "             loss='sparse_categorical_crossentropy',\n",
        "             metrics=['accuracy'])\n",
        "\n",
        "# 모델 훈련\n",
        "model.fit(x_train_reshaped, y_train, epochs=n_train_epoch)\n",
        "\n",
        "# 모델 시험\n",
        "test_loss, test_accuracy = model.evaluate(x_test_reshaped, y_test, verbose=2)\n",
        "print(f\"test_loss: {test_loss} \")\n",
        "print(f\"test_accuracy: {test_accuracy}\")"
      ],
      "metadata": {
        "colab": {
          "base_uri": "https://localhost:8080/",
          "height": 217
        },
        "id": "G98TVfG2xmn4",
        "outputId": "6c04458d-e355-44ed-a899-2ed726420ef7"
      },
      "execution_count": 15,
      "outputs": [
        {
          "output_type": "error",
          "ename": "NameError",
          "evalue": "name 'keras' is not defined",
          "traceback": [
            "\u001b[0;31m---------------------------------------------------------------------------\u001b[0m",
            "\u001b[0;31mNameError\u001b[0m                                 Traceback (most recent call last)",
            "\u001b[0;32m<ipython-input-15-a9bd99fa1cd2>\u001b[0m in \u001b[0;36m<cell line: 0>\u001b[0;34m()\u001b[0m\n\u001b[1;32m      5\u001b[0m \u001b[0mn_train_epoch\u001b[0m\u001b[0;34m=\u001b[0m\u001b[0;36m10\u001b[0m\u001b[0;34m\u001b[0m\u001b[0;34m\u001b[0m\u001b[0m\n\u001b[1;32m      6\u001b[0m \u001b[0;34m\u001b[0m\u001b[0m\n\u001b[0;32m----> 7\u001b[0;31m \u001b[0mmodel\u001b[0m\u001b[0;34m=\u001b[0m\u001b[0mkeras\u001b[0m\u001b[0;34m.\u001b[0m\u001b[0mmodels\u001b[0m\u001b[0;34m.\u001b[0m\u001b[0mSequential\u001b[0m\u001b[0;34m(\u001b[0m\u001b[0;34m)\u001b[0m\u001b[0;34m\u001b[0m\u001b[0;34m\u001b[0m\u001b[0m\n\u001b[0m\u001b[1;32m      8\u001b[0m \u001b[0mmodel\u001b[0m\u001b[0;34m.\u001b[0m\u001b[0madd\u001b[0m\u001b[0;34m(\u001b[0m\u001b[0mkeras\u001b[0m\u001b[0;34m.\u001b[0m\u001b[0mlayers\u001b[0m\u001b[0;34m.\u001b[0m\u001b[0mConv2D\u001b[0m\u001b[0;34m(\u001b[0m\u001b[0mn_channel_1\u001b[0m\u001b[0;34m,\u001b[0m \u001b[0;34m(\u001b[0m\u001b[0;36m3\u001b[0m\u001b[0;34m,\u001b[0m\u001b[0;36m3\u001b[0m\u001b[0;34m)\u001b[0m\u001b[0;34m,\u001b[0m \u001b[0mactivation\u001b[0m\u001b[0;34m=\u001b[0m\u001b[0;34m'relu'\u001b[0m\u001b[0;34m,\u001b[0m \u001b[0minput_shape\u001b[0m\u001b[0;34m=\u001b[0m\u001b[0;34m(\u001b[0m\u001b[0;36m28\u001b[0m\u001b[0;34m,\u001b[0m\u001b[0;36m28\u001b[0m\u001b[0;34m,\u001b[0m\u001b[0;36m1\u001b[0m\u001b[0;34m)\u001b[0m\u001b[0;34m)\u001b[0m\u001b[0;34m)\u001b[0m\u001b[0;34m\u001b[0m\u001b[0;34m\u001b[0m\u001b[0m\n\u001b[1;32m      9\u001b[0m \u001b[0mmodel\u001b[0m\u001b[0;34m.\u001b[0m\u001b[0madd\u001b[0m\u001b[0;34m(\u001b[0m\u001b[0mkeras\u001b[0m\u001b[0;34m.\u001b[0m\u001b[0mlayers\u001b[0m\u001b[0;34m.\u001b[0m\u001b[0mMaxPool2D\u001b[0m\u001b[0;34m(\u001b[0m\u001b[0;36m2\u001b[0m\u001b[0;34m,\u001b[0m\u001b[0;36m2\u001b[0m\u001b[0;34m)\u001b[0m\u001b[0;34m)\u001b[0m\u001b[0;34m\u001b[0m\u001b[0;34m\u001b[0m\u001b[0m\n",
            "\u001b[0;31mNameError\u001b[0m: name 'keras' is not defined"
          ]
        }
      ]
    },
    {
      "cell_type": "code",
      "source": [
        "import tensorflow as tf\n",
        "import numpy as np\n",
        "\n",
        "print(tf.__version__)\n",
        "print(np.__version__)"
      ],
      "metadata": {
        "colab": {
          "base_uri": "https://localhost:8080/"
        },
        "id": "gbOB1wzax4Xz",
        "outputId": "cc0ef467-ceba-4ecb-bb7e-c472467d1bec"
      },
      "execution_count": 16,
      "outputs": [
        {
          "output_type": "stream",
          "name": "stdout",
          "text": [
            "2.18.0\n",
            "2.0.2\n"
          ]
        }
      ]
    },
    {
      "cell_type": "code",
      "source": [
        "!unzip rock.zip -d 가위\n",
        "!unzip scissor.zip -d 바위\n",
        "!unzip paper.zip   -d 보"
      ],
      "metadata": {
        "colab": {
          "base_uri": "https://localhost:8080/"
        },
        "id": "JHEmIjpW1T6i",
        "outputId": "9783a667-76e8-4544-d861-cf7d39e73297"
      },
      "execution_count": 63,
      "outputs": [
        {
          "output_type": "stream",
          "name": "stdout",
          "text": [
            "Archive:  rock.zip\n",
            "   creating: 가위/rock/\n",
            "  inflating: 가위/__MACOSX/._rock  \n",
            "  inflating: 가위/rock/63.jpg      \n",
            "  inflating: 가위/__MACOSX/rock/._63.jpg  \n",
            "  inflating: 가위/rock/77.jpg      \n",
            "  inflating: 가위/__MACOSX/rock/._77.jpg  \n",
            "  inflating: 가위/rock/88.jpg      \n",
            "  inflating: 가위/__MACOSX/rock/._88.jpg  \n",
            "  inflating: 가위/rock/89.jpg      \n",
            "  inflating: 가위/__MACOSX/rock/._89.jpg  \n",
            "  inflating: 가위/rock/76.jpg      \n",
            "  inflating: 가위/__MACOSX/rock/._76.jpg  \n",
            "  inflating: 가위/rock/62.jpg      \n",
            "  inflating: 가위/__MACOSX/rock/._62.jpg  \n",
            "  inflating: 가위/rock/74.jpg      \n",
            "  inflating: 가위/__MACOSX/rock/._74.jpg  \n",
            "  inflating: 가위/rock/60.jpg      \n",
            "  inflating: 가위/__MACOSX/rock/._60.jpg  \n",
            "  inflating: 가위/rock/48.jpg      \n",
            "  inflating: 가위/__MACOSX/rock/._48.jpg  \n",
            "  inflating: 가위/rock/49.jpg      \n",
            "  inflating: 가위/__MACOSX/rock/._49.jpg  \n",
            "  inflating: 가위/rock/61.jpg      \n",
            "  inflating: 가위/__MACOSX/rock/._61.jpg  \n",
            "  inflating: 가위/rock/75.jpg      \n",
            "  inflating: 가위/__MACOSX/rock/._75.jpg  \n",
            "  inflating: 가위/rock/59.jpg      \n",
            "  inflating: 가위/__MACOSX/rock/._59.jpg  \n",
            "  inflating: 가위/rock/71.jpg      \n",
            "  inflating: 가위/__MACOSX/rock/._71.jpg  \n",
            "  inflating: 가위/rock/65.jpg      \n",
            "  inflating: 가위/__MACOSX/rock/._65.jpg  \n",
            "  inflating: 가위/rock/.DS_Store   \n",
            "  inflating: 가위/__MACOSX/rock/._.DS_Store  \n",
            "  inflating: 가위/rock/64.jpg      \n",
            "  inflating: 가위/__MACOSX/rock/._64.jpg  \n",
            "  inflating: 가위/rock/70.jpg      \n",
            "  inflating: 가위/__MACOSX/rock/._70.jpg  \n",
            "  inflating: 가위/rock/58.jpg      \n",
            "  inflating: 가위/__MACOSX/rock/._58.jpg  \n",
            "  inflating: 가위/rock/8.jpg       \n",
            "  inflating: 가위/__MACOSX/rock/._8.jpg  \n",
            "  inflating: 가위/rock/66.jpg      \n",
            "  inflating: 가위/__MACOSX/rock/._66.jpg  \n",
            "  inflating: 가위/rock/72.jpg      \n",
            "  inflating: 가위/__MACOSX/rock/._72.jpg  \n",
            "  inflating: 가위/rock/99.jpg      \n",
            "  inflating: 가위/__MACOSX/rock/._99.jpg  \n",
            "  inflating: 가위/rock/98.jpg      \n",
            "  inflating: 가위/__MACOSX/rock/._98.jpg  \n",
            "  inflating: 가위/rock/73.jpg      \n",
            "  inflating: 가위/__MACOSX/rock/._73.jpg  \n",
            "  inflating: 가위/rock/67.jpg      \n",
            "  inflating: 가위/__MACOSX/rock/._67.jpg  \n",
            "  inflating: 가위/rock/9.jpg       \n",
            "  inflating: 가위/__MACOSX/rock/._9.jpg  \n",
            "  inflating: 가위/rock/14.jpg      \n",
            "  inflating: 가위/__MACOSX/rock/._14.jpg  \n",
            "  inflating: 가위/rock/28.jpg      \n",
            "  inflating: 가위/__MACOSX/rock/._28.jpg  \n",
            "  inflating: 가위/rock/100.jpg     \n",
            "  inflating: 가위/__MACOSX/rock/._100.jpg  \n",
            "  inflating: 가위/rock/29.jpg      \n",
            "  inflating: 가위/__MACOSX/rock/._29.jpg  \n",
            "  inflating: 가위/rock/15.jpg      \n",
            "  inflating: 가위/__MACOSX/rock/._15.jpg  \n",
            "  inflating: 가위/rock/17.jpg      \n",
            "  inflating: 가위/__MACOSX/rock/._17.jpg  \n",
            "  inflating: 가위/rock/16.jpg      \n",
            "  inflating: 가위/__MACOSX/rock/._16.jpg  \n",
            "  inflating: 가위/rock/12.jpg      \n",
            "  inflating: 가위/__MACOSX/rock/._12.jpg  \n",
            "  inflating: 가위/rock/13.jpg      \n",
            "  inflating: 가위/__MACOSX/rock/._13.jpg  \n",
            "  inflating: 가위/rock/39.jpg      \n",
            "  inflating: 가위/__MACOSX/rock/._39.jpg  \n",
            "  inflating: 가위/rock/11.jpg      \n",
            "  inflating: 가위/__MACOSX/rock/._11.jpg  \n",
            "  inflating: 가위/rock/10.jpg      \n",
            "  inflating: 가위/__MACOSX/rock/._10.jpg  \n",
            "  inflating: 가위/rock/38.jpg      \n",
            "  inflating: 가위/__MACOSX/rock/._38.jpg  \n",
            "  inflating: 가위/rock/21.jpg      \n",
            "  inflating: 가위/__MACOSX/rock/._21.jpg  \n",
            "  inflating: 가위/rock/35.jpg      \n",
            "  inflating: 가위/__MACOSX/rock/._35.jpg  \n",
            "  inflating: 가위/rock/34.jpg      \n",
            "  inflating: 가위/__MACOSX/rock/._34.jpg  \n",
            "  inflating: 가위/rock/20.jpg      \n",
            "  inflating: 가위/__MACOSX/rock/._20.jpg  \n",
            "  inflating: 가위/rock/36.jpg      \n",
            "  inflating: 가위/__MACOSX/rock/._36.jpg  \n",
            "  inflating: 가위/rock/22.jpg      \n",
            "  inflating: 가위/__MACOSX/rock/._22.jpg  \n",
            "  inflating: 가위/rock/23.jpg      \n",
            "  inflating: 가위/__MACOSX/rock/._23.jpg  \n",
            "  inflating: 가위/rock/37.jpg      \n",
            "  inflating: 가위/__MACOSX/rock/._37.jpg  \n",
            "  inflating: 가위/rock/33.jpg      \n",
            "  inflating: 가위/__MACOSX/rock/._33.jpg  \n",
            "  inflating: 가위/rock/27.jpg      \n",
            "  inflating: 가위/__MACOSX/rock/._27.jpg  \n",
            "  inflating: 가위/rock/26.jpg      \n",
            "  inflating: 가위/__MACOSX/rock/._26.jpg  \n",
            "  inflating: 가위/rock/32.jpg      \n",
            "  inflating: 가위/__MACOSX/rock/._32.jpg  \n",
            "  inflating: 가위/rock/18.jpg      \n",
            "  inflating: 가위/__MACOSX/rock/._18.jpg  \n",
            "  inflating: 가위/rock/24.jpg      \n",
            "  inflating: 가위/__MACOSX/rock/._24.jpg  \n",
            "  inflating: 가위/rock/30.jpg      \n",
            "  inflating: 가위/__MACOSX/rock/._30.jpg  \n",
            "  inflating: 가위/rock/31.jpg      \n",
            "  inflating: 가위/__MACOSX/rock/._31.jpg  \n",
            "  inflating: 가위/rock/25.jpg      \n",
            "  inflating: 가위/__MACOSX/rock/._25.jpg  \n",
            "  inflating: 가위/rock/19.jpg      \n",
            "  inflating: 가위/__MACOSX/rock/._19.jpg  \n",
            "  inflating: 가위/rock/42.jpg      \n",
            "  inflating: 가위/__MACOSX/rock/._42.jpg  \n",
            "  inflating: 가위/rock/4.jpg       \n",
            "  inflating: 가위/__MACOSX/rock/._4.jpg  \n",
            "  inflating: 가위/rock/56.jpg      \n",
            "  inflating: 가위/__MACOSX/rock/._56.jpg  \n",
            "  inflating: 가위/rock/81.jpg      \n",
            "  inflating: 가위/__MACOSX/rock/._81.jpg  \n",
            "  inflating: 가위/rock/95.jpg      \n",
            "  inflating: 가위/__MACOSX/rock/._95.jpg  \n",
            "  inflating: 가위/rock/94.jpg      \n",
            "  inflating: 가위/__MACOSX/rock/._94.jpg  \n",
            "  inflating: 가위/rock/80.jpg      \n",
            "  inflating: 가위/__MACOSX/rock/._80.jpg  \n",
            "  inflating: 가위/rock/5.jpg       \n",
            "  inflating: 가위/__MACOSX/rock/._5.jpg  \n",
            "  inflating: 가위/rock/57.jpg      \n",
            "  inflating: 가위/__MACOSX/rock/._57.jpg  \n",
            "  inflating: 가위/rock/43.jpg      \n",
            "  inflating: 가위/__MACOSX/rock/._43.jpg  \n",
            "  inflating: 가위/rock/55.jpg      \n",
            "  inflating: 가위/__MACOSX/rock/._55.jpg  \n",
            "  inflating: 가위/rock/7.jpg       \n",
            "  inflating: 가위/__MACOSX/rock/._7.jpg  \n",
            "  inflating: 가위/rock/41.jpg      \n",
            "  inflating: 가위/__MACOSX/rock/._41.jpg  \n",
            "  inflating: 가위/rock/69.jpg      \n",
            "  inflating: 가위/__MACOSX/rock/._69.jpg  \n",
            "  inflating: 가위/rock/96.jpg      \n",
            "  inflating: 가위/__MACOSX/rock/._96.jpg  \n",
            "  inflating: 가위/rock/82.jpg      \n",
            "  inflating: 가위/__MACOSX/rock/._82.jpg  \n",
            "  inflating: 가위/rock/83.jpg      \n",
            "  inflating: 가위/__MACOSX/rock/._83.jpg  \n",
            "  inflating: 가위/rock/97.jpg      \n",
            "  inflating: 가위/__MACOSX/rock/._97.jpg  \n",
            "  inflating: 가위/rock/68.jpg      \n",
            "  inflating: 가위/__MACOSX/rock/._68.jpg  \n",
            "  inflating: 가위/rock/40.jpg      \n",
            "  inflating: 가위/__MACOSX/rock/._40.jpg  \n",
            "  inflating: 가위/rock/54.jpg      \n",
            "  inflating: 가위/__MACOSX/rock/._54.jpg  \n",
            "  inflating: 가위/rock/6.jpg       \n",
            "  inflating: 가위/__MACOSX/rock/._6.jpg  \n",
            "  inflating: 가위/rock/78.jpg      \n",
            "  inflating: 가위/__MACOSX/rock/._78.jpg  \n",
            "  inflating: 가위/rock/2.jpg       \n",
            "  inflating: 가위/__MACOSX/rock/._2.jpg  \n",
            "  inflating: 가위/rock/50.jpg      \n",
            "  inflating: 가위/__MACOSX/rock/._50.jpg  \n",
            "  inflating: 가위/rock/44.jpg      \n",
            "  inflating: 가위/__MACOSX/rock/._44.jpg  \n",
            "  inflating: 가위/rock/93.jpg      \n",
            "  inflating: 가위/__MACOSX/rock/._93.jpg  \n",
            "  inflating: 가위/rock/87.jpg      \n",
            "  inflating: 가위/__MACOSX/rock/._87.jpg  \n",
            "  inflating: 가위/rock/86.jpg      \n",
            "  inflating: 가위/__MACOSX/rock/._86.jpg  \n",
            "  inflating: 가위/rock/92.jpg      \n",
            "  inflating: 가위/__MACOSX/rock/._92.jpg  \n",
            "  inflating: 가위/rock/45.jpg      \n",
            "  inflating: 가위/__MACOSX/rock/._45.jpg  \n",
            "  inflating: 가위/rock/3.jpg       \n",
            "  inflating: 가위/__MACOSX/rock/._3.jpg  \n",
            "  inflating: 가위/rock/51.jpg      \n",
            "  inflating: 가위/__MACOSX/rock/._51.jpg  \n",
            "  inflating: 가위/rock/79.jpg      \n",
            "  inflating: 가위/__MACOSX/rock/._79.jpg  \n",
            "  inflating: 가위/rock/47.jpg      \n",
            "  inflating: 가위/__MACOSX/rock/._47.jpg  \n",
            "  inflating: 가위/rock/53.jpg      \n",
            "  inflating: 가위/__MACOSX/rock/._53.jpg  \n",
            "  inflating: 가위/rock/1.jpg       \n",
            "  inflating: 가위/__MACOSX/rock/._1.jpg  \n",
            "  inflating: 가위/rock/84.jpg      \n",
            "  inflating: 가위/__MACOSX/rock/._84.jpg  \n",
            "  inflating: 가위/rock/90.jpg      \n",
            "  inflating: 가위/__MACOSX/rock/._90.jpg  \n",
            "  inflating: 가위/rock/91.jpg      \n",
            "  inflating: 가위/__MACOSX/rock/._91.jpg  \n",
            "  inflating: 가위/rock/85.jpg      \n",
            "  inflating: 가위/__MACOSX/rock/._85.jpg  \n",
            "  inflating: 가위/rock/52.jpg      \n",
            "  inflating: 가위/__MACOSX/rock/._52.jpg  \n",
            "  inflating: 가위/rock/0.jpg       \n",
            "  inflating: 가위/__MACOSX/rock/._0.jpg  \n",
            "  inflating: 가위/rock/46.jpg      \n",
            "  inflating: 가위/__MACOSX/rock/._46.jpg  \n",
            "Archive:  scissor.zip\n",
            "   creating: 바위/scissor/\n",
            "  inflating: 바위/__MACOSX/._scissor  \n",
            "  inflating: 바위/scissor/63.jpg   \n",
            "  inflating: 바위/__MACOSX/scissor/._63.jpg  \n",
            "  inflating: 바위/scissor/77.jpg   \n",
            "  inflating: 바위/__MACOSX/scissor/._77.jpg  \n",
            "  inflating: 바위/scissor/88.jpg   \n",
            "  inflating: 바위/__MACOSX/scissor/._88.jpg  \n",
            "  inflating: 바위/scissor/89.jpg   \n",
            "  inflating: 바위/__MACOSX/scissor/._89.jpg  \n",
            "  inflating: 바위/scissor/76.jpg   \n",
            "  inflating: 바위/__MACOSX/scissor/._76.jpg  \n",
            "  inflating: 바위/scissor/62.jpg   \n",
            "  inflating: 바위/__MACOSX/scissor/._62.jpg  \n",
            "  inflating: 바위/scissor/74.jpg   \n",
            "  inflating: 바위/__MACOSX/scissor/._74.jpg  \n",
            "  inflating: 바위/scissor/60.jpg   \n",
            "  inflating: 바위/__MACOSX/scissor/._60.jpg  \n",
            "  inflating: 바위/scissor/48.jpg   \n",
            "  inflating: 바위/__MACOSX/scissor/._48.jpg  \n",
            "  inflating: 바위/scissor/49.jpg   \n",
            "  inflating: 바위/__MACOSX/scissor/._49.jpg  \n",
            "  inflating: 바위/scissor/61.jpg   \n",
            "  inflating: 바위/__MACOSX/scissor/._61.jpg  \n",
            "  inflating: 바위/scissor/75.jpg   \n",
            "  inflating: 바위/__MACOSX/scissor/._75.jpg  \n",
            "  inflating: 바위/scissor/59.jpg   \n",
            "  inflating: 바위/__MACOSX/scissor/._59.jpg  \n",
            "  inflating: 바위/scissor/71.jpg   \n",
            "  inflating: 바위/__MACOSX/scissor/._71.jpg  \n",
            "  inflating: 바위/scissor/65.jpg   \n",
            "  inflating: 바위/__MACOSX/scissor/._65.jpg  \n",
            "  inflating: 바위/scissor/.DS_Store  \n",
            "  inflating: 바위/__MACOSX/scissor/._.DS_Store  \n",
            "  inflating: 바위/scissor/64.jpg   \n",
            "  inflating: 바위/__MACOSX/scissor/._64.jpg  \n",
            "  inflating: 바위/scissor/70.jpg   \n",
            "  inflating: 바위/__MACOSX/scissor/._70.jpg  \n",
            "  inflating: 바위/scissor/58.jpg   \n",
            "  inflating: 바위/__MACOSX/scissor/._58.jpg  \n",
            "  inflating: 바위/scissor/8.jpg    \n",
            "  inflating: 바위/__MACOSX/scissor/._8.jpg  \n",
            "  inflating: 바위/scissor/66.jpg   \n",
            "  inflating: 바위/__MACOSX/scissor/._66.jpg  \n",
            "  inflating: 바위/scissor/72.jpg   \n",
            "  inflating: 바위/__MACOSX/scissor/._72.jpg  \n",
            "  inflating: 바위/scissor/99.jpg   \n",
            "  inflating: 바위/__MACOSX/scissor/._99.jpg  \n",
            "  inflating: 바위/scissor/98.jpg   \n",
            "  inflating: 바위/__MACOSX/scissor/._98.jpg  \n",
            "  inflating: 바위/scissor/73.jpg   \n",
            "  inflating: 바위/__MACOSX/scissor/._73.jpg  \n",
            "  inflating: 바위/scissor/67.jpg   \n",
            "  inflating: 바위/__MACOSX/scissor/._67.jpg  \n",
            "  inflating: 바위/scissor/9.jpg    \n",
            "  inflating: 바위/__MACOSX/scissor/._9.jpg  \n",
            "  inflating: 바위/scissor/14.jpg   \n",
            "  inflating: 바위/__MACOSX/scissor/._14.jpg  \n",
            "  inflating: 바위/scissor/28.jpg   \n",
            "  inflating: 바위/__MACOSX/scissor/._28.jpg  \n",
            "  inflating: 바위/scissor/100.jpg  \n",
            "  inflating: 바위/__MACOSX/scissor/._100.jpg  \n",
            "  inflating: 바위/scissor/29.jpg   \n",
            "  inflating: 바위/__MACOSX/scissor/._29.jpg  \n",
            "  inflating: 바위/scissor/15.jpg   \n",
            "  inflating: 바위/__MACOSX/scissor/._15.jpg  \n",
            "  inflating: 바위/scissor/17.jpg   \n",
            "  inflating: 바위/__MACOSX/scissor/._17.jpg  \n",
            "  inflating: 바위/scissor/16.jpg   \n",
            "  inflating: 바위/__MACOSX/scissor/._16.jpg  \n",
            "  inflating: 바위/scissor/12.jpg   \n",
            "  inflating: 바위/__MACOSX/scissor/._12.jpg  \n",
            "  inflating: 바위/scissor/13.jpg   \n",
            "  inflating: 바위/__MACOSX/scissor/._13.jpg  \n",
            "  inflating: 바위/scissor/39.jpg   \n",
            "  inflating: 바위/__MACOSX/scissor/._39.jpg  \n",
            "  inflating: 바위/scissor/11.jpg   \n",
            "  inflating: 바위/__MACOSX/scissor/._11.jpg  \n",
            "  inflating: 바위/scissor/10.jpg   \n",
            "  inflating: 바위/__MACOSX/scissor/._10.jpg  \n",
            "  inflating: 바위/scissor/38.jpg   \n",
            "  inflating: 바위/__MACOSX/scissor/._38.jpg  \n",
            "  inflating: 바위/scissor/21.jpg   \n",
            "  inflating: 바위/__MACOSX/scissor/._21.jpg  \n",
            "  inflating: 바위/scissor/35.jpg   \n",
            "  inflating: 바위/__MACOSX/scissor/._35.jpg  \n",
            "  inflating: 바위/scissor/34.jpg   \n",
            "  inflating: 바위/__MACOSX/scissor/._34.jpg  \n",
            "  inflating: 바위/scissor/20.jpg   \n",
            "  inflating: 바위/__MACOSX/scissor/._20.jpg  \n",
            "  inflating: 바위/scissor/36.jpg   \n",
            "  inflating: 바위/__MACOSX/scissor/._36.jpg  \n",
            "  inflating: 바위/scissor/22.jpg   \n",
            "  inflating: 바위/__MACOSX/scissor/._22.jpg  \n",
            "  inflating: 바위/scissor/23.jpg   \n",
            "  inflating: 바위/__MACOSX/scissor/._23.jpg  \n",
            "  inflating: 바위/scissor/37.jpg   \n",
            "  inflating: 바위/__MACOSX/scissor/._37.jpg  \n",
            "  inflating: 바위/scissor/33.jpg   \n",
            "  inflating: 바위/__MACOSX/scissor/._33.jpg  \n",
            "  inflating: 바위/scissor/27.jpg   \n",
            "  inflating: 바위/__MACOSX/scissor/._27.jpg  \n",
            "  inflating: 바위/scissor/26.jpg   \n",
            "  inflating: 바위/__MACOSX/scissor/._26.jpg  \n",
            "  inflating: 바위/scissor/32.jpg   \n",
            "  inflating: 바위/__MACOSX/scissor/._32.jpg  \n",
            "  inflating: 바위/scissor/18.jpg   \n",
            "  inflating: 바위/__MACOSX/scissor/._18.jpg  \n",
            "  inflating: 바위/scissor/24.jpg   \n",
            "  inflating: 바위/__MACOSX/scissor/._24.jpg  \n",
            "  inflating: 바위/scissor/30.jpg   \n",
            "  inflating: 바위/__MACOSX/scissor/._30.jpg  \n",
            "  inflating: 바위/scissor/31.jpg   \n",
            "  inflating: 바위/__MACOSX/scissor/._31.jpg  \n",
            "  inflating: 바위/scissor/25.jpg   \n",
            "  inflating: 바위/__MACOSX/scissor/._25.jpg  \n",
            "  inflating: 바위/scissor/19.jpg   \n",
            "  inflating: 바위/__MACOSX/scissor/._19.jpg  \n",
            "  inflating: 바위/scissor/42.jpg   \n",
            "  inflating: 바위/__MACOSX/scissor/._42.jpg  \n",
            "  inflating: 바위/scissor/4.jpg    \n",
            "  inflating: 바위/__MACOSX/scissor/._4.jpg  \n",
            "  inflating: 바위/scissor/56.jpg   \n",
            "  inflating: 바위/__MACOSX/scissor/._56.jpg  \n",
            "  inflating: 바위/scissor/81.jpg   \n",
            "  inflating: 바위/__MACOSX/scissor/._81.jpg  \n",
            "  inflating: 바위/scissor/95.jpg   \n",
            "  inflating: 바위/__MACOSX/scissor/._95.jpg  \n",
            "  inflating: 바위/scissor/94.jpg   \n",
            "  inflating: 바위/__MACOSX/scissor/._94.jpg  \n",
            "  inflating: 바위/scissor/80.jpg   \n",
            "  inflating: 바위/__MACOSX/scissor/._80.jpg  \n",
            "  inflating: 바위/scissor/5.jpg    \n",
            "  inflating: 바위/__MACOSX/scissor/._5.jpg  \n",
            "  inflating: 바위/scissor/57.jpg   \n",
            "  inflating: 바위/__MACOSX/scissor/._57.jpg  \n",
            "  inflating: 바위/scissor/43.jpg   \n",
            "  inflating: 바위/__MACOSX/scissor/._43.jpg  \n",
            "  inflating: 바위/scissor/55.jpg   \n",
            "  inflating: 바위/__MACOSX/scissor/._55.jpg  \n",
            "  inflating: 바위/scissor/7.jpg    \n",
            "  inflating: 바위/__MACOSX/scissor/._7.jpg  \n",
            "  inflating: 바위/scissor/41.jpg   \n",
            "  inflating: 바위/__MACOSX/scissor/._41.jpg  \n",
            "  inflating: 바위/scissor/69.jpg   \n",
            "  inflating: 바위/__MACOSX/scissor/._69.jpg  \n",
            "  inflating: 바위/scissor/96.jpg   \n",
            "  inflating: 바위/__MACOSX/scissor/._96.jpg  \n",
            "  inflating: 바위/scissor/82.jpg   \n",
            "  inflating: 바위/__MACOSX/scissor/._82.jpg  \n",
            "  inflating: 바위/scissor/83.jpg   \n",
            "  inflating: 바위/__MACOSX/scissor/._83.jpg  \n",
            "  inflating: 바위/scissor/97.jpg   \n",
            "  inflating: 바위/__MACOSX/scissor/._97.jpg  \n",
            "  inflating: 바위/scissor/68.jpg   \n",
            "  inflating: 바위/__MACOSX/scissor/._68.jpg  \n",
            "  inflating: 바위/scissor/40.jpg   \n",
            "  inflating: 바위/__MACOSX/scissor/._40.jpg  \n",
            "  inflating: 바위/scissor/54.jpg   \n",
            "  inflating: 바위/__MACOSX/scissor/._54.jpg  \n",
            "  inflating: 바위/scissor/6.jpg    \n",
            "  inflating: 바위/__MACOSX/scissor/._6.jpg  \n",
            "  inflating: 바위/scissor/78.jpg   \n",
            "  inflating: 바위/__MACOSX/scissor/._78.jpg  \n",
            "  inflating: 바위/scissor/2.jpg    \n",
            "  inflating: 바위/__MACOSX/scissor/._2.jpg  \n",
            "  inflating: 바위/scissor/50.jpg   \n",
            "  inflating: 바위/__MACOSX/scissor/._50.jpg  \n",
            "  inflating: 바위/scissor/44.jpg   \n",
            "  inflating: 바위/__MACOSX/scissor/._44.jpg  \n",
            "  inflating: 바위/scissor/93.jpg   \n",
            "  inflating: 바위/__MACOSX/scissor/._93.jpg  \n",
            "  inflating: 바위/scissor/87.jpg   \n",
            "  inflating: 바위/__MACOSX/scissor/._87.jpg  \n",
            "  inflating: 바위/scissor/86.jpg   \n",
            "  inflating: 바위/__MACOSX/scissor/._86.jpg  \n",
            "  inflating: 바위/scissor/92.jpg   \n",
            "  inflating: 바위/__MACOSX/scissor/._92.jpg  \n",
            "  inflating: 바위/scissor/45.jpg   \n",
            "  inflating: 바위/__MACOSX/scissor/._45.jpg  \n",
            "  inflating: 바위/scissor/3.jpg    \n",
            "  inflating: 바위/__MACOSX/scissor/._3.jpg  \n",
            "  inflating: 바위/scissor/51.jpg   \n",
            "  inflating: 바위/__MACOSX/scissor/._51.jpg  \n",
            "  inflating: 바위/scissor/79.jpg   \n",
            "  inflating: 바위/__MACOSX/scissor/._79.jpg  \n",
            "  inflating: 바위/scissor/47.jpg   \n",
            "  inflating: 바위/__MACOSX/scissor/._47.jpg  \n",
            "  inflating: 바위/scissor/53.jpg   \n",
            "  inflating: 바위/__MACOSX/scissor/._53.jpg  \n",
            "  inflating: 바위/scissor/1.jpg    \n",
            "  inflating: 바위/__MACOSX/scissor/._1.jpg  \n",
            "  inflating: 바위/scissor/84.jpg   \n",
            "  inflating: 바위/__MACOSX/scissor/._84.jpg  \n",
            "  inflating: 바위/scissor/90.jpg   \n",
            "  inflating: 바위/__MACOSX/scissor/._90.jpg  \n",
            "  inflating: 바위/scissor/91.jpg   \n",
            "  inflating: 바위/__MACOSX/scissor/._91.jpg  \n",
            "  inflating: 바위/scissor/85.jpg   \n",
            "  inflating: 바위/__MACOSX/scissor/._85.jpg  \n",
            "  inflating: 바위/scissor/52.jpg   \n",
            "  inflating: 바위/__MACOSX/scissor/._52.jpg  \n",
            "  inflating: 바위/scissor/0.jpg    \n",
            "  inflating: 바위/__MACOSX/scissor/._0.jpg  \n",
            "  inflating: 바위/scissor/46.jpg   \n",
            "  inflating: 바위/__MACOSX/scissor/._46.jpg  \n",
            "Archive:  paper.zip\n",
            "   creating: 보/paper/\n",
            "  inflating: 보/__MACOSX/._paper    \n",
            "  inflating: 보/paper/63.jpg        \n",
            "  inflating: 보/__MACOSX/paper/._63.jpg  \n",
            "  inflating: 보/paper/77.jpg        \n",
            "  inflating: 보/__MACOSX/paper/._77.jpg  \n",
            "  inflating: 보/paper/88.jpg        \n",
            "  inflating: 보/__MACOSX/paper/._88.jpg  \n",
            "  inflating: 보/paper/89.jpg        \n",
            "  inflating: 보/__MACOSX/paper/._89.jpg  \n",
            "  inflating: 보/paper/76.jpg        \n",
            "  inflating: 보/__MACOSX/paper/._76.jpg  \n",
            "  inflating: 보/paper/62.jpg        \n",
            "  inflating: 보/__MACOSX/paper/._62.jpg  \n",
            "  inflating: 보/paper/74.jpg        \n",
            "  inflating: 보/__MACOSX/paper/._74.jpg  \n",
            "  inflating: 보/paper/60.jpg        \n",
            "  inflating: 보/__MACOSX/paper/._60.jpg  \n",
            "  inflating: 보/paper/48.jpg        \n",
            "  inflating: 보/__MACOSX/paper/._48.jpg  \n",
            "  inflating: 보/paper/49.jpg        \n",
            "  inflating: 보/__MACOSX/paper/._49.jpg  \n",
            "  inflating: 보/paper/61.jpg        \n",
            "  inflating: 보/__MACOSX/paper/._61.jpg  \n",
            "  inflating: 보/paper/75.jpg        \n",
            "  inflating: 보/__MACOSX/paper/._75.jpg  \n",
            "  inflating: 보/paper/59.jpg        \n",
            "  inflating: 보/__MACOSX/paper/._59.jpg  \n",
            "  inflating: 보/paper/71.jpg        \n",
            "  inflating: 보/__MACOSX/paper/._71.jpg  \n",
            "  inflating: 보/paper/65.jpg        \n",
            "  inflating: 보/__MACOSX/paper/._65.jpg  \n",
            "  inflating: 보/paper/.DS_Store     \n",
            "  inflating: 보/__MACOSX/paper/._.DS_Store  \n",
            "  inflating: 보/paper/64.jpg        \n",
            "  inflating: 보/__MACOSX/paper/._64.jpg  \n",
            "  inflating: 보/paper/70.jpg        \n",
            "  inflating: 보/__MACOSX/paper/._70.jpg  \n",
            "  inflating: 보/paper/58.jpg        \n",
            "  inflating: 보/__MACOSX/paper/._58.jpg  \n",
            "  inflating: 보/paper/8.jpg         \n",
            "  inflating: 보/__MACOSX/paper/._8.jpg  \n",
            "  inflating: 보/paper/66.jpg        \n",
            "  inflating: 보/__MACOSX/paper/._66.jpg  \n",
            "  inflating: 보/paper/72.jpg        \n",
            "  inflating: 보/__MACOSX/paper/._72.jpg  \n",
            "  inflating: 보/paper/99.jpg        \n",
            "  inflating: 보/__MACOSX/paper/._99.jpg  \n",
            "  inflating: 보/paper/98.jpg        \n",
            "  inflating: 보/__MACOSX/paper/._98.jpg  \n",
            "  inflating: 보/paper/73.jpg        \n",
            "  inflating: 보/__MACOSX/paper/._73.jpg  \n",
            "  inflating: 보/paper/67.jpg        \n",
            "  inflating: 보/__MACOSX/paper/._67.jpg  \n",
            "  inflating: 보/paper/9.jpg         \n",
            "  inflating: 보/__MACOSX/paper/._9.jpg  \n",
            "  inflating: 보/paper/14.jpg        \n",
            "  inflating: 보/__MACOSX/paper/._14.jpg  \n",
            "  inflating: 보/paper/28.jpg        \n",
            "  inflating: 보/__MACOSX/paper/._28.jpg  \n",
            "  inflating: 보/paper/100.jpg       \n",
            "  inflating: 보/__MACOSX/paper/._100.jpg  \n",
            "  inflating: 보/paper/29.jpg        \n",
            "  inflating: 보/__MACOSX/paper/._29.jpg  \n",
            "  inflating: 보/paper/15.jpg        \n",
            "  inflating: 보/__MACOSX/paper/._15.jpg  \n",
            "  inflating: 보/paper/17.jpg        \n",
            "  inflating: 보/__MACOSX/paper/._17.jpg  \n",
            "  inflating: 보/paper/16.jpg        \n",
            "  inflating: 보/__MACOSX/paper/._16.jpg  \n",
            "  inflating: 보/paper/12.jpg        \n",
            "  inflating: 보/__MACOSX/paper/._12.jpg  \n",
            "  inflating: 보/paper/13.jpg        \n",
            "  inflating: 보/__MACOSX/paper/._13.jpg  \n",
            "  inflating: 보/paper/39.jpg        \n",
            "  inflating: 보/__MACOSX/paper/._39.jpg  \n",
            "  inflating: 보/paper/11.jpg        \n",
            "  inflating: 보/__MACOSX/paper/._11.jpg  \n",
            "  inflating: 보/paper/10.jpg        \n",
            "  inflating: 보/__MACOSX/paper/._10.jpg  \n",
            "  inflating: 보/paper/38.jpg        \n",
            "  inflating: 보/__MACOSX/paper/._38.jpg  \n",
            "  inflating: 보/paper/21.jpg        \n",
            "  inflating: 보/__MACOSX/paper/._21.jpg  \n",
            "  inflating: 보/paper/35.jpg        \n",
            "  inflating: 보/__MACOSX/paper/._35.jpg  \n",
            "  inflating: 보/paper/34.jpg        \n",
            "  inflating: 보/__MACOSX/paper/._34.jpg  \n",
            "  inflating: 보/paper/20.jpg        \n",
            "  inflating: 보/__MACOSX/paper/._20.jpg  \n",
            "  inflating: 보/paper/36.jpg        \n",
            "  inflating: 보/__MACOSX/paper/._36.jpg  \n",
            "  inflating: 보/paper/22.jpg        \n",
            "  inflating: 보/__MACOSX/paper/._22.jpg  \n",
            "  inflating: 보/paper/23.jpg        \n",
            "  inflating: 보/__MACOSX/paper/._23.jpg  \n",
            "  inflating: 보/paper/37.jpg        \n",
            "  inflating: 보/__MACOSX/paper/._37.jpg  \n",
            "  inflating: 보/paper/33.jpg        \n",
            "  inflating: 보/__MACOSX/paper/._33.jpg  \n",
            "  inflating: 보/paper/27.jpg        \n",
            "  inflating: 보/__MACOSX/paper/._27.jpg  \n",
            "  inflating: 보/paper/26.jpg        \n",
            "  inflating: 보/__MACOSX/paper/._26.jpg  \n",
            "  inflating: 보/paper/32.jpg        \n",
            "  inflating: 보/__MACOSX/paper/._32.jpg  \n",
            "  inflating: 보/paper/18.jpg        \n",
            "  inflating: 보/__MACOSX/paper/._18.jpg  \n",
            "  inflating: 보/paper/24.jpg        \n",
            "  inflating: 보/__MACOSX/paper/._24.jpg  \n",
            "  inflating: 보/paper/30.jpg        \n",
            "  inflating: 보/__MACOSX/paper/._30.jpg  \n",
            "  inflating: 보/paper/31.jpg        \n",
            "  inflating: 보/__MACOSX/paper/._31.jpg  \n",
            "  inflating: 보/paper/25.jpg        \n",
            "  inflating: 보/__MACOSX/paper/._25.jpg  \n",
            "  inflating: 보/paper/19.jpg        \n",
            "  inflating: 보/__MACOSX/paper/._19.jpg  \n",
            "  inflating: 보/paper/42.jpg        \n",
            "  inflating: 보/__MACOSX/paper/._42.jpg  \n",
            "  inflating: 보/paper/4.jpg         \n",
            "  inflating: 보/__MACOSX/paper/._4.jpg  \n",
            "  inflating: 보/paper/56.jpg        \n",
            "  inflating: 보/__MACOSX/paper/._56.jpg  \n",
            "  inflating: 보/paper/81.jpg        \n",
            "  inflating: 보/__MACOSX/paper/._81.jpg  \n",
            "  inflating: 보/paper/95.jpg        \n",
            "  inflating: 보/__MACOSX/paper/._95.jpg  \n",
            "  inflating: 보/paper/94.jpg        \n",
            "  inflating: 보/__MACOSX/paper/._94.jpg  \n",
            "  inflating: 보/paper/80.jpg        \n",
            "  inflating: 보/__MACOSX/paper/._80.jpg  \n",
            "  inflating: 보/paper/5.jpg         \n",
            "  inflating: 보/__MACOSX/paper/._5.jpg  \n",
            "  inflating: 보/paper/57.jpg        \n",
            "  inflating: 보/__MACOSX/paper/._57.jpg  \n",
            "  inflating: 보/paper/43.jpg        \n",
            "  inflating: 보/__MACOSX/paper/._43.jpg  \n",
            "  inflating: 보/paper/55.jpg        \n",
            "  inflating: 보/__MACOSX/paper/._55.jpg  \n",
            "  inflating: 보/paper/7.jpg         \n",
            "  inflating: 보/__MACOSX/paper/._7.jpg  \n",
            "  inflating: 보/paper/41.jpg        \n",
            "  inflating: 보/__MACOSX/paper/._41.jpg  \n",
            "  inflating: 보/paper/69.jpg        \n",
            "  inflating: 보/__MACOSX/paper/._69.jpg  \n",
            "  inflating: 보/paper/96.jpg        \n",
            "  inflating: 보/__MACOSX/paper/._96.jpg  \n",
            "  inflating: 보/paper/82.jpg        \n",
            "  inflating: 보/__MACOSX/paper/._82.jpg  \n",
            "  inflating: 보/paper/83.jpg        \n",
            "  inflating: 보/__MACOSX/paper/._83.jpg  \n",
            "  inflating: 보/paper/97.jpg        \n",
            "  inflating: 보/__MACOSX/paper/._97.jpg  \n",
            "  inflating: 보/paper/68.jpg        \n",
            "  inflating: 보/__MACOSX/paper/._68.jpg  \n",
            "  inflating: 보/paper/40.jpg        \n",
            "  inflating: 보/__MACOSX/paper/._40.jpg  \n",
            "  inflating: 보/paper/54.jpg        \n",
            "  inflating: 보/__MACOSX/paper/._54.jpg  \n",
            "  inflating: 보/paper/6.jpg         \n",
            "  inflating: 보/__MACOSX/paper/._6.jpg  \n",
            "  inflating: 보/paper/78.jpg        \n",
            "  inflating: 보/__MACOSX/paper/._78.jpg  \n",
            "  inflating: 보/paper/2.jpg         \n",
            "  inflating: 보/__MACOSX/paper/._2.jpg  \n",
            "  inflating: 보/paper/50.jpg        \n",
            "  inflating: 보/__MACOSX/paper/._50.jpg  \n",
            "  inflating: 보/paper/44.jpg        \n",
            "  inflating: 보/__MACOSX/paper/._44.jpg  \n",
            "  inflating: 보/paper/93.jpg        \n",
            "  inflating: 보/__MACOSX/paper/._93.jpg  \n",
            "  inflating: 보/paper/87.jpg        \n",
            "  inflating: 보/__MACOSX/paper/._87.jpg  \n",
            "  inflating: 보/paper/86.jpg        \n",
            "  inflating: 보/__MACOSX/paper/._86.jpg  \n",
            "  inflating: 보/paper/92.jpg        \n",
            "  inflating: 보/__MACOSX/paper/._92.jpg  \n",
            "  inflating: 보/paper/45.jpg        \n",
            "  inflating: 보/__MACOSX/paper/._45.jpg  \n",
            "  inflating: 보/paper/3.jpg         \n",
            "  inflating: 보/__MACOSX/paper/._3.jpg  \n",
            "  inflating: 보/paper/51.jpg        \n",
            "  inflating: 보/__MACOSX/paper/._51.jpg  \n",
            "  inflating: 보/paper/79.jpg        \n",
            "  inflating: 보/__MACOSX/paper/._79.jpg  \n",
            "  inflating: 보/paper/47.jpg        \n",
            "  inflating: 보/__MACOSX/paper/._47.jpg  \n",
            "  inflating: 보/paper/53.jpg        \n",
            "  inflating: 보/__MACOSX/paper/._53.jpg  \n",
            "  inflating: 보/paper/1.jpg         \n",
            "  inflating: 보/__MACOSX/paper/._1.jpg  \n",
            "  inflating: 보/paper/84.jpg        \n",
            "  inflating: 보/__MACOSX/paper/._84.jpg  \n",
            "  inflating: 보/paper/90.jpg        \n",
            "  inflating: 보/__MACOSX/paper/._90.jpg  \n",
            "  inflating: 보/paper/91.jpg        \n",
            "  inflating: 보/__MACOSX/paper/._91.jpg  \n",
            "  inflating: 보/paper/85.jpg        \n",
            "  inflating: 보/__MACOSX/paper/._85.jpg  \n",
            "  inflating: 보/paper/52.jpg        \n",
            "  inflating: 보/__MACOSX/paper/._52.jpg  \n",
            "  inflating: 보/paper/0.jpg         \n",
            "  inflating: 보/__MACOSX/paper/._0.jpg  \n",
            "  inflating: 보/paper/46.jpg        \n",
            "  inflating: 보/__MACOSX/paper/._46.jpg  \n"
          ]
        }
      ]
    },
    {
      "cell_type": "code",
      "metadata": {
        "colab": {
          "base_uri": "https://localhost:8080/"
        },
        "id": "7e9960a4",
        "outputId": "b6822d94-7c95-47fa-c940-05a84d3e1af9"
      },
      "source": [
        "import cv2\n",
        "\n",
        "image_path = '보/18.jpg'\n",
        "image = cv2.imread(image_path)\n",
        "\n",
        "if image is not None:\n",
        "  print(f\"Shape of the image {image_path}: {image.shape}\")\n",
        "else:\n",
        "  print(f\"Could not load image from {image_path}\")"
      ],
      "execution_count": 17,
      "outputs": [
        {
          "output_type": "stream",
          "name": "stdout",
          "text": [
            "Shape of the image 보/18.jpg: (28, 28, 3)\n"
          ]
        }
      ]
    },
    {
      "cell_type": "markdown",
      "source": [
        "## 데이터 불러오기 + Resize 하기\n"
      ],
      "metadata": {
        "id": "9Vwlj-DB1dM0"
      }
    },
    {
      "cell_type": "code",
      "source": [
        "from PIL import Image\n",
        "import glob\n",
        "import os\n",
        "\n",
        "print(\"PIL 라이브러리 import 완료!\")\n",
        "\n",
        "def resize_images(img_path):\n",
        "        images=glob.glob(img_path + \"/*.jpg\")\n",
        "\n",
        "        print(len(images), \" images to be resized.\")\n",
        "\n",
        "    # 파일마다 모두 28x28 사이즈로 바꾸어 저장합니다.\n",
        "        target_size=(28,28)\n",
        "        for img in images:\n",
        "                old_img=Image.open(img)\n",
        "                new_img = old_img.resize(target_size, Image.Resampling.LANCZOS)\n",
        "                new_img.save(img, \"JPEG\")\n",
        "\n",
        "        print(len(images), \" images resized.\")\n",
        "\n",
        "# 가위, 바위, 보 이미지가 저장된 디렉토리 아래의 모든 jpg 파일을 읽어드림\n",
        "image_dir_path = \"./가위\"\n",
        "resize_images(image_dir_path)\n",
        "\n",
        "print(\"가위 이미지 resize 완료!\")"
      ],
      "metadata": {
        "colab": {
          "base_uri": "https://localhost:8080/"
        },
        "id": "CwpVDre52XsB",
        "outputId": "a002a64f-3c79-4c7d-9d1b-954b11b169fc"
      },
      "execution_count": 9,
      "outputs": [
        {
          "output_type": "stream",
          "name": "stdout",
          "text": [
            "PIL 라이브러리 import 완료!\n",
            "125  images to be resized.\n",
            "125  images resized.\n",
            "가위 이미지 resize 완료!\n"
          ]
        }
      ]
    },
    {
      "cell_type": "code",
      "source": [
        "image_dir_path = \"./바위\"\n",
        "resize_images(image_dir_path)\n",
        "\n",
        "print(\"바위 이미지 resize 완료!\")\n",
        "\n",
        "image_dir_path = \"./보\"\n",
        "resize_images(image_dir_path)\n",
        "\n",
        "print(\"보 이미지 resize 완료!\")"
      ],
      "metadata": {
        "colab": {
          "base_uri": "https://localhost:8080/"
        },
        "id": "XA4bnYSoDogT",
        "outputId": "463a4fe4-c5b8-48cf-9a92-3646ebf32ac6"
      },
      "execution_count": 72,
      "outputs": [
        {
          "output_type": "stream",
          "name": "stdout",
          "text": [
            "158  images to be resized.\n",
            "158  images resized.\n",
            "바위 이미지 resize 완료!\n",
            "169  images to be resized.\n",
            "169  images resized.\n",
            "보 이미지 resize 완료!\n"
          ]
        }
      ]
    },
    {
      "cell_type": "code",
      "source": [
        "# 셔플 함수\n",
        "from sklearn.utils import shuffle\n",
        "import numpy as np\n",
        "\n",
        "def load_data(img_path):  # 가위바위보 이미지 개수 총합에 주의하세요.\n",
        "    # 가위 : 0, 바위 : 1, 보 : 2\n",
        "    img_size=28\n",
        "    color=3\n",
        "\n",
        "    # 데이터의 개수 자동 조정\n",
        "    all_images = glob.glob(f'./가위/*.jpg') + \\\n",
        "                 glob.glob(f'./바위/*.jpg') + \\\n",
        "                 glob.glob(f'./보/*.jpg')\n",
        "    number_of_data = len(all_images)\n",
        "\n",
        "    #이미지 데이터와 라벨(가위 : 0, 바위 : 1, 보 : 2) 데이터를 담을 행렬(matrix) 영역을 생성합니다.\n",
        "    imgs=np.zeros(number_of_data*img_size*img_size*color,dtype=np.int32).reshape(number_of_data,img_size,img_size,color)\n",
        "    labels=np.zeros(number_of_data,dtype=np.int32)\n",
        "\n",
        "\n",
        "\n",
        "    idx=0\n",
        "    for file in glob.iglob('./가위/*.jpg'):\n",
        "        img = np.array(Image.open(file),dtype=np.int32)\n",
        "        imgs[idx,:,:,:]=img    # 데이터 영역에 이미지 행렬을 복사\n",
        "        labels[idx]=0   # 가위 : 0\n",
        "        idx=idx+1\n",
        "\n",
        "    for file in glob.iglob('./바위/*.jpg'):\n",
        "        img = np.array(Image.open(file),dtype=np.int32)\n",
        "        imgs[idx,:,:,:]=img    # 데이터 영역에 이미지 행렬을 복사\n",
        "        labels[idx]=1   # 바위 : 1\n",
        "        idx=idx+1\n",
        "\n",
        "    for file in glob.iglob('./보/*.jpg'):\n",
        "        img = np.array(Image.open(file),dtype=np.int32)\n",
        "        imgs[idx,:,:,:]=img    # 데이터 영역에 이미지 행렬을 복사\n",
        "        labels[idx]=2   # 보 : 2\n",
        "        idx=idx+1\n",
        "\n",
        "    print(\"학습데이터(x_train)의 이미지 개수는\", idx,\"입니다.\")\n",
        "    return imgs, labels\n",
        "\n",
        "image_dir_path = \".\"\n",
        "(x_train, y_train)=load_data(image_dir_path)\n",
        "\n",
        "x_train, y_train = shuffle(x_train, y_train, random_state=42)\n",
        "x_train_norm = x_train/255.0   # 입력은 0~1 사이의 값으로 정규화\n",
        "\n",
        "print(\"x_train shape: {}\".format(x_train.shape))\n",
        "print(\"y_train shape: {}\".format(y_train.shape))"
      ],
      "metadata": {
        "colab": {
          "base_uri": "https://localhost:8080/"
        },
        "id": "zzIPnoTO39gZ",
        "outputId": "d6177082-c30d-4217-ef9e-ffcf8b9098cb"
      },
      "execution_count": 12,
      "outputs": [
        {
          "output_type": "stream",
          "name": "stdout",
          "text": [
            "학습데이터(x_train)의 이미지 개수는 452 입니다.\n",
            "x_train shape: (452, 28, 28, 3)\n",
            "y_train shape: (452,)\n"
          ]
        }
      ]
    },
    {
      "cell_type": "code",
      "source": [
        "import matplotlib.pyplot as plt\n",
        "\n",
        "plt.imshow(x_train[1])\n",
        "print('라벨: ', y_train[1])"
      ],
      "metadata": {
        "colab": {
          "base_uri": "https://localhost:8080/",
          "height": 448
        },
        "id": "bzSr9aYx3yHf",
        "outputId": "b75a9b84-be73-4c5f-bf81-39a25e427767"
      },
      "execution_count": 74,
      "outputs": [
        {
          "output_type": "stream",
          "name": "stdout",
          "text": [
            "라벨:  0\n"
          ]
        },
        {
          "output_type": "display_data",
          "data": {
            "text/plain": [
              "<Figure size 640x480 with 1 Axes>"
            ],
            "image/png": "[encoded data removed]"
          },
          "metadata": {}
        }
      ]
    },
    {
      "cell_type": "code",
      "source": [
        "import tensorflow as tf\n",
        "from tensorflow import keras\n",
        "import numpy as np\n",
        "\n",
        "n_channel_1=16\n",
        "n_channel_2=16\n",
        "n_dense=16\n",
        "\n",
        "model = keras.models.Sequential()\n",
        "model.add(keras.layers.Conv2D(n_channel_1, (3,3), activation= 'relu',input_shape = (28,28,3)))\n",
        "model.add(keras.layers.MaxPool2D(2,2))\n",
        "model.add(keras.layers.Conv2D(n_channel_2, (3,3), activation = 'relu'))\n",
        "model.add(keras.layers.Flatten())\n",
        "model.add(keras.layers.Dense(n_dense, activation = 'relu'))\n",
        "model.add(keras.layers.Dense(3, activation = 'softmax'))\n",
        "\n",
        "model.summary()"
      ],
      "metadata": {
        "colab": {
          "base_uri": "https://localhost:8080/",
          "height": 382
        },
        "id": "G3CL8-Nf4TIP",
        "outputId": "c3770529-8315-4297-9ea6-c2e2c2b4cc52"
      },
      "execution_count": 19,
      "outputs": [
        {
          "output_type": "stream",
          "name": "stderr",
          "text": [
            "/usr/local/lib/python3.11/dist-packages/keras/src/layers/convolutional/base_conv.py:107: UserWarning: Do not pass an `input_shape`/`input_dim` argument to a layer. When using Sequential models, prefer using an `Input(shape)` object as the first layer in the model instead.\n",
            "  super().__init__(activity_regularizer=activity_regularizer, **kwargs)\n"
          ]
        },
        {
          "output_type": "display_data",
          "data": {
            "text/plain": [
              "\u001b[1mModel: \"sequential\"\u001b[0m\n"
            ],
            "text/html": [
              "<pre style=\"white-space:pre;overflow-x:auto;line-height:normal;font-family:Menlo,'DejaVu Sans Mono',consolas,'Courier New',monospace\"><span style=\"font-weight: bold\">Model: \"sequential\"</span>\n",
              "</pre>\n"
            ]
          },
          "metadata": {}
        },
        {
          "output_type": "display_data",
          "data": {
            "text/plain": [
              "┏━━━━━━━━━━━━━━━━━━━━━━━━━━━━━━━━━┳━━━━━━━━━━━━━━━━━━━━━━━━┳━━━━━━━━━━━━━━━┓\n",
              "┃\u001b[1m \u001b[0m\u001b[1mLayer (type)                   \u001b[0m\u001b[1m \u001b[0m┃\u001b[1m \u001b[0m\u001b[1mOutput Shape          \u001b[0m\u001b[1m \u001b[0m┃\u001b[1m \u001b[0m\u001b[1m      Param #\u001b[0m\u001b[1m \u001b[0m┃\n",
              "┡━━━━━━━━━━━━━━━━━━━━━━━━━━━━━━━━━╇━━━━━━━━━━━━━━━━━━━━━━━━╇━━━━━━━━━━━━━━━┩\n",
              "│ conv2d (\u001b[38;5;33mConv2D\u001b[0m)                 │ (\u001b[38;5;45mNone\u001b[0m, \u001b[38;5;34m26\u001b[0m, \u001b[38;5;34m26\u001b[0m, \u001b[38;5;34m16\u001b[0m)     │           \u001b[38;5;34m448\u001b[0m │\n",
              "├─────────────────────────────────┼────────────────────────┼───────────────┤\n",
              "│ max_pooling2d (\u001b[38;5;33mMaxPooling2D\u001b[0m)    │ (\u001b[38;5;45mNone\u001b[0m, \u001b[38;5;34m13\u001b[0m, \u001b[38;5;34m13\u001b[0m, \u001b[38;5;34m16\u001b[0m)     │             \u001b[38;5;34m0\u001b[0m │\n",
              "├─────────────────────────────────┼────────────────────────┼───────────────┤\n",
              "│ conv2d_1 (\u001b[38;5;33mConv2D\u001b[0m)               │ (\u001b[38;5;45mNone\u001b[0m, \u001b[38;5;34m11\u001b[0m, \u001b[38;5;34m11\u001b[0m, \u001b[38;5;34m16\u001b[0m)     │         \u001b[38;5;34m2,320\u001b[0m │\n",
              "├─────────────────────────────────┼────────────────────────┼───────────────┤\n",
              "│ flatten (\u001b[38;5;33mFlatten\u001b[0m)               │ (\u001b[38;5;45mNone\u001b[0m, \u001b[38;5;34m1936\u001b[0m)           │             \u001b[38;5;34m0\u001b[0m │\n",
              "├─────────────────────────────────┼────────────────────────┼───────────────┤\n",
              "│ dense (\u001b[38;5;33mDense\u001b[0m)                   │ (\u001b[38;5;45mNone\u001b[0m, \u001b[38;5;34m16\u001b[0m)             │        \u001b[38;5;34m30,992\u001b[0m │\n",
              "├─────────────────────────────────┼────────────────────────┼───────────────┤\n",
              "│ dense_1 (\u001b[38;5;33mDense\u001b[0m)                 │ (\u001b[38;5;45mNone\u001b[0m, \u001b[38;5;34m3\u001b[0m)              │            \u001b[38;5;34m51\u001b[0m │\n",
              "└─────────────────────────────────┴────────────────────────┴───────────────┘\n"
            ],
            "text/html": [
              "<pre style=\"white-space:pre;overflow-x:auto;line-height:normal;font-family:Menlo,'DejaVu Sans Mono',consolas,'Courier New',monospace\">┏━━━━━━━━━━━━━━━━━━━━━━━━━━━━━━━━━┳━━━━━━━━━━━━━━━━━━━━━━━━┳━━━━━━━━━━━━━━━┓\n",
              "┃<span style=\"font-weight: bold\"> Layer (type)                    </span>┃<span style=\"font-weight: bold\"> Output Shape           </span>┃<span style=\"font-weight: bold\">       Param # </span>┃\n",
              "┡━━━━━━━━━━━━━━━━━━━━━━━━━━━━━━━━━╇━━━━━━━━━━━━━━━━━━━━━━━━╇━━━━━━━━━━━━━━━┩\n",
              "│ conv2d (<span style=\"color: #0087ff; text-decoration-color: #0087ff\">Conv2D</span>)                 │ (<span style=\"color: #00d7ff; text-decoration-color: #00d7ff\">None</span>, <span style=\"color: #00af00; text-decoration-color: #00af00\">26</span>, <span style=\"color: #00af00; text-decoration-color: #00af00\">26</span>, <span style=\"color: #00af00; text-decoration-color: #00af00\">16</span>)     │           <span style=\"color: #00af00; text-decoration-color: #00af00\">448</span> │\n",
              "├─────────────────────────────────┼────────────────────────┼───────────────┤\n",
              "│ max_pooling2d (<span style=\"color: #0087ff; text-decoration-color: #0087ff\">MaxPooling2D</span>)    │ (<span style=\"color: #00d7ff; text-decoration-color: #00d7ff\">None</span>, <span style=\"color: #00af00; text-decoration-color: #00af00\">13</span>, <span style=\"color: #00af00; text-decoration-color: #00af00\">13</span>, <span style=\"color: #00af00; text-decoration-color: #00af00\">16</span>)     │             <span style=\"color: #00af00; text-decoration-color: #00af00\">0</span> │\n",
              "├─────────────────────────────────┼────────────────────────┼───────────────┤\n",
              "│ conv2d_1 (<span style=\"color: #0087ff; text-decoration-color: #0087ff\">Conv2D</span>)               │ (<span style=\"color: #00d7ff; text-decoration-color: #00d7ff\">None</span>, <span style=\"color: #00af00; text-decoration-color: #00af00\">11</span>, <span style=\"color: #00af00; text-decoration-color: #00af00\">11</span>, <span style=\"color: #00af00; text-decoration-color: #00af00\">16</span>)     │         <span style=\"color: #00af00; text-decoration-color: #00af00\">2,320</span> │\n",
              "├─────────────────────────────────┼────────────────────────┼───────────────┤\n",
              "│ flatten (<span style=\"color: #0087ff; text-decoration-color: #0087ff\">Flatten</span>)               │ (<span style=\"color: #00d7ff; text-decoration-color: #00d7ff\">None</span>, <span style=\"color: #00af00; text-decoration-color: #00af00\">1936</span>)           │             <span style=\"color: #00af00; text-decoration-color: #00af00\">0</span> │\n",
              "├─────────────────────────────────┼────────────────────────┼───────────────┤\n",
              "│ dense (<span style=\"color: #0087ff; text-decoration-color: #0087ff\">Dense</span>)                   │ (<span style=\"color: #00d7ff; text-decoration-color: #00d7ff\">None</span>, <span style=\"color: #00af00; text-decoration-color: #00af00\">16</span>)             │        <span style=\"color: #00af00; text-decoration-color: #00af00\">30,992</span> │\n",
              "├─────────────────────────────────┼────────────────────────┼───────────────┤\n",
              "│ dense_1 (<span style=\"color: #0087ff; text-decoration-color: #0087ff\">Dense</span>)                 │ (<span style=\"color: #00d7ff; text-decoration-color: #00d7ff\">None</span>, <span style=\"color: #00af00; text-decoration-color: #00af00\">3</span>)              │            <span style=\"color: #00af00; text-decoration-color: #00af00\">51</span> │\n",
              "└─────────────────────────────────┴────────────────────────┴───────────────┘\n",
              "</pre>\n"
            ]
          },
          "metadata": {}
        },
        {
          "output_type": "display_data",
          "data": {
            "text/plain": [
              "\u001b[1m Total params: \u001b[0m\u001b[38;5;34m33,811\u001b[0m (132.07 KB)\n"
            ],
            "text/html": [
              "<pre style=\"white-space:pre;overflow-x:auto;line-height:normal;font-family:Menlo,'DejaVu Sans Mono',consolas,'Courier New',monospace\"><span style=\"font-weight: bold\"> Total params: </span><span style=\"color: #00af00; text-decoration-color: #00af00\">33,811</span> (132.07 KB)\n",
              "</pre>\n"
            ]
          },
          "metadata": {}
        },
        {
          "output_type": "display_data",
          "data": {
            "text/plain": [
              "\u001b[1m Trainable params: \u001b[0m\u001b[38;5;34m33,811\u001b[0m (132.07 KB)\n"
            ],
            "text/html": [
              "<pre style=\"white-space:pre;overflow-x:auto;line-height:normal;font-family:Menlo,'DejaVu Sans Mono',consolas,'Courier New',monospace\"><span style=\"font-weight: bold\"> Trainable params: </span><span style=\"color: #00af00; text-decoration-color: #00af00\">33,811</span> (132.07 KB)\n",
              "</pre>\n"
            ]
          },
          "metadata": {}
        },
        {
          "output_type": "display_data",
          "data": {
            "text/plain": [
              "\u001b[1m Non-trainable params: \u001b[0m\u001b[38;5;34m0\u001b[0m (0.00 B)\n"
            ],
            "text/html": [
              "<pre style=\"white-space:pre;overflow-x:auto;line-height:normal;font-family:Menlo,'DejaVu Sans Mono',consolas,'Courier New',monospace\"><span style=\"font-weight: bold\"> Non-trainable params: </span><span style=\"color: #00af00; text-decoration-color: #00af00\">0</span> (0.00 B)\n",
              "</pre>\n"
            ]
          },
          "metadata": {}
        }
      ]
    },
    {
      "cell_type": "markdown",
      "source": [
        "## 딥러닝 네트워크 학습"
      ],
      "metadata": {
        "id": "SCBbp2qZ55ho"
      }
    },
    {
      "cell_type": "code",
      "source": [
        "model.compile(optimizer='adam',\n",
        "             loss='sparse_categorical_crossentropy',\n",
        "             metrics=['accuracy'])\n",
        "\n",
        "model.fit(x_train, y_train, epochs=10)"
      ],
      "metadata": {
        "colab": {
          "base_uri": "https://localhost:8080/"
        },
        "id": "2HQvVc3m5uK0",
        "outputId": "8a93618c-a585-400c-be18-3cf54d7db383"
      },
      "execution_count": 20,
      "outputs": [
        {
          "output_type": "stream",
          "name": "stdout",
          "text": [
            "Epoch 1/10\n",
            "\u001b[1m15/15\u001b[0m \u001b[32m━━━━━━━━━━━━━━━━━━━━\u001b[0m\u001b[37m\u001b[0m \u001b[1m2s\u001b[0m 13ms/step - accuracy: 0.3802 - loss: 38.6074\n",
            "Epoch 2/10\n",
            "\u001b[1m15/15\u001b[0m \u001b[32m━━━━━━━━━━━━━━━━━━━━\u001b[0m\u001b[37m\u001b[0m \u001b[1m0s\u001b[0m 12ms/step - accuracy: 0.8277 - loss: 1.0385\n",
            "Epoch 3/10\n",
            "\u001b[1m15/15\u001b[0m \u001b[32m━━━━━━━━━━━━━━━━━━━━\u001b[0m\u001b[37m\u001b[0m \u001b[1m0s\u001b[0m 14ms/step - accuracy: 0.9651 - loss: 0.1337\n",
            "Epoch 4/10\n",
            "\u001b[1m15/15\u001b[0m \u001b[32m━━━━━━━━━━━━━━━━━━━━\u001b[0m\u001b[37m\u001b[0m \u001b[1m0s\u001b[0m 12ms/step - accuracy: 1.0000 - loss: 0.0026\n",
            "Epoch 5/10\n",
            "\u001b[1m15/15\u001b[0m \u001b[32m━━━━━━━━━━━━━━━━━━━━\u001b[0m\u001b[37m\u001b[0m \u001b[1m0s\u001b[0m 12ms/step - accuracy: 1.0000 - loss: 0.0018\n",
            "Epoch 6/10\n",
            "\u001b[1m15/15\u001b[0m \u001b[32m━━━━━━━━━━━━━━━━━━━━\u001b[0m\u001b[37m\u001b[0m \u001b[1m0s\u001b[0m 12ms/step - accuracy: 1.0000 - loss: 0.0011\n",
            "Epoch 7/10\n",
            "\u001b[1m15/15\u001b[0m \u001b[32m━━━━━━━━━━━━━━━━━━━━\u001b[0m\u001b[37m\u001b[0m \u001b[1m0s\u001b[0m 12ms/step - accuracy: 1.0000 - loss: 2.0648e-04\n",
            "Epoch 8/10\n",
            "\u001b[1m15/15\u001b[0m \u001b[32m━━━━━━━━━━━━━━━━━━━━\u001b[0m\u001b[37m\u001b[0m \u001b[1m0s\u001b[0m 12ms/step - accuracy: 1.0000 - loss: 6.2796e-05\n",
            "Epoch 9/10\n",
            "\u001b[1m15/15\u001b[0m \u001b[32m━━━━━━━━━━━━━━━━━━━━\u001b[0m\u001b[37m\u001b[0m \u001b[1m0s\u001b[0m 12ms/step - accuracy: 1.0000 - loss: 2.7581e-06\n",
            "Epoch 10/10\n",
            "\u001b[1m15/15\u001b[0m \u001b[32m━━━━━━━━━━━━━━━━━━━━\u001b[0m\u001b[37m\u001b[0m \u001b[1m0s\u001b[0m 14ms/step - accuracy: 1.0000 - loss: 1.1862e-06\n"
          ]
        },
        {
          "output_type": "execute_result",
          "data": {
            "text/plain": [
              "<keras.src.callbacks.history.History at 0x793b70dcb850>"
            ]
          },
          "metadata": {},
          "execution_count": 20
        }
      ]
    },
    {
      "cell_type": "code",
      "source": [
        "## 압축 해제 코드 -\n",
        "# 만든 데이터를 Colab에 올려주세요\n",
        "# 압축파일 이름을 맞춰주세요~\n",
        "\n",
        "!unzip scissor_test.zip_ -d 가위_test\n",
        "!unzip rock_test.zip -d 바위_test\n",
        "!unzip paper_test.zip   -d 보_test"
      ],
      "metadata": {
        "colab": {
          "base_uri": "https://localhost:8080/"
        },
        "id": "lyoY-ThcCSY2",
        "outputId": "35b3d469-4492-4a68-b751-020d77d8fe5c"
      },
      "execution_count": 7,
      "outputs": [
        {
          "output_type": "stream",
          "name": "stdout",
          "text": [
            "unzip:  cannot find or open scissor_test.zip_, scissor_test.zip_.zip or scissor_test.zip_.ZIP.\n",
            "Archive:  rock_test.zip\n",
            "  inflating: 바위_test/89.jpg      \n",
            "  inflating: 바위_test/__MACOSX/._89.jpg  \n",
            "  inflating: 바위_test/90.jpg      \n",
            "  inflating: 바위_test/__MACOSX/._90.jpg  \n",
            "  inflating: 바위_test/91.jpg      \n",
            "  inflating: 바위_test/__MACOSX/._91.jpg  \n",
            "  inflating: 바위_test/92.jpg      \n",
            "  inflating: 바위_test/__MACOSX/._92.jpg  \n",
            "  inflating: 바위_test/93.jpg      \n",
            "  inflating: 바위_test/__MACOSX/._93.jpg  \n",
            "  inflating: 바위_test/94.jpg      \n",
            "  inflating: 바위_test/__MACOSX/._94.jpg  \n",
            "  inflating: 바위_test/95.jpg      \n",
            "  inflating: 바위_test/__MACOSX/._95.jpg  \n",
            "  inflating: 바위_test/96.jpg      \n",
            "  inflating: 바위_test/__MACOSX/._96.jpg  \n",
            "  inflating: 바위_test/97.jpg      \n",
            "  inflating: 바위_test/__MACOSX/._97.jpg  \n",
            "  inflating: 바위_test/98.jpg      \n",
            "  inflating: 바위_test/__MACOSX/._98.jpg  \n",
            "  inflating: 바위_test/99.jpg      \n",
            "  inflating: 바위_test/__MACOSX/._99.jpg  \n",
            "  inflating: 바위_test/100.jpg     \n",
            "  inflating: 바위_test/__MACOSX/._100.jpg  \n",
            "  inflating: 바위_test/101.jpg     \n",
            "  inflating: 바위_test/__MACOSX/._101.jpg  \n",
            "  inflating: 바위_test/102.jpg     \n",
            "  inflating: 바위_test/__MACOSX/._102.jpg  \n",
            "  inflating: 바위_test/103.jpg     \n",
            "  inflating: 바위_test/__MACOSX/._103.jpg  \n",
            "  inflating: 바위_test/104.jpg     \n",
            "  inflating: 바위_test/__MACOSX/._104.jpg  \n",
            "  inflating: 바위_test/105.jpg     \n",
            "  inflating: 바위_test/__MACOSX/._105.jpg  \n",
            "  inflating: 바위_test/106.jpg     \n",
            "  inflating: 바위_test/__MACOSX/._106.jpg  \n",
            "  inflating: 바위_test/107.jpg     \n",
            "  inflating: 바위_test/__MACOSX/._107.jpg  \n",
            "  inflating: 바위_test/108.jpg     \n",
            "  inflating: 바위_test/__MACOSX/._108.jpg  \n",
            "  inflating: 바위_test/109.jpg     \n",
            "  inflating: 바위_test/__MACOSX/._109.jpg  \n",
            "  inflating: 바위_test/110.jpg     \n",
            "  inflating: 바위_test/__MACOSX/._110.jpg  \n",
            "  inflating: 바위_test/111.jpg     \n",
            "  inflating: 바위_test/__MACOSX/._111.jpg  \n",
            "  inflating: 바위_test/112.jpg     \n",
            "  inflating: 바위_test/__MACOSX/._112.jpg  \n",
            "  inflating: 바위_test/113.jpg     \n",
            "  inflating: 바위_test/__MACOSX/._113.jpg  \n",
            "  inflating: 바위_test/114.jpg     \n",
            "  inflating: 바위_test/__MACOSX/._114.jpg  \n",
            "  inflating: 바위_test/115.jpg     \n",
            "  inflating: 바위_test/__MACOSX/._115.jpg  \n",
            "  inflating: 바위_test/116.jpg     \n",
            "  inflating: 바위_test/__MACOSX/._116.jpg  \n",
            "  inflating: 바위_test/117.jpg     \n",
            "  inflating: 바위_test/__MACOSX/._117.jpg  \n",
            "  inflating: 바위_test/118.jpg     \n",
            "  inflating: 바위_test/__MACOSX/._118.jpg  \n",
            "  inflating: 바위_test/119.jpg     \n",
            "  inflating: 바위_test/__MACOSX/._119.jpg  \n",
            "  inflating: 바위_test/120.jpg     \n",
            "  inflating: 바위_test/__MACOSX/._120.jpg  \n",
            "  inflating: 바위_test/121.jpg     \n",
            "  inflating: 바위_test/__MACOSX/._121.jpg  \n",
            "  inflating: 바위_test/122.jpg     \n",
            "  inflating: 바위_test/__MACOSX/._122.jpg  \n",
            "  inflating: 바위_test/123.jpg     \n",
            "  inflating: 바위_test/__MACOSX/._123.jpg  \n",
            "  inflating: 바위_test/124.jpg     \n",
            "  inflating: 바위_test/__MACOSX/._124.jpg  \n",
            "  inflating: 바위_test/125.jpg     \n",
            "  inflating: 바위_test/__MACOSX/._125.jpg  \n",
            "  inflating: 바위_test/126.jpg     \n",
            "  inflating: 바위_test/__MACOSX/._126.jpg  \n",
            "  inflating: 바위_test/127.jpg     \n",
            "  inflating: 바위_test/__MACOSX/._127.jpg  \n",
            "  inflating: 바위_test/128.jpg     \n",
            "  inflating: 바위_test/__MACOSX/._128.jpg  \n",
            "  inflating: 바위_test/129.jpg     \n",
            "  inflating: 바위_test/__MACOSX/._129.jpg  \n",
            "  inflating: 바위_test/130.jpg     \n",
            "  inflating: 바위_test/__MACOSX/._130.jpg  \n",
            "  inflating: 바위_test/131.jpg     \n",
            "  inflating: 바위_test/__MACOSX/._131.jpg  \n",
            "  inflating: 바위_test/132.jpg     \n",
            "  inflating: 바위_test/__MACOSX/._132.jpg  \n",
            "  inflating: 바위_test/133.jpg     \n",
            "  inflating: 바위_test/__MACOSX/._133.jpg  \n",
            "  inflating: 바위_test/134.jpg     \n",
            "  inflating: 바위_test/__MACOSX/._134.jpg  \n",
            "  inflating: 바위_test/135.jpg     \n",
            "  inflating: 바위_test/__MACOSX/._135.jpg  \n",
            "  inflating: 바위_test/136.jpg     \n",
            "  inflating: 바위_test/__MACOSX/._136.jpg  \n",
            "  inflating: 바위_test/137.jpg     \n",
            "  inflating: 바위_test/__MACOSX/._137.jpg  \n",
            "  inflating: 바위_test/138.jpg     \n",
            "  inflating: 바위_test/__MACOSX/._138.jpg  \n",
            "  inflating: 바위_test/139.jpg     \n",
            "  inflating: 바위_test/__MACOSX/._139.jpg  \n",
            "  inflating: 바위_test/140.jpg     \n",
            "  inflating: 바위_test/__MACOSX/._140.jpg  \n",
            "  inflating: 바위_test/141.jpg     \n",
            "  inflating: 바위_test/__MACOSX/._141.jpg  \n",
            "  inflating: 바위_test/142.jpg     \n",
            "  inflating: 바위_test/__MACOSX/._142.jpg  \n",
            "  inflating: 바위_test/143.jpg     \n",
            "  inflating: 바위_test/__MACOSX/._143.jpg  \n",
            "  inflating: 바위_test/144.jpg     \n",
            "  inflating: 바위_test/__MACOSX/._144.jpg  \n",
            "  inflating: 바위_test/145.jpg     \n",
            "  inflating: 바위_test/__MACOSX/._145.jpg  \n",
            "  inflating: 바위_test/146.jpg     \n",
            "  inflating: 바위_test/__MACOSX/._146.jpg  \n",
            "  inflating: 바위_test/147.jpg     \n",
            "  inflating: 바위_test/__MACOSX/._147.jpg  \n",
            "  inflating: 바위_test/148.jpg     \n",
            "  inflating: 바위_test/__MACOSX/._148.jpg  \n",
            "  inflating: 바위_test/149.jpg     \n",
            "  inflating: 바위_test/__MACOSX/._149.jpg  \n",
            "  inflating: 바위_test/150.jpg     \n",
            "  inflating: 바위_test/__MACOSX/._150.jpg  \n",
            "  inflating: 바위_test/151.jpg     \n",
            "  inflating: 바위_test/__MACOSX/._151.jpg  \n",
            "  inflating: 바위_test/152.jpg     \n",
            "  inflating: 바위_test/__MACOSX/._152.jpg  \n",
            "  inflating: 바위_test/153.jpg     \n",
            "  inflating: 바위_test/__MACOSX/._153.jpg  \n",
            "  inflating: 바위_test/154.jpg     \n",
            "  inflating: 바위_test/__MACOSX/._154.jpg  \n",
            "  inflating: 바위_test/155.jpg     \n",
            "  inflating: 바위_test/__MACOSX/._155.jpg  \n",
            "  inflating: 바위_test/156.jpg     \n",
            "  inflating: 바위_test/__MACOSX/._156.jpg  \n",
            "  inflating: 바위_test/157.jpg     \n",
            "  inflating: 바위_test/__MACOSX/._157.jpg  \n",
            "  inflating: 바위_test/158.jpg     \n",
            "  inflating: 바위_test/__MACOSX/._158.jpg  \n",
            "  inflating: 바위_test/159.jpg     \n",
            "  inflating: 바위_test/__MACOSX/._159.jpg  \n",
            "  inflating: 바위_test/160.jpg     \n",
            "  inflating: 바위_test/__MACOSX/._160.jpg  \n",
            "  inflating: 바위_test/161.jpg     \n",
            "  inflating: 바위_test/__MACOSX/._161.jpg  \n",
            "  inflating: 바위_test/162.jpg     \n",
            "  inflating: 바위_test/__MACOSX/._162.jpg  \n",
            "  inflating: 바위_test/163.jpg     \n",
            "  inflating: 바위_test/__MACOSX/._163.jpg  \n",
            "  inflating: 바위_test/164.jpg     \n",
            "  inflating: 바위_test/__MACOSX/._164.jpg  \n",
            "  inflating: 바위_test/165.jpg     \n",
            "  inflating: 바위_test/__MACOSX/._165.jpg  \n",
            "  inflating: 바위_test/166.jpg     \n",
            "  inflating: 바위_test/__MACOSX/._166.jpg  \n",
            "  inflating: 바위_test/167.jpg     \n",
            "  inflating: 바위_test/__MACOSX/._167.jpg  \n",
            "  inflating: 바위_test/168.jpg     \n",
            "  inflating: 바위_test/__MACOSX/._168.jpg  \n",
            "  inflating: 바위_test/169.jpg     \n",
            "  inflating: 바위_test/__MACOSX/._169.jpg  \n",
            "  inflating: 바위_test/170.jpg     \n",
            "  inflating: 바위_test/__MACOSX/._170.jpg  \n",
            "  inflating: 바위_test/171.jpg     \n",
            "  inflating: 바위_test/__MACOSX/._171.jpg  \n",
            "  inflating: 바위_test/172.jpg     \n",
            "  inflating: 바위_test/__MACOSX/._172.jpg  \n",
            "  inflating: 바위_test/173.jpg     \n",
            "  inflating: 바위_test/__MACOSX/._173.jpg  \n",
            "  inflating: 바위_test/174.jpg     \n",
            "  inflating: 바위_test/__MACOSX/._174.jpg  \n",
            "  inflating: 바위_test/175.jpg     \n",
            "  inflating: 바위_test/__MACOSX/._175.jpg  \n",
            "  inflating: 바위_test/176.jpg     \n",
            "  inflating: 바위_test/__MACOSX/._176.jpg  \n",
            "  inflating: 바위_test/177.jpg     \n",
            "  inflating: 바위_test/__MACOSX/._177.jpg  \n",
            "  inflating: 바위_test/178.jpg     \n",
            "  inflating: 바위_test/__MACOSX/._178.jpg  \n",
            "  inflating: 바위_test/179.jpg     \n",
            "  inflating: 바위_test/__MACOSX/._179.jpg  \n",
            "  inflating: 바위_test/180.jpg     \n",
            "  inflating: 바위_test/__MACOSX/._180.jpg  \n",
            "  inflating: 바위_test/181.jpg     \n",
            "  inflating: 바위_test/__MACOSX/._181.jpg  \n",
            "  inflating: 바위_test/182.jpg     \n",
            "  inflating: 바위_test/__MACOSX/._182.jpg  \n",
            "  inflating: 바위_test/183.jpg     \n",
            "  inflating: 바위_test/__MACOSX/._183.jpg  \n",
            "  inflating: 바위_test/184.jpg     \n",
            "  inflating: 바위_test/__MACOSX/._184.jpg  \n",
            "  inflating: 바위_test/185.jpg     \n",
            "  inflating: 바위_test/__MACOSX/._185.jpg  \n",
            "  inflating: 바위_test/186.jpg     \n",
            "  inflating: 바위_test/__MACOSX/._186.jpg  \n",
            "  inflating: 바위_test/187.jpg     \n",
            "  inflating: 바위_test/__MACOSX/._187.jpg  \n",
            "  inflating: 바위_test/188.jpg     \n",
            "  inflating: 바위_test/__MACOSX/._188.jpg  \n",
            "  inflating: 바위_test/189.jpg     \n",
            "  inflating: 바위_test/__MACOSX/._189.jpg  \n",
            "Archive:  paper_test.zip\n",
            "  inflating: 보_test/38.jpg         \n",
            "  inflating: 보_test/__MACOSX/._38.jpg  \n",
            "  inflating: 보_test/0.jpg          \n",
            "  inflating: 보_test/__MACOSX/._0.jpg  \n",
            "  inflating: 보_test/1.jpg          \n",
            "  inflating: 보_test/__MACOSX/._1.jpg  \n",
            "  inflating: 보_test/2.jpg          \n",
            "  inflating: 보_test/__MACOSX/._2.jpg  \n",
            "  inflating: 보_test/3.jpg          \n",
            "  inflating: 보_test/__MACOSX/._3.jpg  \n",
            "  inflating: 보_test/4.jpg          \n",
            "  inflating: 보_test/__MACOSX/._4.jpg  \n",
            "  inflating: 보_test/5.jpg          \n",
            "  inflating: 보_test/__MACOSX/._5.jpg  \n",
            "  inflating: 보_test/6.jpg          \n",
            "  inflating: 보_test/__MACOSX/._6.jpg  \n",
            "  inflating: 보_test/7.jpg          \n",
            "  inflating: 보_test/__MACOSX/._7.jpg  \n",
            "  inflating: 보_test/8.jpg          \n",
            "  inflating: 보_test/__MACOSX/._8.jpg  \n",
            "  inflating: 보_test/9.jpg          \n",
            "  inflating: 보_test/__MACOSX/._9.jpg  \n",
            "  inflating: 보_test/10.jpg         \n",
            "  inflating: 보_test/__MACOSX/._10.jpg  \n",
            "  inflating: 보_test/11.jpg         \n",
            "  inflating: 보_test/__MACOSX/._11.jpg  \n",
            "  inflating: 보_test/12.jpg         \n",
            "  inflating: 보_test/__MACOSX/._12.jpg  \n",
            "  inflating: 보_test/13.jpg         \n",
            "  inflating: 보_test/__MACOSX/._13.jpg  \n",
            "  inflating: 보_test/14.jpg         \n",
            "  inflating: 보_test/__MACOSX/._14.jpg  \n",
            "  inflating: 보_test/15.jpg         \n",
            "  inflating: 보_test/__MACOSX/._15.jpg  \n",
            "  inflating: 보_test/16.jpg         \n",
            "  inflating: 보_test/__MACOSX/._16.jpg  \n",
            "  inflating: 보_test/17.jpg         \n",
            "  inflating: 보_test/__MACOSX/._17.jpg  \n",
            "  inflating: 보_test/18.jpg         \n",
            "  inflating: 보_test/__MACOSX/._18.jpg  \n",
            "  inflating: 보_test/19.jpg         \n",
            "  inflating: 보_test/__MACOSX/._19.jpg  \n",
            "  inflating: 보_test/20.jpg         \n",
            "  inflating: 보_test/__MACOSX/._20.jpg  \n",
            "  inflating: 보_test/21.jpg         \n",
            "  inflating: 보_test/__MACOSX/._21.jpg  \n",
            "  inflating: 보_test/22.jpg         \n",
            "  inflating: 보_test/__MACOSX/._22.jpg  \n",
            "  inflating: 보_test/23.jpg         \n",
            "  inflating: 보_test/__MACOSX/._23.jpg  \n",
            "  inflating: 보_test/24.jpg         \n",
            "  inflating: 보_test/__MACOSX/._24.jpg  \n",
            "  inflating: 보_test/25.jpg         \n",
            "  inflating: 보_test/__MACOSX/._25.jpg  \n",
            "  inflating: 보_test/26.jpg         \n",
            "  inflating: 보_test/__MACOSX/._26.jpg  \n",
            "  inflating: 보_test/27.jpg         \n",
            "  inflating: 보_test/__MACOSX/._27.jpg  \n",
            "  inflating: 보_test/28.jpg         \n",
            "  inflating: 보_test/__MACOSX/._28.jpg  \n",
            "  inflating: 보_test/29.jpg         \n",
            "  inflating: 보_test/__MACOSX/._29.jpg  \n",
            "  inflating: 보_test/30.jpg         \n",
            "  inflating: 보_test/__MACOSX/._30.jpg  \n",
            "  inflating: 보_test/31.jpg         \n",
            "  inflating: 보_test/__MACOSX/._31.jpg  \n",
            "  inflating: 보_test/32.jpg         \n",
            "  inflating: 보_test/__MACOSX/._32.jpg  \n",
            "  inflating: 보_test/33.jpg         \n",
            "  inflating: 보_test/__MACOSX/._33.jpg  \n",
            "  inflating: 보_test/34.jpg         \n",
            "  inflating: 보_test/__MACOSX/._34.jpg  \n",
            "  inflating: 보_test/35.jpg         \n",
            "  inflating: 보_test/__MACOSX/._35.jpg  \n",
            "  inflating: 보_test/36.jpg         \n",
            "  inflating: 보_test/__MACOSX/._36.jpg  \n",
            "  inflating: 보_test/37.jpg         \n",
            "  inflating: 보_test/__MACOSX/._37.jpg  \n",
            "  inflating: 보_test/39.jpg         \n",
            "  inflating: 보_test/__MACOSX/._39.jpg  \n",
            "  inflating: 보_test/40.jpg         \n",
            "  inflating: 보_test/__MACOSX/._40.jpg  \n",
            "  inflating: 보_test/41.jpg         \n",
            "  inflating: 보_test/__MACOSX/._41.jpg  \n",
            "  inflating: 보_test/42.jpg         \n",
            "  inflating: 보_test/__MACOSX/._42.jpg  \n",
            "  inflating: 보_test/43.jpg         \n",
            "  inflating: 보_test/__MACOSX/._43.jpg  \n",
            "  inflating: 보_test/44.jpg         \n",
            "  inflating: 보_test/__MACOSX/._44.jpg  \n",
            "  inflating: 보_test/45.jpg         \n",
            "  inflating: 보_test/__MACOSX/._45.jpg  \n",
            "  inflating: 보_test/46.jpg         \n",
            "  inflating: 보_test/__MACOSX/._46.jpg  \n",
            "  inflating: 보_test/47.jpg         \n",
            "  inflating: 보_test/__MACOSX/._47.jpg  \n",
            "  inflating: 보_test/48.jpg         \n",
            "  inflating: 보_test/__MACOSX/._48.jpg  \n",
            "  inflating: 보_test/49.jpg         \n",
            "  inflating: 보_test/__MACOSX/._49.jpg  \n",
            "  inflating: 보_test/50.jpg         \n",
            "  inflating: 보_test/__MACOSX/._50.jpg  \n",
            "  inflating: 보_test/51.jpg         \n",
            "  inflating: 보_test/__MACOSX/._51.jpg  \n",
            "  inflating: 보_test/52.jpg         \n",
            "  inflating: 보_test/__MACOSX/._52.jpg  \n",
            "  inflating: 보_test/53.jpg         \n",
            "  inflating: 보_test/__MACOSX/._53.jpg  \n",
            "  inflating: 보_test/54.jpg         \n",
            "  inflating: 보_test/__MACOSX/._54.jpg  \n",
            "  inflating: 보_test/55.jpg         \n",
            "  inflating: 보_test/__MACOSX/._55.jpg  \n",
            "  inflating: 보_test/56.jpg         \n",
            "  inflating: 보_test/__MACOSX/._56.jpg  \n",
            "  inflating: 보_test/57.jpg         \n",
            "  inflating: 보_test/__MACOSX/._57.jpg  \n",
            "  inflating: 보_test/58.jpg         \n",
            "  inflating: 보_test/__MACOSX/._58.jpg  \n",
            "  inflating: 보_test/59.jpg         \n",
            "  inflating: 보_test/__MACOSX/._59.jpg  \n",
            "  inflating: 보_test/60.jpg         \n",
            "  inflating: 보_test/__MACOSX/._60.jpg  \n",
            "  inflating: 보_test/61.jpg         \n",
            "  inflating: 보_test/__MACOSX/._61.jpg  \n",
            "  inflating: 보_test/62.jpg         \n",
            "  inflating: 보_test/__MACOSX/._62.jpg  \n",
            "  inflating: 보_test/63.jpg         \n",
            "  inflating: 보_test/__MACOSX/._63.jpg  \n",
            "  inflating: 보_test/64.jpg         \n",
            "  inflating: 보_test/__MACOSX/._64.jpg  \n",
            "  inflating: 보_test/65.jpg         \n",
            "  inflating: 보_test/__MACOSX/._65.jpg  \n",
            "  inflating: 보_test/66.jpg         \n",
            "  inflating: 보_test/__MACOSX/._66.jpg  \n",
            "  inflating: 보_test/67.jpg         \n",
            "  inflating: 보_test/__MACOSX/._67.jpg  \n",
            "  inflating: 보_test/68.jpg         \n",
            "  inflating: 보_test/__MACOSX/._68.jpg  \n",
            "  inflating: 보_test/69.jpg         \n",
            "  inflating: 보_test/__MACOSX/._69.jpg  \n",
            "  inflating: 보_test/70.jpg         \n",
            "  inflating: 보_test/__MACOSX/._70.jpg  \n",
            "  inflating: 보_test/71.jpg         \n",
            "  inflating: 보_test/__MACOSX/._71.jpg  \n",
            "  inflating: 보_test/72.jpg         \n",
            "  inflating: 보_test/__MACOSX/._72.jpg  \n",
            "  inflating: 보_test/73.jpg         \n",
            "  inflating: 보_test/__MACOSX/._73.jpg  \n",
            "  inflating: 보_test/74.jpg         \n",
            "  inflating: 보_test/__MACOSX/._74.jpg  \n",
            "  inflating: 보_test/75.jpg         \n",
            "  inflating: 보_test/__MACOSX/._75.jpg  \n",
            "  inflating: 보_test/76.jpg         \n",
            "  inflating: 보_test/__MACOSX/._76.jpg  \n",
            "  inflating: 보_test/77.jpg         \n",
            "  inflating: 보_test/__MACOSX/._77.jpg  \n",
            "  inflating: 보_test/78.jpg         \n",
            "  inflating: 보_test/__MACOSX/._78.jpg  \n",
            "  inflating: 보_test/79.jpg         \n",
            "  inflating: 보_test/__MACOSX/._79.jpg  \n",
            "  inflating: 보_test/80.jpg         \n",
            "  inflating: 보_test/__MACOSX/._80.jpg  \n",
            "  inflating: 보_test/81.jpg         \n",
            "  inflating: 보_test/__MACOSX/._81.jpg  \n",
            "  inflating: 보_test/82.jpg         \n",
            "  inflating: 보_test/__MACOSX/._82.jpg  \n",
            "  inflating: 보_test/83.jpg         \n",
            "  inflating: 보_test/__MACOSX/._83.jpg  \n",
            "  inflating: 보_test/84.jpg         \n",
            "  inflating: 보_test/__MACOSX/._84.jpg  \n",
            "  inflating: 보_test/85.jpg         \n",
            "  inflating: 보_test/__MACOSX/._85.jpg  \n",
            "  inflating: 보_test/86.jpg         \n",
            "  inflating: 보_test/__MACOSX/._86.jpg  \n",
            "  inflating: 보_test/87.jpg         \n",
            "  inflating: 보_test/__MACOSX/._87.jpg  \n",
            "  inflating: 보_test/88.jpg         \n",
            "  inflating: 보_test/__MACOSX/._88.jpg  \n"
          ]
        }
      ]
    },
    {
      "cell_type": "code",
      "source": [
        "# x_test, y_test를 만드는 방법은 x_train, y_train을 만드는 방법과 아주 유사합니다.\n",
        "image_dir_path = \"/가위_test\"\n",
        "resize_images(image_dir_path)\n",
        "\n",
        "image_dir_path = \"/바위_test\"\n",
        "resize_images(image_dir_path)\n",
        "\n",
        "image_dir_path = \"/보_test\"\n",
        "resize_images(image_dir_path)\n",
        "\n",
        "image_dir_path = \".\"\n",
        "(x_test, y_test)=load_data(image_dir_path)\n",
        "x_test_norm = x_test/255.0   # 입력은 0~1 사이의 값으로 정규화\n",
        "print(\"x_test shape: {}\".format(x_test.shape))\n",
        "print(\"y_test shape: {}\".format(y_test.shape))"
      ],
      "metadata": {
        "colab": {
          "base_uri": "https://localhost:8080/"
        },
        "id": "A1N-Fa9c6Zad",
        "outputId": "7ad12905-79be-4357-c81e-55c9cc588869"
      },
      "execution_count": 21,
      "outputs": [
        {
          "output_type": "stream",
          "name": "stdout",
          "text": [
            "0  images to be resized.\n",
            "0  images resized.\n",
            "0  images to be resized.\n",
            "0  images resized.\n",
            "0  images to be resized.\n",
            "0  images resized.\n",
            "학습데이터(x_train)의 이미지 개수는 452 입니다.\n",
            "x_test shape: (452, 28, 28, 3)\n",
            "y_test shape: (452,)\n"
          ]
        }
      ]
    },
    {
      "cell_type": "code",
      "source": [
        "test_loss, test_accuracy = model.evaluate(x_test, y_test, verbose=2)\n",
        "print(\"test_loss: {} \".format(test_loss))\n",
        "print(\"test_accuracy: {}\".format(test_accuracy))"
      ],
      "metadata": {
        "colab": {
          "base_uri": "https://localhost:8080/"
        },
        "id": "b_gSrC6m6SVY",
        "outputId": "33c1a442-3410-460e-b995-f263dd6abe4a"
      },
      "execution_count": 22,
      "outputs": [
        {
          "output_type": "stream",
          "name": "stdout",
          "text": [
            "15/15 - 0s - 16ms/step - accuracy: 1.0000 - loss: 7.5270e-07\n",
            "test_loss: 7.527003731411241e-07 \n",
            "test_accuracy: 1.0\n"
          ]
        }
      ]
    },
    {
      "cell_type": "code",
      "source": [
        "y_test"
      ],
      "metadata": {
        "colab": {
          "base_uri": "https://localhost:8080/"
        },
        "id": "MDUDA3vhBcRm",
        "outputId": "345f4fd2-1d25-46ff-f2f8-d672f9317fff"
      },
      "execution_count": 23,
      "outputs": [
        {
          "output_type": "execute_result",
          "data": {
            "text/plain": [
              "array([0, 0, 0, 0, 0, 0, 0, 0, 0, 0, 0, 0, 0, 0, 0, 0, 0, 0, 0, 0, 0, 0,\n",
              "       0, 0, 0, 0, 0, 0, 0, 0, 0, 0, 0, 0, 0, 0, 0, 0, 0, 0, 0, 0, 0, 0,\n",
              "       0, 0, 0, 0, 0, 0, 0, 0, 0, 0, 0, 0, 0, 0, 0, 0, 0, 0, 0, 0, 0, 0,\n",
              "       0, 0, 0, 0, 0, 0, 0, 0, 0, 0, 0, 0, 0, 0, 0, 0, 0, 0, 0, 0, 0, 0,\n",
              "       0, 0, 0, 0, 0, 0, 0, 0, 0, 0, 0, 0, 0, 0, 0, 0, 0, 0, 0, 0, 0, 0,\n",
              "       0, 0, 0, 0, 0, 0, 0, 0, 0, 0, 0, 0, 0, 0, 0, 1, 1, 1, 1, 1, 1, 1,\n",
              "       1, 1, 1, 1, 1, 1, 1, 1, 1, 1, 1, 1, 1, 1, 1, 1, 1, 1, 1, 1, 1, 1,\n",
              "       1, 1, 1, 1, 1, 1, 1, 1, 1, 1, 1, 1, 1, 1, 1, 1, 1, 1, 1, 1, 1, 1,\n",
              "       1, 1, 1, 1, 1, 1, 1, 1, 1, 1, 1, 1, 1, 1, 1, 1, 1, 1, 1, 1, 1, 1,\n",
              "       1, 1, 1, 1, 1, 1, 1, 1, 1, 1, 1, 1, 1, 1, 1, 1, 1, 1, 1, 1, 1, 1,\n",
              "       1, 1, 1, 1, 1, 1, 1, 1, 1, 1, 1, 1, 1, 1, 1, 1, 1, 1, 1, 1, 1, 1,\n",
              "       1, 1, 1, 1, 1, 1, 1, 1, 1, 1, 1, 1, 1, 1, 1, 1, 1, 1, 1, 1, 1, 1,\n",
              "       1, 1, 1, 1, 1, 1, 1, 1, 1, 1, 1, 1, 1, 1, 1, 1, 1, 1, 1, 2, 2, 2,\n",
              "       2, 2, 2, 2, 2, 2, 2, 2, 2, 2, 2, 2, 2, 2, 2, 2, 2, 2, 2, 2, 2, 2,\n",
              "       2, 2, 2, 2, 2, 2, 2, 2, 2, 2, 2, 2, 2, 2, 2, 2, 2, 2, 2, 2, 2, 2,\n",
              "       2, 2, 2, 2, 2, 2, 2, 2, 2, 2, 2, 2, 2, 2, 2, 2, 2, 2, 2, 2, 2, 2,\n",
              "       2, 2, 2, 2, 2, 2, 2, 2, 2, 2, 2, 2, 2, 2, 2, 2, 2, 2, 2, 2, 2, 2,\n",
              "       2, 2, 2, 2, 2, 2, 2, 2, 2, 2, 2, 2, 2, 2, 2, 2, 2, 2, 2, 2, 2, 2,\n",
              "       2, 2, 2, 2, 2, 2, 2, 2, 2, 2, 2, 2, 2, 2, 2, 2, 2, 2, 2, 2, 2, 2,\n",
              "       2, 2, 2, 2, 2, 2, 2, 2, 2, 2, 2, 2, 2, 2, 2, 2, 2, 2, 2, 2, 2, 2,\n",
              "       2, 2, 2, 2, 2, 2, 2, 2, 2, 2, 2, 2], dtype=int32)"
            ]
          },
          "metadata": {},
          "execution_count": 23
        }
      ]
    }
  ]
}