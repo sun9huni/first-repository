{
  "nbformat": 4,
  "nbformat_minor": 0,
  "metadata": {
    "colab": {
      "provenance": [],
      "collapsed_sections": [
        "AdY6lEawXw6G",
        "5B20iUKbY5ar",
        "ThNPhGIYd-GX"
      ],
      "authorship_tag": "ABX9TyNrFa+uHcsYokjH2SDdI2nO",
      "include_colab_link": true
    },
    "kernelspec": {
      "name": "python3",
      "display_name": "Python 3"
    },
    "language_info": {
      "name": "python"
    }
  },
  "cells": [
    {
      "cell_type": "markdown",
      "metadata": {
        "id": "view-in-github",
        "colab_type": "text"
      },
      "source": [
        "<a href=\"https://colab.research.google.com/github/sun9huni/first-repository/blob/main/0617_%ED%85%8D%EC%8A%A4%ED%8A%B8%EC%9D%98_%EB%B6%84%ED%8F%AC%EB%A1%9C_%EB%B0%B1%ED%84%B0%ED%99%94%ED%95%98%EA%B8%B0.ipynb\" target=\"_parent\"><img src=\"https://colab.research.google.com/assets/colab-badge.svg\" alt=\"Open In Colab\"/></a>"
      ]
    },
    {
      "cell_type": "markdown",
      "source": [
        "## 16-2. 단어 빈도를 이용한 벡터화 (1) Bag of Words\n",
        "- 자연어 처리에서는 전처리 과정에서 텍스트를 숫자 벡터로 변환하는 Vectorization을 거친다.\n",
        "- 벡터화 방법으로는 1. 통계와 머신 러닝을 활용한 방법 2. 인공 신경망을 활용하는 방법\n"
      ],
      "metadata": {
        "id": "AdY6lEawXw6G"
      }
    },
    {
      "cell_type": "markdown",
      "source": [
        "### Bag of Words\n",
        "- 문서를 단어의 집합으로 나타내는 텍스트 데이터의 벡터화 기법\n",
        "- Natural Language Processing이나 Information Retrieval에 쓰이는 표현 방법으로 BoW로 표기\n",
        "- 문서에 등장하는 텍스틑 전부 단어 단위로 tokenization\n",
        "- BoW는 단어들의 순서는 무시, 빈도 정보는 그대로 보존"
      ],
      "metadata": {
        "id": "wnjxpXpLYGSS"
      }
    },
    {
      "cell_type": "markdown",
      "source": [
        "## 16-3. 단어 빈도를 이용한 벡터화 (2) Bag of Words 구현"
      ],
      "metadata": {
        "id": "5B20iUKbY5ar"
      }
    },
    {
      "cell_type": "code",
      "source": [
        "from tensorflow.keras.preprocessing.text import Tokenizer\n",
        "\n",
        "sentence = [\"John likes to watch movies. Mary likes movies too! Mary also likes to watch football games.\"]\n",
        "\n",
        "tokenizer = Tokenizer()\n",
        "tokenizer.fit_on_texts(sentence) # 단어장 생성\n",
        "bow = dict(tokenizer.word_counts) # 각 단어와 각 단어의 빈도를 bow에 저장\n",
        "\n",
        "print(\"Bag of Words :\", bow) # bow 출력\n",
        "print('단어장(Vocabulary)의 크기 :', len(tokenizer.word_counts)) # 중복을 제거한 단어들의 개수\n",
        "# 단어장(Vocabulary)는 중복을 제거한 단어들의 집합이다."
      ],
      "metadata": {
        "colab": {
          "base_uri": "https://localhost:8080/"
        },
        "id": "-ZGPRb2QY7yf",
        "outputId": "b32a5040-afd7-4643-f5f3-647185a80667"
      },
      "execution_count": 1,
      "outputs": [
        {
          "output_type": "stream",
          "name": "stdout",
          "text": [
            "Bag of Words : {'john': 1, 'likes': 3, 'to': 2, 'watch': 2, 'movies': 2, 'mary': 2, 'too': 1, 'also': 1, 'football': 1, 'games': 1}\n",
            "단어장(Vocabulary)의 크기 : 10\n"
          ]
        }
      ]
    },
    {
      "cell_type": "markdown",
      "source": [
        "### scikit-learn CountVectorizer 활용\n"
      ],
      "metadata": {
        "id": "YNz8ZgnndGVW"
      }
    },
    {
      "cell_type": "code",
      "source": [
        "from sklearn.feature_extraction.text import CountVectorizer\n",
        "\n",
        "sentence = [\"John likes to watch movies. Mary likes movies too! Mary also likes to watch football games.\"]\n",
        "\n",
        "vector = CountVectorizer()\n",
        "bow = vector.fit_transform(sentence).toarray()\n",
        "\n",
        "print('Bag of Words : ', bow) # 코퍼스로부터 각 단어의 빈도수를 기록한다.\n",
        "print('각 단어의 인덱스 :', vector.vocabulary_) # 각 단어의 인덱스가 어떻게 부여되었는지를 보여준다.\n",
        "# vector.vocabulary_를 통해서 각 단어에 부여된 인덱스를 확인"
      ],
      "metadata": {
        "colab": {
          "base_uri": "https://localhost:8080/"
        },
        "id": "co4zNYGhZDk8",
        "outputId": "283ba4fe-6913-4c15-9f72-50f2135ce40b"
      },
      "execution_count": 2,
      "outputs": [
        {
          "output_type": "stream",
          "name": "stdout",
          "text": [
            "Bag of Words :  [[1 1 1 1 3 2 2 2 1 2]]\n",
            "각 단어의 인덱스 : {'john': 3, 'likes': 4, 'to': 7, 'watch': 9, 'movies': 6, 'mary': 5, 'too': 8, 'also': 0, 'football': 1, 'games': 2}\n"
          ]
        }
      ]
    },
    {
      "cell_type": "code",
      "source": [
        "# Bag of Words의 단어장의 크기\n",
        "print('단어장(Vocabulary)의 크기 :', len(vector.vocabulary_))"
      ],
      "metadata": {
        "colab": {
          "base_uri": "https://localhost:8080/"
        },
        "id": "igbH1FMxdFqb",
        "outputId": "70d156ac-7c74-4f30-aaeb-04ce9dc3f3b8"
      },
      "execution_count": 3,
      "outputs": [
        {
          "output_type": "stream",
          "name": "stdout",
          "text": [
            "단어장(Vocabulary)의 크기 : 10\n"
          ]
        }
      ]
    },
    {
      "cell_type": "markdown",
      "source": [
        "## 16-4. 단어 빈도를 이용한 벡터화 (3) DTM과 코사인 유사도\n",
        "DTM(Document-Term Metrix)\n",
        "- 문서-단어 행렬\n",
        "- 각 문서에 등장한 단어의 빈도수를 하나의 행렬로 통합시킨다.\n",
        "- Term-Document Matrix라고도 부른다.\n"
      ],
      "metadata": {
        "id": "ThNPhGIYd-GX"
      }
    },
    {
      "cell_type": "code",
      "source": [
        "# 코사인 유사도\n",
        "# DTM에서 코사인 유사도는 0이상 1이하의 값, 1에 가까울수록 유사도 높다.\n",
        "import numpy as np\n",
        "from numpy import dot\n",
        "from numpy.linalg import norm\n",
        "\n",
        "doc1 = np.array([0,1,1,1]) # 문서1 벡터\n",
        "doc2 = np.array([1,0,1,1]) # 문서2 벡터\n",
        "doc3 = np.array([2,0,2,2]) # 문서3 벡터\n",
        "\n",
        "def cos_sim(A, B):\n",
        "    return dot(A, B)/(norm(A)*norm(B))"
      ],
      "metadata": {
        "id": "zRONE-sgfbZd"
      },
      "execution_count": 4,
      "outputs": []
    },
    {
      "cell_type": "code",
      "source": [
        "print('{:.2f}'.format(cos_sim(doc1, doc2))) #문서1과 문서2의 코사인 유사도\n",
        "print('{:.2f}'.format(cos_sim(doc1, doc3))) #문서1과 문서3의 코사인 유사도\n",
        "print('{:.2f}'.format(cos_sim(doc2, doc3))) #문서2과 문서3의 코사인 유사도"
      ],
      "metadata": {
        "colab": {
          "base_uri": "https://localhost:8080/"
        },
        "id": "6dUGZFGYfyBI",
        "outputId": "d7b42ed1-6110-408e-a08d-093a62676ac9"
      },
      "execution_count": 5,
      "outputs": [
        {
          "output_type": "stream",
          "name": "stdout",
          "text": [
            "0.67\n",
            "0.67\n",
            "1.00\n"
          ]
        }
      ]
    },
    {
      "cell_type": "markdown",
      "source": [
        "## 16-5. 단어 빈도를 이용한 벡터화 (4) DTM의 구현과 한계점"
      ],
      "metadata": {
        "id": "2qMigYKBgRD7"
      }
    },
    {
      "cell_type": "markdown",
      "source": [
        "### scikit-learn CountVectorizer 활용\n"
      ],
      "metadata": {
        "id": "ukKh5KW_ggO7"
      }
    },
    {
      "cell_type": "code",
      "source": [
        "from sklearn.feature_extraction.text import CountVectorizer\n",
        "\n",
        "corpus = [\n",
        "    'John likes to watch movies',\n",
        "    'Mary likes movies too',\n",
        "    'Mary also likes to watch football games',\n",
        "]\n",
        "vector = CountVectorizer()\n",
        "\n",
        "print(vector.fit_transform(corpus).toarray()) # 코퍼스로부터 각 단어의 빈도수를 기록.\n",
        "print(vector.vocabulary_) # 각 단어의 인덱스가 어떻게 부여되었는지를 보여준다."
      ],
      "metadata": {
        "colab": {
          "base_uri": "https://localhost:8080/"
        },
        "id": "OkTDhtVbgjwb",
        "outputId": "19681aeb-c548-46d2-ac5e-39ec396e61aa"
      },
      "execution_count": 6,
      "outputs": [
        {
          "output_type": "stream",
          "name": "stdout",
          "text": [
            "[[0 0 0 1 1 0 1 1 0 1]\n",
            " [0 0 0 0 1 1 1 0 1 0]\n",
            " [1 1 1 0 1 1 0 1 0 1]]\n",
            "{'john': 3, 'likes': 4, 'to': 7, 'watch': 9, 'movies': 6, 'mary': 5, 'too': 8, 'also': 0, 'football': 1, 'games': 2}\n"
          ]
        }
      ]
    },
    {
      "cell_type": "markdown",
      "source": [
        "### DTM의 한계점\n",
        "DTM은 bag or words 기반으로 문서를 비교할 수 있는 행렬\n",
        "DTM은 문서의 단어의 수가 늘어날수록 행과 열은 대부분 값이 0을 가진다는 특징\n",
        "단어의 빈도에만 집중하는 방법 자체의 한계"
      ],
      "metadata": {
        "id": "tW3qVA24grWH"
      }
    },
    {
      "cell_type": "code",
      "source": [],
      "metadata": {
        "id": "r9sxx3WnhBkA"
      },
      "execution_count": null,
      "outputs": []
    },
    {
      "cell_type": "markdown",
      "source": [
        "## 16-6. 단어 빈도를 이용한 벡터화 (5) TF-IDF\n",
        "### TF-IDF (Term Frequency-Inverse Document Frequency)\n",
        "- 모든 문서에서 자주 등장하는 단어는 중요도가 낮다고 판단\n",
        "- 특정 문서에서만 자주 등장하는 단어는 중요도가 높다고 판단\n",
        "- TF-IDM을 사용하기 위해서는 우선 DTM을 만든 뒤에 가중치를 DTM에 적용한다.\n",
        "\n"
      ],
      "metadata": {
        "id": "ZU0PyYk8hJsC"
      }
    },
    {
      "cell_type": "markdown",
      "source": [
        "16-7. 단어 빈도를 이용한 벡터화 (6) TF-IDF 구현하기\n",
        "\n"
      ],
      "metadata": {
        "id": "o--JLkGQi7PT"
      }
    },
    {
      "cell_type": "code",
      "source": [
        "from math import log\n",
        "import pandas as pd\n",
        "print('=3')"
      ],
      "metadata": {
        "colab": {
          "base_uri": "https://localhost:8080/"
        },
        "id": "fs8IHHOri-4N",
        "outputId": "fd0a3cc9-94a5-4a8f-95fe-eba4daf38076"
      },
      "execution_count": 7,
      "outputs": [
        {
          "output_type": "stream",
          "name": "stdout",
          "text": [
            "=3\n"
          ]
        }
      ]
    },
    {
      "cell_type": "code",
      "source": [
        "docs = [\n",
        "  'John likes to watch movies and Mary likes movies too',\n",
        "  'James likes to watch TV',\n",
        "  'Mary also likes to watch football games',\n",
        "]\n",
        "print('=3')"
      ],
      "metadata": {
        "colab": {
          "base_uri": "https://localhost:8080/"
        },
        "id": "OV_G6UgRjBR1",
        "outputId": "2f594fde-5a40-40a7-c38b-4807412ff5ea"
      },
      "execution_count": 8,
      "outputs": [
        {
          "output_type": "stream",
          "name": "stdout",
          "text": [
            "=3\n"
          ]
        }
      ]
    },
    {
      "cell_type": "code",
      "source": [
        "# DTM의 열을 만들기 위해 문서 3개의 단어들이 모두 들어간 통합 단어장을 만든다.\n",
        "vocab = list(set(w for doc in docs for w in doc.split()))\n",
        "vocab.sort()\n",
        "print('단어장의 크기 :', len(vocab))\n",
        "print(vocab)"
      ],
      "metadata": {
        "colab": {
          "base_uri": "https://localhost:8080/"
        },
        "id": "8x_G2puMjGHb",
        "outputId": "bdf901c0-669c-4b86-e459-36ea32a2ffac"
      },
      "execution_count": 9,
      "outputs": [
        {
          "output_type": "stream",
          "name": "stdout",
          "text": [
            "단어장의 크기 : 13\n",
            "['James', 'John', 'Mary', 'TV', 'also', 'and', 'football', 'games', 'likes', 'movies', 'to', 'too', 'watch']\n"
          ]
        }
      ]
    },
    {
      "cell_type": "code",
      "source": [
        "# 총 문서의 수를 변수 N에다가 저장\n",
        "N = len(docs)\n",
        "N"
      ],
      "metadata": {
        "colab": {
          "base_uri": "https://localhost:8080/"
        },
        "id": "6mf1N9lLjPjU",
        "outputId": "533e104d-57c9-4489-bebd-e449093f7fda"
      },
      "execution_count": 12,
      "outputs": [
        {
          "output_type": "execute_result",
          "data": {
            "text/plain": [
              "3"
            ]
          },
          "metadata": {},
          "execution_count": 12
        }
      ]
    },
    {
      "cell_type": "markdown",
      "source": [
        "- log항의 분모에 1을 더해주겠습니다. 이는 (Bag of Words를 사용할 때 일반적인 상황은 아니지만) 특정 단어가 전체 문서에서 등장하지 않을 경우에 분모가 0이 되는 상황을 방지.\n",
        "- log 항에 1을 더해주겠습니다. 이는 log 항의 분자와 분모값이 동일해졌을 때, log의 진수가 1이 됨에 따라서 IDF의 값이 0이 되는 것을 방지"
      ],
      "metadata": {
        "id": "tYUpRi-qjiw9"
      }
    },
    {
      "cell_type": "code",
      "source": [
        "def tf(t, d):\n",
        "    return d.count(t)\n",
        "\n",
        "def idf(t):\n",
        "    df = 0\n",
        "    for doc in docs:\n",
        "        df += t in doc\n",
        "    return log(N/(df + 1)) + 1\n",
        "\n",
        "def tfidf(t, d):\n",
        "    return tf(t,d)* idf(t)"
      ],
      "metadata": {
        "id": "bALu9I5ujW4C"
      },
      "execution_count": 10,
      "outputs": []
    },
    {
      "cell_type": "code",
      "source": [
        "# TF 함수를 사용해 DTM 생성\n",
        "result = []\n",
        "for i in range(N):\n",
        "  result.append([])\n",
        "  d = docs[i]\n",
        "  for j in range(len(vocab)):\n",
        "    t = vocab[j]\n",
        "\n",
        "    result[-1].append(tf(t,d))\n",
        "\n",
        "tf_ = pd.DataFrame(result, columns = vocab)\n",
        "tf_"
      ],
      "metadata": {
        "colab": {
          "base_uri": "https://localhost:8080/",
          "height": 163
        },
        "id": "F16AQ2mbkHWI",
        "outputId": "a4a1ce7f-e32e-44dd-d3cc-3068ab428634"
      },
      "execution_count": 14,
      "outputs": [
        {
          "output_type": "execute_result",
          "data": {
            "text/plain": [
              "   James  John  Mary  TV  also  and  football  games  likes  movies  to  too  \\\n",
              "0      0     1     1   0     0    1         0      0      2       2   2    1   \n",
              "1      1     0     0   1     0    0         0      0      1       0   1    0   \n",
              "2      0     0     1   0     1    0         1      1      1       0   1    0   \n",
              "\n",
              "   watch  \n",
              "0      1  \n",
              "1      1  \n",
              "2      1  "
            ],
            "text/html": [
              "\n",
              "  <div id=\"df-778b2dca-32cc-4328-bf96-94cfd940b9f5\" class=\"colab-df-container\">\n",
              "    <div>\n",
              "<style scoped>\n",
              "    .dataframe tbody tr th:only-of-type {\n",
              "        vertical-align: middle;\n",
              "    }\n",
              "\n",
              "    .dataframe tbody tr th {\n",
              "        vertical-align: top;\n",
              "    }\n",
              "\n",
              "    .dataframe thead th {\n",
              "        text-align: right;\n",
              "    }\n",
              "</style>\n",
              "<table border=\"1\" class=\"dataframe\">\n",
              "  <thead>\n",
              "    <tr style=\"text-align: right;\">\n",
              "      <th></th>\n",
              "      <th>James</th>\n",
              "      <th>John</th>\n",
              "      <th>Mary</th>\n",
              "      <th>TV</th>\n",
              "      <th>also</th>\n",
              "      <th>and</th>\n",
              "      <th>football</th>\n",
              "      <th>games</th>\n",
              "      <th>likes</th>\n",
              "      <th>movies</th>\n",
              "      <th>to</th>\n",
              "      <th>too</th>\n",
              "      <th>watch</th>\n",
              "    </tr>\n",
              "  </thead>\n",
              "  <tbody>\n",
              "    <tr>\n",
              "      <th>0</th>\n",
              "      <td>0</td>\n",
              "      <td>1</td>\n",
              "      <td>1</td>\n",
              "      <td>0</td>\n",
              "      <td>0</td>\n",
              "      <td>1</td>\n",
              "      <td>0</td>\n",
              "      <td>0</td>\n",
              "      <td>2</td>\n",
              "      <td>2</td>\n",
              "      <td>2</td>\n",
              "      <td>1</td>\n",
              "      <td>1</td>\n",
              "    </tr>\n",
              "    <tr>\n",
              "      <th>1</th>\n",
              "      <td>1</td>\n",
              "      <td>0</td>\n",
              "      <td>0</td>\n",
              "      <td>1</td>\n",
              "      <td>0</td>\n",
              "      <td>0</td>\n",
              "      <td>0</td>\n",
              "      <td>0</td>\n",
              "      <td>1</td>\n",
              "      <td>0</td>\n",
              "      <td>1</td>\n",
              "      <td>0</td>\n",
              "      <td>1</td>\n",
              "    </tr>\n",
              "    <tr>\n",
              "      <th>2</th>\n",
              "      <td>0</td>\n",
              "      <td>0</td>\n",
              "      <td>1</td>\n",
              "      <td>0</td>\n",
              "      <td>1</td>\n",
              "      <td>0</td>\n",
              "      <td>1</td>\n",
              "      <td>1</td>\n",
              "      <td>1</td>\n",
              "      <td>0</td>\n",
              "      <td>1</td>\n",
              "      <td>0</td>\n",
              "      <td>1</td>\n",
              "    </tr>\n",
              "  </tbody>\n",
              "</table>\n",
              "</div>\n",
              "    <div class=\"colab-df-buttons\">\n",
              "\n",
              "  <div class=\"colab-df-container\">\n",
              "    <button class=\"colab-df-convert\" onclick=\"convertToInteractive('df-778b2dca-32cc-4328-bf96-94cfd940b9f5')\"\n",
              "            title=\"Convert this dataframe to an interactive table.\"\n",
              "            style=\"display:none;\">\n",
              "\n",
              "  <svg xmlns=\"http://www.w3.org/2000/svg\" height=\"24px\" viewBox=\"0 -960 960 960\">\n",
              "    <path d=\"M120-120v-720h720v720H120Zm60-500h600v-160H180v160Zm220 220h160v-160H400v160Zm0 220h160v-160H400v160ZM180-400h160v-160H180v160Zm440 0h160v-160H620v160ZM180-180h160v-160H180v160Zm440 0h160v-160H620v160Z\"/>\n",
              "  </svg>\n",
              "    </button>\n",
              "\n",
              "  <style>\n",
              "    .colab-df-container {\n",
              "      display:flex;\n",
              "      gap: 12px;\n",
              "    }\n",
              "\n",
              "    .colab-df-convert {\n",
              "      background-color: #E8F0FE;\n",
              "      border: none;\n",
              "      border-radius: 50%;\n",
              "      cursor: pointer;\n",
              "      display: none;\n",
              "      fill: #1967D2;\n",
              "      height: 32px;\n",
              "      padding: 0 0 0 0;\n",
              "      width: 32px;\n",
              "    }\n",
              "\n",
              "    .colab-df-convert:hover {\n",
              "      background-color: #E2EBFA;\n",
              "      box-shadow: 0px 1px 2px rgba(60, 64, 67, 0.3), 0px 1px 3px 1px rgba(60, 64, 67, 0.15);\n",
              "      fill: #174EA6;\n",
              "    }\n",
              "\n",
              "    .colab-df-buttons div {\n",
              "      margin-bottom: 4px;\n",
              "    }\n",
              "\n",
              "    [theme=dark] .colab-df-convert {\n",
              "      background-color: #3B4455;\n",
              "      fill: #D2E3FC;\n",
              "    }\n",
              "\n",
              "    [theme=dark] .colab-df-convert:hover {\n",
              "      background-color: #434B5C;\n",
              "      box-shadow: 0px 1px 3px 1px rgba(0, 0, 0, 0.15);\n",
              "      filter: drop-shadow(0px 1px 2px rgba(0, 0, 0, 0.3));\n",
              "      fill: #FFFFFF;\n",
              "    }\n",
              "  </style>\n",
              "\n",
              "    <script>\n",
              "      const buttonEl =\n",
              "        document.querySelector('#df-778b2dca-32cc-4328-bf96-94cfd940b9f5 button.colab-df-convert');\n",
              "      buttonEl.style.display =\n",
              "        google.colab.kernel.accessAllowed ? 'block' : 'none';\n",
              "\n",
              "      async function convertToInteractive(key) {\n",
              "        const element = document.querySelector('#df-778b2dca-32cc-4328-bf96-94cfd940b9f5');\n",
              "        const dataTable =\n",
              "          await google.colab.kernel.invokeFunction('convertToInteractive',\n",
              "                                                    [key], {});\n",
              "        if (!dataTable) return;\n",
              "\n",
              "        const docLinkHtml = 'Like what you see? Visit the ' +\n",
              "          '<a target=\"_blank\" href=https://colab.research.google.com/notebooks/data_table.ipynb>data table notebook</a>'\n",
              "          + ' to learn more about interactive tables.';\n",
              "        element.innerHTML = '';\n",
              "        dataTable['output_type'] = 'display_data';\n",
              "        await google.colab.output.renderOutput(dataTable, element);\n",
              "        const docLink = document.createElement('div');\n",
              "        docLink.innerHTML = docLinkHtml;\n",
              "        element.appendChild(docLink);\n",
              "      }\n",
              "    </script>\n",
              "  </div>\n",
              "\n",
              "\n",
              "    <div id=\"df-71f02624-6547-4300-851d-246cda7a3b93\">\n",
              "      <button class=\"colab-df-quickchart\" onclick=\"quickchart('df-71f02624-6547-4300-851d-246cda7a3b93')\"\n",
              "                title=\"Suggest charts\"\n",
              "                style=\"display:none;\">\n",
              "\n",
              "<svg xmlns=\"http://www.w3.org/2000/svg\" height=\"24px\"viewBox=\"0 0 24 24\"\n",
              "     width=\"24px\">\n",
              "    <g>\n",
              "        <path d=\"M19 3H5c-1.1 0-2 .9-2 2v14c0 1.1.9 2 2 2h14c1.1 0 2-.9 2-2V5c0-1.1-.9-2-2-2zM9 17H7v-7h2v7zm4 0h-2V7h2v10zm4 0h-2v-4h2v4z\"/>\n",
              "    </g>\n",
              "</svg>\n",
              "      </button>\n",
              "\n",
              "<style>\n",
              "  .colab-df-quickchart {\n",
              "      --bg-color: #E8F0FE;\n",
              "      --fill-color: #1967D2;\n",
              "      --hover-bg-color: #E2EBFA;\n",
              "      --hover-fill-color: #174EA6;\n",
              "      --disabled-fill-color: #AAA;\n",
              "      --disabled-bg-color: #DDD;\n",
              "  }\n",
              "\n",
              "  [theme=dark] .colab-df-quickchart {\n",
              "      --bg-color: #3B4455;\n",
              "      --fill-color: #D2E3FC;\n",
              "      --hover-bg-color: #434B5C;\n",
              "      --hover-fill-color: #FFFFFF;\n",
              "      --disabled-bg-color: #3B4455;\n",
              "      --disabled-fill-color: #666;\n",
              "  }\n",
              "\n",
              "  .colab-df-quickchart {\n",
              "    background-color: var(--bg-color);\n",
              "    border: none;\n",
              "    border-radius: 50%;\n",
              "    cursor: pointer;\n",
              "    display: none;\n",
              "    fill: var(--fill-color);\n",
              "    height: 32px;\n",
              "    padding: 0;\n",
              "    width: 32px;\n",
              "  }\n",
              "\n",
              "  .colab-df-quickchart:hover {\n",
              "    background-color: var(--hover-bg-color);\n",
              "    box-shadow: 0 1px 2px rgba(60, 64, 67, 0.3), 0 1px 3px 1px rgba(60, 64, 67, 0.15);\n",
              "    fill: var(--button-hover-fill-color);\n",
              "  }\n",
              "\n",
              "  .colab-df-quickchart-complete:disabled,\n",
              "  .colab-df-quickchart-complete:disabled:hover {\n",
              "    background-color: var(--disabled-bg-color);\n",
              "    fill: var(--disabled-fill-color);\n",
              "    box-shadow: none;\n",
              "  }\n",
              "\n",
              "  .colab-df-spinner {\n",
              "    border: 2px solid var(--fill-color);\n",
              "    border-color: transparent;\n",
              "    border-bottom-color: var(--fill-color);\n",
              "    animation:\n",
              "      spin 1s steps(1) infinite;\n",
              "  }\n",
              "\n",
              "  @keyframes spin {\n",
              "    0% {\n",
              "      border-color: transparent;\n",
              "      border-bottom-color: var(--fill-color);\n",
              "      border-left-color: var(--fill-color);\n",
              "    }\n",
              "    20% {\n",
              "      border-color: transparent;\n",
              "      border-left-color: var(--fill-color);\n",
              "      border-top-color: var(--fill-color);\n",
              "    }\n",
              "    30% {\n",
              "      border-color: transparent;\n",
              "      border-left-color: var(--fill-color);\n",
              "      border-top-color: var(--fill-color);\n",
              "      border-right-color: var(--fill-color);\n",
              "    }\n",
              "    40% {\n",
              "      border-color: transparent;\n",
              "      border-right-color: var(--fill-color);\n",
              "      border-top-color: var(--fill-color);\n",
              "    }\n",
              "    60% {\n",
              "      border-color: transparent;\n",
              "      border-right-color: var(--fill-color);\n",
              "    }\n",
              "    80% {\n",
              "      border-color: transparent;\n",
              "      border-right-color: var(--fill-color);\n",
              "      border-bottom-color: var(--fill-color);\n",
              "    }\n",
              "    90% {\n",
              "      border-color: transparent;\n",
              "      border-bottom-color: var(--fill-color);\n",
              "    }\n",
              "  }\n",
              "</style>\n",
              "\n",
              "      <script>\n",
              "        async function quickchart(key) {\n",
              "          const quickchartButtonEl =\n",
              "            document.querySelector('#' + key + ' button');\n",
              "          quickchartButtonEl.disabled = true;  // To prevent multiple clicks.\n",
              "          quickchartButtonEl.classList.add('colab-df-spinner');\n",
              "          try {\n",
              "            const charts = await google.colab.kernel.invokeFunction(\n",
              "                'suggestCharts', [key], {});\n",
              "          } catch (error) {\n",
              "            console.error('Error during call to suggestCharts:', error);\n",
              "          }\n",
              "          quickchartButtonEl.classList.remove('colab-df-spinner');\n",
              "          quickchartButtonEl.classList.add('colab-df-quickchart-complete');\n",
              "        }\n",
              "        (() => {\n",
              "          let quickchartButtonEl =\n",
              "            document.querySelector('#df-71f02624-6547-4300-851d-246cda7a3b93 button');\n",
              "          quickchartButtonEl.style.display =\n",
              "            google.colab.kernel.accessAllowed ? 'block' : 'none';\n",
              "        })();\n",
              "      </script>\n",
              "    </div>\n",
              "\n",
              "  <div id=\"id_d6304e64-e349-43fc-aed4-474cdbb65f87\">\n",
              "    <style>\n",
              "      .colab-df-generate {\n",
              "        background-color: #E8F0FE;\n",
              "        border: none;\n",
              "        border-radius: 50%;\n",
              "        cursor: pointer;\n",
              "        display: none;\n",
              "        fill: #1967D2;\n",
              "        height: 32px;\n",
              "        padding: 0 0 0 0;\n",
              "        width: 32px;\n",
              "      }\n",
              "\n",
              "      .colab-df-generate:hover {\n",
              "        background-color: #E2EBFA;\n",
              "        box-shadow: 0px 1px 2px rgba(60, 64, 67, 0.3), 0px 1px 3px 1px rgba(60, 64, 67, 0.15);\n",
              "        fill: #174EA6;\n",
              "      }\n",
              "\n",
              "      [theme=dark] .colab-df-generate {\n",
              "        background-color: #3B4455;\n",
              "        fill: #D2E3FC;\n",
              "      }\n",
              "\n",
              "      [theme=dark] .colab-df-generate:hover {\n",
              "        background-color: #434B5C;\n",
              "        box-shadow: 0px 1px 3px 1px rgba(0, 0, 0, 0.15);\n",
              "        filter: drop-shadow(0px 1px 2px rgba(0, 0, 0, 0.3));\n",
              "        fill: #FFFFFF;\n",
              "      }\n",
              "    </style>\n",
              "    <button class=\"colab-df-generate\" onclick=\"generateWithVariable('tf_')\"\n",
              "            title=\"Generate code using this dataframe.\"\n",
              "            style=\"display:none;\">\n",
              "\n",
              "  <svg xmlns=\"http://www.w3.org/2000/svg\" height=\"24px\"viewBox=\"0 0 24 24\"\n",
              "       width=\"24px\">\n",
              "    <path d=\"M7,19H8.4L18.45,9,17,7.55,7,17.6ZM5,21V16.75L18.45,3.32a2,2,0,0,1,2.83,0l1.4,1.43a1.91,1.91,0,0,1,.58,1.4,1.91,1.91,0,0,1-.58,1.4L9.25,21ZM18.45,9,17,7.55Zm-12,3A5.31,5.31,0,0,0,4.9,8.1,5.31,5.31,0,0,0,1,6.5,5.31,5.31,0,0,0,4.9,4.9,5.31,5.31,0,0,0,6.5,1,5.31,5.31,0,0,0,8.1,4.9,5.31,5.31,0,0,0,12,6.5,5.46,5.46,0,0,0,6.5,12Z\"/>\n",
              "  </svg>\n",
              "    </button>\n",
              "    <script>\n",
              "      (() => {\n",
              "      const buttonEl =\n",
              "        document.querySelector('#id_d6304e64-e349-43fc-aed4-474cdbb65f87 button.colab-df-generate');\n",
              "      buttonEl.style.display =\n",
              "        google.colab.kernel.accessAllowed ? 'block' : 'none';\n",
              "\n",
              "      buttonEl.onclick = () => {\n",
              "        google.colab.notebook.generateWithVariable('tf_');\n",
              "      }\n",
              "      })();\n",
              "    </script>\n",
              "  </div>\n",
              "\n",
              "    </div>\n",
              "  </div>\n"
            ],
            "application/vnd.google.colaboratory.intrinsic+json": {
              "type": "dataframe",
              "variable_name": "tf_",
              "summary": "{\n  \"name\": \"tf_\",\n  \"rows\": 3,\n  \"fields\": [\n    {\n      \"column\": \"James\",\n      \"properties\": {\n        \"dtype\": \"number\",\n        \"std\": 0,\n        \"min\": 0,\n        \"max\": 1,\n        \"num_unique_values\": 2,\n        \"samples\": [\n          1,\n          0\n        ],\n        \"semantic_type\": \"\",\n        \"description\": \"\"\n      }\n    },\n    {\n      \"column\": \"John\",\n      \"properties\": {\n        \"dtype\": \"number\",\n        \"std\": 0,\n        \"min\": 0,\n        \"max\": 1,\n        \"num_unique_values\": 2,\n        \"samples\": [\n          0,\n          1\n        ],\n        \"semantic_type\": \"\",\n        \"description\": \"\"\n      }\n    },\n    {\n      \"column\": \"Mary\",\n      \"properties\": {\n        \"dtype\": \"number\",\n        \"std\": 0,\n        \"min\": 0,\n        \"max\": 1,\n        \"num_unique_values\": 2,\n        \"samples\": [\n          0,\n          1\n        ],\n        \"semantic_type\": \"\",\n        \"description\": \"\"\n      }\n    },\n    {\n      \"column\": \"TV\",\n      \"properties\": {\n        \"dtype\": \"number\",\n        \"std\": 0,\n        \"min\": 0,\n        \"max\": 1,\n        \"num_unique_values\": 2,\n        \"samples\": [\n          1,\n          0\n        ],\n        \"semantic_type\": \"\",\n        \"description\": \"\"\n      }\n    },\n    {\n      \"column\": \"also\",\n      \"properties\": {\n        \"dtype\": \"number\",\n        \"std\": 0,\n        \"min\": 0,\n        \"max\": 1,\n        \"num_unique_values\": 2,\n        \"samples\": [\n          1,\n          0\n        ],\n        \"semantic_type\": \"\",\n        \"description\": \"\"\n      }\n    },\n    {\n      \"column\": \"and\",\n      \"properties\": {\n        \"dtype\": \"number\",\n        \"std\": 0,\n        \"min\": 0,\n        \"max\": 1,\n        \"num_unique_values\": 2,\n        \"samples\": [\n          0,\n          1\n        ],\n        \"semantic_type\": \"\",\n        \"description\": \"\"\n      }\n    },\n    {\n      \"column\": \"football\",\n      \"properties\": {\n        \"dtype\": \"number\",\n        \"std\": 0,\n        \"min\": 0,\n        \"max\": 1,\n        \"num_unique_values\": 2,\n        \"samples\": [\n          1,\n          0\n        ],\n        \"semantic_type\": \"\",\n        \"description\": \"\"\n      }\n    },\n    {\n      \"column\": \"games\",\n      \"properties\": {\n        \"dtype\": \"number\",\n        \"std\": 0,\n        \"min\": 0,\n        \"max\": 1,\n        \"num_unique_values\": 2,\n        \"samples\": [\n          1,\n          0\n        ],\n        \"semantic_type\": \"\",\n        \"description\": \"\"\n      }\n    },\n    {\n      \"column\": \"likes\",\n      \"properties\": {\n        \"dtype\": \"number\",\n        \"std\": 0,\n        \"min\": 1,\n        \"max\": 2,\n        \"num_unique_values\": 2,\n        \"samples\": [\n          1,\n          2\n        ],\n        \"semantic_type\": \"\",\n        \"description\": \"\"\n      }\n    },\n    {\n      \"column\": \"movies\",\n      \"properties\": {\n        \"dtype\": \"number\",\n        \"std\": 1,\n        \"min\": 0,\n        \"max\": 2,\n        \"num_unique_values\": 2,\n        \"samples\": [\n          0,\n          2\n        ],\n        \"semantic_type\": \"\",\n        \"description\": \"\"\n      }\n    },\n    {\n      \"column\": \"to\",\n      \"properties\": {\n        \"dtype\": \"number\",\n        \"std\": 0,\n        \"min\": 1,\n        \"max\": 2,\n        \"num_unique_values\": 2,\n        \"samples\": [\n          1,\n          2\n        ],\n        \"semantic_type\": \"\",\n        \"description\": \"\"\n      }\n    },\n    {\n      \"column\": \"too\",\n      \"properties\": {\n        \"dtype\": \"number\",\n        \"std\": 0,\n        \"min\": 0,\n        \"max\": 1,\n        \"num_unique_values\": 2,\n        \"samples\": [\n          0,\n          1\n        ],\n        \"semantic_type\": \"\",\n        \"description\": \"\"\n      }\n    },\n    {\n      \"column\": \"watch\",\n      \"properties\": {\n        \"dtype\": \"number\",\n        \"std\": 0,\n        \"min\": 1,\n        \"max\": 1,\n        \"num_unique_values\": 1,\n        \"samples\": [\n          1\n        ],\n        \"semantic_type\": \"\",\n        \"description\": \"\"\n      }\n    }\n  ]\n}"
            }
          },
          "metadata": {},
          "execution_count": 14
        }
      ]
    },
    {
      "cell_type": "code",
      "source": [
        "result = []\n",
        "for j in range(len(vocab)):\n",
        "  t = vocab[j]\n",
        "  result.append(idf(t))\n",
        "\n",
        "idf_ = pd.DataFrame(result, index = vocab, columns = [\"IDF\"])\n",
        "idf_"
      ],
      "metadata": {
        "colab": {
          "base_uri": "https://localhost:8080/",
          "height": 457
        },
        "id": "7sNpkFDskxR9",
        "outputId": "2700a392-6bda-483e-9bd3-bbbb7395f466"
      },
      "execution_count": 16,
      "outputs": [
        {
          "output_type": "execute_result",
          "data": {
            "text/plain": [
              "               IDF\n",
              "James     1.405465\n",
              "John      1.405465\n",
              "Mary      1.000000\n",
              "TV        1.405465\n",
              "also      1.405465\n",
              "and       1.405465\n",
              "football  1.405465\n",
              "games     1.405465\n",
              "likes     0.712318\n",
              "movies    1.405465\n",
              "to        0.712318\n",
              "too       1.405465\n",
              "watch     0.712318"
            ],
            "text/html": [
              "\n",
              "  <div id=\"df-978284a8-0c02-4624-bbb5-9d9d78d00639\" class=\"colab-df-container\">\n",
              "    <div>\n",
              "<style scoped>\n",
              "    .dataframe tbody tr th:only-of-type {\n",
              "        vertical-align: middle;\n",
              "    }\n",
              "\n",
              "    .dataframe tbody tr th {\n",
              "        vertical-align: top;\n",
              "    }\n",
              "\n",
              "    .dataframe thead th {\n",
              "        text-align: right;\n",
              "    }\n",
              "</style>\n",
              "<table border=\"1\" class=\"dataframe\">\n",
              "  <thead>\n",
              "    <tr style=\"text-align: right;\">\n",
              "      <th></th>\n",
              "      <th>IDF</th>\n",
              "    </tr>\n",
              "  </thead>\n",
              "  <tbody>\n",
              "    <tr>\n",
              "      <th>James</th>\n",
              "      <td>1.405465</td>\n",
              "    </tr>\n",
              "    <tr>\n",
              "      <th>John</th>\n",
              "      <td>1.405465</td>\n",
              "    </tr>\n",
              "    <tr>\n",
              "      <th>Mary</th>\n",
              "      <td>1.000000</td>\n",
              "    </tr>\n",
              "    <tr>\n",
              "      <th>TV</th>\n",
              "      <td>1.405465</td>\n",
              "    </tr>\n",
              "    <tr>\n",
              "      <th>also</th>\n",
              "      <td>1.405465</td>\n",
              "    </tr>\n",
              "    <tr>\n",
              "      <th>and</th>\n",
              "      <td>1.405465</td>\n",
              "    </tr>\n",
              "    <tr>\n",
              "      <th>football</th>\n",
              "      <td>1.405465</td>\n",
              "    </tr>\n",
              "    <tr>\n",
              "      <th>games</th>\n",
              "      <td>1.405465</td>\n",
              "    </tr>\n",
              "    <tr>\n",
              "      <th>likes</th>\n",
              "      <td>0.712318</td>\n",
              "    </tr>\n",
              "    <tr>\n",
              "      <th>movies</th>\n",
              "      <td>1.405465</td>\n",
              "    </tr>\n",
              "    <tr>\n",
              "      <th>to</th>\n",
              "      <td>0.712318</td>\n",
              "    </tr>\n",
              "    <tr>\n",
              "      <th>too</th>\n",
              "      <td>1.405465</td>\n",
              "    </tr>\n",
              "    <tr>\n",
              "      <th>watch</th>\n",
              "      <td>0.712318</td>\n",
              "    </tr>\n",
              "  </tbody>\n",
              "</table>\n",
              "</div>\n",
              "    <div class=\"colab-df-buttons\">\n",
              "\n",
              "  <div class=\"colab-df-container\">\n",
              "    <button class=\"colab-df-convert\" onclick=\"convertToInteractive('df-978284a8-0c02-4624-bbb5-9d9d78d00639')\"\n",
              "            title=\"Convert this dataframe to an interactive table.\"\n",
              "            style=\"display:none;\">\n",
              "\n",
              "  <svg xmlns=\"http://www.w3.org/2000/svg\" height=\"24px\" viewBox=\"0 -960 960 960\">\n",
              "    <path d=\"M120-120v-720h720v720H120Zm60-500h600v-160H180v160Zm220 220h160v-160H400v160Zm0 220h160v-160H400v160ZM180-400h160v-160H180v160Zm440 0h160v-160H620v160ZM180-180h160v-160H180v160Zm440 0h160v-160H620v160Z\"/>\n",
              "  </svg>\n",
              "    </button>\n",
              "\n",
              "  <style>\n",
              "    .colab-df-container {\n",
              "      display:flex;\n",
              "      gap: 12px;\n",
              "    }\n",
              "\n",
              "    .colab-df-convert {\n",
              "      background-color: #E8F0FE;\n",
              "      border: none;\n",
              "      border-radius: 50%;\n",
              "      cursor: pointer;\n",
              "      display: none;\n",
              "      fill: #1967D2;\n",
              "      height: 32px;\n",
              "      padding: 0 0 0 0;\n",
              "      width: 32px;\n",
              "    }\n",
              "\n",
              "    .colab-df-convert:hover {\n",
              "      background-color: #E2EBFA;\n",
              "      box-shadow: 0px 1px 2px rgba(60, 64, 67, 0.3), 0px 1px 3px 1px rgba(60, 64, 67, 0.15);\n",
              "      fill: #174EA6;\n",
              "    }\n",
              "\n",
              "    .colab-df-buttons div {\n",
              "      margin-bottom: 4px;\n",
              "    }\n",
              "\n",
              "    [theme=dark] .colab-df-convert {\n",
              "      background-color: #3B4455;\n",
              "      fill: #D2E3FC;\n",
              "    }\n",
              "\n",
              "    [theme=dark] .colab-df-convert:hover {\n",
              "      background-color: #434B5C;\n",
              "      box-shadow: 0px 1px 3px 1px rgba(0, 0, 0, 0.15);\n",
              "      filter: drop-shadow(0px 1px 2px rgba(0, 0, 0, 0.3));\n",
              "      fill: #FFFFFF;\n",
              "    }\n",
              "  </style>\n",
              "\n",
              "    <script>\n",
              "      const buttonEl =\n",
              "        document.querySelector('#df-978284a8-0c02-4624-bbb5-9d9d78d00639 button.colab-df-convert');\n",
              "      buttonEl.style.display =\n",
              "        google.colab.kernel.accessAllowed ? 'block' : 'none';\n",
              "\n",
              "      async function convertToInteractive(key) {\n",
              "        const element = document.querySelector('#df-978284a8-0c02-4624-bbb5-9d9d78d00639');\n",
              "        const dataTable =\n",
              "          await google.colab.kernel.invokeFunction('convertToInteractive',\n",
              "                                                    [key], {});\n",
              "        if (!dataTable) return;\n",
              "\n",
              "        const docLinkHtml = 'Like what you see? Visit the ' +\n",
              "          '<a target=\"_blank\" href=https://colab.research.google.com/notebooks/data_table.ipynb>data table notebook</a>'\n",
              "          + ' to learn more about interactive tables.';\n",
              "        element.innerHTML = '';\n",
              "        dataTable['output_type'] = 'display_data';\n",
              "        await google.colab.output.renderOutput(dataTable, element);\n",
              "        const docLink = document.createElement('div');\n",
              "        docLink.innerHTML = docLinkHtml;\n",
              "        element.appendChild(docLink);\n",
              "      }\n",
              "    </script>\n",
              "  </div>\n",
              "\n",
              "\n",
              "    <div id=\"df-4523f3ba-ac9b-4ced-b070-0dc219778228\">\n",
              "      <button class=\"colab-df-quickchart\" onclick=\"quickchart('df-4523f3ba-ac9b-4ced-b070-0dc219778228')\"\n",
              "                title=\"Suggest charts\"\n",
              "                style=\"display:none;\">\n",
              "\n",
              "<svg xmlns=\"http://www.w3.org/2000/svg\" height=\"24px\"viewBox=\"0 0 24 24\"\n",
              "     width=\"24px\">\n",
              "    <g>\n",
              "        <path d=\"M19 3H5c-1.1 0-2 .9-2 2v14c0 1.1.9 2 2 2h14c1.1 0 2-.9 2-2V5c0-1.1-.9-2-2-2zM9 17H7v-7h2v7zm4 0h-2V7h2v10zm4 0h-2v-4h2v4z\"/>\n",
              "    </g>\n",
              "</svg>\n",
              "      </button>\n",
              "\n",
              "<style>\n",
              "  .colab-df-quickchart {\n",
              "      --bg-color: #E8F0FE;\n",
              "      --fill-color: #1967D2;\n",
              "      --hover-bg-color: #E2EBFA;\n",
              "      --hover-fill-color: #174EA6;\n",
              "      --disabled-fill-color: #AAA;\n",
              "      --disabled-bg-color: #DDD;\n",
              "  }\n",
              "\n",
              "  [theme=dark] .colab-df-quickchart {\n",
              "      --bg-color: #3B4455;\n",
              "      --fill-color: #D2E3FC;\n",
              "      --hover-bg-color: #434B5C;\n",
              "      --hover-fill-color: #FFFFFF;\n",
              "      --disabled-bg-color: #3B4455;\n",
              "      --disabled-fill-color: #666;\n",
              "  }\n",
              "\n",
              "  .colab-df-quickchart {\n",
              "    background-color: var(--bg-color);\n",
              "    border: none;\n",
              "    border-radius: 50%;\n",
              "    cursor: pointer;\n",
              "    display: none;\n",
              "    fill: var(--fill-color);\n",
              "    height: 32px;\n",
              "    padding: 0;\n",
              "    width: 32px;\n",
              "  }\n",
              "\n",
              "  .colab-df-quickchart:hover {\n",
              "    background-color: var(--hover-bg-color);\n",
              "    box-shadow: 0 1px 2px rgba(60, 64, 67, 0.3), 0 1px 3px 1px rgba(60, 64, 67, 0.15);\n",
              "    fill: var(--button-hover-fill-color);\n",
              "  }\n",
              "\n",
              "  .colab-df-quickchart-complete:disabled,\n",
              "  .colab-df-quickchart-complete:disabled:hover {\n",
              "    background-color: var(--disabled-bg-color);\n",
              "    fill: var(--disabled-fill-color);\n",
              "    box-shadow: none;\n",
              "  }\n",
              "\n",
              "  .colab-df-spinner {\n",
              "    border: 2px solid var(--fill-color);\n",
              "    border-color: transparent;\n",
              "    border-bottom-color: var(--fill-color);\n",
              "    animation:\n",
              "      spin 1s steps(1) infinite;\n",
              "  }\n",
              "\n",
              "  @keyframes spin {\n",
              "    0% {\n",
              "      border-color: transparent;\n",
              "      border-bottom-color: var(--fill-color);\n",
              "      border-left-color: var(--fill-color);\n",
              "    }\n",
              "    20% {\n",
              "      border-color: transparent;\n",
              "      border-left-color: var(--fill-color);\n",
              "      border-top-color: var(--fill-color);\n",
              "    }\n",
              "    30% {\n",
              "      border-color: transparent;\n",
              "      border-left-color: var(--fill-color);\n",
              "      border-top-color: var(--fill-color);\n",
              "      border-right-color: var(--fill-color);\n",
              "    }\n",
              "    40% {\n",
              "      border-color: transparent;\n",
              "      border-right-color: var(--fill-color);\n",
              "      border-top-color: var(--fill-color);\n",
              "    }\n",
              "    60% {\n",
              "      border-color: transparent;\n",
              "      border-right-color: var(--fill-color);\n",
              "    }\n",
              "    80% {\n",
              "      border-color: transparent;\n",
              "      border-right-color: var(--fill-color);\n",
              "      border-bottom-color: var(--fill-color);\n",
              "    }\n",
              "    90% {\n",
              "      border-color: transparent;\n",
              "      border-bottom-color: var(--fill-color);\n",
              "    }\n",
              "  }\n",
              "</style>\n",
              "\n",
              "      <script>\n",
              "        async function quickchart(key) {\n",
              "          const quickchartButtonEl =\n",
              "            document.querySelector('#' + key + ' button');\n",
              "          quickchartButtonEl.disabled = true;  // To prevent multiple clicks.\n",
              "          quickchartButtonEl.classList.add('colab-df-spinner');\n",
              "          try {\n",
              "            const charts = await google.colab.kernel.invokeFunction(\n",
              "                'suggestCharts', [key], {});\n",
              "          } catch (error) {\n",
              "            console.error('Error during call to suggestCharts:', error);\n",
              "          }\n",
              "          quickchartButtonEl.classList.remove('colab-df-spinner');\n",
              "          quickchartButtonEl.classList.add('colab-df-quickchart-complete');\n",
              "        }\n",
              "        (() => {\n",
              "          let quickchartButtonEl =\n",
              "            document.querySelector('#df-4523f3ba-ac9b-4ced-b070-0dc219778228 button');\n",
              "          quickchartButtonEl.style.display =\n",
              "            google.colab.kernel.accessAllowed ? 'block' : 'none';\n",
              "        })();\n",
              "      </script>\n",
              "    </div>\n",
              "\n",
              "  <div id=\"id_584acc4f-1bd6-457e-90e2-6949bd0077a2\">\n",
              "    <style>\n",
              "      .colab-df-generate {\n",
              "        background-color: #E8F0FE;\n",
              "        border: none;\n",
              "        border-radius: 50%;\n",
              "        cursor: pointer;\n",
              "        display: none;\n",
              "        fill: #1967D2;\n",
              "        height: 32px;\n",
              "        padding: 0 0 0 0;\n",
              "        width: 32px;\n",
              "      }\n",
              "\n",
              "      .colab-df-generate:hover {\n",
              "        background-color: #E2EBFA;\n",
              "        box-shadow: 0px 1px 2px rgba(60, 64, 67, 0.3), 0px 1px 3px 1px rgba(60, 64, 67, 0.15);\n",
              "        fill: #174EA6;\n",
              "      }\n",
              "\n",
              "      [theme=dark] .colab-df-generate {\n",
              "        background-color: #3B4455;\n",
              "        fill: #D2E3FC;\n",
              "      }\n",
              "\n",
              "      [theme=dark] .colab-df-generate:hover {\n",
              "        background-color: #434B5C;\n",
              "        box-shadow: 0px 1px 3px 1px rgba(0, 0, 0, 0.15);\n",
              "        filter: drop-shadow(0px 1px 2px rgba(0, 0, 0, 0.3));\n",
              "        fill: #FFFFFF;\n",
              "      }\n",
              "    </style>\n",
              "    <button class=\"colab-df-generate\" onclick=\"generateWithVariable('idf_')\"\n",
              "            title=\"Generate code using this dataframe.\"\n",
              "            style=\"display:none;\">\n",
              "\n",
              "  <svg xmlns=\"http://www.w3.org/2000/svg\" height=\"24px\"viewBox=\"0 0 24 24\"\n",
              "       width=\"24px\">\n",
              "    <path d=\"M7,19H8.4L18.45,9,17,7.55,7,17.6ZM5,21V16.75L18.45,3.32a2,2,0,0,1,2.83,0l1.4,1.43a1.91,1.91,0,0,1,.58,1.4,1.91,1.91,0,0,1-.58,1.4L9.25,21ZM18.45,9,17,7.55Zm-12,3A5.31,5.31,0,0,0,4.9,8.1,5.31,5.31,0,0,0,1,6.5,5.31,5.31,0,0,0,4.9,4.9,5.31,5.31,0,0,0,6.5,1,5.31,5.31,0,0,0,8.1,4.9,5.31,5.31,0,0,0,12,6.5,5.46,5.46,0,0,0,6.5,12Z\"/>\n",
              "  </svg>\n",
              "    </button>\n",
              "    <script>\n",
              "      (() => {\n",
              "      const buttonEl =\n",
              "        document.querySelector('#id_584acc4f-1bd6-457e-90e2-6949bd0077a2 button.colab-df-generate');\n",
              "      buttonEl.style.display =\n",
              "        google.colab.kernel.accessAllowed ? 'block' : 'none';\n",
              "\n",
              "      buttonEl.onclick = () => {\n",
              "        google.colab.notebook.generateWithVariable('idf_');\n",
              "      }\n",
              "      })();\n",
              "    </script>\n",
              "  </div>\n",
              "\n",
              "    </div>\n",
              "  </div>\n"
            ],
            "application/vnd.google.colaboratory.intrinsic+json": {
              "type": "dataframe",
              "variable_name": "idf_",
              "summary": "{\n  \"name\": \"idf_\",\n  \"rows\": 13,\n  \"fields\": [\n    {\n      \"column\": \"IDF\",\n      \"properties\": {\n        \"dtype\": \"number\",\n        \"std\": 0.3069716837903865,\n        \"min\": 0.7123179275482191,\n        \"max\": 1.4054651081081644,\n        \"num_unique_values\": 3,\n        \"samples\": [\n          1.4054651081081644,\n          1.0,\n          0.7123179275482191\n        ],\n        \"semantic_type\": \"\",\n        \"description\": \"\"\n      }\n    }\n  ]\n}"
            }
          },
          "metadata": {},
          "execution_count": 16
        }
      ]
    },
    {
      "cell_type": "code",
      "source": [
        "# TF-IDF\n",
        "result = []\n",
        "for i in range(N):\n",
        "    result.append([])\n",
        "    d = docs[i]\n",
        "    for j in range(len(vocab)):\n",
        "        t = vocab[j]\n",
        "\n",
        "        result[-1].append(tfidf(t,d))\n",
        "\n",
        "tfidf_ = pd.DataFrame(result, columns = vocab)\n",
        "tfidf_"
      ],
      "metadata": {
        "colab": {
          "base_uri": "https://localhost:8080/",
          "height": 163
        },
        "id": "48wigzK0lEIv",
        "outputId": "af6fe28a-bd0c-4a51-993d-bfb61329446e"
      },
      "execution_count": 17,
      "outputs": [
        {
          "output_type": "execute_result",
          "data": {
            "text/plain": [
              "      James      John  Mary        TV      also       and  football     games  \\\n",
              "0  0.000000  1.405465   1.0  0.000000  0.000000  1.405465  0.000000  0.000000   \n",
              "1  1.405465  0.000000   0.0  1.405465  0.000000  0.000000  0.000000  0.000000   \n",
              "2  0.000000  0.000000   1.0  0.000000  1.405465  0.000000  1.405465  1.405465   \n",
              "\n",
              "      likes   movies        to       too     watch  \n",
              "0  1.424636  2.81093  1.424636  1.405465  0.712318  \n",
              "1  0.712318  0.00000  0.712318  0.000000  0.712318  \n",
              "2  0.712318  0.00000  0.712318  0.000000  0.712318  "
            ],
            "text/html": [
              "\n",
              "  <div id=\"df-98077567-6498-490f-adf8-8bc7c6777026\" class=\"colab-df-container\">\n",
              "    <div>\n",
              "<style scoped>\n",
              "    .dataframe tbody tr th:only-of-type {\n",
              "        vertical-align: middle;\n",
              "    }\n",
              "\n",
              "    .dataframe tbody tr th {\n",
              "        vertical-align: top;\n",
              "    }\n",
              "\n",
              "    .dataframe thead th {\n",
              "        text-align: right;\n",
              "    }\n",
              "</style>\n",
              "<table border=\"1\" class=\"dataframe\">\n",
              "  <thead>\n",
              "    <tr style=\"text-align: right;\">\n",
              "      <th></th>\n",
              "      <th>James</th>\n",
              "      <th>John</th>\n",
              "      <th>Mary</th>\n",
              "      <th>TV</th>\n",
              "      <th>also</th>\n",
              "      <th>and</th>\n",
              "      <th>football</th>\n",
              "      <th>games</th>\n",
              "      <th>likes</th>\n",
              "      <th>movies</th>\n",
              "      <th>to</th>\n",
              "      <th>too</th>\n",
              "      <th>watch</th>\n",
              "    </tr>\n",
              "  </thead>\n",
              "  <tbody>\n",
              "    <tr>\n",
              "      <th>0</th>\n",
              "      <td>0.000000</td>\n",
              "      <td>1.405465</td>\n",
              "      <td>1.0</td>\n",
              "      <td>0.000000</td>\n",
              "      <td>0.000000</td>\n",
              "      <td>1.405465</td>\n",
              "      <td>0.000000</td>\n",
              "      <td>0.000000</td>\n",
              "      <td>1.424636</td>\n",
              "      <td>2.81093</td>\n",
              "      <td>1.424636</td>\n",
              "      <td>1.405465</td>\n",
              "      <td>0.712318</td>\n",
              "    </tr>\n",
              "    <tr>\n",
              "      <th>1</th>\n",
              "      <td>1.405465</td>\n",
              "      <td>0.000000</td>\n",
              "      <td>0.0</td>\n",
              "      <td>1.405465</td>\n",
              "      <td>0.000000</td>\n",
              "      <td>0.000000</td>\n",
              "      <td>0.000000</td>\n",
              "      <td>0.000000</td>\n",
              "      <td>0.712318</td>\n",
              "      <td>0.00000</td>\n",
              "      <td>0.712318</td>\n",
              "      <td>0.000000</td>\n",
              "      <td>0.712318</td>\n",
              "    </tr>\n",
              "    <tr>\n",
              "      <th>2</th>\n",
              "      <td>0.000000</td>\n",
              "      <td>0.000000</td>\n",
              "      <td>1.0</td>\n",
              "      <td>0.000000</td>\n",
              "      <td>1.405465</td>\n",
              "      <td>0.000000</td>\n",
              "      <td>1.405465</td>\n",
              "      <td>1.405465</td>\n",
              "      <td>0.712318</td>\n",
              "      <td>0.00000</td>\n",
              "      <td>0.712318</td>\n",
              "      <td>0.000000</td>\n",
              "      <td>0.712318</td>\n",
              "    </tr>\n",
              "  </tbody>\n",
              "</table>\n",
              "</div>\n",
              "    <div class=\"colab-df-buttons\">\n",
              "\n",
              "  <div class=\"colab-df-container\">\n",
              "    <button class=\"colab-df-convert\" onclick=\"convertToInteractive('df-98077567-6498-490f-adf8-8bc7c6777026')\"\n",
              "            title=\"Convert this dataframe to an interactive table.\"\n",
              "            style=\"display:none;\">\n",
              "\n",
              "  <svg xmlns=\"http://www.w3.org/2000/svg\" height=\"24px\" viewBox=\"0 -960 960 960\">\n",
              "    <path d=\"M120-120v-720h720v720H120Zm60-500h600v-160H180v160Zm220 220h160v-160H400v160Zm0 220h160v-160H400v160ZM180-400h160v-160H180v160Zm440 0h160v-160H620v160ZM180-180h160v-160H180v160Zm440 0h160v-160H620v160Z\"/>\n",
              "  </svg>\n",
              "    </button>\n",
              "\n",
              "  <style>\n",
              "    .colab-df-container {\n",
              "      display:flex;\n",
              "      gap: 12px;\n",
              "    }\n",
              "\n",
              "    .colab-df-convert {\n",
              "      background-color: #E8F0FE;\n",
              "      border: none;\n",
              "      border-radius: 50%;\n",
              "      cursor: pointer;\n",
              "      display: none;\n",
              "      fill: #1967D2;\n",
              "      height: 32px;\n",
              "      padding: 0 0 0 0;\n",
              "      width: 32px;\n",
              "    }\n",
              "\n",
              "    .colab-df-convert:hover {\n",
              "      background-color: #E2EBFA;\n",
              "      box-shadow: 0px 1px 2px rgba(60, 64, 67, 0.3), 0px 1px 3px 1px rgba(60, 64, 67, 0.15);\n",
              "      fill: #174EA6;\n",
              "    }\n",
              "\n",
              "    .colab-df-buttons div {\n",
              "      margin-bottom: 4px;\n",
              "    }\n",
              "\n",
              "    [theme=dark] .colab-df-convert {\n",
              "      background-color: #3B4455;\n",
              "      fill: #D2E3FC;\n",
              "    }\n",
              "\n",
              "    [theme=dark] .colab-df-convert:hover {\n",
              "      background-color: #434B5C;\n",
              "      box-shadow: 0px 1px 3px 1px rgba(0, 0, 0, 0.15);\n",
              "      filter: drop-shadow(0px 1px 2px rgba(0, 0, 0, 0.3));\n",
              "      fill: #FFFFFF;\n",
              "    }\n",
              "  </style>\n",
              "\n",
              "    <script>\n",
              "      const buttonEl =\n",
              "        document.querySelector('#df-98077567-6498-490f-adf8-8bc7c6777026 button.colab-df-convert');\n",
              "      buttonEl.style.display =\n",
              "        google.colab.kernel.accessAllowed ? 'block' : 'none';\n",
              "\n",
              "      async function convertToInteractive(key) {\n",
              "        const element = document.querySelector('#df-98077567-6498-490f-adf8-8bc7c6777026');\n",
              "        const dataTable =\n",
              "          await google.colab.kernel.invokeFunction('convertToInteractive',\n",
              "                                                    [key], {});\n",
              "        if (!dataTable) return;\n",
              "\n",
              "        const docLinkHtml = 'Like what you see? Visit the ' +\n",
              "          '<a target=\"_blank\" href=https://colab.research.google.com/notebooks/data_table.ipynb>data table notebook</a>'\n",
              "          + ' to learn more about interactive tables.';\n",
              "        element.innerHTML = '';\n",
              "        dataTable['output_type'] = 'display_data';\n",
              "        await google.colab.output.renderOutput(dataTable, element);\n",
              "        const docLink = document.createElement('div');\n",
              "        docLink.innerHTML = docLinkHtml;\n",
              "        element.appendChild(docLink);\n",
              "      }\n",
              "    </script>\n",
              "  </div>\n",
              "\n",
              "\n",
              "    <div id=\"df-020c0706-1a66-40c0-8e7b-6aa7e20cc988\">\n",
              "      <button class=\"colab-df-quickchart\" onclick=\"quickchart('df-020c0706-1a66-40c0-8e7b-6aa7e20cc988')\"\n",
              "                title=\"Suggest charts\"\n",
              "                style=\"display:none;\">\n",
              "\n",
              "<svg xmlns=\"http://www.w3.org/2000/svg\" height=\"24px\"viewBox=\"0 0 24 24\"\n",
              "     width=\"24px\">\n",
              "    <g>\n",
              "        <path d=\"M19 3H5c-1.1 0-2 .9-2 2v14c0 1.1.9 2 2 2h14c1.1 0 2-.9 2-2V5c0-1.1-.9-2-2-2zM9 17H7v-7h2v7zm4 0h-2V7h2v10zm4 0h-2v-4h2v4z\"/>\n",
              "    </g>\n",
              "</svg>\n",
              "      </button>\n",
              "\n",
              "<style>\n",
              "  .colab-df-quickchart {\n",
              "      --bg-color: #E8F0FE;\n",
              "      --fill-color: #1967D2;\n",
              "      --hover-bg-color: #E2EBFA;\n",
              "      --hover-fill-color: #174EA6;\n",
              "      --disabled-fill-color: #AAA;\n",
              "      --disabled-bg-color: #DDD;\n",
              "  }\n",
              "\n",
              "  [theme=dark] .colab-df-quickchart {\n",
              "      --bg-color: #3B4455;\n",
              "      --fill-color: #D2E3FC;\n",
              "      --hover-bg-color: #434B5C;\n",
              "      --hover-fill-color: #FFFFFF;\n",
              "      --disabled-bg-color: #3B4455;\n",
              "      --disabled-fill-color: #666;\n",
              "  }\n",
              "\n",
              "  .colab-df-quickchart {\n",
              "    background-color: var(--bg-color);\n",
              "    border: none;\n",
              "    border-radius: 50%;\n",
              "    cursor: pointer;\n",
              "    display: none;\n",
              "    fill: var(--fill-color);\n",
              "    height: 32px;\n",
              "    padding: 0;\n",
              "    width: 32px;\n",
              "  }\n",
              "\n",
              "  .colab-df-quickchart:hover {\n",
              "    background-color: var(--hover-bg-color);\n",
              "    box-shadow: 0 1px 2px rgba(60, 64, 67, 0.3), 0 1px 3px 1px rgba(60, 64, 67, 0.15);\n",
              "    fill: var(--button-hover-fill-color);\n",
              "  }\n",
              "\n",
              "  .colab-df-quickchart-complete:disabled,\n",
              "  .colab-df-quickchart-complete:disabled:hover {\n",
              "    background-color: var(--disabled-bg-color);\n",
              "    fill: var(--disabled-fill-color);\n",
              "    box-shadow: none;\n",
              "  }\n",
              "\n",
              "  .colab-df-spinner {\n",
              "    border: 2px solid var(--fill-color);\n",
              "    border-color: transparent;\n",
              "    border-bottom-color: var(--fill-color);\n",
              "    animation:\n",
              "      spin 1s steps(1) infinite;\n",
              "  }\n",
              "\n",
              "  @keyframes spin {\n",
              "    0% {\n",
              "      border-color: transparent;\n",
              "      border-bottom-color: var(--fill-color);\n",
              "      border-left-color: var(--fill-color);\n",
              "    }\n",
              "    20% {\n",
              "      border-color: transparent;\n",
              "      border-left-color: var(--fill-color);\n",
              "      border-top-color: var(--fill-color);\n",
              "    }\n",
              "    30% {\n",
              "      border-color: transparent;\n",
              "      border-left-color: var(--fill-color);\n",
              "      border-top-color: var(--fill-color);\n",
              "      border-right-color: var(--fill-color);\n",
              "    }\n",
              "    40% {\n",
              "      border-color: transparent;\n",
              "      border-right-color: var(--fill-color);\n",
              "      border-top-color: var(--fill-color);\n",
              "    }\n",
              "    60% {\n",
              "      border-color: transparent;\n",
              "      border-right-color: var(--fill-color);\n",
              "    }\n",
              "    80% {\n",
              "      border-color: transparent;\n",
              "      border-right-color: var(--fill-color);\n",
              "      border-bottom-color: var(--fill-color);\n",
              "    }\n",
              "    90% {\n",
              "      border-color: transparent;\n",
              "      border-bottom-color: var(--fill-color);\n",
              "    }\n",
              "  }\n",
              "</style>\n",
              "\n",
              "      <script>\n",
              "        async function quickchart(key) {\n",
              "          const quickchartButtonEl =\n",
              "            document.querySelector('#' + key + ' button');\n",
              "          quickchartButtonEl.disabled = true;  // To prevent multiple clicks.\n",
              "          quickchartButtonEl.classList.add('colab-df-spinner');\n",
              "          try {\n",
              "            const charts = await google.colab.kernel.invokeFunction(\n",
              "                'suggestCharts', [key], {});\n",
              "          } catch (error) {\n",
              "            console.error('Error during call to suggestCharts:', error);\n",
              "          }\n",
              "          quickchartButtonEl.classList.remove('colab-df-spinner');\n",
              "          quickchartButtonEl.classList.add('colab-df-quickchart-complete');\n",
              "        }\n",
              "        (() => {\n",
              "          let quickchartButtonEl =\n",
              "            document.querySelector('#df-020c0706-1a66-40c0-8e7b-6aa7e20cc988 button');\n",
              "          quickchartButtonEl.style.display =\n",
              "            google.colab.kernel.accessAllowed ? 'block' : 'none';\n",
              "        })();\n",
              "      </script>\n",
              "    </div>\n",
              "\n",
              "  <div id=\"id_e698fa9a-ec56-4eef-a31c-713a5439d94d\">\n",
              "    <style>\n",
              "      .colab-df-generate {\n",
              "        background-color: #E8F0FE;\n",
              "        border: none;\n",
              "        border-radius: 50%;\n",
              "        cursor: pointer;\n",
              "        display: none;\n",
              "        fill: #1967D2;\n",
              "        height: 32px;\n",
              "        padding: 0 0 0 0;\n",
              "        width: 32px;\n",
              "      }\n",
              "\n",
              "      .colab-df-generate:hover {\n",
              "        background-color: #E2EBFA;\n",
              "        box-shadow: 0px 1px 2px rgba(60, 64, 67, 0.3), 0px 1px 3px 1px rgba(60, 64, 67, 0.15);\n",
              "        fill: #174EA6;\n",
              "      }\n",
              "\n",
              "      [theme=dark] .colab-df-generate {\n",
              "        background-color: #3B4455;\n",
              "        fill: #D2E3FC;\n",
              "      }\n",
              "\n",
              "      [theme=dark] .colab-df-generate:hover {\n",
              "        background-color: #434B5C;\n",
              "        box-shadow: 0px 1px 3px 1px rgba(0, 0, 0, 0.15);\n",
              "        filter: drop-shadow(0px 1px 2px rgba(0, 0, 0, 0.3));\n",
              "        fill: #FFFFFF;\n",
              "      }\n",
              "    </style>\n",
              "    <button class=\"colab-df-generate\" onclick=\"generateWithVariable('tfidf_')\"\n",
              "            title=\"Generate code using this dataframe.\"\n",
              "            style=\"display:none;\">\n",
              "\n",
              "  <svg xmlns=\"http://www.w3.org/2000/svg\" height=\"24px\"viewBox=\"0 0 24 24\"\n",
              "       width=\"24px\">\n",
              "    <path d=\"M7,19H8.4L18.45,9,17,7.55,7,17.6ZM5,21V16.75L18.45,3.32a2,2,0,0,1,2.83,0l1.4,1.43a1.91,1.91,0,0,1,.58,1.4,1.91,1.91,0,0,1-.58,1.4L9.25,21ZM18.45,9,17,7.55Zm-12,3A5.31,5.31,0,0,0,4.9,8.1,5.31,5.31,0,0,0,1,6.5,5.31,5.31,0,0,0,4.9,4.9,5.31,5.31,0,0,0,6.5,1,5.31,5.31,0,0,0,8.1,4.9,5.31,5.31,0,0,0,12,6.5,5.46,5.46,0,0,0,6.5,12Z\"/>\n",
              "  </svg>\n",
              "    </button>\n",
              "    <script>\n",
              "      (() => {\n",
              "      const buttonEl =\n",
              "        document.querySelector('#id_e698fa9a-ec56-4eef-a31c-713a5439d94d button.colab-df-generate');\n",
              "      buttonEl.style.display =\n",
              "        google.colab.kernel.accessAllowed ? 'block' : 'none';\n",
              "\n",
              "      buttonEl.onclick = () => {\n",
              "        google.colab.notebook.generateWithVariable('tfidf_');\n",
              "      }\n",
              "      })();\n",
              "    </script>\n",
              "  </div>\n",
              "\n",
              "    </div>\n",
              "  </div>\n"
            ],
            "application/vnd.google.colaboratory.intrinsic+json": {
              "type": "dataframe",
              "variable_name": "tfidf_",
              "summary": "{\n  \"name\": \"tfidf_\",\n  \"rows\": 3,\n  \"fields\": [\n    {\n      \"column\": \"James\",\n      \"properties\": {\n        \"dtype\": \"number\",\n        \"std\": 0.8114456585028751,\n        \"min\": 0.0,\n        \"max\": 1.4054651081081644,\n        \"num_unique_values\": 2,\n        \"samples\": [\n          1.4054651081081644,\n          0.0\n        ],\n        \"semantic_type\": \"\",\n        \"description\": \"\"\n      }\n    },\n    {\n      \"column\": \"John\",\n      \"properties\": {\n        \"dtype\": \"number\",\n        \"std\": 0.8114456585028751,\n        \"min\": 0.0,\n        \"max\": 1.4054651081081644,\n        \"num_unique_values\": 2,\n        \"samples\": [\n          0.0,\n          1.4054651081081644\n        ],\n        \"semantic_type\": \"\",\n        \"description\": \"\"\n      }\n    },\n    {\n      \"column\": \"Mary\",\n      \"properties\": {\n        \"dtype\": \"number\",\n        \"std\": 0.5773502691896258,\n        \"min\": 0.0,\n        \"max\": 1.0,\n        \"num_unique_values\": 2,\n        \"samples\": [\n          0.0,\n          1.0\n        ],\n        \"semantic_type\": \"\",\n        \"description\": \"\"\n      }\n    },\n    {\n      \"column\": \"TV\",\n      \"properties\": {\n        \"dtype\": \"number\",\n        \"std\": 0.8114456585028751,\n        \"min\": 0.0,\n        \"max\": 1.4054651081081644,\n        \"num_unique_values\": 2,\n        \"samples\": [\n          1.4054651081081644,\n          0.0\n        ],\n        \"semantic_type\": \"\",\n        \"description\": \"\"\n      }\n    },\n    {\n      \"column\": \"also\",\n      \"properties\": {\n        \"dtype\": \"number\",\n        \"std\": 0.8114456585028751,\n        \"min\": 0.0,\n        \"max\": 1.4054651081081644,\n        \"num_unique_values\": 2,\n        \"samples\": [\n          1.4054651081081644,\n          0.0\n        ],\n        \"semantic_type\": \"\",\n        \"description\": \"\"\n      }\n    },\n    {\n      \"column\": \"and\",\n      \"properties\": {\n        \"dtype\": \"number\",\n        \"std\": 0.8114456585028751,\n        \"min\": 0.0,\n        \"max\": 1.4054651081081644,\n        \"num_unique_values\": 2,\n        \"samples\": [\n          0.0,\n          1.4054651081081644\n        ],\n        \"semantic_type\": \"\",\n        \"description\": \"\"\n      }\n    },\n    {\n      \"column\": \"football\",\n      \"properties\": {\n        \"dtype\": \"number\",\n        \"std\": 0.8114456585028751,\n        \"min\": 0.0,\n        \"max\": 1.4054651081081644,\n        \"num_unique_values\": 2,\n        \"samples\": [\n          1.4054651081081644,\n          0.0\n        ],\n        \"semantic_type\": \"\",\n        \"description\": \"\"\n      }\n    },\n    {\n      \"column\": \"games\",\n      \"properties\": {\n        \"dtype\": \"number\",\n        \"std\": 0.8114456585028751,\n        \"min\": 0.0,\n        \"max\": 1.4054651081081644,\n        \"num_unique_values\": 2,\n        \"samples\": [\n          1.4054651081081644,\n          0.0\n        ],\n        \"semantic_type\": \"\",\n        \"description\": \"\"\n      }\n    },\n    {\n      \"column\": \"likes\",\n      \"properties\": {\n        \"dtype\": \"number\",\n        \"std\": 0.4112569472185606,\n        \"min\": 0.7123179275482191,\n        \"max\": 1.4246358550964382,\n        \"num_unique_values\": 2,\n        \"samples\": [\n          0.7123179275482191,\n          1.4246358550964382\n        ],\n        \"semantic_type\": \"\",\n        \"description\": \"\"\n      }\n    },\n    {\n      \"column\": \"movies\",\n      \"properties\": {\n        \"dtype\": \"number\",\n        \"std\": 1.6228913170057502,\n        \"min\": 0.0,\n        \"max\": 2.8109302162163288,\n        \"num_unique_values\": 2,\n        \"samples\": [\n          0.0,\n          2.8109302162163288\n        ],\n        \"semantic_type\": \"\",\n        \"description\": \"\"\n      }\n    },\n    {\n      \"column\": \"to\",\n      \"properties\": {\n        \"dtype\": \"number\",\n        \"std\": 0.4112569472185606,\n        \"min\": 0.7123179275482191,\n        \"max\": 1.4246358550964382,\n        \"num_unique_values\": 2,\n        \"samples\": [\n          0.7123179275482191,\n          1.4246358550964382\n        ],\n        \"semantic_type\": \"\",\n        \"description\": \"\"\n      }\n    },\n    {\n      \"column\": \"too\",\n      \"properties\": {\n        \"dtype\": \"number\",\n        \"std\": 0.8114456585028751,\n        \"min\": 0.0,\n        \"max\": 1.4054651081081644,\n        \"num_unique_values\": 2,\n        \"samples\": [\n          0.0,\n          1.4054651081081644\n        ],\n        \"semantic_type\": \"\",\n        \"description\": \"\"\n      }\n    },\n    {\n      \"column\": \"watch\",\n      \"properties\": {\n        \"dtype\": \"number\",\n        \"std\": 0.0,\n        \"min\": 0.7123179275482191,\n        \"max\": 0.7123179275482191,\n        \"num_unique_values\": 1,\n        \"samples\": [\n          0.7123179275482191\n        ],\n        \"semantic_type\": \"\",\n        \"description\": \"\"\n      }\n    }\n  ]\n}"
            }
          },
          "metadata": {},
          "execution_count": 17
        }
      ]
    },
    {
      "cell_type": "markdown",
      "source": [
        "### scikit-learn TFidVectorizer 활용\n",
        "- sklearn에서는 TF-IDF를 자동으로 계산하여 출력하는 TfidVectorizer를 제공\n",
        "- 사이킷런의 TfidfVectorizer 또한 이번에 배운 기본식에서 조정된 식을 사용합니다. 간단히 언급하면, TfidfVectorizer는 위에서 우리가 파이썬으로 구현한 식에서 더 나아가 log 항의 분자에도 1을 더해주며, TF-IDF의 결과에 L2 Norm까지 추가로 수행한다는 점이 다릅니다.\n"
      ],
      "metadata": {
        "id": "STUh962lleRX"
      }
    },
    {
      "cell_type": "code",
      "source": [
        "# TfidVectorizer를 통해 TF-IDF 행렬 출력\n",
        "\n",
        "from sklearn.feature_extraction.text import TfidfVectorizer\n",
        "\n",
        "corpus = [\n",
        "  'John likes to watch movies and Mary likes movies too',\n",
        "  'James likes to watch TV',\n",
        "  'Mary also likes to watch football games',\n",
        "]\n",
        "\n",
        "tfidfv = TfidfVectorizer().fit(corpus)\n",
        "vocab = list(tfidfv.vocabulary_.keys()) # 단어장을 리스트로 저장\n",
        "vocab.sort() # 단어장을 알파벳 순으로 정렬\n",
        "\n",
        "# TF-IDF 행렬에 단어장을 데이터프레임의 열로 지정하여 데이터프레임 생성\n",
        "tfidf_ = pd.DataFrame(tfidfv.transform(corpus).toarray(), columns = vocab)\n",
        "tfidf_"
      ],
      "metadata": {
        "colab": {
          "base_uri": "https://localhost:8080/",
          "height": 163
        },
        "id": "Rkp6NKMalXLd",
        "outputId": "0ef757ce-13ab-42ce-dce8-2c2ff4e52667"
      },
      "execution_count": 18,
      "outputs": [
        {
          "output_type": "execute_result",
          "data": {
            "text/plain": [
              "       also       and  football     games     james      john     likes  \\\n",
              "0  0.000000  0.321556  0.000000  0.000000  0.000000  0.321556  0.379832   \n",
              "1  0.000000  0.000000  0.000000  0.000000  0.572929  0.000000  0.338381   \n",
              "2  0.464997  0.000000  0.464997  0.464997  0.000000  0.000000  0.274634   \n",
              "\n",
              "       mary    movies        to       too        tv     watch  \n",
              "0  0.244551  0.643111  0.189916  0.321556  0.000000  0.189916  \n",
              "1  0.000000  0.000000  0.338381  0.000000  0.572929  0.338381  \n",
              "2  0.353642  0.000000  0.274634  0.000000  0.000000  0.274634  "
            ],
            "text/html": [
              "\n",
              "  <div id=\"df-b662f693-edde-4d2b-a4ce-dd97da107f54\" class=\"colab-df-container\">\n",
              "    <div>\n",
              "<style scoped>\n",
              "    .dataframe tbody tr th:only-of-type {\n",
              "        vertical-align: middle;\n",
              "    }\n",
              "\n",
              "    .dataframe tbody tr th {\n",
              "        vertical-align: top;\n",
              "    }\n",
              "\n",
              "    .dataframe thead th {\n",
              "        text-align: right;\n",
              "    }\n",
              "</style>\n",
              "<table border=\"1\" class=\"dataframe\">\n",
              "  <thead>\n",
              "    <tr style=\"text-align: right;\">\n",
              "      <th></th>\n",
              "      <th>also</th>\n",
              "      <th>and</th>\n",
              "      <th>football</th>\n",
              "      <th>games</th>\n",
              "      <th>james</th>\n",
              "      <th>john</th>\n",
              "      <th>likes</th>\n",
              "      <th>mary</th>\n",
              "      <th>movies</th>\n",
              "      <th>to</th>\n",
              "      <th>too</th>\n",
              "      <th>tv</th>\n",
              "      <th>watch</th>\n",
              "    </tr>\n",
              "  </thead>\n",
              "  <tbody>\n",
              "    <tr>\n",
              "      <th>0</th>\n",
              "      <td>0.000000</td>\n",
              "      <td>0.321556</td>\n",
              "      <td>0.000000</td>\n",
              "      <td>0.000000</td>\n",
              "      <td>0.000000</td>\n",
              "      <td>0.321556</td>\n",
              "      <td>0.379832</td>\n",
              "      <td>0.244551</td>\n",
              "      <td>0.643111</td>\n",
              "      <td>0.189916</td>\n",
              "      <td>0.321556</td>\n",
              "      <td>0.000000</td>\n",
              "      <td>0.189916</td>\n",
              "    </tr>\n",
              "    <tr>\n",
              "      <th>1</th>\n",
              "      <td>0.000000</td>\n",
              "      <td>0.000000</td>\n",
              "      <td>0.000000</td>\n",
              "      <td>0.000000</td>\n",
              "      <td>0.572929</td>\n",
              "      <td>0.000000</td>\n",
              "      <td>0.338381</td>\n",
              "      <td>0.000000</td>\n",
              "      <td>0.000000</td>\n",
              "      <td>0.338381</td>\n",
              "      <td>0.000000</td>\n",
              "      <td>0.572929</td>\n",
              "      <td>0.338381</td>\n",
              "    </tr>\n",
              "    <tr>\n",
              "      <th>2</th>\n",
              "      <td>0.464997</td>\n",
              "      <td>0.000000</td>\n",
              "      <td>0.464997</td>\n",
              "      <td>0.464997</td>\n",
              "      <td>0.000000</td>\n",
              "      <td>0.000000</td>\n",
              "      <td>0.274634</td>\n",
              "      <td>0.353642</td>\n",
              "      <td>0.000000</td>\n",
              "      <td>0.274634</td>\n",
              "      <td>0.000000</td>\n",
              "      <td>0.000000</td>\n",
              "      <td>0.274634</td>\n",
              "    </tr>\n",
              "  </tbody>\n",
              "</table>\n",
              "</div>\n",
              "    <div class=\"colab-df-buttons\">\n",
              "\n",
              "  <div class=\"colab-df-container\">\n",
              "    <button class=\"colab-df-convert\" onclick=\"convertToInteractive('df-b662f693-edde-4d2b-a4ce-dd97da107f54')\"\n",
              "            title=\"Convert this dataframe to an interactive table.\"\n",
              "            style=\"display:none;\">\n",
              "\n",
              "  <svg xmlns=\"http://www.w3.org/2000/svg\" height=\"24px\" viewBox=\"0 -960 960 960\">\n",
              "    <path d=\"M120-120v-720h720v720H120Zm60-500h600v-160H180v160Zm220 220h160v-160H400v160Zm0 220h160v-160H400v160ZM180-400h160v-160H180v160Zm440 0h160v-160H620v160ZM180-180h160v-160H180v160Zm440 0h160v-160H620v160Z\"/>\n",
              "  </svg>\n",
              "    </button>\n",
              "\n",
              "  <style>\n",
              "    .colab-df-container {\n",
              "      display:flex;\n",
              "      gap: 12px;\n",
              "    }\n",
              "\n",
              "    .colab-df-convert {\n",
              "      background-color: #E8F0FE;\n",
              "      border: none;\n",
              "      border-radius: 50%;\n",
              "      cursor: pointer;\n",
              "      display: none;\n",
              "      fill: #1967D2;\n",
              "      height: 32px;\n",
              "      padding: 0 0 0 0;\n",
              "      width: 32px;\n",
              "    }\n",
              "\n",
              "    .colab-df-convert:hover {\n",
              "      background-color: #E2EBFA;\n",
              "      box-shadow: 0px 1px 2px rgba(60, 64, 67, 0.3), 0px 1px 3px 1px rgba(60, 64, 67, 0.15);\n",
              "      fill: #174EA6;\n",
              "    }\n",
              "\n",
              "    .colab-df-buttons div {\n",
              "      margin-bottom: 4px;\n",
              "    }\n",
              "\n",
              "    [theme=dark] .colab-df-convert {\n",
              "      background-color: #3B4455;\n",
              "      fill: #D2E3FC;\n",
              "    }\n",
              "\n",
              "    [theme=dark] .colab-df-convert:hover {\n",
              "      background-color: #434B5C;\n",
              "      box-shadow: 0px 1px 3px 1px rgba(0, 0, 0, 0.15);\n",
              "      filter: drop-shadow(0px 1px 2px rgba(0, 0, 0, 0.3));\n",
              "      fill: #FFFFFF;\n",
              "    }\n",
              "  </style>\n",
              "\n",
              "    <script>\n",
              "      const buttonEl =\n",
              "        document.querySelector('#df-b662f693-edde-4d2b-a4ce-dd97da107f54 button.colab-df-convert');\n",
              "      buttonEl.style.display =\n",
              "        google.colab.kernel.accessAllowed ? 'block' : 'none';\n",
              "\n",
              "      async function convertToInteractive(key) {\n",
              "        const element = document.querySelector('#df-b662f693-edde-4d2b-a4ce-dd97da107f54');\n",
              "        const dataTable =\n",
              "          await google.colab.kernel.invokeFunction('convertToInteractive',\n",
              "                                                    [key], {});\n",
              "        if (!dataTable) return;\n",
              "\n",
              "        const docLinkHtml = 'Like what you see? Visit the ' +\n",
              "          '<a target=\"_blank\" href=https://colab.research.google.com/notebooks/data_table.ipynb>data table notebook</a>'\n",
              "          + ' to learn more about interactive tables.';\n",
              "        element.innerHTML = '';\n",
              "        dataTable['output_type'] = 'display_data';\n",
              "        await google.colab.output.renderOutput(dataTable, element);\n",
              "        const docLink = document.createElement('div');\n",
              "        docLink.innerHTML = docLinkHtml;\n",
              "        element.appendChild(docLink);\n",
              "      }\n",
              "    </script>\n",
              "  </div>\n",
              "\n",
              "\n",
              "    <div id=\"df-aa4dcde4-7471-4d56-a3b8-fcb375cf3bdb\">\n",
              "      <button class=\"colab-df-quickchart\" onclick=\"quickchart('df-aa4dcde4-7471-4d56-a3b8-fcb375cf3bdb')\"\n",
              "                title=\"Suggest charts\"\n",
              "                style=\"display:none;\">\n",
              "\n",
              "<svg xmlns=\"http://www.w3.org/2000/svg\" height=\"24px\"viewBox=\"0 0 24 24\"\n",
              "     width=\"24px\">\n",
              "    <g>\n",
              "        <path d=\"M19 3H5c-1.1 0-2 .9-2 2v14c0 1.1.9 2 2 2h14c1.1 0 2-.9 2-2V5c0-1.1-.9-2-2-2zM9 17H7v-7h2v7zm4 0h-2V7h2v10zm4 0h-2v-4h2v4z\"/>\n",
              "    </g>\n",
              "</svg>\n",
              "      </button>\n",
              "\n",
              "<style>\n",
              "  .colab-df-quickchart {\n",
              "      --bg-color: #E8F0FE;\n",
              "      --fill-color: #1967D2;\n",
              "      --hover-bg-color: #E2EBFA;\n",
              "      --hover-fill-color: #174EA6;\n",
              "      --disabled-fill-color: #AAA;\n",
              "      --disabled-bg-color: #DDD;\n",
              "  }\n",
              "\n",
              "  [theme=dark] .colab-df-quickchart {\n",
              "      --bg-color: #3B4455;\n",
              "      --fill-color: #D2E3FC;\n",
              "      --hover-bg-color: #434B5C;\n",
              "      --hover-fill-color: #FFFFFF;\n",
              "      --disabled-bg-color: #3B4455;\n",
              "      --disabled-fill-color: #666;\n",
              "  }\n",
              "\n",
              "  .colab-df-quickchart {\n",
              "    background-color: var(--bg-color);\n",
              "    border: none;\n",
              "    border-radius: 50%;\n",
              "    cursor: pointer;\n",
              "    display: none;\n",
              "    fill: var(--fill-color);\n",
              "    height: 32px;\n",
              "    padding: 0;\n",
              "    width: 32px;\n",
              "  }\n",
              "\n",
              "  .colab-df-quickchart:hover {\n",
              "    background-color: var(--hover-bg-color);\n",
              "    box-shadow: 0 1px 2px rgba(60, 64, 67, 0.3), 0 1px 3px 1px rgba(60, 64, 67, 0.15);\n",
              "    fill: var(--button-hover-fill-color);\n",
              "  }\n",
              "\n",
              "  .colab-df-quickchart-complete:disabled,\n",
              "  .colab-df-quickchart-complete:disabled:hover {\n",
              "    background-color: var(--disabled-bg-color);\n",
              "    fill: var(--disabled-fill-color);\n",
              "    box-shadow: none;\n",
              "  }\n",
              "\n",
              "  .colab-df-spinner {\n",
              "    border: 2px solid var(--fill-color);\n",
              "    border-color: transparent;\n",
              "    border-bottom-color: var(--fill-color);\n",
              "    animation:\n",
              "      spin 1s steps(1) infinite;\n",
              "  }\n",
              "\n",
              "  @keyframes spin {\n",
              "    0% {\n",
              "      border-color: transparent;\n",
              "      border-bottom-color: var(--fill-color);\n",
              "      border-left-color: var(--fill-color);\n",
              "    }\n",
              "    20% {\n",
              "      border-color: transparent;\n",
              "      border-left-color: var(--fill-color);\n",
              "      border-top-color: var(--fill-color);\n",
              "    }\n",
              "    30% {\n",
              "      border-color: transparent;\n",
              "      border-left-color: var(--fill-color);\n",
              "      border-top-color: var(--fill-color);\n",
              "      border-right-color: var(--fill-color);\n",
              "    }\n",
              "    40% {\n",
              "      border-color: transparent;\n",
              "      border-right-color: var(--fill-color);\n",
              "      border-top-color: var(--fill-color);\n",
              "    }\n",
              "    60% {\n",
              "      border-color: transparent;\n",
              "      border-right-color: var(--fill-color);\n",
              "    }\n",
              "    80% {\n",
              "      border-color: transparent;\n",
              "      border-right-color: var(--fill-color);\n",
              "      border-bottom-color: var(--fill-color);\n",
              "    }\n",
              "    90% {\n",
              "      border-color: transparent;\n",
              "      border-bottom-color: var(--fill-color);\n",
              "    }\n",
              "  }\n",
              "</style>\n",
              "\n",
              "      <script>\n",
              "        async function quickchart(key) {\n",
              "          const quickchartButtonEl =\n",
              "            document.querySelector('#' + key + ' button');\n",
              "          quickchartButtonEl.disabled = true;  // To prevent multiple clicks.\n",
              "          quickchartButtonEl.classList.add('colab-df-spinner');\n",
              "          try {\n",
              "            const charts = await google.colab.kernel.invokeFunction(\n",
              "                'suggestCharts', [key], {});\n",
              "          } catch (error) {\n",
              "            console.error('Error during call to suggestCharts:', error);\n",
              "          }\n",
              "          quickchartButtonEl.classList.remove('colab-df-spinner');\n",
              "          quickchartButtonEl.classList.add('colab-df-quickchart-complete');\n",
              "        }\n",
              "        (() => {\n",
              "          let quickchartButtonEl =\n",
              "            document.querySelector('#df-aa4dcde4-7471-4d56-a3b8-fcb375cf3bdb button');\n",
              "          quickchartButtonEl.style.display =\n",
              "            google.colab.kernel.accessAllowed ? 'block' : 'none';\n",
              "        })();\n",
              "      </script>\n",
              "    </div>\n",
              "\n",
              "  <div id=\"id_3e3a0ff1-5016-4486-a115-87c2992159f4\">\n",
              "    <style>\n",
              "      .colab-df-generate {\n",
              "        background-color: #E8F0FE;\n",
              "        border: none;\n",
              "        border-radius: 50%;\n",
              "        cursor: pointer;\n",
              "        display: none;\n",
              "        fill: #1967D2;\n",
              "        height: 32px;\n",
              "        padding: 0 0 0 0;\n",
              "        width: 32px;\n",
              "      }\n",
              "\n",
              "      .colab-df-generate:hover {\n",
              "        background-color: #E2EBFA;\n",
              "        box-shadow: 0px 1px 2px rgba(60, 64, 67, 0.3), 0px 1px 3px 1px rgba(60, 64, 67, 0.15);\n",
              "        fill: #174EA6;\n",
              "      }\n",
              "\n",
              "      [theme=dark] .colab-df-generate {\n",
              "        background-color: #3B4455;\n",
              "        fill: #D2E3FC;\n",
              "      }\n",
              "\n",
              "      [theme=dark] .colab-df-generate:hover {\n",
              "        background-color: #434B5C;\n",
              "        box-shadow: 0px 1px 3px 1px rgba(0, 0, 0, 0.15);\n",
              "        filter: drop-shadow(0px 1px 2px rgba(0, 0, 0, 0.3));\n",
              "        fill: #FFFFFF;\n",
              "      }\n",
              "    </style>\n",
              "    <button class=\"colab-df-generate\" onclick=\"generateWithVariable('tfidf_')\"\n",
              "            title=\"Generate code using this dataframe.\"\n",
              "            style=\"display:none;\">\n",
              "\n",
              "  <svg xmlns=\"http://www.w3.org/2000/svg\" height=\"24px\"viewBox=\"0 0 24 24\"\n",
              "       width=\"24px\">\n",
              "    <path d=\"M7,19H8.4L18.45,9,17,7.55,7,17.6ZM5,21V16.75L18.45,3.32a2,2,0,0,1,2.83,0l1.4,1.43a1.91,1.91,0,0,1,.58,1.4,1.91,1.91,0,0,1-.58,1.4L9.25,21ZM18.45,9,17,7.55Zm-12,3A5.31,5.31,0,0,0,4.9,8.1,5.31,5.31,0,0,0,1,6.5,5.31,5.31,0,0,0,4.9,4.9,5.31,5.31,0,0,0,6.5,1,5.31,5.31,0,0,0,8.1,4.9,5.31,5.31,0,0,0,12,6.5,5.46,5.46,0,0,0,6.5,12Z\"/>\n",
              "  </svg>\n",
              "    </button>\n",
              "    <script>\n",
              "      (() => {\n",
              "      const buttonEl =\n",
              "        document.querySelector('#id_3e3a0ff1-5016-4486-a115-87c2992159f4 button.colab-df-generate');\n",
              "      buttonEl.style.display =\n",
              "        google.colab.kernel.accessAllowed ? 'block' : 'none';\n",
              "\n",
              "      buttonEl.onclick = () => {\n",
              "        google.colab.notebook.generateWithVariable('tfidf_');\n",
              "      }\n",
              "      })();\n",
              "    </script>\n",
              "  </div>\n",
              "\n",
              "    </div>\n",
              "  </div>\n"
            ],
            "application/vnd.google.colaboratory.intrinsic+json": {
              "type": "dataframe",
              "variable_name": "tfidf_",
              "summary": "{\n  \"name\": \"tfidf_\",\n  \"rows\": 3,\n  \"fields\": [\n    {\n      \"column\": \"also\",\n      \"properties\": {\n        \"dtype\": \"number\",\n        \"std\": 0.2684658578816955,\n        \"min\": 0.0,\n        \"max\": 0.46499650594866215,\n        \"num_unique_values\": 2,\n        \"samples\": [\n          0.46499650594866215,\n          0.0\n        ],\n        \"semantic_type\": \"\",\n        \"description\": \"\"\n      }\n    },\n    {\n      \"column\": \"and\",\n      \"properties\": {\n        \"dtype\": \"number\",\n        \"std\": 0.18565023910875159,\n        \"min\": 0.0,\n        \"max\": 0.32155564657366836,\n        \"num_unique_values\": 2,\n        \"samples\": [\n          0.0,\n          0.32155564657366836\n        ],\n        \"semantic_type\": \"\",\n        \"description\": \"\"\n      }\n    },\n    {\n      \"column\": \"football\",\n      \"properties\": {\n        \"dtype\": \"number\",\n        \"std\": 0.2684658578816955,\n        \"min\": 0.0,\n        \"max\": 0.46499650594866215,\n        \"num_unique_values\": 2,\n        \"samples\": [\n          0.46499650594866215,\n          0.0\n        ],\n        \"semantic_type\": \"\",\n        \"description\": \"\"\n      }\n    },\n    {\n      \"column\": \"games\",\n      \"properties\": {\n        \"dtype\": \"number\",\n        \"std\": 0.2684658578816955,\n        \"min\": 0.0,\n        \"max\": 0.46499650594866215,\n        \"num_unique_values\": 2,\n        \"samples\": [\n          0.46499650594866215,\n          0.0\n        ],\n        \"semantic_type\": \"\",\n        \"description\": \"\"\n      }\n    },\n    {\n      \"column\": \"james\",\n      \"properties\": {\n        \"dtype\": \"number\",\n        \"std\": 0.3307806167653008,\n        \"min\": 0.0,\n        \"max\": 0.5729288343964706,\n        \"num_unique_values\": 2,\n        \"samples\": [\n          0.5729288343964706,\n          0.0\n        ],\n        \"semantic_type\": \"\",\n        \"description\": \"\"\n      }\n    },\n    {\n      \"column\": \"john\",\n      \"properties\": {\n        \"dtype\": \"number\",\n        \"std\": 0.18565023910875159,\n        \"min\": 0.0,\n        \"max\": 0.32155564657366836,\n        \"num_unique_values\": 2,\n        \"samples\": [\n          0.0,\n          0.32155564657366836\n        ],\n        \"semantic_type\": \"\",\n        \"description\": \"\"\n      }\n    },\n    {\n      \"column\": \"likes\",\n      \"properties\": {\n        \"dtype\": \"number\",\n        \"std\": 0.05299104940866303,\n        \"min\": 0.2746344271115768,\n        \"max\": 0.3798318897088743,\n        \"num_unique_values\": 3,\n        \"samples\": [\n          0.3798318897088743,\n          0.3383809989908826\n        ],\n        \"semantic_type\": \"\",\n        \"description\": \"\"\n      }\n    },\n    {\n      \"column\": \"mary\",\n      \"properties\": {\n        \"dtype\": \"number\",\n        \"std\": 0.1810932724497615,\n        \"min\": 0.0,\n        \"max\": 0.3536418282696428,\n        \"num_unique_values\": 3,\n        \"samples\": [\n          0.24455135746179976,\n          0.0\n        ],\n        \"semantic_type\": \"\",\n        \"description\": \"\"\n      }\n    },\n    {\n      \"column\": \"movies\",\n      \"properties\": {\n        \"dtype\": \"number\",\n        \"std\": 0.37130047821750317,\n        \"min\": 0.0,\n        \"max\": 0.6431112931473367,\n        \"num_unique_values\": 2,\n        \"samples\": [\n          0.0,\n          0.6431112931473367\n        ],\n        \"semantic_type\": \"\",\n        \"description\": \"\"\n      }\n    },\n    {\n      \"column\": \"to\",\n      \"properties\": {\n        \"dtype\": \"number\",\n        \"std\": 0.07447898916479113,\n        \"min\": 0.18991594485443716,\n        \"max\": 0.3383809989908826,\n        \"num_unique_values\": 3,\n        \"samples\": [\n          0.18991594485443716,\n          0.3383809989908826\n        ],\n        \"semantic_type\": \"\",\n        \"description\": \"\"\n      }\n    },\n    {\n      \"column\": \"too\",\n      \"properties\": {\n        \"dtype\": \"number\",\n        \"std\": 0.18565023910875159,\n        \"min\": 0.0,\n        \"max\": 0.32155564657366836,\n        \"num_unique_values\": 2,\n        \"samples\": [\n          0.0,\n          0.32155564657366836\n        ],\n        \"semantic_type\": \"\",\n        \"description\": \"\"\n      }\n    },\n    {\n      \"column\": \"tv\",\n      \"properties\": {\n        \"dtype\": \"number\",\n        \"std\": 0.3307806167653008,\n        \"min\": 0.0,\n        \"max\": 0.5729288343964706,\n        \"num_unique_values\": 2,\n        \"samples\": [\n          0.5729288343964706,\n          0.0\n        ],\n        \"semantic_type\": \"\",\n        \"description\": \"\"\n      }\n    },\n    {\n      \"column\": \"watch\",\n      \"properties\": {\n        \"dtype\": \"number\",\n        \"std\": 0.07447898916479113,\n        \"min\": 0.18991594485443716,\n        \"max\": 0.3383809989908826,\n        \"num_unique_values\": 3,\n        \"samples\": [\n          0.18991594485443716,\n          0.3383809989908826\n        ],\n        \"semantic_type\": \"\",\n        \"description\": \"\"\n      }\n    }\n  ]\n}"
            }
          },
          "metadata": {},
          "execution_count": 18
        }
      ]
    },
    {
      "cell_type": "markdown",
      "source": [
        "### 16-8. LSA와 LDA (1) LSA\n",
        "DTM과 TF-IDF 같이 BoW 기반 표현 방법은 근본적으로 단어의 의미를 벡터로 표현하지 못한다는 한계\n"
      ],
      "metadata": {
        "id": "2oLhmJPDmVo3"
      }
    },
    {
      "cell_type": "markdown",
      "source": [
        "### LSA(Latent Semantic Analysis)\n",
        "잠재 의미 분석\n",
        "- 전체 corpus에서 문서 속 단어들 사이의 관계를 찾아내는 자연어 처리 정보 검색 기술\n",
        "- 단어와 단어 사이, 문서와 문서 사이, 단어와 문서 사이의 의미적 유사성 점수 찾기\n",
        "### 특잇값 분해(Singular Value Decompotion)\n",
        "- 단위 행렬: 주대각 성분이 모두 1, 나머지 성분은 모두 0인 정사각행렬\n",
        "- n차 정사각행렬 A에 대해 어떤 행렬을 곱했을 때, 결과 행렬이 단위 행렬이라면 이 행렬은 A의 역행렬이다.\n",
        "- 특이값 분해란 m x n 크기의 임의의 사각 행렬 A를 특이 벡터의 행렬과 특잇값의 대각행렬로 분해하는 것이다.\n",
        "- 복잡한 정보를 방향과 중요도로 나누는 것\n",
        "### Truncated SVD (절단된 특잇값 분해)\n",
        "- 특이값 가운데 가장 중요한 t개만 남기고 해당 특잇값에 대응되는 특이 벡터들로 행렬 A를 근사하도록 하는 것\n",
        "- 여기서 t는 하이퍼파라미터\n",
        "### LSA와 Truncated SVD\n",
        "- LSA는 DTM이나 TF-IDF 행렬 등에 Truncated SVD를 수행\n",
        "- 이렇게 분해하여 얻은 행렬 3개는 각각 '문서들과 관련된 의미들을 표현한 행렬', '단어들과 관련된 의미를 표현한 행렬' , '각 의미의 중요도를 표현한 행렬\n",
        "- Uk는 m x k 크기, 문서 수는 줄어들지 않았다. Uk의 각 행은 각 문서를 표현하는 문서 벡터\n",
        "- Vkt는 k x n의 크기를 가지는 행렬. 각 열은 각 단어를 나타내는 n차원의 단어 벡터\n",
        "- k열은 전체 corpus로부터 얻어낸 k개의 주요 topic으로 간주"
      ],
      "metadata": {
        "id": "D4DzYmrQndt1"
      }
    },
    {
      "cell_type": "markdown",
      "source": [
        "![스크린샷 2025-06-17 오후 4.00.24.png](data:image/png;base64,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)"
      ],
      "metadata": {
        "id": "UymrkwFpsGcD"
      }
    },
    {
      "cell_type": "markdown",
      "source": [
        "### 16-9. LSA와 LDA (2) LSA 실습\n"
      ],
      "metadata": {
        "id": "0-btnzkYsr2H"
      }
    },
    {
      "cell_type": "code",
      "source": [
        "import pandas as pd\n",
        "import numpy as np\n",
        "import urllib.request\n",
        "from sklearn.feature_extraction.text import CountVectorizer\n",
        "from sklearn.feature_extraction.text import TfidfVectorizer\n",
        "import nltk\n",
        "from nltk.corpus import stopwords\n",
        "from nltk.stem import WordNetLemmatizer\n",
        "print('=3')"
      ],
      "metadata": {
        "colab": {
          "base_uri": "https://localhost:8080/"
        },
        "id": "g9oTLiXxndZ0",
        "outputId": "3d8edd7f-679d-44a5-ed97-6b9febf0faf8"
      },
      "execution_count": 19,
      "outputs": [
        {
          "output_type": "stream",
          "name": "stdout",
          "text": [
            "=3\n"
          ]
        }
      ]
    },
    {
      "cell_type": "code",
      "source": [
        "nltk.download('punkt')\n",
        "nltk.download('wordnet')\n",
        "nltk.download('stopwords')\n",
        "nltk.download('punkt_tab')"
      ],
      "metadata": {
        "colab": {
          "base_uri": "https://localhost:8080/"
        },
        "id": "arpiuzEWsnHf",
        "outputId": "599d3d8b-a205-4dcd-81e0-77d7825483d0"
      },
      "execution_count": 20,
      "outputs": [
        {
          "output_type": "stream",
          "name": "stderr",
          "text": [
            "[nltk_data] Downloading package punkt to /root/nltk_data...\n",
            "[nltk_data]   Unzipping tokenizers/punkt.zip.\n",
            "[nltk_data] Downloading package wordnet to /root/nltk_data...\n",
            "[nltk_data] Downloading package stopwords to /root/nltk_data...\n",
            "[nltk_data]   Unzipping corpora/stopwords.zip.\n",
            "[nltk_data] Downloading package punkt_tab to /root/nltk_data...\n",
            "[nltk_data]   Unzipping tokenizers/punkt_tab.zip.\n"
          ]
        },
        {
          "output_type": "execute_result",
          "data": {
            "text/plain": [
              "True"
            ]
          },
          "metadata": {},
          "execution_count": 20
        }
      ]
    },
    {
      "cell_type": "code",
      "source": [
        "import os\n",
        "csv_filename = './abcnews-date-text.csv'\n",
        "url = \"https://raw.githubusercontent.com/franciscadias/data/master/abcnews-date-text.csv\"\n",
        "urllib.request.urlretrieve(url, filename=csv_filename)"
      ],
      "metadata": {
        "colab": {
          "base_uri": "https://localhost:8080/"
        },
        "id": "IPasHllPsI_E",
        "outputId": "3f9c51f3-0d4a-40d6-86e6-ff8dbef49b57"
      },
      "execution_count": 21,
      "outputs": [
        {
          "output_type": "execute_result",
          "data": {
            "text/plain": [
              "('./abcnews-date-text.csv', <http.client.HTTPMessage at 0x7ac35b43d610>)"
            ]
          },
          "metadata": {},
          "execution_count": 21
        }
      ]
    },
    {
      "cell_type": "code",
      "source": [
        "# 다운로드한 데이터를 데이터 프레임에 저장하고 전체 샘플 수 출력\n",
        "data = pd.read_csv(csv_filename, on_bad_lines= 'skip')\n",
        "data.shape"
      ],
      "metadata": {
        "colab": {
          "base_uri": "https://localhost:8080/"
        },
        "id": "3fFG2SE2l771",
        "outputId": "27aa9249-e770-4126-a392-1e9c09a5aa3b"
      },
      "execution_count": 22,
      "outputs": [
        {
          "output_type": "execute_result",
          "data": {
            "text/plain": [
              "(1082168, 2)"
            ]
          },
          "metadata": {},
          "execution_count": 22
        }
      ]
    },
    {
      "cell_type": "code",
      "source": [
        "data.head()"
      ],
      "metadata": {
        "colab": {
          "base_uri": "https://localhost:8080/",
          "height": 206
        },
        "id": "fQPmQeh3ttrv",
        "outputId": "6e3f36c0-e76e-4fb2-90be-fb67b6757017"
      },
      "execution_count": 23,
      "outputs": [
        {
          "output_type": "execute_result",
          "data": {
            "text/plain": [
              "   publish_date                                      headline_text\n",
              "0      20030219  aba decides against community broadcasting lic...\n",
              "1      20030219     act fire witnesses must be aware of defamation\n",
              "2      20030219     a g calls for infrastructure protection summit\n",
              "3      20030219           air nz staff in aust strike for pay rise\n",
              "4      20030219      air nz strike to affect australian travellers"
            ],
            "text/html": [
              "\n",
              "  <div id=\"df-9b05d29a-5b9f-4375-a455-8e8f6bbd59b3\" class=\"colab-df-container\">\n",
              "    <div>\n",
              "<style scoped>\n",
              "    .dataframe tbody tr th:only-of-type {\n",
              "        vertical-align: middle;\n",
              "    }\n",
              "\n",
              "    .dataframe tbody tr th {\n",
              "        vertical-align: top;\n",
              "    }\n",
              "\n",
              "    .dataframe thead th {\n",
              "        text-align: right;\n",
              "    }\n",
              "</style>\n",
              "<table border=\"1\" class=\"dataframe\">\n",
              "  <thead>\n",
              "    <tr style=\"text-align: right;\">\n",
              "      <th></th>\n",
              "      <th>publish_date</th>\n",
              "      <th>headline_text</th>\n",
              "    </tr>\n",
              "  </thead>\n",
              "  <tbody>\n",
              "    <tr>\n",
              "      <th>0</th>\n",
              "      <td>20030219</td>\n",
              "      <td>aba decides against community broadcasting lic...</td>\n",
              "    </tr>\n",
              "    <tr>\n",
              "      <th>1</th>\n",
              "      <td>20030219</td>\n",
              "      <td>act fire witnesses must be aware of defamation</td>\n",
              "    </tr>\n",
              "    <tr>\n",
              "      <th>2</th>\n",
              "      <td>20030219</td>\n",
              "      <td>a g calls for infrastructure protection summit</td>\n",
              "    </tr>\n",
              "    <tr>\n",
              "      <th>3</th>\n",
              "      <td>20030219</td>\n",
              "      <td>air nz staff in aust strike for pay rise</td>\n",
              "    </tr>\n",
              "    <tr>\n",
              "      <th>4</th>\n",
              "      <td>20030219</td>\n",
              "      <td>air nz strike to affect australian travellers</td>\n",
              "    </tr>\n",
              "  </tbody>\n",
              "</table>\n",
              "</div>\n",
              "    <div class=\"colab-df-buttons\">\n",
              "\n",
              "  <div class=\"colab-df-container\">\n",
              "    <button class=\"colab-df-convert\" onclick=\"convertToInteractive('df-9b05d29a-5b9f-4375-a455-8e8f6bbd59b3')\"\n",
              "            title=\"Convert this dataframe to an interactive table.\"\n",
              "            style=\"display:none;\">\n",
              "\n",
              "  <svg xmlns=\"http://www.w3.org/2000/svg\" height=\"24px\" viewBox=\"0 -960 960 960\">\n",
              "    <path d=\"M120-120v-720h720v720H120Zm60-500h600v-160H180v160Zm220 220h160v-160H400v160Zm0 220h160v-160H400v160ZM180-400h160v-160H180v160Zm440 0h160v-160H620v160ZM180-180h160v-160H180v160Zm440 0h160v-160H620v160Z\"/>\n",
              "  </svg>\n",
              "    </button>\n",
              "\n",
              "  <style>\n",
              "    .colab-df-container {\n",
              "      display:flex;\n",
              "      gap: 12px;\n",
              "    }\n",
              "\n",
              "    .colab-df-convert {\n",
              "      background-color: #E8F0FE;\n",
              "      border: none;\n",
              "      border-radius: 50%;\n",
              "      cursor: pointer;\n",
              "      display: none;\n",
              "      fill: #1967D2;\n",
              "      height: 32px;\n",
              "      padding: 0 0 0 0;\n",
              "      width: 32px;\n",
              "    }\n",
              "\n",
              "    .colab-df-convert:hover {\n",
              "      background-color: #E2EBFA;\n",
              "      box-shadow: 0px 1px 2px rgba(60, 64, 67, 0.3), 0px 1px 3px 1px rgba(60, 64, 67, 0.15);\n",
              "      fill: #174EA6;\n",
              "    }\n",
              "\n",
              "    .colab-df-buttons div {\n",
              "      margin-bottom: 4px;\n",
              "    }\n",
              "\n",
              "    [theme=dark] .colab-df-convert {\n",
              "      background-color: #3B4455;\n",
              "      fill: #D2E3FC;\n",
              "    }\n",
              "\n",
              "    [theme=dark] .colab-df-convert:hover {\n",
              "      background-color: #434B5C;\n",
              "      box-shadow: 0px 1px 3px 1px rgba(0, 0, 0, 0.15);\n",
              "      filter: drop-shadow(0px 1px 2px rgba(0, 0, 0, 0.3));\n",
              "      fill: #FFFFFF;\n",
              "    }\n",
              "  </style>\n",
              "\n",
              "    <script>\n",
              "      const buttonEl =\n",
              "        document.querySelector('#df-9b05d29a-5b9f-4375-a455-8e8f6bbd59b3 button.colab-df-convert');\n",
              "      buttonEl.style.display =\n",
              "        google.colab.kernel.accessAllowed ? 'block' : 'none';\n",
              "\n",
              "      async function convertToInteractive(key) {\n",
              "        const element = document.querySelector('#df-9b05d29a-5b9f-4375-a455-8e8f6bbd59b3');\n",
              "        const dataTable =\n",
              "          await google.colab.kernel.invokeFunction('convertToInteractive',\n",
              "                                                    [key], {});\n",
              "        if (!dataTable) return;\n",
              "\n",
              "        const docLinkHtml = 'Like what you see? Visit the ' +\n",
              "          '<a target=\"_blank\" href=https://colab.research.google.com/notebooks/data_table.ipynb>data table notebook</a>'\n",
              "          + ' to learn more about interactive tables.';\n",
              "        element.innerHTML = '';\n",
              "        dataTable['output_type'] = 'display_data';\n",
              "        await google.colab.output.renderOutput(dataTable, element);\n",
              "        const docLink = document.createElement('div');\n",
              "        docLink.innerHTML = docLinkHtml;\n",
              "        element.appendChild(docLink);\n",
              "      }\n",
              "    </script>\n",
              "  </div>\n",
              "\n",
              "\n",
              "    <div id=\"df-8bf27920-095d-4d33-ba2c-1e6a049faf93\">\n",
              "      <button class=\"colab-df-quickchart\" onclick=\"quickchart('df-8bf27920-095d-4d33-ba2c-1e6a049faf93')\"\n",
              "                title=\"Suggest charts\"\n",
              "                style=\"display:none;\">\n",
              "\n",
              "<svg xmlns=\"http://www.w3.org/2000/svg\" height=\"24px\"viewBox=\"0 0 24 24\"\n",
              "     width=\"24px\">\n",
              "    <g>\n",
              "        <path d=\"M19 3H5c-1.1 0-2 .9-2 2v14c0 1.1.9 2 2 2h14c1.1 0 2-.9 2-2V5c0-1.1-.9-2-2-2zM9 17H7v-7h2v7zm4 0h-2V7h2v10zm4 0h-2v-4h2v4z\"/>\n",
              "    </g>\n",
              "</svg>\n",
              "      </button>\n",
              "\n",
              "<style>\n",
              "  .colab-df-quickchart {\n",
              "      --bg-color: #E8F0FE;\n",
              "      --fill-color: #1967D2;\n",
              "      --hover-bg-color: #E2EBFA;\n",
              "      --hover-fill-color: #174EA6;\n",
              "      --disabled-fill-color: #AAA;\n",
              "      --disabled-bg-color: #DDD;\n",
              "  }\n",
              "\n",
              "  [theme=dark] .colab-df-quickchart {\n",
              "      --bg-color: #3B4455;\n",
              "      --fill-color: #D2E3FC;\n",
              "      --hover-bg-color: #434B5C;\n",
              "      --hover-fill-color: #FFFFFF;\n",
              "      --disabled-bg-color: #3B4455;\n",
              "      --disabled-fill-color: #666;\n",
              "  }\n",
              "\n",
              "  .colab-df-quickchart {\n",
              "    background-color: var(--bg-color);\n",
              "    border: none;\n",
              "    border-radius: 50%;\n",
              "    cursor: pointer;\n",
              "    display: none;\n",
              "    fill: var(--fill-color);\n",
              "    height: 32px;\n",
              "    padding: 0;\n",
              "    width: 32px;\n",
              "  }\n",
              "\n",
              "  .colab-df-quickchart:hover {\n",
              "    background-color: var(--hover-bg-color);\n",
              "    box-shadow: 0 1px 2px rgba(60, 64, 67, 0.3), 0 1px 3px 1px rgba(60, 64, 67, 0.15);\n",
              "    fill: var(--button-hover-fill-color);\n",
              "  }\n",
              "\n",
              "  .colab-df-quickchart-complete:disabled,\n",
              "  .colab-df-quickchart-complete:disabled:hover {\n",
              "    background-color: var(--disabled-bg-color);\n",
              "    fill: var(--disabled-fill-color);\n",
              "    box-shadow: none;\n",
              "  }\n",
              "\n",
              "  .colab-df-spinner {\n",
              "    border: 2px solid var(--fill-color);\n",
              "    border-color: transparent;\n",
              "    border-bottom-color: var(--fill-color);\n",
              "    animation:\n",
              "      spin 1s steps(1) infinite;\n",
              "  }\n",
              "\n",
              "  @keyframes spin {\n",
              "    0% {\n",
              "      border-color: transparent;\n",
              "      border-bottom-color: var(--fill-color);\n",
              "      border-left-color: var(--fill-color);\n",
              "    }\n",
              "    20% {\n",
              "      border-color: transparent;\n",
              "      border-left-color: var(--fill-color);\n",
              "      border-top-color: var(--fill-color);\n",
              "    }\n",
              "    30% {\n",
              "      border-color: transparent;\n",
              "      border-left-color: var(--fill-color);\n",
              "      border-top-color: var(--fill-color);\n",
              "      border-right-color: var(--fill-color);\n",
              "    }\n",
              "    40% {\n",
              "      border-color: transparent;\n",
              "      border-right-color: var(--fill-color);\n",
              "      border-top-color: var(--fill-color);\n",
              "    }\n",
              "    60% {\n",
              "      border-color: transparent;\n",
              "      border-right-color: var(--fill-color);\n",
              "    }\n",
              "    80% {\n",
              "      border-color: transparent;\n",
              "      border-right-color: var(--fill-color);\n",
              "      border-bottom-color: var(--fill-color);\n",
              "    }\n",
              "    90% {\n",
              "      border-color: transparent;\n",
              "      border-bottom-color: var(--fill-color);\n",
              "    }\n",
              "  }\n",
              "</style>\n",
              "\n",
              "      <script>\n",
              "        async function quickchart(key) {\n",
              "          const quickchartButtonEl =\n",
              "            document.querySelector('#' + key + ' button');\n",
              "          quickchartButtonEl.disabled = true;  // To prevent multiple clicks.\n",
              "          quickchartButtonEl.classList.add('colab-df-spinner');\n",
              "          try {\n",
              "            const charts = await google.colab.kernel.invokeFunction(\n",
              "                'suggestCharts', [key], {});\n",
              "          } catch (error) {\n",
              "            console.error('Error during call to suggestCharts:', error);\n",
              "          }\n",
              "          quickchartButtonEl.classList.remove('colab-df-spinner');\n",
              "          quickchartButtonEl.classList.add('colab-df-quickchart-complete');\n",
              "        }\n",
              "        (() => {\n",
              "          let quickchartButtonEl =\n",
              "            document.querySelector('#df-8bf27920-095d-4d33-ba2c-1e6a049faf93 button');\n",
              "          quickchartButtonEl.style.display =\n",
              "            google.colab.kernel.accessAllowed ? 'block' : 'none';\n",
              "        })();\n",
              "      </script>\n",
              "    </div>\n",
              "\n",
              "    </div>\n",
              "  </div>\n"
            ],
            "application/vnd.google.colaboratory.intrinsic+json": {
              "type": "dataframe",
              "variable_name": "data"
            }
          },
          "metadata": {},
          "execution_count": 23
        }
      ]
    },
    {
      "cell_type": "code",
      "source": [
        "# headline_text만 별도로 저장\n",
        "text = data[['headline_text']].copy()\n",
        "text.head()"
      ],
      "metadata": {
        "colab": {
          "base_uri": "https://localhost:8080/",
          "height": 206
        },
        "id": "GD3eapndtygn",
        "outputId": "dd5503dd-c03c-4c8c-a0f4-89e610edbabf"
      },
      "execution_count": 25,
      "outputs": [
        {
          "output_type": "execute_result",
          "data": {
            "text/plain": [
              "                                       headline_text\n",
              "0  aba decides against community broadcasting lic...\n",
              "1     act fire witnesses must be aware of defamation\n",
              "2     a g calls for infrastructure protection summit\n",
              "3           air nz staff in aust strike for pay rise\n",
              "4      air nz strike to affect australian travellers"
            ],
            "text/html": [
              "\n",
              "  <div id=\"df-eb797e10-0537-476d-9a0d-352fc3168777\" class=\"colab-df-container\">\n",
              "    <div>\n",
              "<style scoped>\n",
              "    .dataframe tbody tr th:only-of-type {\n",
              "        vertical-align: middle;\n",
              "    }\n",
              "\n",
              "    .dataframe tbody tr th {\n",
              "        vertical-align: top;\n",
              "    }\n",
              "\n",
              "    .dataframe thead th {\n",
              "        text-align: right;\n",
              "    }\n",
              "</style>\n",
              "<table border=\"1\" class=\"dataframe\">\n",
              "  <thead>\n",
              "    <tr style=\"text-align: right;\">\n",
              "      <th></th>\n",
              "      <th>headline_text</th>\n",
              "    </tr>\n",
              "  </thead>\n",
              "  <tbody>\n",
              "    <tr>\n",
              "      <th>0</th>\n",
              "      <td>aba decides against community broadcasting lic...</td>\n",
              "    </tr>\n",
              "    <tr>\n",
              "      <th>1</th>\n",
              "      <td>act fire witnesses must be aware of defamation</td>\n",
              "    </tr>\n",
              "    <tr>\n",
              "      <th>2</th>\n",
              "      <td>a g calls for infrastructure protection summit</td>\n",
              "    </tr>\n",
              "    <tr>\n",
              "      <th>3</th>\n",
              "      <td>air nz staff in aust strike for pay rise</td>\n",
              "    </tr>\n",
              "    <tr>\n",
              "      <th>4</th>\n",
              "      <td>air nz strike to affect australian travellers</td>\n",
              "    </tr>\n",
              "  </tbody>\n",
              "</table>\n",
              "</div>\n",
              "    <div class=\"colab-df-buttons\">\n",
              "\n",
              "  <div class=\"colab-df-container\">\n",
              "    <button class=\"colab-df-convert\" onclick=\"convertToInteractive('df-eb797e10-0537-476d-9a0d-352fc3168777')\"\n",
              "            title=\"Convert this dataframe to an interactive table.\"\n",
              "            style=\"display:none;\">\n",
              "\n",
              "  <svg xmlns=\"http://www.w3.org/2000/svg\" height=\"24px\" viewBox=\"0 -960 960 960\">\n",
              "    <path d=\"M120-120v-720h720v720H120Zm60-500h600v-160H180v160Zm220 220h160v-160H400v160Zm0 220h160v-160H400v160ZM180-400h160v-160H180v160Zm440 0h160v-160H620v160ZM180-180h160v-160H180v160Zm440 0h160v-160H620v160Z\"/>\n",
              "  </svg>\n",
              "    </button>\n",
              "\n",
              "  <style>\n",
              "    .colab-df-container {\n",
              "      display:flex;\n",
              "      gap: 12px;\n",
              "    }\n",
              "\n",
              "    .colab-df-convert {\n",
              "      background-color: #E8F0FE;\n",
              "      border: none;\n",
              "      border-radius: 50%;\n",
              "      cursor: pointer;\n",
              "      display: none;\n",
              "      fill: #1967D2;\n",
              "      height: 32px;\n",
              "      padding: 0 0 0 0;\n",
              "      width: 32px;\n",
              "    }\n",
              "\n",
              "    .colab-df-convert:hover {\n",
              "      background-color: #E2EBFA;\n",
              "      box-shadow: 0px 1px 2px rgba(60, 64, 67, 0.3), 0px 1px 3px 1px rgba(60, 64, 67, 0.15);\n",
              "      fill: #174EA6;\n",
              "    }\n",
              "\n",
              "    .colab-df-buttons div {\n",
              "      margin-bottom: 4px;\n",
              "    }\n",
              "\n",
              "    [theme=dark] .colab-df-convert {\n",
              "      background-color: #3B4455;\n",
              "      fill: #D2E3FC;\n",
              "    }\n",
              "\n",
              "    [theme=dark] .colab-df-convert:hover {\n",
              "      background-color: #434B5C;\n",
              "      box-shadow: 0px 1px 3px 1px rgba(0, 0, 0, 0.15);\n",
              "      filter: drop-shadow(0px 1px 2px rgba(0, 0, 0, 0.3));\n",
              "      fill: #FFFFFF;\n",
              "    }\n",
              "  </style>\n",
              "\n",
              "    <script>\n",
              "      const buttonEl =\n",
              "        document.querySelector('#df-eb797e10-0537-476d-9a0d-352fc3168777 button.colab-df-convert');\n",
              "      buttonEl.style.display =\n",
              "        google.colab.kernel.accessAllowed ? 'block' : 'none';\n",
              "\n",
              "      async function convertToInteractive(key) {\n",
              "        const element = document.querySelector('#df-eb797e10-0537-476d-9a0d-352fc3168777');\n",
              "        const dataTable =\n",
              "          await google.colab.kernel.invokeFunction('convertToInteractive',\n",
              "                                                    [key], {});\n",
              "        if (!dataTable) return;\n",
              "\n",
              "        const docLinkHtml = 'Like what you see? Visit the ' +\n",
              "          '<a target=\"_blank\" href=https://colab.research.google.com/notebooks/data_table.ipynb>data table notebook</a>'\n",
              "          + ' to learn more about interactive tables.';\n",
              "        element.innerHTML = '';\n",
              "        dataTable['output_type'] = 'display_data';\n",
              "        await google.colab.output.renderOutput(dataTable, element);\n",
              "        const docLink = document.createElement('div');\n",
              "        docLink.innerHTML = docLinkHtml;\n",
              "        element.appendChild(docLink);\n",
              "      }\n",
              "    </script>\n",
              "  </div>\n",
              "\n",
              "\n",
              "    <div id=\"df-867a1f7b-9063-40e4-a722-96a3f02eb0c7\">\n",
              "      <button class=\"colab-df-quickchart\" onclick=\"quickchart('df-867a1f7b-9063-40e4-a722-96a3f02eb0c7')\"\n",
              "                title=\"Suggest charts\"\n",
              "                style=\"display:none;\">\n",
              "\n",
              "<svg xmlns=\"http://www.w3.org/2000/svg\" height=\"24px\"viewBox=\"0 0 24 24\"\n",
              "     width=\"24px\">\n",
              "    <g>\n",
              "        <path d=\"M19 3H5c-1.1 0-2 .9-2 2v14c0 1.1.9 2 2 2h14c1.1 0 2-.9 2-2V5c0-1.1-.9-2-2-2zM9 17H7v-7h2v7zm4 0h-2V7h2v10zm4 0h-2v-4h2v4z\"/>\n",
              "    </g>\n",
              "</svg>\n",
              "      </button>\n",
              "\n",
              "<style>\n",
              "  .colab-df-quickchart {\n",
              "      --bg-color: #E8F0FE;\n",
              "      --fill-color: #1967D2;\n",
              "      --hover-bg-color: #E2EBFA;\n",
              "      --hover-fill-color: #174EA6;\n",
              "      --disabled-fill-color: #AAA;\n",
              "      --disabled-bg-color: #DDD;\n",
              "  }\n",
              "\n",
              "  [theme=dark] .colab-df-quickchart {\n",
              "      --bg-color: #3B4455;\n",
              "      --fill-color: #D2E3FC;\n",
              "      --hover-bg-color: #434B5C;\n",
              "      --hover-fill-color: #FFFFFF;\n",
              "      --disabled-bg-color: #3B4455;\n",
              "      --disabled-fill-color: #666;\n",
              "  }\n",
              "\n",
              "  .colab-df-quickchart {\n",
              "    background-color: var(--bg-color);\n",
              "    border: none;\n",
              "    border-radius: 50%;\n",
              "    cursor: pointer;\n",
              "    display: none;\n",
              "    fill: var(--fill-color);\n",
              "    height: 32px;\n",
              "    padding: 0;\n",
              "    width: 32px;\n",
              "  }\n",
              "\n",
              "  .colab-df-quickchart:hover {\n",
              "    background-color: var(--hover-bg-color);\n",
              "    box-shadow: 0 1px 2px rgba(60, 64, 67, 0.3), 0 1px 3px 1px rgba(60, 64, 67, 0.15);\n",
              "    fill: var(--button-hover-fill-color);\n",
              "  }\n",
              "\n",
              "  .colab-df-quickchart-complete:disabled,\n",
              "  .colab-df-quickchart-complete:disabled:hover {\n",
              "    background-color: var(--disabled-bg-color);\n",
              "    fill: var(--disabled-fill-color);\n",
              "    box-shadow: none;\n",
              "  }\n",
              "\n",
              "  .colab-df-spinner {\n",
              "    border: 2px solid var(--fill-color);\n",
              "    border-color: transparent;\n",
              "    border-bottom-color: var(--fill-color);\n",
              "    animation:\n",
              "      spin 1s steps(1) infinite;\n",
              "  }\n",
              "\n",
              "  @keyframes spin {\n",
              "    0% {\n",
              "      border-color: transparent;\n",
              "      border-bottom-color: var(--fill-color);\n",
              "      border-left-color: var(--fill-color);\n",
              "    }\n",
              "    20% {\n",
              "      border-color: transparent;\n",
              "      border-left-color: var(--fill-color);\n",
              "      border-top-color: var(--fill-color);\n",
              "    }\n",
              "    30% {\n",
              "      border-color: transparent;\n",
              "      border-left-color: var(--fill-color);\n",
              "      border-top-color: var(--fill-color);\n",
              "      border-right-color: var(--fill-color);\n",
              "    }\n",
              "    40% {\n",
              "      border-color: transparent;\n",
              "      border-right-color: var(--fill-color);\n",
              "      border-top-color: var(--fill-color);\n",
              "    }\n",
              "    60% {\n",
              "      border-color: transparent;\n",
              "      border-right-color: var(--fill-color);\n",
              "    }\n",
              "    80% {\n",
              "      border-color: transparent;\n",
              "      border-right-color: var(--fill-color);\n",
              "      border-bottom-color: var(--fill-color);\n",
              "    }\n",
              "    90% {\n",
              "      border-color: transparent;\n",
              "      border-bottom-color: var(--fill-color);\n",
              "    }\n",
              "  }\n",
              "</style>\n",
              "\n",
              "      <script>\n",
              "        async function quickchart(key) {\n",
              "          const quickchartButtonEl =\n",
              "            document.querySelector('#' + key + ' button');\n",
              "          quickchartButtonEl.disabled = true;  // To prevent multiple clicks.\n",
              "          quickchartButtonEl.classList.add('colab-df-spinner');\n",
              "          try {\n",
              "            const charts = await google.colab.kernel.invokeFunction(\n",
              "                'suggestCharts', [key], {});\n",
              "          } catch (error) {\n",
              "            console.error('Error during call to suggestCharts:', error);\n",
              "          }\n",
              "          quickchartButtonEl.classList.remove('colab-df-spinner');\n",
              "          quickchartButtonEl.classList.add('colab-df-quickchart-complete');\n",
              "        }\n",
              "        (() => {\n",
              "          let quickchartButtonEl =\n",
              "            document.querySelector('#df-867a1f7b-9063-40e4-a722-96a3f02eb0c7 button');\n",
              "          quickchartButtonEl.style.display =\n",
              "            google.colab.kernel.accessAllowed ? 'block' : 'none';\n",
              "        })();\n",
              "      </script>\n",
              "    </div>\n",
              "\n",
              "    </div>\n",
              "  </div>\n"
            ],
            "application/vnd.google.colaboratory.intrinsic+json": {
              "type": "dataframe",
              "variable_name": "text"
            }
          },
          "metadata": {},
          "execution_count": 25
        }
      ]
    },
    {
      "cell_type": "code",
      "source": [
        "text.nunique() # 중복을 제외하고 유일한 시퀀스를 가지는 샘플의 개수를 출력"
      ],
      "metadata": {
        "colab": {
          "base_uri": "https://localhost:8080/",
          "height": 115
        },
        "id": "D4MjePvvt-z0",
        "outputId": "4da536fa-58dd-42f0-9e62-495872c1bc83"
      },
      "execution_count": 26,
      "outputs": [
        {
          "output_type": "execute_result",
          "data": {
            "text/plain": [
              "headline_text    1054983\n",
              "dtype: int64"
            ],
            "text/html": [
              "<div>\n",
              "<style scoped>\n",
              "    .dataframe tbody tr th:only-of-type {\n",
              "        vertical-align: middle;\n",
              "    }\n",
              "\n",
              "    .dataframe tbody tr th {\n",
              "        vertical-align: top;\n",
              "    }\n",
              "\n",
              "    .dataframe thead th {\n",
              "        text-align: right;\n",
              "    }\n",
              "</style>\n",
              "<table border=\"1\" class=\"dataframe\">\n",
              "  <thead>\n",
              "    <tr style=\"text-align: right;\">\n",
              "      <th></th>\n",
              "      <th>0</th>\n",
              "    </tr>\n",
              "  </thead>\n",
              "  <tbody>\n",
              "    <tr>\n",
              "      <th>headline_text</th>\n",
              "      <td>1054983</td>\n",
              "    </tr>\n",
              "  </tbody>\n",
              "</table>\n",
              "</div><br><label><b>dtype:</b> int64</label>"
            ]
          },
          "metadata": {},
          "execution_count": 26
        }
      ]
    },
    {
      "cell_type": "code",
      "source": [
        "# 중복 제거\n",
        "text.drop_duplicates(inplace = True)\n",
        "text.reset_index(drop=True, inplace = True)\n",
        "text.shape"
      ],
      "metadata": {
        "colab": {
          "base_uri": "https://localhost:8080/"
        },
        "id": "6G8PDXe9t-tE",
        "outputId": "6c6eec94-cde6-473f-fe68-1518844b0dd5"
      },
      "execution_count": 28,
      "outputs": [
        {
          "output_type": "execute_result",
          "data": {
            "text/plain": [
              "(1054983, 1)"
            ]
          },
          "metadata": {},
          "execution_count": 28
        }
      ]
    },
    {
      "cell_type": "markdown",
      "source": [
        "### 데이터 정제 및 정규화\n",
        "NLTK tokenizer 이용해 전체 텍스트 데이터에 대해서 단어 토큰화 수행, NLTK가 제공하는 불용어 리스트를 사용해 불용어를 제거"
      ],
      "metadata": {
        "id": "9ScesfAIuX4V"
      }
    },
    {
      "cell_type": "code",
      "source": [
        "# NLTK 토크나이저를 이용해서 토큰화\n",
        "text['headline_text'] = text.apply(lambda row: nltk.word_tokenize(row['headline_text']), axis=1)\n",
        "\n",
        "# 불용어 제거\n",
        "stop_words = stopwords.words('english')\n",
        "text['headline_text'] = text['headline_text'].apply(lambda x: [word for word in x if word not in (stop_words)])\n",
        "\n",
        "text.head()"
      ],
      "metadata": {
        "colab": {
          "base_uri": "https://localhost:8080/",
          "height": 206
        },
        "id": "ZX-EBfXeuWQ6",
        "outputId": "7d499ce2-df72-4322-abd4-e0c4b22067c5"
      },
      "execution_count": 29,
      "outputs": [
        {
          "output_type": "execute_result",
          "data": {
            "text/plain": [
              "                                       headline_text\n",
              "0   [aba, decides, community, broadcasting, licence]\n",
              "1    [act, fire, witnesses, must, aware, defamation]\n",
              "2     [g, calls, infrastructure, protection, summit]\n",
              "3          [air, nz, staff, aust, strike, pay, rise]\n",
              "4  [air, nz, strike, affect, australian, travellers]"
            ],
            "text/html": [
              "\n",
              "  <div id=\"df-c5291123-1bf8-426c-9798-69fe363a6f0a\" class=\"colab-df-container\">\n",
              "    <div>\n",
              "<style scoped>\n",
              "    .dataframe tbody tr th:only-of-type {\n",
              "        vertical-align: middle;\n",
              "    }\n",
              "\n",
              "    .dataframe tbody tr th {\n",
              "        vertical-align: top;\n",
              "    }\n",
              "\n",
              "    .dataframe thead th {\n",
              "        text-align: right;\n",
              "    }\n",
              "</style>\n",
              "<table border=\"1\" class=\"dataframe\">\n",
              "  <thead>\n",
              "    <tr style=\"text-align: right;\">\n",
              "      <th></th>\n",
              "      <th>headline_text</th>\n",
              "    </tr>\n",
              "  </thead>\n",
              "  <tbody>\n",
              "    <tr>\n",
              "      <th>0</th>\n",
              "      <td>[aba, decides, community, broadcasting, licence]</td>\n",
              "    </tr>\n",
              "    <tr>\n",
              "      <th>1</th>\n",
              "      <td>[act, fire, witnesses, must, aware, defamation]</td>\n",
              "    </tr>\n",
              "    <tr>\n",
              "      <th>2</th>\n",
              "      <td>[g, calls, infrastructure, protection, summit]</td>\n",
              "    </tr>\n",
              "    <tr>\n",
              "      <th>3</th>\n",
              "      <td>[air, nz, staff, aust, strike, pay, rise]</td>\n",
              "    </tr>\n",
              "    <tr>\n",
              "      <th>4</th>\n",
              "      <td>[air, nz, strike, affect, australian, travellers]</td>\n",
              "    </tr>\n",
              "  </tbody>\n",
              "</table>\n",
              "</div>\n",
              "    <div class=\"colab-df-buttons\">\n",
              "\n",
              "  <div class=\"colab-df-container\">\n",
              "    <button class=\"colab-df-convert\" onclick=\"convertToInteractive('df-c5291123-1bf8-426c-9798-69fe363a6f0a')\"\n",
              "            title=\"Convert this dataframe to an interactive table.\"\n",
              "            style=\"display:none;\">\n",
              "\n",
              "  <svg xmlns=\"http://www.w3.org/2000/svg\" height=\"24px\" viewBox=\"0 -960 960 960\">\n",
              "    <path d=\"M120-120v-720h720v720H120Zm60-500h600v-160H180v160Zm220 220h160v-160H400v160Zm0 220h160v-160H400v160ZM180-400h160v-160H180v160Zm440 0h160v-160H620v160ZM180-180h160v-160H180v160Zm440 0h160v-160H620v160Z\"/>\n",
              "  </svg>\n",
              "    </button>\n",
              "\n",
              "  <style>\n",
              "    .colab-df-container {\n",
              "      display:flex;\n",
              "      gap: 12px;\n",
              "    }\n",
              "\n",
              "    .colab-df-convert {\n",
              "      background-color: #E8F0FE;\n",
              "      border: none;\n",
              "      border-radius: 50%;\n",
              "      cursor: pointer;\n",
              "      display: none;\n",
              "      fill: #1967D2;\n",
              "      height: 32px;\n",
              "      padding: 0 0 0 0;\n",
              "      width: 32px;\n",
              "    }\n",
              "\n",
              "    .colab-df-convert:hover {\n",
              "      background-color: #E2EBFA;\n",
              "      box-shadow: 0px 1px 2px rgba(60, 64, 67, 0.3), 0px 1px 3px 1px rgba(60, 64, 67, 0.15);\n",
              "      fill: #174EA6;\n",
              "    }\n",
              "\n",
              "    .colab-df-buttons div {\n",
              "      margin-bottom: 4px;\n",
              "    }\n",
              "\n",
              "    [theme=dark] .colab-df-convert {\n",
              "      background-color: #3B4455;\n",
              "      fill: #D2E3FC;\n",
              "    }\n",
              "\n",
              "    [theme=dark] .colab-df-convert:hover {\n",
              "      background-color: #434B5C;\n",
              "      box-shadow: 0px 1px 3px 1px rgba(0, 0, 0, 0.15);\n",
              "      filter: drop-shadow(0px 1px 2px rgba(0, 0, 0, 0.3));\n",
              "      fill: #FFFFFF;\n",
              "    }\n",
              "  </style>\n",
              "\n",
              "    <script>\n",
              "      const buttonEl =\n",
              "        document.querySelector('#df-c5291123-1bf8-426c-9798-69fe363a6f0a button.colab-df-convert');\n",
              "      buttonEl.style.display =\n",
              "        google.colab.kernel.accessAllowed ? 'block' : 'none';\n",
              "\n",
              "      async function convertToInteractive(key) {\n",
              "        const element = document.querySelector('#df-c5291123-1bf8-426c-9798-69fe363a6f0a');\n",
              "        const dataTable =\n",
              "          await google.colab.kernel.invokeFunction('convertToInteractive',\n",
              "                                                    [key], {});\n",
              "        if (!dataTable) return;\n",
              "\n",
              "        const docLinkHtml = 'Like what you see? Visit the ' +\n",
              "          '<a target=\"_blank\" href=https://colab.research.google.com/notebooks/data_table.ipynb>data table notebook</a>'\n",
              "          + ' to learn more about interactive tables.';\n",
              "        element.innerHTML = '';\n",
              "        dataTable['output_type'] = 'display_data';\n",
              "        await google.colab.output.renderOutput(dataTable, element);\n",
              "        const docLink = document.createElement('div');\n",
              "        docLink.innerHTML = docLinkHtml;\n",
              "        element.appendChild(docLink);\n",
              "      }\n",
              "    </script>\n",
              "  </div>\n",
              "\n",
              "\n",
              "    <div id=\"df-bc7920e6-2dfe-4812-996b-a13fd0311cc6\">\n",
              "      <button class=\"colab-df-quickchart\" onclick=\"quickchart('df-bc7920e6-2dfe-4812-996b-a13fd0311cc6')\"\n",
              "                title=\"Suggest charts\"\n",
              "                style=\"display:none;\">\n",
              "\n",
              "<svg xmlns=\"http://www.w3.org/2000/svg\" height=\"24px\"viewBox=\"0 0 24 24\"\n",
              "     width=\"24px\">\n",
              "    <g>\n",
              "        <path d=\"M19 3H5c-1.1 0-2 .9-2 2v14c0 1.1.9 2 2 2h14c1.1 0 2-.9 2-2V5c0-1.1-.9-2-2-2zM9 17H7v-7h2v7zm4 0h-2V7h2v10zm4 0h-2v-4h2v4z\"/>\n",
              "    </g>\n",
              "</svg>\n",
              "      </button>\n",
              "\n",
              "<style>\n",
              "  .colab-df-quickchart {\n",
              "      --bg-color: #E8F0FE;\n",
              "      --fill-color: #1967D2;\n",
              "      --hover-bg-color: #E2EBFA;\n",
              "      --hover-fill-color: #174EA6;\n",
              "      --disabled-fill-color: #AAA;\n",
              "      --disabled-bg-color: #DDD;\n",
              "  }\n",
              "\n",
              "  [theme=dark] .colab-df-quickchart {\n",
              "      --bg-color: #3B4455;\n",
              "      --fill-color: #D2E3FC;\n",
              "      --hover-bg-color: #434B5C;\n",
              "      --hover-fill-color: #FFFFFF;\n",
              "      --disabled-bg-color: #3B4455;\n",
              "      --disabled-fill-color: #666;\n",
              "  }\n",
              "\n",
              "  .colab-df-quickchart {\n",
              "    background-color: var(--bg-color);\n",
              "    border: none;\n",
              "    border-radius: 50%;\n",
              "    cursor: pointer;\n",
              "    display: none;\n",
              "    fill: var(--fill-color);\n",
              "    height: 32px;\n",
              "    padding: 0;\n",
              "    width: 32px;\n",
              "  }\n",
              "\n",
              "  .colab-df-quickchart:hover {\n",
              "    background-color: var(--hover-bg-color);\n",
              "    box-shadow: 0 1px 2px rgba(60, 64, 67, 0.3), 0 1px 3px 1px rgba(60, 64, 67, 0.15);\n",
              "    fill: var(--button-hover-fill-color);\n",
              "  }\n",
              "\n",
              "  .colab-df-quickchart-complete:disabled,\n",
              "  .colab-df-quickchart-complete:disabled:hover {\n",
              "    background-color: var(--disabled-bg-color);\n",
              "    fill: var(--disabled-fill-color);\n",
              "    box-shadow: none;\n",
              "  }\n",
              "\n",
              "  .colab-df-spinner {\n",
              "    border: 2px solid var(--fill-color);\n",
              "    border-color: transparent;\n",
              "    border-bottom-color: var(--fill-color);\n",
              "    animation:\n",
              "      spin 1s steps(1) infinite;\n",
              "  }\n",
              "\n",
              "  @keyframes spin {\n",
              "    0% {\n",
              "      border-color: transparent;\n",
              "      border-bottom-color: var(--fill-color);\n",
              "      border-left-color: var(--fill-color);\n",
              "    }\n",
              "    20% {\n",
              "      border-color: transparent;\n",
              "      border-left-color: var(--fill-color);\n",
              "      border-top-color: var(--fill-color);\n",
              "    }\n",
              "    30% {\n",
              "      border-color: transparent;\n",
              "      border-left-color: var(--fill-color);\n",
              "      border-top-color: var(--fill-color);\n",
              "      border-right-color: var(--fill-color);\n",
              "    }\n",
              "    40% {\n",
              "      border-color: transparent;\n",
              "      border-right-color: var(--fill-color);\n",
              "      border-top-color: var(--fill-color);\n",
              "    }\n",
              "    60% {\n",
              "      border-color: transparent;\n",
              "      border-right-color: var(--fill-color);\n",
              "    }\n",
              "    80% {\n",
              "      border-color: transparent;\n",
              "      border-right-color: var(--fill-color);\n",
              "      border-bottom-color: var(--fill-color);\n",
              "    }\n",
              "    90% {\n",
              "      border-color: transparent;\n",
              "      border-bottom-color: var(--fill-color);\n",
              "    }\n",
              "  }\n",
              "</style>\n",
              "\n",
              "      <script>\n",
              "        async function quickchart(key) {\n",
              "          const quickchartButtonEl =\n",
              "            document.querySelector('#' + key + ' button');\n",
              "          quickchartButtonEl.disabled = true;  // To prevent multiple clicks.\n",
              "          quickchartButtonEl.classList.add('colab-df-spinner');\n",
              "          try {\n",
              "            const charts = await google.colab.kernel.invokeFunction(\n",
              "                'suggestCharts', [key], {});\n",
              "          } catch (error) {\n",
              "            console.error('Error during call to suggestCharts:', error);\n",
              "          }\n",
              "          quickchartButtonEl.classList.remove('colab-df-spinner');\n",
              "          quickchartButtonEl.classList.add('colab-df-quickchart-complete');\n",
              "        }\n",
              "        (() => {\n",
              "          let quickchartButtonEl =\n",
              "            document.querySelector('#df-bc7920e6-2dfe-4812-996b-a13fd0311cc6 button');\n",
              "          quickchartButtonEl.style.display =\n",
              "            google.colab.kernel.accessAllowed ? 'block' : 'none';\n",
              "        })();\n",
              "      </script>\n",
              "    </div>\n",
              "\n",
              "    </div>\n",
              "  </div>\n"
            ],
            "application/vnd.google.colaboratory.intrinsic+json": {
              "type": "dataframe",
              "variable_name": "text"
            }
          },
          "metadata": {},
          "execution_count": 29
        }
      ]
    },
    {
      "cell_type": "code",
      "source": [
        "# 단어 정규화. 3인칭 단수 표현 -> 1인칭 변환, 과거형 동사 -> 현재형 동사 등을 수행한다.\n",
        "text['headline_text'] = text['headline_text'].apply(lambda x: [WordNetLemmatizer().lemmatize(word, pos='v') for word in x])\n",
        "\n",
        "# 길이가 1 ~ 2인 단어는 제거.\n",
        "text = text['headline_text'].apply(lambda x: [word for word in x if len(word) > 2])\n",
        "print(text[:5])"
      ],
      "metadata": {
        "colab": {
          "base_uri": "https://localhost:8080/"
        },
        "id": "XBbRqtuBvBY3",
        "outputId": "bcac1854-ad93-4330-fe5e-2c174d895f08"
      },
      "execution_count": 30,
      "outputs": [
        {
          "output_type": "stream",
          "name": "stdout",
          "text": [
            "0     [aba, decide, community, broadcast, licence]\n",
            "1    [act, fire, witness, must, aware, defamation]\n",
            "2       [call, infrastructure, protection, summit]\n",
            "3            [air, staff, aust, strike, pay, rise]\n",
            "4    [air, strike, affect, australian, travellers]\n",
            "Name: headline_text, dtype: object\n"
          ]
        }
      ]
    },
    {
      "cell_type": "markdown",
      "source": [
        "### 역토큰화 및 DTM 생성\n",
        "DTM을 생성하는 CountVectorizer 또는 TF-IDF 행렬을 생성하는 TFidVectorizer의 입력을 사용하기 위해 역토큰화(detokenization) 수행"
      ],
      "metadata": {
        "id": "Lro2JAnfvUlA"
      }
    },
    {
      "cell_type": "code",
      "source": [
        "# 역토큰화 (토큰화 작업을 역으로 수행)\n",
        "detokenized_doc = []\n",
        "for i in range(len(text)):\n",
        "    t = ' '.join(text[i])\n",
        "    detokenized_doc.append(t)\n",
        "\n",
        "train_data = detokenized_doc\n",
        "print('=3')"
      ],
      "metadata": {
        "colab": {
          "base_uri": "https://localhost:8080/"
        },
        "id": "XX05sEWAvi8C",
        "outputId": "9bcfaed3-f140-4e50-e385-55be2210672d"
      },
      "execution_count": 31,
      "outputs": [
        {
          "output_type": "stream",
          "name": "stdout",
          "text": [
            "=3\n"
          ]
        }
      ]
    },
    {
      "cell_type": "code",
      "source": [
        "# 전처리 최종 결과는 train_data에 저장\n",
        "train_data[:5]"
      ],
      "metadata": {
        "colab": {
          "base_uri": "https://localhost:8080/"
        },
        "id": "S4TCEGUywoSq",
        "outputId": "f959a8c4-a34d-49dd-e444-76ce4079d98a"
      },
      "execution_count": 32,
      "outputs": [
        {
          "output_type": "execute_result",
          "data": {
            "text/plain": [
              "['aba decide community broadcast licence',\n",
              " 'act fire witness must aware defamation',\n",
              " 'call infrastructure protection summit',\n",
              " 'air staff aust strike pay rise',\n",
              " 'air strike affect australian travellers']"
            ]
          },
          "metadata": {},
          "execution_count": 32
        }
      ]
    },
    {
      "cell_type": "code",
      "source": [
        "# CountVectorizer를 사용하여 DTM을 생성, 단어의 수는 5,000개로 제한\n",
        "# 상위 5000개의 단어만 사용\n",
        "c_vectorizer = CountVectorizer(stop_words='english', max_features = 5000)\n",
        "document_term_matrix = c_vectorizer.fit_transform(train_data)\n",
        "print('=3')"
      ],
      "metadata": {
        "colab": {
          "base_uri": "https://localhost:8080/"
        },
        "id": "AX_gePiVwvS2",
        "outputId": "f4ab87b7-96a9-414b-9dc8-d710240f88d9"
      },
      "execution_count": 33,
      "outputs": [
        {
          "output_type": "stream",
          "name": "stdout",
          "text": [
            "=3\n"
          ]
        }
      ]
    },
    {
      "cell_type": "code",
      "source": [
        "# DTM의 크기를 확인\n",
        "# DTM의 크기(shape)는 (문서의 수 × 단어 집합의 크기)\n",
        "print('행렬의 크기 :',document_term_matrix.shape)"
      ],
      "metadata": {
        "colab": {
          "base_uri": "https://localhost:8080/"
        },
        "id": "4dYkgraXw3Rh",
        "outputId": "a43151f0-9b25-4e61-8df6-21c78275d5b7"
      },
      "execution_count": 34,
      "outputs": [
        {
          "output_type": "stream",
          "name": "stdout",
          "text": [
            "행렬의 크기 : (1054983, 5000)\n"
          ]
        }
      ]
    },
    {
      "cell_type": "markdown",
      "source": [
        "### scikit-learn TruncatedSVD 활용\n",
        "- Truncated SVD를 통해 LSA를 수행해 봅시다. 토픽의 수를 10\n",
        "- 하이퍼파라미터 k에 해당되며, 행렬이 k x (단어의 수)의 크기를 가지도록 DTM에 TruncatedSVD를 수행"
      ],
      "metadata": {
        "id": "5ntuz2bLw_eC"
      }
    },
    {
      "cell_type": "code",
      "source": [
        "from sklearn.decomposition import TruncatedSVD\n",
        "\n",
        "n_topics = 10\n",
        "lsa_model = TruncatedSVD(n_components = n_topics)\n",
        "lsa_model.fit_transform(document_term_matrix)"
      ],
      "metadata": {
        "colab": {
          "base_uri": "https://localhost:8080/"
        },
        "id": "aSZSOLJwxRk5",
        "outputId": "6067d75c-e3fc-4230-8f15-801569682169"
      },
      "execution_count": 35,
      "outputs": [
        {
          "output_type": "execute_result",
          "data": {
            "text/plain": [
              "array([[ 1.20186854e-02, -3.62694817e-03,  1.82285519e-02, ...,\n",
              "         3.77846683e-03,  1.62169291e-03,  2.48381282e-03],\n",
              "       [ 2.90221698e-02, -1.08538648e-02,  1.81836631e-02, ...,\n",
              "        -1.76865467e-03,  8.63898605e-03,  3.18985094e-03],\n",
              "       [ 5.02226877e-03, -1.97652196e-03,  9.73188643e-03, ...,\n",
              "        -1.89060251e-03, -2.15227206e-03,  5.65367092e-04],\n",
              "       ...,\n",
              "       [ 2.96694400e-02,  4.31914119e-03,  2.49660704e-02, ...,\n",
              "         3.94018109e-02, -7.49848208e-03,  2.19391041e-02],\n",
              "       [ 6.13258964e-02, -6.32365511e-03,  1.38847775e-01, ...,\n",
              "         9.96420844e-01, -7.33462973e-01, -1.55386643e-01],\n",
              "       [ 7.13400474e-02,  2.75600452e-02,  1.51626358e-03, ...,\n",
              "        -2.04986132e-02, -1.72197118e-02,  2.16984930e-02]])"
            ]
          },
          "metadata": {},
          "execution_count": 35
        }
      ]
    },
    {
      "cell_type": "code",
      "source": [
        "# TruncatedSVD를 통해 얻은 행렬 Vkt의 크기 확인\n",
        "print(lsa_model.components_.shape)"
      ],
      "metadata": {
        "colab": {
          "base_uri": "https://localhost:8080/"
        },
        "id": "tsAvGh6uxWRq",
        "outputId": "0aca48f7-9345-4dfa-ffaa-223fd406d535"
      },
      "execution_count": 36,
      "outputs": [
        {
          "output_type": "stream",
          "name": "stdout",
          "text": [
            "(10, 5000)\n"
          ]
        }
      ]
    },
    {
      "cell_type": "markdown",
      "source": [
        "행렬이 k x 단어의 수의 크기를 가지는 것을 확인"
      ],
      "metadata": {
        "id": "UnQIpp0sxkdg"
      }
    },
    {
      "cell_type": "code",
      "source": [
        "# 각행을 전체 corpus의 k개의 topic으로 판단하고 각 주제에서 n개씩 단어를 출력\n",
        "terms = c_vectorizer.get_feature_names_out() # 단어 집합. 5,000개의 단어가 저장됨.\n",
        "\n",
        "def get_topics(components, feature_names, n=5):\n",
        "    for idx, topic in enumerate(components):\n",
        "        print(\"Topic %d:\" % (idx+1), [(feature_names[i], topic[i].round(5)) for i in topic.argsort()[:-n - 1:-1]])\n",
        "get_topics(lsa_model.components_, terms)"
      ],
      "metadata": {
        "colab": {
          "base_uri": "https://localhost:8080/"
        },
        "id": "oEHLKKYPxiBz",
        "outputId": "0c7b8438-f0bd-4bca-b511-c0a9a86c01a6"
      },
      "execution_count": 37,
      "outputs": [
        {
          "output_type": "stream",
          "name": "stdout",
          "text": [
            "Topic 1: [('police', np.float64(0.74691)), ('man', np.float64(0.45375)), ('charge', np.float64(0.21114)), ('new', np.float64(0.14082)), ('court', np.float64(0.11146))]\n",
            "Topic 2: [('man', np.float64(0.69439)), ('charge', np.float64(0.30032)), ('court', np.float64(0.16743)), ('face', np.float64(0.11506)), ('murder', np.float64(0.10681))]\n",
            "Topic 3: [('new', np.float64(0.83796)), ('plan', np.float64(0.23684)), ('say', np.float64(0.18259)), ('govt', np.float64(0.11068)), ('council', np.float64(0.10887))]\n",
            "Topic 4: [('say', np.float64(0.73932)), ('plan', np.float64(0.35851)), ('govt', np.float64(0.16567)), ('council', np.float64(0.13233)), ('urge', np.float64(0.07977))]\n",
            "Topic 5: [('plan', np.float64(0.73326)), ('council', np.float64(0.17675)), ('govt', np.float64(0.13979)), ('urge', np.float64(0.07912)), ('water', np.float64(0.07306))]\n",
            "Topic 6: [('govt', np.float64(0.54318)), ('court', np.float64(0.2622)), ('urge', np.float64(0.23616)), ('fund', np.float64(0.21863)), ('face', np.float64(0.15798))]\n",
            "Topic 7: [('court', np.float64(0.48641)), ('charge', np.float64(0.47985)), ('face', np.float64(0.37503)), ('murder', np.float64(0.12127)), ('plan', np.float64(0.1172))]\n",
            "Topic 8: [('win', np.float64(0.71908)), ('court', np.float64(0.20234)), ('kill', np.float64(0.18134)), ('crash', np.float64(0.15723)), ('council', np.float64(0.10474))]\n",
            "Topic 9: [('court', np.float64(0.54783)), ('kill', np.float64(0.19596)), ('crash', np.float64(0.11985)), ('face', np.float64(0.11694)), ('accuse', np.float64(0.10054))]\n",
            "Topic 10: [('kill', np.float64(0.5707)), ('crash', np.float64(0.49833)), ('charge', np.float64(0.30254)), ('car', np.float64(0.18536)), ('report', np.float64(0.08257))]\n"
          ]
        }
      ]
    },
    {
      "cell_type": "markdown",
      "source": [
        "## 16-10. LSA와 LDA (3) LDA\n",
        "토픽모델링: 문서의 집합에서 토픽을 찾아내는 프로세스\n",
        "\n",
        "LDA(Latent Dirichlet Allocation)는 문서들이 토픽들의 혼합으로 구성, 토픽들은 확률 분포에 기반해 단어를 생성한다고 가정한다. 데이터가 주어지면, LDA는 이 가정에 따라 단어들의 분포로부터 무서가 생성되는 과정을 역추적해 문서의 토픽을 찾아낸다.\n",
        "- LDA는 각 토픽의 단어 분포와 각 문서의 토픽 분포를 추정"
      ],
      "metadata": {
        "id": "UC_B2TjSx6hx"
      }
    },
    {
      "cell_type": "markdown",
      "source": [
        "## 16-11. LSA와 LDA (4) LDA 실습\n",
        "### TF-IDF 행렬 생성\n",
        "- LDA는 DTM 또는 TF-IDF를 입력으로 받을 수 있다. 여기서는 TF-IDF를 사용\n",
        "- TfidfVectorizer를 사용하여 TF-IDF 행렬을 생성, 단어의 수는 5,000개로 제한\n",
        "- TF-IDF 행렬을 생성한 후에는 행렬의 크기를 확인\n",
        "\n"
      ],
      "metadata": {
        "id": "wLf45Ne40mSa"
      }
    },
    {
      "cell_type": "code",
      "source": [
        "# 상위 5,000개의 단어만 사용\n",
        "tfidf_vectorizer = TfidfVectorizer(stop_words='english', max_features=5000)\n",
        "tf_idf_matrix = tfidf_vectorizer.fit_transform(train_data)\n",
        "\n",
        "# TF-IDF 행렬의 크기를 확인해봅시다.\n",
        "print('행렬의 크기 :', tf_idf_matrix.shape)"
      ],
      "metadata": {
        "colab": {
          "base_uri": "https://localhost:8080/"
        },
        "id": "Eh1CrzulyxlS",
        "outputId": "aa32c7e1-314f-4df1-be8a-4c4d004e766b"
      },
      "execution_count": 38,
      "outputs": [
        {
          "output_type": "stream",
          "name": "stdout",
          "text": [
            "행렬의 크기 : (1054983, 5000)\n"
          ]
        }
      ]
    },
    {
      "cell_type": "markdown",
      "source": [
        "### scikit-learn LDA Model 활용\n",
        "- 사이킷런의 LDA 모델을 사용하여 학습\n",
        "- topic 10"
      ],
      "metadata": {
        "id": "WBnsXltc1UpH"
      }
    },
    {
      "cell_type": "code",
      "source": [
        "from sklearn.decomposition import LatentDirichletAllocation\n",
        "\n",
        "lda_model = LatentDirichletAllocation(n_components=10, learning_method='online', random_state=777, max_iter=1)\n",
        "lda_model.fit_transform(tf_idf_matrix)"
      ],
      "metadata": {
        "colab": {
          "base_uri": "https://localhost:8080/"
        },
        "id": "N0JMbrMQ1oPU",
        "outputId": "5a573ae7-88ff-4503-aac9-bf170296e03e"
      },
      "execution_count": 39,
      "outputs": [
        {
          "output_type": "execute_result",
          "data": {
            "text/plain": [
              "array([[0.0335099 , 0.0335099 , 0.0335099 , ..., 0.69841093, 0.0335099 ,\n",
              "        0.0335099 ],\n",
              "       [0.03365628, 0.03365628, 0.03365628, ..., 0.03365628, 0.03365628,\n",
              "        0.03365628],\n",
              "       [0.03661873, 0.0366096 , 0.0366096 , ..., 0.67050448, 0.0366096 ,\n",
              "        0.0366096 ],\n",
              "       ...,\n",
              "       [0.02914502, 0.14077174, 0.16177343, ..., 0.3678171 , 0.02914502,\n",
              "        0.02914502],\n",
              "       [0.02637829, 0.13847841, 0.02637829, ..., 0.02637829, 0.02637829,\n",
              "        0.12325015],\n",
              "       [0.22554418, 0.03376055, 0.03376055, ..., 0.03376055, 0.21169868,\n",
              "        0.03376055]])"
            ]
          },
          "metadata": {},
          "execution_count": 39
        }
      ]
    },
    {
      "cell_type": "code",
      "source": [
        "# 행렬 크기 확인\n",
        "print(lda_model.components_.shape)"
      ],
      "metadata": {
        "colab": {
          "base_uri": "https://localhost:8080/"
        },
        "id": "z86bUtkX1p0G",
        "outputId": "aec67620-19ab-4e93-b510-4dfc37e645e9"
      },
      "execution_count": 42,
      "outputs": [
        {
          "output_type": "stream",
          "name": "stdout",
          "text": [
            "(10, 5000)\n"
          ]
        }
      ]
    },
    {
      "cell_type": "code",
      "source": [
        "# LDA의 결과 토픽과 각 단어의 비중을 출력\n",
        "terms = tfidf_vectorizer.get_feature_names_out() # 단어 집합. 5000개의 단어가 저장\n",
        "\n",
        "def get_topics(components, feature_names, n = 5):\n",
        "  for idx, topic in enumerate(components):\n",
        "    print(\"Topic %d:\" % (idx + 1), [(feature_names[i], topic[i].round(5)) for i in topic.argsort()[:-n-1:-1]])\n",
        "\n",
        "get_topics(lda_model.components_, terms)"
      ],
      "metadata": {
        "colab": {
          "base_uri": "https://localhost:8080/"
        },
        "id": "H-jwYYZe1uOc",
        "outputId": "ce7277b0-aa4d-4439-ab26-549caff25993"
      },
      "execution_count": 40,
      "outputs": [
        {
          "output_type": "stream",
          "name": "stdout",
          "text": [
            "Topic 1: [('new', np.float64(6312.18956)), ('home', np.float64(4047.88866)), ('hit', np.float64(3572.56771)), ('ban', np.float64(2995.55782)), ('market', np.float64(2922.48643))]\n",
            "Topic 2: [('australia', np.float64(9367.76267)), ('charge', np.float64(5947.44682)), ('sydney', np.float64(5850.75816)), ('man', np.float64(5681.84494)), ('murder', np.float64(4677.14748))]\n",
            "Topic 3: [('say', np.float64(7586.74762)), ('woman', np.float64(3985.7297)), ('court', np.float64(3868.11592)), ('open', np.float64(3770.65617)), ('face', np.float64(3612.76986))]\n",
            "Topic 4: [('police', np.float64(6175.26407)), ('queensland', np.float64(5552.6178)), ('coast', np.float64(3825.45613)), ('tasmanian', np.float64(3550.61525)), ('gold', np.float64(2674.6521))]\n",
            "Topic 5: [('melbourne', np.float64(5298.43132)), ('school', np.float64(3966.56664)), ('2016', np.float64(3962.51293)), ('rural', np.float64(3521.89517)), ('warn', np.float64(3379.28397))]\n",
            "Topic 6: [('australian', np.float64(7674.55731)), ('perth', np.float64(4551.37241)), ('world', np.float64(4536.1423)), ('country', np.float64(4168.83784)), ('report', np.float64(3792.92852))]\n",
            "Topic 7: [('adelaide', np.float64(4867.98256)), ('south', np.float64(4852.40972)), ('house', np.float64(4480.70008)), ('make', np.float64(3773.51124)), ('north', np.float64(3710.84811))]\n",
            "Topic 8: [('state', np.float64(3656.60867)), ('help', np.float64(3541.84535)), ('people', np.float64(3034.78789)), ('child', np.float64(2784.71137)), ('fall', np.float64(2658.8695))]\n",
            "Topic 9: [('government', np.float64(6345.02772)), ('attack', np.float64(4787.33127)), ('qld', np.float64(3228.67543)), ('china', np.float64(3214.10765)), ('plan', np.float64(3099.45292))]\n",
            "Topic 10: [('trump', np.float64(8189.76919)), ('election', np.float64(5416.23601)), ('die', np.float64(4026.90025)), ('hour', np.float64(3124.37671)), ('shoot', np.float64(3104.51548))]\n"
          ]
        }
      ]
    },
    {
      "cell_type": "markdown",
      "source": [
        "## 16-12. 텍스트 분포를 이용한 비지도 학습 토크나이저 (1) 형태소 분석기와 단어 미등록 문제"
      ],
      "metadata": {
        "id": "P1l2Qd-b2oOM"
      }
    },
    {
      "cell_type": "markdown",
      "source": [
        "### 형태소 분석기의 필요성\n",
        "- 한국어는 교착어이다.\n",
        "- 교착어는 하나의 어절이 하나의 어근과 각각 단일한 기능을 가지는 하나 이상의 접사의 결합으로 이루어져 있는 언어\n",
        "- 조사는 교착어에만 존재"
      ],
      "metadata": {
        "id": "oPzXTlWu24ns"
      }
    },
    {
      "cell_type": "code",
      "source": [
        "# 영어 토큰화는 단순희 띄어쓰기를 수행해도 단어 토큰확 제대로 동작\n",
        "en_text = \"The dog ran back to the corner near the spare bedrooms\"\n",
        "print(en_text.split())"
      ],
      "metadata": {
        "colab": {
          "base_uri": "https://localhost:8080/"
        },
        "id": "LzEbaRbE2pNd",
        "outputId": "1744ecce-ce76-4ecf-eb84-b24ff115c4c0"
      },
      "execution_count": 43,
      "outputs": [
        {
          "output_type": "stream",
          "name": "stdout",
          "text": [
            "['The', 'dog', 'ran', 'back', 'to', 'the', 'corner', 'near', 'the', 'spare', 'bedrooms']\n"
          ]
        }
      ]
    },
    {
      "cell_type": "code",
      "source": [
        "# 한국어의 경우 문제가 생긴다.\n",
        "kor_text = \"사과의 놀라운 효능이라는 글을 봤어. 그래서 오늘 사과를 먹으려고 했는데 사과가 썩어서 슈퍼에 가서 사과랑 오렌지 사 왔어\"\n",
        "print(kor_text.split())"
      ],
      "metadata": {
        "colab": {
          "base_uri": "https://localhost:8080/"
        },
        "id": "VdIuEQ363NJi",
        "outputId": "c9d46b1a-e627-4b0d-c930-4dddacfea917"
      },
      "execution_count": 44,
      "outputs": [
        {
          "output_type": "stream",
          "name": "stdout",
          "text": [
            "['사과의', '놀라운', '효능이라는', '글을', '봤어.', '그래서', '오늘', '사과를', '먹으려고', '했는데', '사과가', '썩어서', '슈퍼에', '가서', '사과랑', '오렌지', '사', '왔어']\n"
          ]
        }
      ]
    },
    {
      "cell_type": "code",
      "metadata": {
        "colab": {
          "base_uri": "https://localhost:8080/"
        },
        "id": "21a9e963",
        "outputId": "8c30ace9-a393-4479-9cbd-009a81a99928"
      },
      "source": [
        "!pip install konlpy"
      ],
      "execution_count": 46,
      "outputs": [
        {
          "output_type": "stream",
          "name": "stdout",
          "text": [
            "Collecting konlpy\n",
            "  Downloading konlpy-0.6.0-py2.py3-none-any.whl.metadata (1.9 kB)\n",
            "Collecting JPype1>=0.7.0 (from konlpy)\n",
            "  Downloading jpype1-1.5.2-cp311-cp311-manylinux_2_17_x86_64.manylinux2014_x86_64.whl.metadata (4.9 kB)\n",
            "Requirement already satisfied: lxml>=4.1.0 in /usr/local/lib/python3.11/dist-packages (from konlpy) (5.4.0)\n",
            "Requirement already satisfied: numpy>=1.6 in /usr/local/lib/python3.11/dist-packages (from konlpy) (2.0.2)\n",
            "Requirement already satisfied: packaging in /usr/local/lib/python3.11/dist-packages (from JPype1>=0.7.0->konlpy) (24.2)\n",
            "Downloading konlpy-0.6.0-py2.py3-none-any.whl (19.4 MB)\n",
            "\u001b[2K   \u001b[90m━━━━━━━━━━━━━━━━━━━━━━━━━━━━━━━━━━━━━━━━\u001b[0m \u001b[32m19.4/19.4 MB\u001b[0m \u001b[31m82.6 MB/s\u001b[0m eta \u001b[36m0:00:00\u001b[0m\n",
            "\u001b[?25hDownloading jpype1-1.5.2-cp311-cp311-manylinux_2_17_x86_64.manylinux2014_x86_64.whl (494 kB)\n",
            "\u001b[2K   \u001b[90m━━━━━━━━━━━━━━━━━━━━━━━━━━━━━━━━━━━━━━━━\u001b[0m \u001b[32m494.1/494.1 kB\u001b[0m \u001b[31m34.3 MB/s\u001b[0m eta \u001b[36m0:00:00\u001b[0m\n",
            "\u001b[?25hInstalling collected packages: JPype1, konlpy\n",
            "Successfully installed JPype1-1.5.2 konlpy-0.6.0\n"
          ]
        }
      ]
    },
    {
      "cell_type": "code",
      "source": [
        "# 형태소 분석기 중 하나인 Okt를 사용해서 형태소 분석\n",
        "from konlpy.tag import Okt\n",
        "\n",
        "tokenizer = Okt()\n",
        "print(tokenizer.morphs(kor_text))"
      ],
      "metadata": {
        "colab": {
          "base_uri": "https://localhost:8080/"
        },
        "id": "bV69ZR893S9Z",
        "outputId": "1f3395c4-f012-4935-80fb-e6b06699e49e"
      },
      "execution_count": 47,
      "outputs": [
        {
          "output_type": "stream",
          "name": "stdout",
          "text": [
            "['사과', '의', '놀라운', '효능', '이라는', '글', '을', '봤어', '.', '그래서', '오늘', '사과', '를', '먹으려고', '했는데', '사과', '가', '썩어서', '슈퍼', '에', '가서', '사과', '랑', '오렌지', '사', '왔어']\n"
          ]
        }
      ]
    },
    {
      "cell_type": "code",
      "source": [
        "print(tokenizer.morphs('모두의연구소에서 자연어 처리를 공부하는 건 정말 즐거워'))"
      ],
      "metadata": {
        "colab": {
          "base_uri": "https://localhost:8080/"
        },
        "id": "iElAkND9303v",
        "outputId": "9b51d053-d3f7-4282-f350-d705fd20ec17"
      },
      "execution_count": 48,
      "outputs": [
        {
          "output_type": "stream",
          "name": "stdout",
          "text": [
            "['모두', '의', '연구소', '에서', '자연어', '처리', '를', '공부', '하는', '건', '정말', '즐거워']\n"
          ]
        }
      ]
    },
    {
      "cell_type": "markdown",
      "source": [
        "- 텍스트 데이터에서 특정 문자 시퀀스가 함께 자주 등장하는 빈도가 높고, 앞뒤로 조사 또는 완전히 다른 단어가 등장하는 것을 고려해서 해당 문자 시퀀스를 형태소라고 판단하는 형태소 분석기 : soynlp"
      ],
      "metadata": {
        "id": "KQkxDSHr4Gl4"
      }
    },
    {
      "cell_type": "markdown",
      "source": [
        "## 16-13. 텍스트 분포를 이용한 비지도 학습 토크나이저 (2) soynlp\n",
        "- soynlp는 품사 태깅, 형태소 분석 등을 지원하는 한국어 형태소 분석기\n",
        "- 비지도 학습으로 형태소 분석을 한다는 특징을 갖고 있으며, 데이터에 자주 등장하는 단어들을 형태소로 분석\n",
        "- soynlp 형태소 분석기는 내부적으로 단어 점수표로 동작합니다. 이 점수는 응집 확률(cohesion probability) 과 브랜칭 엔트로피(branching entropy) 를 활용"
      ],
      "metadata": {
        "id": "nQZPq1N44N77"
      }
    },
    {
      "cell_type": "markdown",
      "source": [
        "### soynlp 실습"
      ],
      "metadata": {
        "id": "PAXl9Icb5Sdr"
      }
    },
    {
      "cell_type": "code",
      "source": [
        "import urllib.request\n",
        "\n",
        "# txt_filename = os.getenv('HOME')+'/aiffel/topic_modelling/data/2016-10-20.txt'\n",
        "txt_filename = './2016-10-20.txt'\n",
        "\n",
        "urllib.request.urlretrieve(\"https://raw.githubusercontent.com/lovit/soynlp/master/tutorials/2016-10-20.txt\",\\\n",
        "                            filename=txt_filename)"
      ],
      "metadata": {
        "colab": {
          "base_uri": "https://localhost:8080/"
        },
        "id": "lfvr-xch5ZD1",
        "outputId": "1d05693a-60a0-43f3-9f5c-c3263816d400"
      },
      "execution_count": 49,
      "outputs": [
        {
          "output_type": "execute_result",
          "data": {
            "text/plain": [
              "('./2016-10-20.txt', <http.client.HTTPMessage at 0x7ac3202188d0>)"
            ]
          },
          "metadata": {},
          "execution_count": 49
        }
      ]
    },
    {
      "cell_type": "code",
      "source": [
        "!pip install soynlp"
      ],
      "metadata": {
        "colab": {
          "base_uri": "https://localhost:8080/"
        },
        "id": "pLvLBwqG5Zo1",
        "outputId": "b5bee408-d796-4480-f1d7-c656ad1ee214"
      },
      "execution_count": 50,
      "outputs": [
        {
          "output_type": "stream",
          "name": "stdout",
          "text": [
            "Collecting soynlp\n",
            "  Downloading soynlp-0.0.493-py3-none-any.whl.metadata (24 kB)\n",
            "Requirement already satisfied: numpy>=1.12.1 in /usr/local/lib/python3.11/dist-packages (from soynlp) (2.0.2)\n",
            "Requirement already satisfied: psutil>=5.0.1 in /usr/local/lib/python3.11/dist-packages (from soynlp) (5.9.5)\n",
            "Requirement already satisfied: scipy>=1.1.0 in /usr/local/lib/python3.11/dist-packages (from soynlp) (1.15.3)\n",
            "Requirement already satisfied: scikit-learn>=0.20.0 in /usr/local/lib/python3.11/dist-packages (from soynlp) (1.6.1)\n",
            "Requirement already satisfied: joblib>=1.2.0 in /usr/local/lib/python3.11/dist-packages (from scikit-learn>=0.20.0->soynlp) (1.5.1)\n",
            "Requirement already satisfied: threadpoolctl>=3.1.0 in /usr/local/lib/python3.11/dist-packages (from scikit-learn>=0.20.0->soynlp) (3.6.0)\n",
            "Downloading soynlp-0.0.493-py3-none-any.whl (416 kB)\n",
            "\u001b[2K   \u001b[90m━━━━━━━━━━━━━━━━━━━━━━━━━━━━━━━━━━━━━━━━\u001b[0m \u001b[32m416.8/416.8 kB\u001b[0m \u001b[31m18.1 MB/s\u001b[0m eta \u001b[36m0:00:00\u001b[0m\n",
            "\u001b[?25hInstalling collected packages: soynlp\n",
            "Successfully installed soynlp-0.0.493\n"
          ]
        }
      ]
    },
    {
      "cell_type": "code",
      "source": [
        "from soynlp import DoublespaceLineCorpus\n",
        "\n",
        "# 말뭉치에 대해서 다수의 문서로 분리\n",
        "corpus = DoublespaceLineCorpus(txt_filename)\n",
        "len(corpus)"
      ],
      "metadata": {
        "colab": {
          "base_uri": "https://localhost:8080/"
        },
        "id": "HuWLto4f5bwv",
        "outputId": "2de9b969-0984-4fe5-9005-e360619cc079"
      },
      "execution_count": 51,
      "outputs": [
        {
          "output_type": "execute_result",
          "data": {
            "text/plain": [
              "30091"
            ]
          },
          "metadata": {},
          "execution_count": 51
        }
      ]
    },
    {
      "cell_type": "code",
      "source": [
        "# 공백이 아닌 문서에 한해 상위 3개의 문서만 출력\n",
        "i = 0\n",
        "for document in corpus:\n",
        "  if len(document) > 0:\n",
        "    print(document)\n",
        "    i = i+1\n",
        "  if i == 3:\n",
        "    break"
      ],
      "metadata": {
        "colab": {
          "base_uri": "https://localhost:8080/"
        },
        "id": "oQhV6wPN5oWw",
        "outputId": "96e44b41-a92c-4b33-9178-9c44d0160076"
      },
      "execution_count": 52,
      "outputs": [
        {
          "output_type": "stream",
          "name": "stdout",
          "text": [
            "19  1990  52 1 22\n",
            "오패산터널 총격전 용의자 검거 서울 연합뉴스 경찰 관계자들이 19일 오후 서울 강북구 오패산 터널 인근에서 사제 총기를 발사해 경찰을 살해한 용의자 성모씨를 검거하고 있다 성씨는 검거 당시 서바이벌 게임에서 쓰는 방탄조끼에 헬멧까지 착용한 상태였다 독자제공 영상 캡처 연합뉴스  서울 연합뉴스 김은경 기자 사제 총기로 경찰을 살해한 범인 성모 46 씨는 주도면밀했다  경찰에 따르면 성씨는 19일 오후 강북경찰서 인근 부동산 업소 밖에서 부동산업자 이모 67 씨가 나오기를 기다렸다 이씨와는 평소에도 말다툼을 자주 한 것으로 알려졌다  이씨가 나와 걷기 시작하자 성씨는 따라가면서 미리 준비해온 사제 총기를 이씨에게 발사했다 총알이 빗나가면서 이씨는 도망갔다 그 빗나간 총알은 지나가던 행인 71 씨의 배를 스쳤다  성씨는 강북서 인근 치킨집까지 이씨 뒤를 쫓으며 실랑이하다 쓰러뜨린 후 총기와 함께 가져온 망치로 이씨 머리를 때렸다  이 과정에서 오후 6시 20분께 강북구 번동 길 위에서 사람들이 싸우고 있다 총소리가 났다 는 등의 신고가 여러건 들어왔다  5분 후에 성씨의 전자발찌가 훼손됐다는 신고가 보호관찰소 시스템을 통해 들어왔다 성범죄자로 전자발찌를 차고 있던 성씨는 부엌칼로 직접 자신의 발찌를 끊었다  용의자 소지 사제총기 2정 서울 연합뉴스 임헌정 기자 서울 시내에서 폭행 용의자가 현장 조사를 벌이던 경찰관에게 사제총기를 발사해 경찰관이 숨졌다 19일 오후 6시28분 강북구 번동에서 둔기로 맞았다 는 폭행 피해 신고가 접수돼 현장에서 조사하던 강북경찰서 번동파출소 소속 김모 54 경위가 폭행 용의자 성모 45 씨가 쏜 사제총기에 맞고 쓰러진 뒤 병원에 옮겨졌으나 숨졌다 사진은 용의자가 소지한 사제총기  신고를 받고 번동파출소에서 김창호 54 경위 등 경찰들이 오후 6시 29분께 현장으로 출동했다 성씨는 그사이 부동산 앞에 놓아뒀던 가방을 챙겨 오패산 쪽으로 도망간 후였다  김 경위는 오패산 터널 입구 오른쪽의 급경사에서 성씨에게 접근하다가 오후 6시 33분께 풀숲에 숨은 성씨가 허공에 난사한 10여발의 총알 중 일부를 왼쪽 어깨 뒷부분에 맞고 쓰러졌다  김 경위는 구급차가 도착했을 때 이미 의식이 없었고 심폐소생술을 하며 병원으로 옮겨졌으나 총알이 폐를 훼손해 오후 7시 40분께 사망했다  김 경위는 외근용 조끼를 입고 있었으나 총알을 막기에는 역부족이었다  머리에 부상을 입은 이씨도 함께 병원으로 이송됐으나 생명에는 지장이 없는 것으로 알려졌다  성씨는 오패산 터널 밑쪽 숲에서 오후 6시 45분께 잡혔다  총격현장 수색하는 경찰들 서울 연합뉴스 이효석 기자 19일 오후 서울 강북구 오패산 터널 인근에서 경찰들이 폭행 용의자가 사제총기를 발사해 경찰관이 사망한 사건을 조사 하고 있다  총 때문에 쫓던 경관들과 민간인들이 몸을 숨겼는데 인근 신발가게 직원 이모씨가 다가가 성씨를 덮쳤고 이어 현장에 있던 다른 상인들과 경찰이 가세해 체포했다  성씨는 경찰에 붙잡힌 직후 나 자살하려고 한 거다 맞아 죽어도 괜찮다 고 말한 것으로 전해졌다  성씨 자신도 경찰이 발사한 공포탄 1발 실탄 3발 중 실탄 1발을 배에 맞았으나 방탄조끼를 입은 상태여서 부상하지는 않았다  경찰은 인근을 수색해 성씨가 만든 사제총 16정과 칼 7개를 압수했다 실제 폭발할지는 알 수 없는 요구르트병에 무언가를 채워두고 심지를 꽂은 사제 폭탄도 발견됐다  일부는 숲에서 발견됐고 일부는 성씨가 소지한 가방 안에 있었다\n",
            "테헤란 연합뉴스 강훈상 특파원 이용 승객수 기준 세계 최대 공항인 아랍에미리트 두바이국제공항은 19일 현지시간 이 공항을 이륙하는 모든 항공기의 탑승객은 삼성전자의 갤럭시노트7을 휴대하면 안 된다고 밝혔다  두바이국제공항은 여러 항공 관련 기구의 권고에 따라 안전성에 우려가 있는 스마트폰 갤럭시노트7을 휴대하고 비행기를 타면 안 된다 며 탑승 전 검색 중 발견되면 압수할 계획 이라고 발표했다  공항 측은 갤럭시노트7의 배터리가 폭발 우려가 제기된 만큼 이 제품을 갖고 공항 안으로 들어오지 말라고 이용객에 당부했다  이런 조치는 두바이국제공항 뿐 아니라 신공항인 두바이월드센터에도 적용된다  배터리 폭발문제로 회수된 갤럭시노트7 연합뉴스자료사진\n"
          ]
        }
      ]
    },
    {
      "cell_type": "markdown",
      "source": [
        "- soynlp는 비지도학습 형태소 분석이이므로 학습 과정을 거쳐야 한다. 전체 corpus로부터 응집 확률과 branching entropy sentence 점수표를 만드는 과정이다. WordExtractor.extract()를 통해서 전체 코퍼스에 대해 단어 점수표를 계산"
      ],
      "metadata": {
        "id": "1_WnoqvA569J"
      }
    },
    {
      "cell_type": "code",
      "source": [
        "from soynlp.word import WordExtractor\n",
        "\n",
        "word_extractor = WordExtractor()\n",
        "word_extractor.train(corpus)\n",
        "word_score_table = word_extractor.extract()"
      ],
      "metadata": {
        "colab": {
          "base_uri": "https://localhost:8080/"
        },
        "id": "qViORc5q55rq",
        "outputId": "34210848-20b6-4722-b826-61f4c5decd27"
      },
      "execution_count": 53,
      "outputs": [
        {
          "output_type": "stream",
          "name": "stdout",
          "text": [
            "training was done. used memory 3.191 Gb\n",
            "all cohesion probabilities was computed. # words = 223348\n",
            "all branching entropies was computed # words = 361598\n",
            "all accessor variety was computed # words = 361598\n"
          ]
        }
      ]
    },
    {
      "cell_type": "markdown",
      "source": [
        "### soynlp의 응집 확률(cohesion probability)\n",
        "- 응집 확률은 내부 문자열(substring)이 얼마나 응집하여 자주 등장하는지를 판단하는 척도\n",
        "- 응집 확률은 문자열을 문자 단위로 분리하여 내부 문자열을 만드는 과정에서, 왼쪽부터 순서대로 문자를 추가하면서 각 문자열이 주어졌을 때 그다음 문자가 나올 확률을 계산하여 누적 곱을 한 값입니다. 이 값이 높을수록 전체 코퍼스에서 이 문자열 시퀀스는 하나의 단어로 등장할 가능성이 높습니다."
      ],
      "metadata": {
        "id": "azF2OreK6W4q"
      }
    },
    {
      "cell_type": "code",
      "source": [
        "word_score_table[\"반포한\"].cohesion_forward"
      ],
      "metadata": {
        "colab": {
          "base_uri": "https://localhost:8080/"
        },
        "id": "sDdtXbz96ihf",
        "outputId": "784fbfe0-c807-4ed9-b69b-37fe844166f6"
      },
      "execution_count": 54,
      "outputs": [
        {
          "output_type": "execute_result",
          "data": {
            "text/plain": [
              "np.float64(0.08838002913645132)"
            ]
          },
          "metadata": {},
          "execution_count": 54
        }
      ]
    },
    {
      "cell_type": "code",
      "source": [
        "word_score_table[\"반포한강\"].cohesion_forward"
      ],
      "metadata": {
        "colab": {
          "base_uri": "https://localhost:8080/"
        },
        "id": "4ATUFctB6j1E",
        "outputId": "65bcc942-e236-4cb5-a00c-4210e4298b08"
      },
      "execution_count": 55,
      "outputs": [
        {
          "output_type": "execute_result",
          "data": {
            "text/plain": [
              "np.float64(0.19841268168224552)"
            ]
          },
          "metadata": {},
          "execution_count": 55
        }
      ]
    },
    {
      "cell_type": "code",
      "source": [
        "word_score_table[\"반포한강공\"].cohesion_forward"
      ],
      "metadata": {
        "colab": {
          "base_uri": "https://localhost:8080/"
        },
        "id": "rrulJC0z6kn2",
        "outputId": "1fcfae05-0bf3-4085-ac30-59c4c36571ec"
      },
      "execution_count": 56,
      "outputs": [
        {
          "output_type": "execute_result",
          "data": {
            "text/plain": [
              "np.float64(0.2972877884078849)"
            ]
          },
          "metadata": {},
          "execution_count": 56
        }
      ]
    },
    {
      "cell_type": "code",
      "source": [
        "word_score_table[\"반포한강공\"].cohesion_forward"
      ],
      "metadata": {
        "colab": {
          "base_uri": "https://localhost:8080/"
        },
        "id": "9arGsL6l6mQj",
        "outputId": "602a0c67-a71f-43bf-99bc-a2268f5046b6"
      },
      "execution_count": 58,
      "outputs": [
        {
          "output_type": "execute_result",
          "data": {
            "text/plain": [
              "np.float64(0.2972877884078849)"
            ]
          },
          "metadata": {},
          "execution_count": 58
        }
      ]
    },
    {
      "cell_type": "code",
      "source": [
        "word_score_table[\"반포한강공원\"].cohesion_forward"
      ],
      "metadata": {
        "colab": {
          "base_uri": "https://localhost:8080/"
        },
        "id": "jVeWnJ_G6n9L",
        "outputId": "7a9f6594-7b7d-44ce-f3f5-ad58429f71d5"
      },
      "execution_count": 59,
      "outputs": [
        {
          "output_type": "execute_result",
          "data": {
            "text/plain": [
              "np.float64(0.37891487632839754)"
            ]
          },
          "metadata": {},
          "execution_count": 59
        }
      ]
    },
    {
      "cell_type": "code",
      "source": [
        "word_score_table[\"반포한강공원에\"].cohesion_forward"
      ],
      "metadata": {
        "colab": {
          "base_uri": "https://localhost:8080/"
        },
        "id": "8WRPn9YI6pS1",
        "outputId": "0a9e0bcc-246d-4e9f-ec9e-c979cd871367"
      },
      "execution_count": 60,
      "outputs": [
        {
          "output_type": "execute_result",
          "data": {
            "text/plain": [
              "np.float64(0.33492963377557666)"
            ]
          },
          "metadata": {},
          "execution_count": 60
        }
      ]
    },
    {
      "cell_type": "markdown",
      "source": [
        "- 응집 확률이 최대화가 되는 내부 문자열 구간은 '반포한강공원'입니다. 다시 말해 '반포한강공원'이 하나의 단어일 확률이 높습니다"
      ],
      "metadata": {
        "id": "NB-dbuxq6tTV"
      }
    },
    {
      "cell_type": "markdown",
      "source": [
        "### soynlp의 브랜칭 엔트로피(branching entropy)\n",
        "- branching entropy는 확률 분포의 엔트로피 값을 이용\n",
        "- 이는 주어진 문자열에서 다음 문자가 등장할 수 있는 가능성을 판단하는 척도이다.\n"
      ],
      "metadata": {
        "id": "Vx0FdJeq6xju"
      }
    },
    {
      "cell_type": "code",
      "source": [
        "word_score_table[\"디스\"].right_branching_entropy"
      ],
      "metadata": {
        "colab": {
          "base_uri": "https://localhost:8080/"
        },
        "id": "18qwynZZ7DlJ",
        "outputId": "e7867134-99f3-4ec0-ce5a-ac0a2e22301a"
      },
      "execution_count": 61,
      "outputs": [
        {
          "output_type": "execute_result",
          "data": {
            "text/plain": [
              "1.6371694761537934"
            ]
          },
          "metadata": {},
          "execution_count": 61
        }
      ]
    },
    {
      "cell_type": "code",
      "source": [
        "word_score_table[\"디스플\"].right_branching_entropy"
      ],
      "metadata": {
        "colab": {
          "base_uri": "https://localhost:8080/"
        },
        "id": "u0yTTgvx7Esv",
        "outputId": "b0a9d7d6-6601-4da5-af3a-1c1d9848cad1"
      },
      "execution_count": 62,
      "outputs": [
        {
          "output_type": "execute_result",
          "data": {
            "text/plain": [
              "-0.0"
            ]
          },
          "metadata": {},
          "execution_count": 62
        }
      ]
    },
    {
      "cell_type": "code",
      "source": [
        "word_score_table[\"디스플레\"].right_branching_entropy"
      ],
      "metadata": {
        "colab": {
          "base_uri": "https://localhost:8080/"
        },
        "id": "pzu62MH87FaW",
        "outputId": "a0faa48f-a5c0-4141-d045-f61ce411b3e9"
      },
      "execution_count": 63,
      "outputs": [
        {
          "output_type": "execute_result",
          "data": {
            "text/plain": [
              "-0.0"
            ]
          },
          "metadata": {},
          "execution_count": 63
        }
      ]
    },
    {
      "cell_type": "code",
      "source": [
        "word_score_table[\"디스플레이\"].right_branching_entropy"
      ],
      "metadata": {
        "colab": {
          "base_uri": "https://localhost:8080/"
        },
        "id": "ZGSupors7G7t",
        "outputId": "4aaeda9d-ba33-4953-ec99-d26eb3c34b56"
      },
      "execution_count": 64,
      "outputs": [
        {
          "output_type": "execute_result",
          "data": {
            "text/plain": [
              "3.1400392861792916"
            ]
          },
          "metadata": {},
          "execution_count": 64
        }
      ]
    },
    {
      "cell_type": "markdown",
      "source": [
        "- 하나의 단어가 끝나면 그 경계 부분부터 다시 브랜칭 엔트로피값이 증가함"
      ],
      "metadata": {
        "id": "eDspzhLS7KqR"
      }
    },
    {
      "cell_type": "markdown",
      "source": [
        "### soynlp의 LTokenizer\n",
        "- 띄어쓰기 단위로 잘 나뉜 문장은 L 토크나이저(LTokenizer)를 사용하면 좋다.\n",
        "-  L 토크나이저는 L 토큰 + R 토큰으로 나누되, 점수가 가장 높은 L 토큰을 찾아내는 분리 기준\n"
      ],
      "metadata": {
        "id": "apbzzcqD7MTw"
      }
    },
    {
      "cell_type": "code",
      "source": [
        "from soynlp.tokenizer import LTokenizer\n",
        "\n",
        "scores = {word:score.cohesion_forward for word, score in word_score_table.items()}\n",
        "l_tokenizer = LTokenizer(scores=scores)\n",
        "l_tokenizer.tokenize(\"국제사회와 우리의 노력들로 범죄를 척결하자\", flatten=False)"
      ],
      "metadata": {
        "colab": {
          "base_uri": "https://localhost:8080/"
        },
        "id": "PaVIcPOx8A_L",
        "outputId": "942e9931-482d-488b-98df-26f9ead73745"
      },
      "execution_count": 65,
      "outputs": [
        {
          "output_type": "execute_result",
          "data": {
            "text/plain": [
              "[('국제사회', '와'), ('우리', '의'), ('노력', '들로'), ('범죄', '를'), ('척결', '하자')]"
            ]
          },
          "metadata": {},
          "execution_count": 65
        }
      ]
    },
    {
      "cell_type": "markdown",
      "source": [
        "### 최대 점수 토크나이저\n",
        "- 최대 점수 토크나이저(MaxScoreTokenizer)는 띄어쓰기가 되어 있지 않은 문장에서 점수가 높은 글자 시퀀스를 순차적으로 찾아내는 토크나이저입니다. 띄어쓰기가 되어 있지 않은 문장을 넣어서 토큰화된 결과를 점수를 통해 알아보겠습니다."
      ],
      "metadata": {
        "id": "aUXyhdTf8E_Z"
      }
    },
    {
      "cell_type": "code",
      "source": [
        "from soynlp.tokenizer import MaxScoreTokenizer\n",
        "\n",
        "maxscore_tokenizer = MaxScoreTokenizer(scores=scores)\n",
        "maxscore_tokenizer.tokenize(\"국제사회와우리의노력들로범죄를척결하자\")"
      ],
      "metadata": {
        "colab": {
          "base_uri": "https://localhost:8080/"
        },
        "id": "tOYapZpm8OEJ",
        "outputId": "5bb06f90-912c-42c2-b05c-c2aa63dec061"
      },
      "execution_count": 66,
      "outputs": [
        {
          "output_type": "execute_result",
          "data": {
            "text/plain": [
              "['국제사회', '와', '우리', '의', '노력', '들로', '범죄', '를', '척결', '하자']"
            ]
          },
          "metadata": {},
          "execution_count": 66
        }
      ]
    }
  ]
}