{
  "nbformat": 4,
  "nbformat_minor": 0,
  "metadata": {
    "colab": {
      "provenance": [],
      "authorship_tag": "ABX9TyM++fd2XFGT3G8zqw23tfZ8",
      "include_colab_link": true
    },
    "kernelspec": {
      "name": "python3",
      "display_name": "Python 3"
    },
    "language_info": {
      "name": "python"
    }
  },
  "cells": [
    {
      "cell_type": "markdown",
      "metadata": {
        "id": "view-in-github",
        "colab_type": "text"
      },
      "source": [
        "<a href=\"https://colab.research.google.com/github/sun9huni/first-repository/blob/main/Quest4.ipynb\" target=\"_parent\"><img src=\"https://colab.research.google.com/assets/colab-badge.svg\" alt=\"Open In Colab\"/></a>"
      ]
    },
    {
      "cell_type": "markdown",
      "source": [
        "# Quest 04: 통계 기초"
      ],
      "metadata": {
        "id": "8oc5R6pNPIOb"
      }
    },
    {
      "cell_type": "code",
      "execution_count": null,
      "metadata": {
        "id": "oQe61Bl7O8sU"
      },
      "outputs": [],
      "source": []
    },
    {
      "cell_type": "markdown",
      "source": [
        "## 문제 1)\n",
        "\n",
        "- 빵집에서는 매일 아침에 구워지는 식빵 한 개의 평균 무게가 500g이 되도록 맞추고자 합니다. 빵집 주인은 오늘 아침에 구운 식빵 중에서 랜덤하게 25개의 식빵을 샘플링하여 무게를 측정했습니다. 그 결과, 표본 평균은 495g, 표준편차는 10g으로 나왔습니다. 빵집 주인이 목표한 500g의 무게를 충족하고 있는지(다시말해 목표 무게를 넘는지 안 넘는지)  5% 유의수준에서 검정해보세요"
      ],
      "metadata": {
        "id": "ug02qACFPS9H"
      }
    },
    {
      "cell_type": "code",
      "source": [
        "import scipy.stats as stats\n",
        "\n",
        "# 주어진 데이터\n",
        "sample_mean = 495\n",
        "sample_std = 10\n",
        "sample_size = 25\n",
        "population_mean = 500\n",
        "alpha = 0.05\n",
        "\n",
        "# t-통계량 계산\n",
        "standard_error = sample_std / (sample_size ** 0.5)\n",
        "t_statistic = (sample_mean - population_mean) / standard_error\n",
        "\n",
        "# 단측 검정 (평균이 500보다 작은지 검정)\n",
        "df = sample_size - 1\n",
        "p_value = stats.t.cdf(t_statistic, df)\n",
        "\n",
        "# 결과 출력\n",
        "if p_value < alpha:\n",
        "    result = f\"t-값: {t_statistic:.4f}, p-value: {p_value:.4f}. 유의수준 {alpha}에서 귀무가설을 기각합니다. 빵의 평균 무게는 목표와 다릅니다.\"\n",
        "else:\n",
        "    result = f\"t-값: {t_statistic:.4f}, p-value: {p_value:.4f}. 유의수준 {alpha}에서 귀무가설을 채택합니다. 빵의 평균 무게는 목표와 통계적으로 차이가 없습니다.\"\n",
        "\n",
        "print(result)\n"
      ],
      "metadata": {
        "colab": {
          "base_uri": "https://localhost:8080/"
        },
        "id": "6unyWdOWPVKI",
        "outputId": "f28ea7eb-63db-47e3-e121-ede9b8fd84c2"
      },
      "execution_count": 1,
      "outputs": [
        {
          "output_type": "stream",
          "name": "stdout",
          "text": [
            "t-값: -2.5000, p-value: 0.0098. 유의수준 0.05에서 귀무가설을 기각합니다. 빵의 평균 무게는 목표와 다릅니다.\n"
          ]
        }
      ]
    },
    {
      "cell_type": "markdown",
      "source": [
        "## 문제2) 분포 시각화\n",
        "\n",
        "문제 1번을 바탕으로 분포를 그리고 t통계량을 빨간색 점선으로, 초록색 점선으로 임계값을 기각역을 초록색으로 칠해보세요.\n",
        "\n",
        "***기각역**:  통계량이 들어왔을 경우 귀무가설을 기각할 수 있는 영역을 말합니다.\n",
        "\n",
        " Hint)\n",
        "\n",
        "- `plt.axvline` : y축 평행선 그리기\n",
        "- `plt.fill_between` : 그래프 면적 색칠하기\n",
        "- 예시결과"
      ],
      "metadata": {
        "id": "XeZ_sPn-QX0r"
      }
    },
    {
      "cell_type": "code",
      "source": [
        "import numpy as np\n",
        "import matplotlib.pyplot as plt\n",
        "\n",
        "\n",
        "# 양측 검정 임계값 계산\n",
        "critical_value_low = stats.t.ppf(alpha/2, df)\n",
        "critical_value_high = stats.t.ppf(1 - alpha/2, df)\n",
        "\n",
        "# t 분포 범위 설정\n",
        "x = np.linspace(stats.t.ppf(0.001, df), stats.t.ppf(0.999, df), 1000)\n",
        "pdf = stats.t.pdf(x, df)\n",
        "\n",
        "plt.figure(figsize=(10, 6))\n",
        "plt.plot(x, pdf, 'b-', label='t-분포 (df=24)')\n",
        "\n",
        "# 기각역 색칠 (양쪽 꼬리)\n",
        "plt.fill_between(x, 0, pdf, where=(x < critical_value_low), color='green', alpha=0.3, label='기각역 (왼쪽)')\n",
        "plt.fill_between(x, 0, pdf, where=(x > critical_value_high), color='green', alpha=0.3, label='기각역 (오른쪽)')\n",
        "\n",
        "# t-통계량 빨간색 점선\n",
        "plt.axvline(t_statistic, color='red', linestyle='--', label=f't-통계량 = {t_statistic:.2f}')\n",
        "\n",
        "# 임계값 초록색 점선\n",
        "plt.axvline(critical_value_low, color='green', linestyle='--', label=f'임계값 (왼쪽) = {critical_value_low:.2f}')\n",
        "plt.axvline(critical_value_high, color='green', linestyle='--', label=f'임계값 (오른쪽) = {critical_value_high:.2f}')\n",
        "\n",
        "plt.title('양측 검정을 위한 t-분포와 기각역, t-통계량 표시')\n",
        "plt.xlabel('t 값')\n",
        "plt.ylabel('확률밀도')\n",
        "plt.legend()\n",
        "plt.grid(True)\n",
        "plt.show()\n",
        "\n"
      ],
      "metadata": {
        "colab": {
          "base_uri": "https://localhost:8080/",
          "height": 1000
        },
        "id": "3L80zBPPQRVh",
        "outputId": "46a85250-8dcb-4a81-b0e5-4814e5056efc"
      },
      "execution_count": 2,
      "outputs": [
        {
          "output_type": "stream",
          "name": "stderr",
          "text": [
            "/usr/local/lib/python3.11/dist-packages/IPython/core/pylabtools.py:151: UserWarning: Glyph 54869 (\\N{HANGUL SYLLABLE HWAG}) missing from font(s) DejaVu Sans.\n",
            "  fig.canvas.print_figure(bytes_io, **kw)\n",
            "/usr/local/lib/python3.11/dist-packages/IPython/core/pylabtools.py:151: UserWarning: Glyph 47456 (\\N{HANGUL SYLLABLE RYUL}) missing from font(s) DejaVu Sans.\n",
            "  fig.canvas.print_figure(bytes_io, **kw)\n",
            "/usr/local/lib/python3.11/dist-packages/IPython/core/pylabtools.py:151: UserWarning: Glyph 48128 (\\N{HANGUL SYLLABLE MIL}) missing from font(s) DejaVu Sans.\n",
            "  fig.canvas.print_figure(bytes_io, **kw)\n",
            "/usr/local/lib/python3.11/dist-packages/IPython/core/pylabtools.py:151: UserWarning: Glyph 46020 (\\N{HANGUL SYLLABLE DO}) missing from font(s) DejaVu Sans.\n",
            "  fig.canvas.print_figure(bytes_io, **kw)\n",
            "/usr/local/lib/python3.11/dist-packages/IPython/core/pylabtools.py:151: UserWarning: Glyph 50577 (\\N{HANGUL SYLLABLE YANG}) missing from font(s) DejaVu Sans.\n",
            "  fig.canvas.print_figure(bytes_io, **kw)\n",
            "/usr/local/lib/python3.11/dist-packages/IPython/core/pylabtools.py:151: UserWarning: Glyph 52769 (\\N{HANGUL SYLLABLE CEUG}) missing from font(s) DejaVu Sans.\n",
            "  fig.canvas.print_figure(bytes_io, **kw)\n",
            "/usr/local/lib/python3.11/dist-packages/IPython/core/pylabtools.py:151: UserWarning: Glyph 44160 (\\N{HANGUL SYLLABLE GEOM}) missing from font(s) DejaVu Sans.\n",
            "  fig.canvas.print_figure(bytes_io, **kw)\n",
            "/usr/local/lib/python3.11/dist-packages/IPython/core/pylabtools.py:151: UserWarning: Glyph 51221 (\\N{HANGUL SYLLABLE JEONG}) missing from font(s) DejaVu Sans.\n",
            "  fig.canvas.print_figure(bytes_io, **kw)\n",
            "/usr/local/lib/python3.11/dist-packages/IPython/core/pylabtools.py:151: UserWarning: Glyph 51012 (\\N{HANGUL SYLLABLE EUL}) missing from font(s) DejaVu Sans.\n",
            "  fig.canvas.print_figure(bytes_io, **kw)\n",
            "/usr/local/lib/python3.11/dist-packages/IPython/core/pylabtools.py:151: UserWarning: Glyph 50948 (\\N{HANGUL SYLLABLE WI}) missing from font(s) DejaVu Sans.\n",
            "  fig.canvas.print_figure(bytes_io, **kw)\n",
            "/usr/local/lib/python3.11/dist-packages/IPython/core/pylabtools.py:151: UserWarning: Glyph 54620 (\\N{HANGUL SYLLABLE HAN}) missing from font(s) DejaVu Sans.\n",
            "  fig.canvas.print_figure(bytes_io, **kw)\n",
            "/usr/local/lib/python3.11/dist-packages/IPython/core/pylabtools.py:151: UserWarning: Glyph 48516 (\\N{HANGUL SYLLABLE BUN}) missing from font(s) DejaVu Sans.\n",
            "  fig.canvas.print_figure(bytes_io, **kw)\n",
            "/usr/local/lib/python3.11/dist-packages/IPython/core/pylabtools.py:151: UserWarning: Glyph 54252 (\\N{HANGUL SYLLABLE PO}) missing from font(s) DejaVu Sans.\n",
            "  fig.canvas.print_figure(bytes_io, **kw)\n",
            "/usr/local/lib/python3.11/dist-packages/IPython/core/pylabtools.py:151: UserWarning: Glyph 50752 (\\N{HANGUL SYLLABLE WA}) missing from font(s) DejaVu Sans.\n",
            "  fig.canvas.print_figure(bytes_io, **kw)\n",
            "/usr/local/lib/python3.11/dist-packages/IPython/core/pylabtools.py:151: UserWarning: Glyph 44592 (\\N{HANGUL SYLLABLE GI}) missing from font(s) DejaVu Sans.\n",
            "  fig.canvas.print_figure(bytes_io, **kw)\n",
            "/usr/local/lib/python3.11/dist-packages/IPython/core/pylabtools.py:151: UserWarning: Glyph 44033 (\\N{HANGUL SYLLABLE GAG}) missing from font(s) DejaVu Sans.\n",
            "  fig.canvas.print_figure(bytes_io, **kw)\n",
            "/usr/local/lib/python3.11/dist-packages/IPython/core/pylabtools.py:151: UserWarning: Glyph 50669 (\\N{HANGUL SYLLABLE YEOG}) missing from font(s) DejaVu Sans.\n",
            "  fig.canvas.print_figure(bytes_io, **kw)\n",
            "/usr/local/lib/python3.11/dist-packages/IPython/core/pylabtools.py:151: UserWarning: Glyph 53685 (\\N{HANGUL SYLLABLE TONG}) missing from font(s) DejaVu Sans.\n",
            "  fig.canvas.print_figure(bytes_io, **kw)\n",
            "/usr/local/lib/python3.11/dist-packages/IPython/core/pylabtools.py:151: UserWarning: Glyph 44228 (\\N{HANGUL SYLLABLE GYE}) missing from font(s) DejaVu Sans.\n",
            "  fig.canvas.print_figure(bytes_io, **kw)\n",
            "/usr/local/lib/python3.11/dist-packages/IPython/core/pylabtools.py:151: UserWarning: Glyph 47049 (\\N{HANGUL SYLLABLE RYANG}) missing from font(s) DejaVu Sans.\n",
            "  fig.canvas.print_figure(bytes_io, **kw)\n",
            "/usr/local/lib/python3.11/dist-packages/IPython/core/pylabtools.py:151: UserWarning: Glyph 54364 (\\N{HANGUL SYLLABLE PYO}) missing from font(s) DejaVu Sans.\n",
            "  fig.canvas.print_figure(bytes_io, **kw)\n",
            "/usr/local/lib/python3.11/dist-packages/IPython/core/pylabtools.py:151: UserWarning: Glyph 49884 (\\N{HANGUL SYLLABLE SI}) missing from font(s) DejaVu Sans.\n",
            "  fig.canvas.print_figure(bytes_io, **kw)\n",
            "/usr/local/lib/python3.11/dist-packages/IPython/core/pylabtools.py:151: UserWarning: Glyph 44050 (\\N{HANGUL SYLLABLE GABS}) missing from font(s) DejaVu Sans.\n",
            "  fig.canvas.print_figure(bytes_io, **kw)\n",
            "/usr/local/lib/python3.11/dist-packages/IPython/core/pylabtools.py:151: UserWarning: Glyph 50812 (\\N{HANGUL SYLLABLE OEN}) missing from font(s) DejaVu Sans.\n",
            "  fig.canvas.print_figure(bytes_io, **kw)\n",
            "/usr/local/lib/python3.11/dist-packages/IPython/core/pylabtools.py:151: UserWarning: Glyph 51901 (\\N{HANGUL SYLLABLE JJOG}) missing from font(s) DejaVu Sans.\n",
            "  fig.canvas.print_figure(bytes_io, **kw)\n",
            "/usr/local/lib/python3.11/dist-packages/IPython/core/pylabtools.py:151: UserWarning: Glyph 50724 (\\N{HANGUL SYLLABLE O}) missing from font(s) DejaVu Sans.\n",
            "  fig.canvas.print_figure(bytes_io, **kw)\n",
            "/usr/local/lib/python3.11/dist-packages/IPython/core/pylabtools.py:151: UserWarning: Glyph 47480 (\\N{HANGUL SYLLABLE REUN}) missing from font(s) DejaVu Sans.\n",
            "  fig.canvas.print_figure(bytes_io, **kw)\n",
            "/usr/local/lib/python3.11/dist-packages/IPython/core/pylabtools.py:151: UserWarning: Glyph 51076 (\\N{HANGUL SYLLABLE IM}) missing from font(s) DejaVu Sans.\n",
            "  fig.canvas.print_figure(bytes_io, **kw)\n"
          ]
        },
        {
          "output_type": "display_data",
          "data": {
            "text/plain": [
              "<Figure size 1000x600 with 1 Axes>"
            ],
            "image/png": "[encoded data removed]"
          },
          "metadata": {}
        }
      ]
    },
    {
      "cell_type": "code",
      "source": [],
      "metadata": {
        "id": "OxjwmgNsRnBx"
      },
      "execution_count": 2,
      "outputs": []
    },
    {
      "cell_type": "markdown",
      "source": [
        "## 문제 3) 단일 t 표본 검정\n",
        "\n",
        "- 어느 학교에서 새로운 교육 프로그램을 도입한 후 학생들의 수학 성적이 향상되었는지 확인하려고 합니다. 프로그램 도입 후 무작위로 선택한 16명의 학생들의 수학 성적 평균은 78점이고, 모집단의 평균은 75점입니다. 모집단의 표준편차는 알 수 없다고 합니다.\n",
        "- 유의수준 0.05에서 이 교육 프로그램이 성적 향상에 효과가 있는지 단일 표본 t-검정을 실시하세요.\n",
        "\n",
        "<aside>\n",
        "💡\n",
        "\n",
        "수업시간에 양측검정을 기준으로 배웠습니다. 다시말하면 데이터의 평균이 특정 값과 같은지 아닌지(방향은 관심없음)입니다. 문제는 **향상에 효과가 있는지** 에 대한 물음입니다. 함수를 무엇을 어떻게 넣어야할지 고민해보세요!(힌트 scipy docs 참고)\n",
        "\n",
        "</aside>"
      ],
      "metadata": {
        "id": "Ai7n_k24R483"
      }
    },
    {
      "cell_type": "code",
      "source": [
        "# 표본 점수 예시 (평균 78점과 일치)\n",
        "sample_scores = [79, 77, 80, 76, 78, 81, 75, 79, 77, 80, 78, 76, 82, 77, 79, 78]\n",
        "population_mean = 75\n",
        "alpha = 0.05\n",
        "\n",
        "# 단일 표본 t-검정 (양측)\n",
        "t_stat, p_value = stats.ttest_1samp(sample_scores, population_mean)\n",
        "\n",
        "# \"향상\"만 관심있으므로 단측(p/2, t>0일 때만)\n",
        "if t_stat > 0:\n",
        "    p_value = p_value / 2\n",
        "else:\n",
        "    p_value = 1 - (p_value / 2)\n",
        "\n",
        "if p_value < alpha:\n",
        "    print(f\"t-값: {t_stat:.4f}, p-value: {p_value:.4f}. 유의수준 {alpha}에서 귀무가설을 기각합니다. 교육프로그램은 효과가 있습니다.\")\n",
        "else:\n",
        "    print(f\"t-값: {t_stat:.4f}, p-value: {p_value:.4f}. 유의수준 {alpha}에서 귀무가설을 채택합니다. 교육프로그램은 효과가 없습니다.\")\n"
      ],
      "metadata": {
        "colab": {
          "base_uri": "https://localhost:8080/"
        },
        "id": "BWsvy2-fR7rX",
        "outputId": "1409ac4e-44ab-43fa-d62c-f478bc9d40fe"
      },
      "execution_count": 3,
      "outputs": [
        {
          "output_type": "stream",
          "name": "stdout",
          "text": [
            "t-값: 6.7890, p-value: 0.0000. 유의수준 0.05에서 귀무가설을 기각합니다. 교육프로그램은 효과가 있습니다.\n"
          ]
        }
      ]
    },
    {
      "cell_type": "markdown",
      "source": [
        "## 문제 4) 독립 표본 t 검정\n",
        "\n",
        "- 한 연구소에서 두 가지 새로운 다이어트 프로그램의 효과를 비교하려고 합니다. 연구소는 두 그룹의 참가자들을 대상으로 12주간 다이어트 프로그램을 진행한 후 체중 감소량을 측정했습니다.\n",
        "- 유의수준 5% 에서 두 그룹 간 평균 체중 감소량에 유의미한 차이가 있는지 독립 표본 t-검정을 실시하세요.\n",
        "\n",
        "<aside>\n",
        "💡\n",
        "\n",
        "관찰연구에서는  두개의 그룹을 t검정을 할때 등분산성을 검정하게 됩니다.  `scipy.stats.levene` 문서를 읽고 등분산 검정 후 적절한 검정방법을 적용해보세요. 등분산 검정에도 역시 귀무가설과 대립가설이 존재합니다.\n",
        "\n",
        "</aside>"
      ],
      "metadata": {
        "id": "7qRpcOFfSRtA"
      }
    },
    {
      "cell_type": "code",
      "source": [
        "# 그룹 A와 B의 체중 감소량 데이터\n",
        "group_A = [5.1, 4.7, 6.2, 4.9, 5.3, 6.1, 5.0, 5.8, 4.8, 5.2]\n",
        "group_B = [4.3, 4.1, 3.8, 4.6, 4.0, 4.5, 3.7, 4.2, 3.9, 4.4, 3.5, 4.3]\n",
        "alpha = 0.05\n",
        "\n",
        "# 1. Levene 등분산성 검정\n",
        "levene_stat, levene_p = stats.levene(group_A, group_B)\n",
        "\n",
        "# 2. 등분산성 검정 결과에 따라 독립 표본 t-검정 수행\n",
        "if levene_p > alpha:\n",
        "    # 등분산 가정\n",
        "    t_stat, p_value = stats.ttest_ind(group_A, group_B, equal_var=True)\n",
        "else:\n",
        "    # 등분산 가정하지 않음\n",
        "    t_stat, p_value = stats.ttest_ind(group_A, group_B, equal_var=False)\n",
        "\n",
        "# 결과 출력\n",
        "if p_value < alpha:\n",
        "    result = f\"t-값: {t_stat:.4f}, p-value: {p_value:.4f}. 유의수준 {alpha}에서 귀무가설을 기각합니다. 다이어트 프로그램은 효과가 있습니다.\"\n",
        "else:\n",
        "    result = f\"t-값: {t_stat:.4f}, p-value: {p_value:.4f}. 유의수준 {alpha}에서 귀무가설을 채택합니다. 다이어트 프로그램은 효과가 없습니다\"\n",
        "\n",
        "print(result)\n"
      ],
      "metadata": {
        "colab": {
          "base_uri": "https://localhost:8080/"
        },
        "id": "Rf4-GNNRSXC9",
        "outputId": "dad8f69a-9759-4be8-b68b-9fe53fb9624d"
      },
      "execution_count": 4,
      "outputs": [
        {
          "output_type": "stream",
          "name": "stdout",
          "text": [
            "t-값: 6.3898, p-value: 0.0000. 유의수준 0.05에서 귀무가설을 기각합니다. 다이어트 프로그램은 효과가 있습니다.\n"
          ]
        }
      ]
    },
    {
      "cell_type": "markdown",
      "source": [
        "## 문제 5) 대응표본 t검정\n",
        "\n",
        "<aside>\n",
        "💡\n",
        "\n",
        "대응표본 t-검정은 두 집단간 평균 차이를 비교할 때 사용되는 점은 독립 t검정 동일하나, 같은 집단에서 두 번 수집할 때 사용되는 검정입니다.( ex 고혈압 투여 전후 환자 단일 그룹의 혈압의 차) `scipy.stats` docs에서 적절한 함수를 찾아보고 적용해보세요.\n",
        "\n",
        "</aside>\n",
        "\n",
        "- 운동 프로그램 전후의 체중 변화를 분석하기 위해 10명의 참가자의 체중을 측정했습니다. 유의수준 5%에서 운동 프로그램이 체중 감소에 효과가 있는지 **대응 표본 t-검정**을 실시하세요.\n",
        "- 또한, 대응표본t검정에서 등분산 검정이 필요한지 고민해봅시다."
      ],
      "metadata": {
        "id": "s48K8ICRTUwI"
      }
    },
    {
      "cell_type": "code",
      "source": [
        "# 운동 전후 체중 데이터\n",
        "before = np.array([70, 80, 65, 90, 75, 85, 78, 82, 68, 73])\n",
        "after = np.array([68, 78, 64, 88, 74, 83, 77, 80, 67, 72])\n",
        "alpha = 0.05\n",
        "\n",
        "# 대응표본 t-검정\n",
        "t_stat, p_value = stats.ttest_rel(before, after)\n",
        "\n",
        "# 결과 출력\n",
        "if p_value < alpha:\n",
        "    print(f\"t-값: {t_stat:.4f}, p-value: {p_value:.4f}. 유의수준 {alpha}에서 귀무가설을 기각합니다. 운동 프로그램은 효과가 있습니다.\")\n",
        "else:\n",
        "    print(f\"t-값: {t_stat:.4f}, p-value: {p_value:.4f}. 유의수준 {alpha}에서 귀무가설을 채택합니다. 운동 프로그램은 효과가 없습니다.\")\n"
      ],
      "metadata": {
        "colab": {
          "base_uri": "https://localhost:8080/"
        },
        "id": "cD-pgnHMTALS",
        "outputId": "f0f47cd5-b1e3-4204-b3f0-8ebd0e38065c"
      },
      "execution_count": 5,
      "outputs": [
        {
          "output_type": "stream",
          "name": "stdout",
          "text": [
            "t-값: 9.0000, p-value: 0.0000. 유의수준 0.05에서 귀무가설을 기각합니다. 운동 프로그램은 효과가 있습니다.\n"
          ]
        }
      ]
    },
    {
      "cell_type": "code",
      "source": [
        "# 등분산 검정은 대응표본 t 검정에는 필요하지 않다.\n",
        "# 대응표본 t-검정에서는 같은 집단의 두 데이터를 비교하므로, 각 쌍의 차이값이 정규분포를 따른다면 두 집단의 분산이 같은지(등분산성)는 검정하지 않아도 된다."
      ],
      "metadata": {
        "id": "DIEmBFi0TcJ6"
      },
      "execution_count": 6,
      "outputs": []
    },
    {
      "cell_type": "code",
      "source": [
        "import kagglehub\n",
        "import os\n",
        "import pandas as pd\n",
        "\n",
        "# Download latest version\n",
        "path = kagglehub.dataset_download(\"mashlyn/online-retail-ii-uci\")\n",
        "print(\"Path to dataset files:\", path)\n",
        "retail = pd.read_csv(path + '/' + os.listdir(path)[0])\n",
        "retail.head(3)"
      ],
      "metadata": {
        "colab": {
          "base_uri": "https://localhost:8080/",
          "height": 303
        },
        "id": "58UavcybT0Zc",
        "outputId": "d40b82b2-0b82-48b0-c829-c66921ae59a2"
      },
      "execution_count": 7,
      "outputs": [
        {
          "output_type": "stream",
          "name": "stdout",
          "text": [
            "Path to dataset files: /kaggle/input/online-retail-ii-uci\n"
          ]
        },
        {
          "output_type": "execute_result",
          "data": {
            "text/plain": [
              "  Invoice StockCode                          Description  Quantity  \\\n",
              "0  489434     85048  15CM CHRISTMAS GLASS BALL 20 LIGHTS        12   \n",
              "1  489434    79323P                   PINK CHERRY LIGHTS        12   \n",
              "2  489434    79323W                  WHITE CHERRY LIGHTS        12   \n",
              "\n",
              "           InvoiceDate  Price  Customer ID         Country  \n",
              "0  2009-12-01 07:45:00   6.95      13085.0  United Kingdom  \n",
              "1  2009-12-01 07:45:00   6.75      13085.0  United Kingdom  \n",
              "2  2009-12-01 07:45:00   6.75      13085.0  United Kingdom  "
            ],
            "text/html": [
              "\n",
              "  <div id=\"df-2ef3d89d-eb4a-42e9-b0a8-420240297b52\" class=\"colab-df-container\">\n",
              "    <div>\n",
              "<style scoped>\n",
              "    .dataframe tbody tr th:only-of-type {\n",
              "        vertical-align: middle;\n",
              "    }\n",
              "\n",
              "    .dataframe tbody tr th {\n",
              "        vertical-align: top;\n",
              "    }\n",
              "\n",
              "    .dataframe thead th {\n",
              "        text-align: right;\n",
              "    }\n",
              "</style>\n",
              "<table border=\"1\" class=\"dataframe\">\n",
              "  <thead>\n",
              "    <tr style=\"text-align: right;\">\n",
              "      <th></th>\n",
              "      <th>Invoice</th>\n",
              "      <th>StockCode</th>\n",
              "      <th>Description</th>\n",
              "      <th>Quantity</th>\n",
              "      <th>InvoiceDate</th>\n",
              "      <th>Price</th>\n",
              "      <th>Customer ID</th>\n",
              "      <th>Country</th>\n",
              "    </tr>\n",
              "  </thead>\n",
              "  <tbody>\n",
              "    <tr>\n",
              "      <th>0</th>\n",
              "      <td>489434</td>\n",
              "      <td>85048</td>\n",
              "      <td>15CM CHRISTMAS GLASS BALL 20 LIGHTS</td>\n",
              "      <td>12</td>\n",
              "      <td>2009-12-01 07:45:00</td>\n",
              "      <td>6.95</td>\n",
              "      <td>13085.0</td>\n",
              "      <td>United Kingdom</td>\n",
              "    </tr>\n",
              "    <tr>\n",
              "      <th>1</th>\n",
              "      <td>489434</td>\n",
              "      <td>79323P</td>\n",
              "      <td>PINK CHERRY LIGHTS</td>\n",
              "      <td>12</td>\n",
              "      <td>2009-12-01 07:45:00</td>\n",
              "      <td>6.75</td>\n",
              "      <td>13085.0</td>\n",
              "      <td>United Kingdom</td>\n",
              "    </tr>\n",
              "    <tr>\n",
              "      <th>2</th>\n",
              "      <td>489434</td>\n",
              "      <td>79323W</td>\n",
              "      <td>WHITE CHERRY LIGHTS</td>\n",
              "      <td>12</td>\n",
              "      <td>2009-12-01 07:45:00</td>\n",
              "      <td>6.75</td>\n",
              "      <td>13085.0</td>\n",
              "      <td>United Kingdom</td>\n",
              "    </tr>\n",
              "  </tbody>\n",
              "</table>\n",
              "</div>\n",
              "    <div class=\"colab-df-buttons\">\n",
              "\n",
              "  <div class=\"colab-df-container\">\n",
              "    <button class=\"colab-df-convert\" onclick=\"convertToInteractive('df-2ef3d89d-eb4a-42e9-b0a8-420240297b52')\"\n",
              "            title=\"Convert this dataframe to an interactive table.\"\n",
              "            style=\"display:none;\">\n",
              "\n",
              "  <svg xmlns=\"http://www.w3.org/2000/svg\" height=\"24px\" viewBox=\"0 -960 960 960\">\n",
              "    <path d=\"M120-120v-720h720v720H120Zm60-500h600v-160H180v160Zm220 220h160v-160H400v160Zm0 220h160v-160H400v160ZM180-400h160v-160H180v160Zm440 0h160v-160H620v160ZM180-180h160v-160H180v160Zm440 0h160v-160H620v160Z\"/>\n",
              "  </svg>\n",
              "    </button>\n",
              "\n",
              "  <style>\n",
              "    .colab-df-container {\n",
              "      display:flex;\n",
              "      gap: 12px;\n",
              "    }\n",
              "\n",
              "    .colab-df-convert {\n",
              "      background-color: #E8F0FE;\n",
              "      border: none;\n",
              "      border-radius: 50%;\n",
              "      cursor: pointer;\n",
              "      display: none;\n",
              "      fill: #1967D2;\n",
              "      height: 32px;\n",
              "      padding: 0 0 0 0;\n",
              "      width: 32px;\n",
              "    }\n",
              "\n",
              "    .colab-df-convert:hover {\n",
              "      background-color: #E2EBFA;\n",
              "      box-shadow: 0px 1px 2px rgba(60, 64, 67, 0.3), 0px 1px 3px 1px rgba(60, 64, 67, 0.15);\n",
              "      fill: #174EA6;\n",
              "    }\n",
              "\n",
              "    .colab-df-buttons div {\n",
              "      margin-bottom: 4px;\n",
              "    }\n",
              "\n",
              "    [theme=dark] .colab-df-convert {\n",
              "      background-color: #3B4455;\n",
              "      fill: #D2E3FC;\n",
              "    }\n",
              "\n",
              "    [theme=dark] .colab-df-convert:hover {\n",
              "      background-color: #434B5C;\n",
              "      box-shadow: 0px 1px 3px 1px rgba(0, 0, 0, 0.15);\n",
              "      filter: drop-shadow(0px 1px 2px rgba(0, 0, 0, 0.3));\n",
              "      fill: #FFFFFF;\n",
              "    }\n",
              "  </style>\n",
              "\n",
              "    <script>\n",
              "      const buttonEl =\n",
              "        document.querySelector('#df-2ef3d89d-eb4a-42e9-b0a8-420240297b52 button.colab-df-convert');\n",
              "      buttonEl.style.display =\n",
              "        google.colab.kernel.accessAllowed ? 'block' : 'none';\n",
              "\n",
              "      async function convertToInteractive(key) {\n",
              "        const element = document.querySelector('#df-2ef3d89d-eb4a-42e9-b0a8-420240297b52');\n",
              "        const dataTable =\n",
              "          await google.colab.kernel.invokeFunction('convertToInteractive',\n",
              "                                                    [key], {});\n",
              "        if (!dataTable) return;\n",
              "\n",
              "        const docLinkHtml = 'Like what you see? Visit the ' +\n",
              "          '<a target=\"_blank\" href=https://colab.research.google.com/notebooks/data_table.ipynb>data table notebook</a>'\n",
              "          + ' to learn more about interactive tables.';\n",
              "        element.innerHTML = '';\n",
              "        dataTable['output_type'] = 'display_data';\n",
              "        await google.colab.output.renderOutput(dataTable, element);\n",
              "        const docLink = document.createElement('div');\n",
              "        docLink.innerHTML = docLinkHtml;\n",
              "        element.appendChild(docLink);\n",
              "      }\n",
              "    </script>\n",
              "  </div>\n",
              "\n",
              "\n",
              "    <div id=\"df-a3210814-ed52-426a-8b65-8e5452a19ae1\">\n",
              "      <button class=\"colab-df-quickchart\" onclick=\"quickchart('df-a3210814-ed52-426a-8b65-8e5452a19ae1')\"\n",
              "                title=\"Suggest charts\"\n",
              "                style=\"display:none;\">\n",
              "\n",
              "<svg xmlns=\"http://www.w3.org/2000/svg\" height=\"24px\"viewBox=\"0 0 24 24\"\n",
              "     width=\"24px\">\n",
              "    <g>\n",
              "        <path d=\"M19 3H5c-1.1 0-2 .9-2 2v14c0 1.1.9 2 2 2h14c1.1 0 2-.9 2-2V5c0-1.1-.9-2-2-2zM9 17H7v-7h2v7zm4 0h-2V7h2v10zm4 0h-2v-4h2v4z\"/>\n",
              "    </g>\n",
              "</svg>\n",
              "      </button>\n",
              "\n",
              "<style>\n",
              "  .colab-df-quickchart {\n",
              "      --bg-color: #E8F0FE;\n",
              "      --fill-color: #1967D2;\n",
              "      --hover-bg-color: #E2EBFA;\n",
              "      --hover-fill-color: #174EA6;\n",
              "      --disabled-fill-color: #AAA;\n",
              "      --disabled-bg-color: #DDD;\n",
              "  }\n",
              "\n",
              "  [theme=dark] .colab-df-quickchart {\n",
              "      --bg-color: #3B4455;\n",
              "      --fill-color: #D2E3FC;\n",
              "      --hover-bg-color: #434B5C;\n",
              "      --hover-fill-color: #FFFFFF;\n",
              "      --disabled-bg-color: #3B4455;\n",
              "      --disabled-fill-color: #666;\n",
              "  }\n",
              "\n",
              "  .colab-df-quickchart {\n",
              "    background-color: var(--bg-color);\n",
              "    border: none;\n",
              "    border-radius: 50%;\n",
              "    cursor: pointer;\n",
              "    display: none;\n",
              "    fill: var(--fill-color);\n",
              "    height: 32px;\n",
              "    padding: 0;\n",
              "    width: 32px;\n",
              "  }\n",
              "\n",
              "  .colab-df-quickchart:hover {\n",
              "    background-color: var(--hover-bg-color);\n",
              "    box-shadow: 0 1px 2px rgba(60, 64, 67, 0.3), 0 1px 3px 1px rgba(60, 64, 67, 0.15);\n",
              "    fill: var(--button-hover-fill-color);\n",
              "  }\n",
              "\n",
              "  .colab-df-quickchart-complete:disabled,\n",
              "  .colab-df-quickchart-complete:disabled:hover {\n",
              "    background-color: var(--disabled-bg-color);\n",
              "    fill: var(--disabled-fill-color);\n",
              "    box-shadow: none;\n",
              "  }\n",
              "\n",
              "  .colab-df-spinner {\n",
              "    border: 2px solid var(--fill-color);\n",
              "    border-color: transparent;\n",
              "    border-bottom-color: var(--fill-color);\n",
              "    animation:\n",
              "      spin 1s steps(1) infinite;\n",
              "  }\n",
              "\n",
              "  @keyframes spin {\n",
              "    0% {\n",
              "      border-color: transparent;\n",
              "      border-bottom-color: var(--fill-color);\n",
              "      border-left-color: var(--fill-color);\n",
              "    }\n",
              "    20% {\n",
              "      border-color: transparent;\n",
              "      border-left-color: var(--fill-color);\n",
              "      border-top-color: var(--fill-color);\n",
              "    }\n",
              "    30% {\n",
              "      border-color: transparent;\n",
              "      border-left-color: var(--fill-color);\n",
              "      border-top-color: var(--fill-color);\n",
              "      border-right-color: var(--fill-color);\n",
              "    }\n",
              "    40% {\n",
              "      border-color: transparent;\n",
              "      border-right-color: var(--fill-color);\n",
              "      border-top-color: var(--fill-color);\n",
              "    }\n",
              "    60% {\n",
              "      border-color: transparent;\n",
              "      border-right-color: var(--fill-color);\n",
              "    }\n",
              "    80% {\n",
              "      border-color: transparent;\n",
              "      border-right-color: var(--fill-color);\n",
              "      border-bottom-color: var(--fill-color);\n",
              "    }\n",
              "    90% {\n",
              "      border-color: transparent;\n",
              "      border-bottom-color: var(--fill-color);\n",
              "    }\n",
              "  }\n",
              "</style>\n",
              "\n",
              "      <script>\n",
              "        async function quickchart(key) {\n",
              "          const quickchartButtonEl =\n",
              "            document.querySelector('#' + key + ' button');\n",
              "          quickchartButtonEl.disabled = true;  // To prevent multiple clicks.\n",
              "          quickchartButtonEl.classList.add('colab-df-spinner');\n",
              "          try {\n",
              "            const charts = await google.colab.kernel.invokeFunction(\n",
              "                'suggestCharts', [key], {});\n",
              "          } catch (error) {\n",
              "            console.error('Error during call to suggestCharts:', error);\n",
              "          }\n",
              "          quickchartButtonEl.classList.remove('colab-df-spinner');\n",
              "          quickchartButtonEl.classList.add('colab-df-quickchart-complete');\n",
              "        }\n",
              "        (() => {\n",
              "          let quickchartButtonEl =\n",
              "            document.querySelector('#df-a3210814-ed52-426a-8b65-8e5452a19ae1 button');\n",
              "          quickchartButtonEl.style.display =\n",
              "            google.colab.kernel.accessAllowed ? 'block' : 'none';\n",
              "        })();\n",
              "      </script>\n",
              "    </div>\n",
              "\n",
              "    </div>\n",
              "  </div>\n"
            ],
            "application/vnd.google.colaboratory.intrinsic+json": {
              "type": "dataframe",
              "variable_name": "retail"
            }
          },
          "metadata": {},
          "execution_count": 7
        }
      ]
    },
    {
      "cell_type": "code",
      "source": [
        "# 영국 주문 데이터 필터링\n",
        "uk_data = retail[retail['Country'] == 'United Kingdom']\n",
        "\n",
        "# TotalPrice 컬럼 생성\n",
        "uk_data['TotalPrice'] = uk_data['Quantity'] * uk_data['Price']\n",
        "\n",
        "# 표본 추출 및 평균 계산 함수\n",
        "def sample_mean(data, size):\n",
        "    sample = data.sample(n=size, random_state=42)\n",
        "    return sample['TotalPrice'].mean()\n",
        "\n",
        "# 모집단 평균\n",
        "population_mean = uk_data['TotalPrice'].mean()\n",
        "\n",
        "# 표본 크기별 평균 계산\n",
        "mean_30 = sample_mean(uk_data, 30)\n",
        "mean_100 = sample_mean(uk_data, 100)\n",
        "mean_300 = sample_mean(uk_data, 300)\n",
        "\n",
        "print(f\"Sample size: 30, Mean TotalPrice: {mean_30:.2f}\")\n",
        "print(f\"Sample size: 100, Mean TotalPrice: {mean_100:.2f}\")\n",
        "print(f\"Sample size: 300, Mean TotalPrice: {mean_300:.2f}\")\n"
      ],
      "metadata": {
        "colab": {
          "base_uri": "https://localhost:8080/"
        },
        "id": "UB0mj1ZZUiI6",
        "outputId": "70a7e73c-e451-4dce-eab1-c3c3259ea377"
      },
      "execution_count": 8,
      "outputs": [
        {
          "output_type": "stream",
          "name": "stdout",
          "text": [
            "Sample size: 30, Mean TotalPrice: 11.88\n",
            "Sample size: 100, Mean TotalPrice: 16.09\n",
            "Sample size: 300, Mean TotalPrice: 13.34\n"
          ]
        },
        {
          "output_type": "stream",
          "name": "stderr",
          "text": [
            "<ipython-input-8-0c7d15233143>:5: SettingWithCopyWarning: \n",
            "A value is trying to be set on a copy of a slice from a DataFrame.\n",
            "Try using .loc[row_indexer,col_indexer] = value instead\n",
            "\n",
            "See the caveats in the documentation: https://pandas.pydata.org/pandas-docs/stable/user_guide/indexing.html#returning-a-view-versus-a-copy\n",
            "  uk_data['TotalPrice'] = uk_data['Quantity'] * uk_data['Price']\n"
          ]
        }
      ]
    },
    {
      "cell_type": "markdown",
      "source": [
        "## 문제 7) 신뢰구간\n",
        "\n",
        "- 영국 데이터에서 TotalPrice를 사용하여 95% 신뢰 구간을 계산하세요. 또한 표본의 크기가 30,100, 300으로 변하면서 신뢰구간이 변하는 형태를 확인해 보세요.\n",
        "- Hint) `stats` 모듈에서 신뢰구간을 바로 구하는 함수를 확인해보세요."
      ],
      "metadata": {
        "id": "155DnKBBVpy4"
      }
    },
    {
      "cell_type": "code",
      "source": [
        "# 신뢰구간 계산 함수\n",
        "def confidence_interval(data, confidence=0.95):\n",
        "    mean = data.mean()\n",
        "    std_err = stats.sem(data)\n",
        "    interval = stats.t.interval(confidence, len(data)-1, loc=mean, scale=std_err)\n",
        "    return mean, interval\n",
        "\n",
        "# 표본 크기별 신뢰구간 출력\n",
        "sample_sizes = [30, 100, 300]\n",
        "for size in sample_sizes:\n",
        "    sample = uk_data.sample(size, random_state=42)\n",
        "    mean, interval = confidence_interval(sample['TotalPrice'])\n",
        "    print(f\"Sample size: {size}, Mean: {mean:.2f}, 95% CI: {interval}\")\n"
      ],
      "metadata": {
        "colab": {
          "base_uri": "https://localhost:8080/"
        },
        "id": "h4EWdHKDUZyW",
        "outputId": "64de8a9c-1bdd-4128-b4ec-9961755cff56"
      },
      "execution_count": 9,
      "outputs": [
        {
          "output_type": "stream",
          "name": "stdout",
          "text": [
            "Sample size: 30, Mean: 11.88, 95% CI: (np.float64(6.37841466090658), np.float64(17.38425200576009))\n",
            "Sample size: 100, Mean: 16.09, 95% CI: (np.float64(11.142955150004974), np.float64(21.02784484999502))\n",
            "Sample size: 300, Mean: 13.34, 95% CI: (np.float64(11.264027626023802), np.float64(15.424439040642865))\n"
          ]
        }
      ]
    },
    {
      "cell_type": "markdown",
      "source": [],
      "metadata": {
        "id": "U_PlsUv-WqyS"
      }
    },
    {
      "cell_type": "markdown",
      "source": [
        "## 문제 8 가설검정 t-test\n",
        "\n",
        "- 영국과 독일의 고객의 평균 구매금액(Total Price)가 동일한지 검정해보세요. 귀무가설과 대립가설을 세우고 통계검정을 통해 결과를 해석하세요\n",
        "- 영국과 독일의 분포는 등분산성은 따른다고 가정"
      ],
      "metadata": {
        "id": "_KMB9zMrWxaM"
      }
    },
    {
      "cell_type": "code",
      "source": [
        "# 전처리: 결측치, 음수/0 제거\n",
        "retail = retail[pd.notnull(retail['Customer ID'])]\n",
        "retail = retail[retail['Quantity'] > 0]\n",
        "retail = retail[retail['Price'] > 0]\n",
        "\n",
        "# Total Price 계산\n",
        "retail['TotalPrice'] = retail['Price'] * retail['Quantity']\n",
        "\n",
        "# 영국, 독일 데이터 추출\n",
        "uk = retail[retail['Country'] == 'United Kingdom']['TotalPrice']\n",
        "de = retail[retail['Country'] == 'Germany']['TotalPrice']\n",
        "\n",
        "# 등분산 가정 하 독립표본 t-검정\n",
        "t_stat, p_value = stats.ttest_ind(uk, de, equal_var=True)\n",
        "\n",
        "# 결과 출력\n",
        "if p_value < 0.05:\n",
        "    print(\"영국과 독일 고객의 평균 구매 금액에 유의한 차이가 있습니다.\")\n",
        "else:\n",
        "    print(\"영국과 독일 고객의 평균 구매 금액에 유의한 차이가 없습니다.\")\n",
        "\n",
        "print(f\"t-값: {t_stat:.4f}, p-value: {p_value:.4f}\")\n"
      ],
      "metadata": {
        "colab": {
          "base_uri": "https://localhost:8080/"
        },
        "id": "0pzp0kpzWCoO",
        "outputId": "163b041f-139d-4abb-f0dc-1c9b41e3ef32"
      },
      "execution_count": 10,
      "outputs": [
        {
          "output_type": "stream",
          "name": "stdout",
          "text": [
            "영국과 독일 고객의 평균 구매 금액에 유의한 차이가 있습니다.\n",
            "t-값: -3.0548, p-value: 0.0023\n"
          ]
        }
      ]
    },
    {
      "cell_type": "markdown",
      "source": [
        "# 2. A/B 테스트\n",
        "\n",
        "문제 9~ 10) A/B test스타트업A에서 새로운 여행 패키지 상품 판매를 진행하고자 합니다. 패키지 판매 기획자는 새로운 패키지의 상품 판매 효율을 높이고 싶어하며, 이를 위해 기존에 상품이 판매되던 웹 페이지 (페이지 A) 가 아닌 새로운 웹 페이지 (페이지 B)를 통해 판매하고자 합니다. 패키지 판매 기획자는 신규 웹페이지 (페이지 B) 가 기존 (페이지 A) 대비 효과가 좋은 지 확인하기 위해 A/B 테스트를 진행하였습니다.\n",
        "\n",
        "- 페이지 A: 기존에 운영하던 패키지 판매 웹 페이지\n",
        "- 페이지 B: 새롭게 생성한 패키지 판매 웹 페이지\n"
      ],
      "metadata": {
        "id": "EKkO2qt0Jqzm"
      }
    },
    {
      "cell_type": "code",
      "source": [],
      "metadata": {
        "id": "ptAf1DmeOwJV"
      },
      "execution_count": null,
      "outputs": []
    },
    {
      "cell_type": "markdown",
      "source": [
        "## **문제9)**\n",
        "\n",
        "- 결과를 바탕으로 패키지 기획자는 페이지 B의 효과에 대해 어떤 결정을 해야 할지 서술해 주세요.\n",
        "- Hint) https://abtestguide.com/calc/  를 사용하여 해석해보세요"
      ],
      "metadata": {
        "id": "NwfCQdUpOuxk"
      }
    },
    {
      "cell_type": "code",
      "source": [
        "from scipy.stats import norm\n",
        "\n",
        "n_A = 1000\n",
        "x_A = 80\n",
        "n_B = 200\n",
        "x_B = 22\n",
        "\n",
        "p_A = x_A / n_A  # 0.08\n",
        "p_B = x_B / n_B  # 0.11\n",
        "p_pool = (x_A + x_B) / (n_A + n_B)  # 0.085\n",
        "\n",
        "se = (p_pool*(1-p_pool)*(1/n_A + 1/n_B))**0.5  # 0.0216\n",
        "z = (p_B - p_A)/se  # 1.3888\n",
        "p_value = 2*(1 - norm.cdf(abs(z)))  # 0.1649\n",
        "\n",
        "print(f\"{z:.4f}\")\n",
        "print(f\"{p_value:.4f}\")\n"
      ],
      "metadata": {
        "colab": {
          "base_uri": "https://localhost:8080/"
        },
        "id": "mVCuPhfOW1Uc",
        "outputId": "4d9e5007-dab2-4c1c-a6ac-709a1e01b585"
      },
      "execution_count": 24,
      "outputs": [
        {
          "output_type": "stream",
          "name": "stdout",
          "text": [
            "1.3888\n",
            "0.1649\n"
          ]
        }
      ]
    },
    {
      "cell_type": "markdown",
      "source": [
        "A/B 테스트 분석 결과, 페이지A의 전환율은 80/1000 = 8.0%이고, 페이지B의 전환율은 22/200 = 11.0%이다.\n",
        "p-value 값은 0.1649로 유의 수준이니 0.05를 초과하여 페이지B의 전환률 상승이 통계적으로 유의미하지 않음을 나타낸다. 또한 SRM 즉 실험에 참가한 사람 수가 두 그룹에 고르게 나눠지지 않았지 때문에 표본이 치우쳐서 실험결과가 신뢰할 수 없게 되었다. 이에 실험 설계를 바꿔서 다시 실행해야 한다.\n"
      ],
      "metadata": {
        "id": "B7o00KflK1fW"
      }
    },
    {
      "cell_type": "markdown",
      "source": [
        "## **문제 10)**\n",
        "\n",
        "- A/B 테스트의 결과가 통계적으로 유의하나 효과의 차이 자체는 매우 작은 경우, 어떤 의사결정을 할 수 있을지 사례를 통해 설명해 주세요.\n",
        "- Hint) A/B 관련 자료를 찾아보세요(추천 문헌 [요즘IT](https://yozm.wishket.com/))\n"
      ],
      "metadata": {
        "id": "sGDYf_ZiO8cF"
      }
    },
    {
      "cell_type": "markdown",
      "source": [
        "A/B 테스트에서 통계적으로 유의한 차이가 나타나더라도 효과의 크기가 매우 작다면 단순히 변화가 의미있다고 결론짓지 말아야 한다. 이보다는 실제 비즈니스에 미치는 영향, 추가 비용, 리스크 등을 고려해야 한다. 예를 들어 전환율이 조금 오르더라도 그로 인한 매출 증가가 개발 비용보다 적거나 고객 경험에 영향을 주지 못한다면 변경을 하지 않는 것이 합리적이다. 이에 통계적 유의성과 실질적 가치를 둘 다 고려해서 의사결정을 해야 한다."
      ],
      "metadata": {
        "id": "6Get0F2GPR1G"
      }
    },
    {
      "cell_type": "code",
      "source": [],
      "metadata": {
        "id": "qZA_SDFvOrt-"
      },
      "execution_count": null,
      "outputs": []
    }
  ]
}