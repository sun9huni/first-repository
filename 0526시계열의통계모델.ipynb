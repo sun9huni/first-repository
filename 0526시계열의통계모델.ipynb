{
  "nbformat": 4,
  "nbformat_minor": 0,
  "metadata": {
    "colab": {
      "provenance": [],
      "authorship_tag": "ABX9TyMWnXpQ3l1FYFJXBZA/V8oL",
      "include_colab_link": true
    },
    "kernelspec": {
      "name": "python3",
      "display_name": "Python 3"
    },
    "language_info": {
      "name": "python"
    }
  },
  "cells": [
    {
      "cell_type": "markdown",
      "metadata": {
        "id": "view-in-github",
        "colab_type": "text"
      },
      "source": [
        "<a href=\"https://colab.research.google.com/github/sun9huni/first-repository/blob/main/0526%EC%8B%9C%EA%B3%84%EC%97%B4%EC%9D%98%ED%86%B5%EA%B3%84%EB%AA%A8%EB%8D%B8.ipynb\" target=\"_parent\"><img src=\"https://colab.research.google.com/assets/colab-badge.svg\" alt=\"Open In Colab\"/></a>"
      ]
    },
    {
      "cell_type": "markdown",
      "source": [
        "# ARIMA\n",
        "## AR Auto Regressive model(자기 회귀)\n",
        "- AR(p) 모델은 과거가 미래를 예측한다는 직관적인 사실에 의존하는 모델로서, 특정시점 t의 값은 이전 시점을 구성하는 값들의 함수라는 시계열 과정을 상정\n",
        "- 선형회귀에서 변수가 자신의 과거 값이다.\n",
        "## Integration(차분)\n",
        "## Moving Average Model(이동평균)\n",
        "- MA(q) 모델은 각 시점의 데이터가 최근의 과거 값에 대한 오차항으로 구성된 함수로 표현된 과정에 의존한다고 볼 수 있습니다. 그리고 각 오차항은 서로 독립적입니다.\n",
        "- 이는 과거의 오차(그 시점에 발생한 독립적인 사건)가 선형적으로 결합해 현재의 과정에 영향을 미친다고 보는 것"
      ],
      "metadata": {
        "id": "DFIrCW72WT9J"
      }
    },
    {
      "cell_type": "markdown",
      "source": [
        "## ARIMA equation\n",
        "- p: AR lagged values\n",
        "- d: 차분의 개수\n",
        "- q: MA lagged errors\n",
        "## 파라미터 p, d, q의 적합\n",
        "ACF, PACF 함수를 보며 수동으로 파라미터를 적합시키는 방법을 박스-젠킨스 법(Box-Jenkins)이라고 합니다.\n",
        "\n"
      ],
      "metadata": {
        "id": "toQXPWx3a1Gj"
      }
    },
    {
      "cell_type": "markdown",
      "source": [
        "# ARIMA 파생모델\n",
        "- ARIMA + seasonality = SARIMA\n",
        "- ARIMA + Time series regression = ARIMAX (dynamic regression)\n",
        "- SARIMA + ARIMAX = SARIMAX"
      ],
      "metadata": {
        "id": "5x40y9pjbHTc"
      }
    },
    {
      "cell_type": "markdown",
      "source": [
        "# 금융 시계열의 특징"
      ],
      "metadata": {
        "id": "MECDs0VtmwiL"
      }
    }
  ]
}