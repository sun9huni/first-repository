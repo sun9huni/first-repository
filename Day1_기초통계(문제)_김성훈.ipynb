{
  "nbformat": 4,
  "nbformat_minor": 0,
  "metadata": {
    "colab": {
      "provenance": [],
      "include_colab_link": true
    },
    "kernelspec": {
      "name": "python3",
      "display_name": "Python 3"
    },
    "language_info": {
      "name": "python"
    }
  },
  "cells": [
    {
      "cell_type": "markdown",
      "metadata": {
        "id": "view-in-github",
        "colab_type": "text"
      },
      "source": [
        "<a href=\"https://colab.research.google.com/github/sun9huni/first-repository/blob/main/Day1_%EA%B8%B0%EC%B4%88%ED%86%B5%EA%B3%84(%EB%AC%B8%EC%A0%9C)_%EA%B9%80%EC%84%B1%ED%9B%88.ipynb\" target=\"_parent\"><img src=\"https://colab.research.google.com/assets/colab-badge.svg\" alt=\"Open In Colab\"/></a>"
      ]
    },
    {
      "cell_type": "markdown",
      "source": [
        "## 1. 중심경향치와 산포도"
      ],
      "metadata": {
        "id": "m5pK_Fz8453P"
      }
    },
    {
      "cell_type": "markdown",
      "source": [
        "### Q1) numpy 기술통계와 소수점 표현\n",
        "- 내장함수 help()와 dir()를 이용하거나 docs를 이용해서 다음 기술통계를 소수점 셋째자리까지 작성하기.\n",
        "- 소수점자리는 f-string 문법을 이용해 표기하기 (참고:[f-string](https://blockdmask.tistory.com/429))\n",
        "- 평균(_mean), 중앙값(_median), 분산(_var), 표준편차(_std) (참고 [numpy docs - mean](https://numpy.org/doc/stable/reference/generated/numpy.mean.html)"
      ],
      "metadata": {
        "id": "DUMDpnyL3kIO"
      }
    },
    {
      "cell_type": "code",
      "source": [
        "import numpy as np\n",
        "data = [10, 20, 20, 30, 40]"
      ],
      "metadata": {
        "id": "WrBGjqqd73v0"
      },
      "execution_count": null,
      "outputs": []
    },
    {
      "cell_type": "code",
      "source": [
        "#코드작성\n",
        "_mean = np.mean(data)\n",
        "_median = np.median(data)\n",
        "_var = np.var(data)\n",
        "_std = np.std(data)\n",
        "\n",
        "# f-string 방법\n",
        "print(f'저의 나이는 {3:0f}살 입니다.') {변수명:숫자자리f}\n"
      ],
      "metadata": {
        "id": "aisTpP5gMFGv",
        "colab": {
          "base_uri": "https://localhost:8080/"
        },
        "outputId": "6567e157-bd25-40e1-8689-8faec5928e35"
      },
      "execution_count": null,
      "outputs": [
        {
          "output_type": "stream",
          "name": "stdout",
          "text": [
            "저의 나이는 3.000000살 입니다.\n"
          ]
        },
        {
          "output_type": "stream",
          "name": "stderr",
          "text": [
            "/usr/local/lib/python3.11/dist-packages/numpy/_core/fromnumeric.py:4006: FutureWarning: The behavior of DataFrame.var with axis=None is deprecated, in a future version this will reduce over both axes and return a scalar. To retain the old behavior, pass axis=0 (or do not pass axis)\n",
            "  return var(axis=axis, dtype=dtype, out=out, ddof=ddof, **kwargs)\n",
            "/usr/local/lib/python3.11/dist-packages/numpy/_core/fromnumeric.py:3800: FutureWarning: The behavior of DataFrame.std with axis=None is deprecated, in a future version this will reduce over both axes and return a scalar. To retain the old behavior, pass axis=0 (or do not pass axis)\n",
            "  return std(axis=axis, dtype=dtype, out=out, ddof=ddof, **kwargs)\n"
          ]
        }
      ]
    },
    {
      "cell_type": "code",
      "source": [
        "print(f'평균은 {_mean:.3f}')\n",
        "print(f'중앙값은 {_median:.3f}')\n",
        "print(f'분산은 {_var:.3f}')\n",
        "print(f'표준편차는 {_std:.3f}')"
      ],
      "metadata": {
        "colab": {
          "base_uri": "https://localhost:8080/"
        },
        "id": "X5YNwwTz3Raf",
        "outputId": "7b400edc-2b25-416c-b346-db654f8f3cdb"
      },
      "execution_count": null,
      "outputs": [
        {
          "output_type": "stream",
          "name": "stdout",
          "text": [
            "평균은 24.000\n",
            "중앙값은 20.000\n",
            "분산은 104.000\n",
            "표준편차는 10.198\n"
          ]
        }
      ]
    },
    {
      "cell_type": "markdown",
      "source": [
        "### Q2) 커플통장: 산술평균과 조화평균\n",
        "- 커플통장의 예시를 가지고 산술평균과 조화평균의 지표로서의 차이를 비교"
      ],
      "metadata": {
        "id": "J5uo9TLfRSq6"
      }
    },
    {
      "cell_type": "code",
      "source": [
        "# help() 이용해보기\n",
        "# help() 메서드: 특정 함수에 대한 설명을 볼때 사용!!\n",
        "\n",
        "help('np.mean')"
      ],
      "metadata": {
        "id": "3RRqcUuj5VQS",
        "colab": {
          "base_uri": "https://localhost:8080/"
        },
        "outputId": "ebc28b1d-a60e-4d5d-cf6b-46fb980d4c37"
      },
      "execution_count": null,
      "outputs": [
        {
          "output_type": "stream",
          "name": "stdout",
          "text": [
            "No Python documentation found for 'np.mean'.\n",
            "Use help() to get the interactive help utility.\n",
            "Use help(str) for help on the str class.\n",
            "\n"
          ]
        }
      ]
    },
    {
      "cell_type": "code",
      "source": [
        "import matplotlib.pyplot as plt\n",
        "import numpy as np\n",
        "\n",
        "male_rate = 2\n",
        "female_rate = np.linspace(0, 100, 500)\n",
        "\n",
        "# linspace는 구간을 등분시켜준다."
      ],
      "metadata": {
        "id": "MKs8n63d76Ra"
      },
      "execution_count": null,
      "outputs": []
    },
    {
      "cell_type": "code",
      "source": [
        "help(plt.plot)"
      ],
      "metadata": {
        "colab": {
          "base_uri": "https://localhost:8080/"
        },
        "id": "B8XuosYy55HC",
        "outputId": "e3d1585f-df49-4ee0-f6ba-40fb5a5182bf"
      },
      "execution_count": null,
      "outputs": [
        {
          "output_type": "stream",
          "name": "stdout",
          "text": [
            "Help on function plot in module matplotlib.pyplot:\n",
            "\n",
            "plot(*args: 'float | ArrayLike | str', scalex: 'bool' = True, scaley: 'bool' = True, data=None, **kwargs) -> 'list[Line2D]'\n",
            "    Plot y versus x as lines and/or markers.\n",
            "    \n",
            "    Call signatures::\n",
            "    \n",
            "        plot([x], y, [fmt], *, data=None, **kwargs)\n",
            "        plot([x], y, [fmt], [x2], y2, [fmt2], ..., **kwargs)\n",
            "    \n",
            "    The coordinates of the points or line nodes are given by *x*, *y*.\n",
            "    \n",
            "    The optional parameter *fmt* is a convenient way for defining basic\n",
            "    formatting like color, marker and linestyle. It's a shortcut string\n",
            "    notation described in the *Notes* section below.\n",
            "    \n",
            "    >>> plot(x, y)        # plot x and y using default line style and color\n",
            "    >>> plot(x, y, 'bo')  # plot x and y using blue circle markers\n",
            "    >>> plot(y)           # plot y using x as index array 0..N-1\n",
            "    >>> plot(y, 'r+')     # ditto, but with red plusses\n",
            "    \n",
            "    You can use `.Line2D` properties as keyword arguments for more\n",
            "    control on the appearance. Line properties and *fmt* can be mixed.\n",
            "    The following two calls yield identical results:\n",
            "    \n",
            "    >>> plot(x, y, 'go--', linewidth=2, markersize=12)\n",
            "    >>> plot(x, y, color='green', marker='o', linestyle='dashed',\n",
            "    ...      linewidth=2, markersize=12)\n",
            "    \n",
            "    When conflicting with *fmt*, keyword arguments take precedence.\n",
            "    \n",
            "    \n",
            "    **Plotting labelled data**\n",
            "    \n",
            "    There's a convenient way for plotting objects with labelled data (i.e.\n",
            "    data that can be accessed by index ``obj['y']``). Instead of giving\n",
            "    the data in *x* and *y*, you can provide the object in the *data*\n",
            "    parameter and just give the labels for *x* and *y*::\n",
            "    \n",
            "    >>> plot('xlabel', 'ylabel', data=obj)\n",
            "    \n",
            "    All indexable objects are supported. This could e.g. be a `dict`, a\n",
            "    `pandas.DataFrame` or a structured numpy array.\n",
            "    \n",
            "    \n",
            "    **Plotting multiple sets of data**\n",
            "    \n",
            "    There are various ways to plot multiple sets of data.\n",
            "    \n",
            "    - The most straight forward way is just to call `plot` multiple times.\n",
            "      Example:\n",
            "    \n",
            "      >>> plot(x1, y1, 'bo')\n",
            "      >>> plot(x2, y2, 'go')\n",
            "    \n",
            "    - If *x* and/or *y* are 2D arrays, a separate data set will be drawn\n",
            "      for every column. If both *x* and *y* are 2D, they must have the\n",
            "      same shape. If only one of them is 2D with shape (N, m) the other\n",
            "      must have length N and will be used for every data set m.\n",
            "    \n",
            "      Example:\n",
            "    \n",
            "      >>> x = [1, 2, 3]\n",
            "      >>> y = np.array([[1, 2], [3, 4], [5, 6]])\n",
            "      >>> plot(x, y)\n",
            "    \n",
            "      is equivalent to:\n",
            "    \n",
            "      >>> for col in range(y.shape[1]):\n",
            "      ...     plot(x, y[:, col])\n",
            "    \n",
            "    - The third way is to specify multiple sets of *[x]*, *y*, *[fmt]*\n",
            "      groups::\n",
            "    \n",
            "      >>> plot(x1, y1, 'g^', x2, y2, 'g-')\n",
            "    \n",
            "      In this case, any additional keyword argument applies to all\n",
            "      datasets. Also, this syntax cannot be combined with the *data*\n",
            "      parameter.\n",
            "    \n",
            "    By default, each line is assigned a different style specified by a\n",
            "    'style cycle'. The *fmt* and line property parameters are only\n",
            "    necessary if you want explicit deviations from these defaults.\n",
            "    Alternatively, you can also change the style cycle using\n",
            "    :rc:`axes.prop_cycle`.\n",
            "    \n",
            "    \n",
            "    Parameters\n",
            "    ----------\n",
            "    x, y : array-like or scalar\n",
            "        The horizontal / vertical coordinates of the data points.\n",
            "        *x* values are optional and default to ``range(len(y))``.\n",
            "    \n",
            "        Commonly, these parameters are 1D arrays.\n",
            "    \n",
            "        They can also be scalars, or two-dimensional (in that case, the\n",
            "        columns represent separate data sets).\n",
            "    \n",
            "        These arguments cannot be passed as keywords.\n",
            "    \n",
            "    fmt : str, optional\n",
            "        A format string, e.g. 'ro' for red circles. See the *Notes*\n",
            "        section for a full description of the format strings.\n",
            "    \n",
            "        Format strings are just an abbreviation for quickly setting\n",
            "        basic line properties. All of these and more can also be\n",
            "        controlled by keyword arguments.\n",
            "    \n",
            "        This argument cannot be passed as keyword.\n",
            "    \n",
            "    data : indexable object, optional\n",
            "        An object with labelled data. If given, provide the label names to\n",
            "        plot in *x* and *y*.\n",
            "    \n",
            "        .. note::\n",
            "            Technically there's a slight ambiguity in calls where the\n",
            "            second label is a valid *fmt*. ``plot('n', 'o', data=obj)``\n",
            "            could be ``plt(x, y)`` or ``plt(y, fmt)``. In such cases,\n",
            "            the former interpretation is chosen, but a warning is issued.\n",
            "            You may suppress the warning by adding an empty format string\n",
            "            ``plot('n', 'o', '', data=obj)``.\n",
            "    \n",
            "    Returns\n",
            "    -------\n",
            "    list of `.Line2D`\n",
            "        A list of lines representing the plotted data.\n",
            "    \n",
            "    Other Parameters\n",
            "    ----------------\n",
            "    scalex, scaley : bool, default: True\n",
            "        These parameters determine if the view limits are adapted to the\n",
            "        data limits. The values are passed on to\n",
            "        `~.axes.Axes.autoscale_view`.\n",
            "    \n",
            "    **kwargs : `~matplotlib.lines.Line2D` properties, optional\n",
            "        *kwargs* are used to specify properties like a line label (for\n",
            "        auto legends), linewidth, antialiasing, marker face color.\n",
            "        Example::\n",
            "    \n",
            "        >>> plot([1, 2, 3], [1, 2, 3], 'go-', label='line 1', linewidth=2)\n",
            "        >>> plot([1, 2, 3], [1, 4, 9], 'rs', label='line 2')\n",
            "    \n",
            "        If you specify multiple lines with one plot call, the kwargs apply\n",
            "        to all those lines. In case the label object is iterable, each\n",
            "        element is used as labels for each set of data.\n",
            "    \n",
            "        Here is a list of available `.Line2D` properties:\n",
            "    \n",
            "        Properties:\n",
            "        agg_filter: a filter function, which takes a (m, n, 3) float array and a dpi value, and returns a (m, n, 3) array and two offsets from the bottom left corner of the image\n",
            "        alpha: scalar or None\n",
            "        animated: bool\n",
            "        antialiased or aa: bool\n",
            "        clip_box: `~matplotlib.transforms.BboxBase` or None\n",
            "        clip_on: bool\n",
            "        clip_path: Patch or (Path, Transform) or None\n",
            "        color or c: :mpltype:`color`\n",
            "        dash_capstyle: `.CapStyle` or {'butt', 'projecting', 'round'}\n",
            "        dash_joinstyle: `.JoinStyle` or {'miter', 'round', 'bevel'}\n",
            "        dashes: sequence of floats (on/off ink in points) or (None, None)\n",
            "        data: (2, N) array or two 1D arrays\n",
            "        drawstyle or ds: {'default', 'steps', 'steps-pre', 'steps-mid', 'steps-post'}, default: 'default'\n",
            "        figure: `~matplotlib.figure.Figure` or `~matplotlib.figure.SubFigure`\n",
            "        fillstyle: {'full', 'left', 'right', 'bottom', 'top', 'none'}\n",
            "        gapcolor: :mpltype:`color` or None\n",
            "        gid: str\n",
            "        in_layout: bool\n",
            "        label: object\n",
            "        linestyle or ls: {'-', '--', '-.', ':', '', (offset, on-off-seq), ...}\n",
            "        linewidth or lw: float\n",
            "        marker: marker style string, `~.path.Path` or `~.markers.MarkerStyle`\n",
            "        markeredgecolor or mec: :mpltype:`color`\n",
            "        markeredgewidth or mew: float\n",
            "        markerfacecolor or mfc: :mpltype:`color`\n",
            "        markerfacecoloralt or mfcalt: :mpltype:`color`\n",
            "        markersize or ms: float\n",
            "        markevery: None or int or (int, int) or slice or list[int] or float or (float, float) or list[bool]\n",
            "        mouseover: bool\n",
            "        path_effects: list of `.AbstractPathEffect`\n",
            "        picker: float or callable[[Artist, Event], tuple[bool, dict]]\n",
            "        pickradius: float\n",
            "        rasterized: bool\n",
            "        sketch_params: (scale: float, length: float, randomness: float)\n",
            "        snap: bool or None\n",
            "        solid_capstyle: `.CapStyle` or {'butt', 'projecting', 'round'}\n",
            "        solid_joinstyle: `.JoinStyle` or {'miter', 'round', 'bevel'}\n",
            "        transform: unknown\n",
            "        url: str\n",
            "        visible: bool\n",
            "        xdata: 1D array\n",
            "        ydata: 1D array\n",
            "        zorder: float\n",
            "    \n",
            "    See Also\n",
            "    --------\n",
            "    scatter : XY scatter plot with markers of varying size and/or color (\n",
            "        sometimes also called bubble chart).\n",
            "    \n",
            "    Notes\n",
            "    -----\n",
            "    \n",
            "    .. note::\n",
            "    \n",
            "        This is the :ref:`pyplot wrapper <pyplot_interface>` for `.axes.Axes.plot`.\n",
            "    \n",
            "    **Format Strings**\n",
            "    \n",
            "    A format string consists of a part for color, marker and line::\n",
            "    \n",
            "        fmt = '[marker][line][color]'\n",
            "    \n",
            "    Each of them is optional. If not provided, the value from the style\n",
            "    cycle is used. Exception: If ``line`` is given, but no ``marker``,\n",
            "    the data will be a line without markers.\n",
            "    \n",
            "    Other combinations such as ``[color][marker][line]`` are also\n",
            "    supported, but note that their parsing may be ambiguous.\n",
            "    \n",
            "    **Markers**\n",
            "    \n",
            "    =============   ===============================\n",
            "    character       description\n",
            "    =============   ===============================\n",
            "    ``'.'``         point marker\n",
            "    ``','``         pixel marker\n",
            "    ``'o'``         circle marker\n",
            "    ``'v'``         triangle_down marker\n",
            "    ``'^'``         triangle_up marker\n",
            "    ``'<'``         triangle_left marker\n",
            "    ``'>'``         triangle_right marker\n",
            "    ``'1'``         tri_down marker\n",
            "    ``'2'``         tri_up marker\n",
            "    ``'3'``         tri_left marker\n",
            "    ``'4'``         tri_right marker\n",
            "    ``'8'``         octagon marker\n",
            "    ``'s'``         square marker\n",
            "    ``'p'``         pentagon marker\n",
            "    ``'P'``         plus (filled) marker\n",
            "    ``'*'``         star marker\n",
            "    ``'h'``         hexagon1 marker\n",
            "    ``'H'``         hexagon2 marker\n",
            "    ``'+'``         plus marker\n",
            "    ``'x'``         x marker\n",
            "    ``'X'``         x (filled) marker\n",
            "    ``'D'``         diamond marker\n",
            "    ``'d'``         thin_diamond marker\n",
            "    ``'|'``         vline marker\n",
            "    ``'_'``         hline marker\n",
            "    =============   ===============================\n",
            "    \n",
            "    **Line Styles**\n",
            "    \n",
            "    =============    ===============================\n",
            "    character        description\n",
            "    =============    ===============================\n",
            "    ``'-'``          solid line style\n",
            "    ``'--'``         dashed line style\n",
            "    ``'-.'``         dash-dot line style\n",
            "    ``':'``          dotted line style\n",
            "    =============    ===============================\n",
            "    \n",
            "    Example format strings::\n",
            "    \n",
            "        'b'    # blue markers with default shape\n",
            "        'or'   # red circles\n",
            "        '-g'   # green solid line\n",
            "        '--'   # dashed line with default color\n",
            "        '^k:'  # black triangle_up markers connected by a dotted line\n",
            "    \n",
            "    **Colors**\n",
            "    \n",
            "    The supported color abbreviations are the single letter codes\n",
            "    \n",
            "    =============    ===============================\n",
            "    character        color\n",
            "    =============    ===============================\n",
            "    ``'b'``          blue\n",
            "    ``'g'``          green\n",
            "    ``'r'``          red\n",
            "    ``'c'``          cyan\n",
            "    ``'m'``          magenta\n",
            "    ``'y'``          yellow\n",
            "    ``'k'``          black\n",
            "    ``'w'``          white\n",
            "    =============    ===============================\n",
            "    \n",
            "    and the ``'CN'`` colors that index into the default property cycle.\n",
            "    \n",
            "    If the color is the only part of the format string, you can\n",
            "    additionally use any  `matplotlib.colors` spec, e.g. full names\n",
            "    (``'green'``) or hex strings (``'#008000'``).\n",
            "\n"
          ]
        }
      ]
    },
    {
      "cell_type": "code",
      "execution_count": null,
      "metadata": {
        "colab": {
          "base_uri": "https://localhost:8080/",
          "height": 783
        },
        "id": "8U-zmUWFQ6m7",
        "outputId": "8dcc8c55-d742-4cd3-e853-71fb9d803308"
      },
      "outputs": [
        {
          "output_type": "error",
          "ename": "ValueError",
          "evalue": "x and y must have same first dimension, but have shapes (1,) and (500,)",
          "traceback": [
            "\u001b[0;31m---------------------------------------------------------------------------\u001b[0m",
            "\u001b[0;31mValueError\u001b[0m                                Traceback (most recent call last)",
            "\u001b[0;32m<ipython-input-31-5195ec5a31f9>\u001b[0m in \u001b[0;36m<cell line: 0>\u001b[0;34m()\u001b[0m\n\u001b[1;32m      9\u001b[0m \u001b[0;34m\u001b[0m\u001b[0m\n\u001b[1;32m     10\u001b[0m \u001b[0;34m\u001b[0m\u001b[0m\n\u001b[0;32m---> 11\u001b[0;31m \u001b[0mplt\u001b[0m\u001b[0;34m.\u001b[0m\u001b[0mplot\u001b[0m\u001b[0;34m(\u001b[0m\u001b[0mmale_rate\u001b[0m\u001b[0;34m,\u001b[0m \u001b[0mfemale_rate\u001b[0m\u001b[0;34m,\u001b[0m \u001b[0mlabel\u001b[0m\u001b[0;34m=\u001b[0m\u001b[0;34m\"arithmetric\"\u001b[0m\u001b[0;34m,\u001b[0m \u001b[0mcolor\u001b[0m\u001b[0;34m=\u001b[0m\u001b[0;34m\"blue\"\u001b[0m\u001b[0;34m)\u001b[0m\u001b[0;34m\u001b[0m\u001b[0;34m\u001b[0m\u001b[0m\n\u001b[0m\u001b[1;32m     12\u001b[0m \u001b[0mplt\u001b[0m\u001b[0;34m.\u001b[0m\u001b[0mplot\u001b[0m\u001b[0;34m(\u001b[0m\u001b[0mmale_rate\u001b[0m\u001b[0;34m,\u001b[0m \u001b[0mfemale_rate\u001b[0m\u001b[0;34m,\u001b[0m \u001b[0mlabel\u001b[0m\u001b[0;34m=\u001b[0m\u001b[0;34m\"harmony\"\u001b[0m\u001b[0;34m,\u001b[0m \u001b[0mcolor\u001b[0m\u001b[0;34m=\u001b[0m\u001b[0;34m\"green\"\u001b[0m\u001b[0;34m)\u001b[0m\u001b[0;34m\u001b[0m\u001b[0;34m\u001b[0m\u001b[0m\n\u001b[1;32m     13\u001b[0m \u001b[0;34m\u001b[0m\u001b[0m\n",
            "\u001b[0;32m/usr/local/lib/python3.11/dist-packages/matplotlib/pyplot.py\u001b[0m in \u001b[0;36mplot\u001b[0;34m(scalex, scaley, data, *args, **kwargs)\u001b[0m\n\u001b[1;32m   3827\u001b[0m     \u001b[0;34m**\u001b[0m\u001b[0mkwargs\u001b[0m\u001b[0;34m,\u001b[0m\u001b[0;34m\u001b[0m\u001b[0;34m\u001b[0m\u001b[0m\n\u001b[1;32m   3828\u001b[0m ) -> list[Line2D]:\n\u001b[0;32m-> 3829\u001b[0;31m     return gca().plot(\n\u001b[0m\u001b[1;32m   3830\u001b[0m         \u001b[0;34m*\u001b[0m\u001b[0margs\u001b[0m\u001b[0;34m,\u001b[0m\u001b[0;34m\u001b[0m\u001b[0;34m\u001b[0m\u001b[0m\n\u001b[1;32m   3831\u001b[0m         \u001b[0mscalex\u001b[0m\u001b[0;34m=\u001b[0m\u001b[0mscalex\u001b[0m\u001b[0;34m,\u001b[0m\u001b[0;34m\u001b[0m\u001b[0;34m\u001b[0m\u001b[0m\n",
            "\u001b[0;32m/usr/local/lib/python3.11/dist-packages/matplotlib/axes/_axes.py\u001b[0m in \u001b[0;36mplot\u001b[0;34m(self, scalex, scaley, data, *args, **kwargs)\u001b[0m\n\u001b[1;32m   1775\u001b[0m         \"\"\"\n\u001b[1;32m   1776\u001b[0m         \u001b[0mkwargs\u001b[0m \u001b[0;34m=\u001b[0m \u001b[0mcbook\u001b[0m\u001b[0;34m.\u001b[0m\u001b[0mnormalize_kwargs\u001b[0m\u001b[0;34m(\u001b[0m\u001b[0mkwargs\u001b[0m\u001b[0;34m,\u001b[0m \u001b[0mmlines\u001b[0m\u001b[0;34m.\u001b[0m\u001b[0mLine2D\u001b[0m\u001b[0;34m)\u001b[0m\u001b[0;34m\u001b[0m\u001b[0;34m\u001b[0m\u001b[0m\n\u001b[0;32m-> 1777\u001b[0;31m         \u001b[0mlines\u001b[0m \u001b[0;34m=\u001b[0m \u001b[0;34m[\u001b[0m\u001b[0;34m*\u001b[0m\u001b[0mself\u001b[0m\u001b[0;34m.\u001b[0m\u001b[0m_get_lines\u001b[0m\u001b[0;34m(\u001b[0m\u001b[0mself\u001b[0m\u001b[0;34m,\u001b[0m \u001b[0;34m*\u001b[0m\u001b[0margs\u001b[0m\u001b[0;34m,\u001b[0m \u001b[0mdata\u001b[0m\u001b[0;34m=\u001b[0m\u001b[0mdata\u001b[0m\u001b[0;34m,\u001b[0m \u001b[0;34m**\u001b[0m\u001b[0mkwargs\u001b[0m\u001b[0;34m)\u001b[0m\u001b[0;34m]\u001b[0m\u001b[0;34m\u001b[0m\u001b[0;34m\u001b[0m\u001b[0m\n\u001b[0m\u001b[1;32m   1778\u001b[0m         \u001b[0;32mfor\u001b[0m \u001b[0mline\u001b[0m \u001b[0;32min\u001b[0m \u001b[0mlines\u001b[0m\u001b[0;34m:\u001b[0m\u001b[0;34m\u001b[0m\u001b[0;34m\u001b[0m\u001b[0m\n\u001b[1;32m   1779\u001b[0m             \u001b[0mself\u001b[0m\u001b[0;34m.\u001b[0m\u001b[0madd_line\u001b[0m\u001b[0;34m(\u001b[0m\u001b[0mline\u001b[0m\u001b[0;34m)\u001b[0m\u001b[0;34m\u001b[0m\u001b[0;34m\u001b[0m\u001b[0m\n",
            "\u001b[0;32m/usr/local/lib/python3.11/dist-packages/matplotlib/axes/_base.py\u001b[0m in \u001b[0;36m__call__\u001b[0;34m(self, axes, data, return_kwargs, *args, **kwargs)\u001b[0m\n\u001b[1;32m    295\u001b[0m                 \u001b[0mthis\u001b[0m \u001b[0;34m+=\u001b[0m \u001b[0margs\u001b[0m\u001b[0;34m[\u001b[0m\u001b[0;36m0\u001b[0m\u001b[0;34m]\u001b[0m\u001b[0;34m,\u001b[0m\u001b[0;34m\u001b[0m\u001b[0;34m\u001b[0m\u001b[0m\n\u001b[1;32m    296\u001b[0m                 \u001b[0margs\u001b[0m \u001b[0;34m=\u001b[0m \u001b[0margs\u001b[0m\u001b[0;34m[\u001b[0m\u001b[0;36m1\u001b[0m\u001b[0;34m:\u001b[0m\u001b[0;34m]\u001b[0m\u001b[0;34m\u001b[0m\u001b[0;34m\u001b[0m\u001b[0m\n\u001b[0;32m--> 297\u001b[0;31m             yield from self._plot_args(\n\u001b[0m\u001b[1;32m    298\u001b[0m                 \u001b[0maxes\u001b[0m\u001b[0;34m,\u001b[0m \u001b[0mthis\u001b[0m\u001b[0;34m,\u001b[0m \u001b[0mkwargs\u001b[0m\u001b[0;34m,\u001b[0m \u001b[0mambiguous_fmt_datakey\u001b[0m\u001b[0;34m=\u001b[0m\u001b[0mambiguous_fmt_datakey\u001b[0m\u001b[0;34m,\u001b[0m\u001b[0;34m\u001b[0m\u001b[0;34m\u001b[0m\u001b[0m\n\u001b[1;32m    299\u001b[0m                 \u001b[0mreturn_kwargs\u001b[0m\u001b[0;34m=\u001b[0m\u001b[0mreturn_kwargs\u001b[0m\u001b[0;34m\u001b[0m\u001b[0;34m\u001b[0m\u001b[0m\n",
            "\u001b[0;32m/usr/local/lib/python3.11/dist-packages/matplotlib/axes/_base.py\u001b[0m in \u001b[0;36m_plot_args\u001b[0;34m(self, axes, tup, kwargs, return_kwargs, ambiguous_fmt_datakey)\u001b[0m\n\u001b[1;32m    492\u001b[0m \u001b[0;34m\u001b[0m\u001b[0m\n\u001b[1;32m    493\u001b[0m         \u001b[0;32mif\u001b[0m \u001b[0mx\u001b[0m\u001b[0;34m.\u001b[0m\u001b[0mshape\u001b[0m\u001b[0;34m[\u001b[0m\u001b[0;36m0\u001b[0m\u001b[0;34m]\u001b[0m \u001b[0;34m!=\u001b[0m \u001b[0my\u001b[0m\u001b[0;34m.\u001b[0m\u001b[0mshape\u001b[0m\u001b[0;34m[\u001b[0m\u001b[0;36m0\u001b[0m\u001b[0;34m]\u001b[0m\u001b[0;34m:\u001b[0m\u001b[0;34m\u001b[0m\u001b[0;34m\u001b[0m\u001b[0m\n\u001b[0;32m--> 494\u001b[0;31m             raise ValueError(f\"x and y must have same first dimension, but \"\n\u001b[0m\u001b[1;32m    495\u001b[0m                              f\"have shapes {x.shape} and {y.shape}\")\n\u001b[1;32m    496\u001b[0m         \u001b[0;32mif\u001b[0m \u001b[0mx\u001b[0m\u001b[0;34m.\u001b[0m\u001b[0mndim\u001b[0m \u001b[0;34m>\u001b[0m \u001b[0;36m2\u001b[0m \u001b[0;32mor\u001b[0m \u001b[0my\u001b[0m\u001b[0;34m.\u001b[0m\u001b[0mndim\u001b[0m \u001b[0;34m>\u001b[0m \u001b[0;36m2\u001b[0m\u001b[0;34m:\u001b[0m\u001b[0;34m\u001b[0m\u001b[0;34m\u001b[0m\u001b[0m\n",
            "\u001b[0;31mValueError\u001b[0m: x and y must have same first dimension, but have shapes (1,) and (500,)"
          ]
        },
        {
          "output_type": "display_data",
          "data": {
            "text/plain": [
              "<Figure size 640x480 with 1 Axes>"
            ],
            "image/png": "[encoded data removed]"
          },
          "metadata": {}
        }
      ],
      "source": [
        "#코드작성\n",
        "\n",
        "# 산술 평균\n",
        "arithmetic_mean_fixed = (male_rate + female_rate) / 2\n",
        "# 조화 평균\n",
        "harmonic_mean_fixed = (2 * male_rate * female_rate) / (male_rate + female_rate)\n",
        "\n",
        "\n",
        "# 그림그리기\n",
        "plt.plot(arithmetic_mean_fixed, femarithmetic_mean_fixedale_rate, label=\"arithmetric\", color=\"blue\")\n",
        "plt.plot(male_rate, harmonic_mean_fixed, label=\"harmony\", color=\"green\")\n",
        "\n",
        "\n",
        "# 옵션 설정\n",
        "plt.xlabel(\"female rate(%)\")\n",
        "plt.ylabel(\"mean reate(%)\")\n",
        "plt.title(\"connect rate by man rate == 2%\")\n",
        "plt.legend()\n",
        "plt.grid(True)\n",
        "plt.show()"
      ]
    },
    {
      "cell_type": "code",
      "execution_count": null,
      "metadata": {
        "colab": {
          "base_uri": "https://localhost:8080/",
          "height": 472
        },
        "outputId": "36cfdc4b-b027-4640-e43b-40034240146e",
        "id": "5kuPGl5cBd6c"
      },
      "outputs": [
        {
          "output_type": "display_data",
          "data": {
            "text/plain": [
              "<Figure size 640x480 with 1 Axes>"
            ],
            "image/png": "[encoded data removed]"
          },
          "metadata": {}
        }
      ],
      "source": [
        "#코드작성\n",
        "\n",
        "# 산술 평균\n",
        "arithmetic_mean_fixed = (male_rate + female_rate) / 2\n",
        "# 조화 평균\n",
        "harmonic_mean_fixed = (2 * male_rate * female_rate) / (male_rate + female_rate)\n",
        "\n",
        "\n",
        "# 그림그리기\n",
        "plt.plot(female_rate, arithmetic_mean_fixed, label=\"arithmetric\", color=\"blue\")\n",
        "plt.plot(female_rate, harmonic_mean_fixed, label=\"harmony\", color=\"green\")\n",
        "\n",
        "\n",
        "# 옵션 설정\n",
        "plt.xlabel(\"female rate(%)\")\n",
        "plt.ylabel(\"mean reate(%)\")\n",
        "plt.title(\"connect rate by man rate == 2%\")\n",
        "plt.legend()\n",
        "plt.grid(True)\n",
        "plt.show()"
      ]
    },
    {
      "cell_type": "markdown",
      "source": [
        "### Q3) 산포도: 표준편차와 변동계수\n",
        "\n",
        "- 두 회사의 6일간 주가데이터가 수집하였습니다. Numpy와 Pandas를 각각 변동계수를 구해봅시다.\n",
        "- 변동계수: 표준편차 / 평균 * 100"
      ],
      "metadata": {
        "id": "NYCHDj3lUT6q"
      }
    },
    {
      "cell_type": "code",
      "source": [
        "# Numpy 방법\n",
        "import numpy as np\n",
        "com_a = [76300, 77400, 77900, 77200, 76900, 78800]\n",
        "com_b = [6400, 7000, 7400, 6900, 7300, 7600]"
      ],
      "metadata": {
        "id": "63O-PA6mIFrq"
      },
      "execution_count": null,
      "outputs": []
    },
    {
      "cell_type": "code",
      "source": [
        "# Numpy 방법\n",
        "\n",
        "cv_a_np = np.std(com_a) / np.mean(com_a) * 100\n",
        "cv_b_np = np.std(com_b) / np.mean(com_b) * 100\n",
        "\n",
        "print(f'A회사의 변동계수 {cv_a_np:.3f}')\n",
        "print(f'B회사의 변동계수 {cv_b_np:.3f}')"
      ],
      "metadata": {
        "colab": {
          "base_uri": "https://localhost:8080/"
        },
        "id": "qWeSJMScICmJ",
        "outputId": "9d22958e-1159-4f14-c574-eefbeb4b9753"
      },
      "execution_count": null,
      "outputs": [
        {
          "output_type": "stream",
          "name": "stdout",
          "text": [
            "A회사의 변동계수 1.015\n",
            "B회사의 변동계수 5.515\n"
          ]
        }
      ]
    },
    {
      "cell_type": "code",
      "source": [
        "# Pandas 방법\n",
        "import pandas as pd\n",
        "data = pd.DataFrame({'Company A': com_a, 'Company B': com_b})"
      ],
      "metadata": {
        "id": "uIWdtFERJMUo"
      },
      "execution_count": null,
      "outputs": []
    },
    {
      "cell_type": "code",
      "source": [
        "# Pandas 방법\n",
        "\n",
        "cv_a_pd = data['Company A'].std() / data['Company A'].mean() * 100\n",
        "cv_b_pd = data['Company B'].std() / data['Company B'].mean() * 100\n",
        "\n",
        "print(f'A회사의 변동계수 {cv_a_pd:.3f}')\n",
        "print(f'B회사의 변동계수 {cv_b_pd:.3f}')"
      ],
      "metadata": {
        "colab": {
          "base_uri": "https://localhost:8080/"
        },
        "id": "m9YF61eVJERb",
        "outputId": "9f106d45-798e-4ad5-bcfa-43c1a47a03a1"
      },
      "execution_count": null,
      "outputs": [
        {
          "output_type": "stream",
          "name": "stdout",
          "text": [
            "A회사의 변동계수 1.112\n",
            "B회사의 변동계수 6.042\n"
          ]
        }
      ]
    },
    {
      "cell_type": "markdown",
      "source": [
        "### Q4) 산포도: boxplot\n",
        "- 최대-최소 범위, 사분위수(IQR)을 구하고 boxplot시각화를 해봅시다."
      ],
      "metadata": {
        "id": "rnKMv5TLH6zk"
      }
    },
    {
      "cell_type": "code",
      "source": [
        "data = [10, 12, 23, 23, 16, 23, 21, 16, 7, 9]"
      ],
      "metadata": {
        "id": "S2Pf3GyBH6IX"
      },
      "execution_count": null,
      "outputs": []
    },
    {
      "cell_type": "code",
      "source": [
        "#코드 작성\n",
        "\n",
        "data_range = np.max(data) - np.min(data)\n",
        "iqr = np.percentile(data, 75) - np.percentile(data, 25)\n",
        "\n",
        "print(f'최대최소범위 {data_range:.3f}')\n",
        "print(f'iqr {iqr:.3f}')\n",
        "\n",
        "import matplotlib.pyplot as plt\n",
        "plt.boxplot(data)\n",
        "plt.show()"
      ],
      "metadata": {
        "colab": {
          "base_uri": "https://localhost:8080/",
          "height": 466
        },
        "id": "EQAddpL29RL1",
        "outputId": "2369b6f8-0643-4200-cdf2-203a4b648f3b"
      },
      "execution_count": null,
      "outputs": [
        {
          "output_type": "stream",
          "name": "stdout",
          "text": [
            "최대최소범위 16.000\n",
            "iqr 12.000\n"
          ]
        },
        {
          "output_type": "display_data",
          "data": {
            "text/plain": [
              "<Figure size 640x480 with 1 Axes>"
            ],
            "image/png": "[encoded data removed]"
          },
          "metadata": {}
        }
      ]
    },
    {
      "cell_type": "markdown",
      "source": [
        "## 2. 데이터 시각화\n",
        "- tips 데이터를 이용한 데이터 시각화"
      ],
      "metadata": {
        "id": "nfxYon565lLG"
      }
    },
    {
      "cell_type": "markdown",
      "source": [
        "### Q5) 통계분석 실습 문제"
      ],
      "metadata": {
        "id": "GXobBIS3-Tlt"
      }
    },
    {
      "cell_type": "markdown",
      "source": [
        "1. total_bill의 기본 통계량(평균, 중앙값, 분산, 표준편차)을 계산하시오.\n"
      ],
      "metadata": {
        "id": "CN70vyll-Xsv"
      }
    },
    {
      "cell_type": "code",
      "source": [
        "import seaborn as sns\n",
        "import matplotlib.pyplot as plt\n",
        "import pandas as pd\n",
        "tips = sns.load_dataset('tips')\n",
        "display(tips.head(3))\n",
        "display(tips.describe(include = 'all'))"
      ],
      "metadata": {
        "colab": {
          "base_uri": "https://localhost:8080/",
          "height": 521
        },
        "id": "X5YsSFZxK5xm",
        "outputId": "8017207c-dfab-4ce8-d398-c1b24032340a"
      },
      "execution_count": null,
      "outputs": [
        {
          "output_type": "display_data",
          "data": {
            "text/plain": [
              "   total_bill   tip     sex smoker  day    time  size\n",
              "0       16.99  1.01  Female     No  Sun  Dinner     2\n",
              "1       10.34  1.66    Male     No  Sun  Dinner     3\n",
              "2       21.01  3.50    Male     No  Sun  Dinner     3"
            ],
            "text/html": [
              "\n",
              "  <div id=\"df-0b08aa92-d4e2-4431-b16b-a86be1b4c56e\" class=\"colab-df-container\">\n",
              "    <div>\n",
              "<style scoped>\n",
              "    .dataframe tbody tr th:only-of-type {\n",
              "        vertical-align: middle;\n",
              "    }\n",
              "\n",
              "    .dataframe tbody tr th {\n",
              "        vertical-align: top;\n",
              "    }\n",
              "\n",
              "    .dataframe thead th {\n",
              "        text-align: right;\n",
              "    }\n",
              "</style>\n",
              "<table border=\"1\" class=\"dataframe\">\n",
              "  <thead>\n",
              "    <tr style=\"text-align: right;\">\n",
              "      <th></th>\n",
              "      <th>total_bill</th>\n",
              "      <th>tip</th>\n",
              "      <th>sex</th>\n",
              "      <th>smoker</th>\n",
              "      <th>day</th>\n",
              "      <th>time</th>\n",
              "      <th>size</th>\n",
              "    </tr>\n",
              "  </thead>\n",
              "  <tbody>\n",
              "    <tr>\n",
              "      <th>0</th>\n",
              "      <td>16.99</td>\n",
              "      <td>1.01</td>\n",
              "      <td>Female</td>\n",
              "      <td>No</td>\n",
              "      <td>Sun</td>\n",
              "      <td>Dinner</td>\n",
              "      <td>2</td>\n",
              "    </tr>\n",
              "    <tr>\n",
              "      <th>1</th>\n",
              "      <td>10.34</td>\n",
              "      <td>1.66</td>\n",
              "      <td>Male</td>\n",
              "      <td>No</td>\n",
              "      <td>Sun</td>\n",
              "      <td>Dinner</td>\n",
              "      <td>3</td>\n",
              "    </tr>\n",
              "    <tr>\n",
              "      <th>2</th>\n",
              "      <td>21.01</td>\n",
              "      <td>3.50</td>\n",
              "      <td>Male</td>\n",
              "      <td>No</td>\n",
              "      <td>Sun</td>\n",
              "      <td>Dinner</td>\n",
              "      <td>3</td>\n",
              "    </tr>\n",
              "  </tbody>\n",
              "</table>\n",
              "</div>\n",
              "    <div class=\"colab-df-buttons\">\n",
              "\n",
              "  <div class=\"colab-df-container\">\n",
              "    <button class=\"colab-df-convert\" onclick=\"convertToInteractive('df-0b08aa92-d4e2-4431-b16b-a86be1b4c56e')\"\n",
              "            title=\"Convert this dataframe to an interactive table.\"\n",
              "            style=\"display:none;\">\n",
              "\n",
              "  <svg xmlns=\"http://www.w3.org/2000/svg\" height=\"24px\" viewBox=\"0 -960 960 960\">\n",
              "    <path d=\"M120-120v-720h720v720H120Zm60-500h600v-160H180v160Zm220 220h160v-160H400v160Zm0 220h160v-160H400v160ZM180-400h160v-160H180v160Zm440 0h160v-160H620v160ZM180-180h160v-160H180v160Zm440 0h160v-160H620v160Z\"/>\n",
              "  </svg>\n",
              "    </button>\n",
              "\n",
              "  <style>\n",
              "    .colab-df-container {\n",
              "      display:flex;\n",
              "      gap: 12px;\n",
              "    }\n",
              "\n",
              "    .colab-df-convert {\n",
              "      background-color: #E8F0FE;\n",
              "      border: none;\n",
              "      border-radius: 50%;\n",
              "      cursor: pointer;\n",
              "      display: none;\n",
              "      fill: #1967D2;\n",
              "      height: 32px;\n",
              "      padding: 0 0 0 0;\n",
              "      width: 32px;\n",
              "    }\n",
              "\n",
              "    .colab-df-convert:hover {\n",
              "      background-color: #E2EBFA;\n",
              "      box-shadow: 0px 1px 2px rgba(60, 64, 67, 0.3), 0px 1px 3px 1px rgba(60, 64, 67, 0.15);\n",
              "      fill: #174EA6;\n",
              "    }\n",
              "\n",
              "    .colab-df-buttons div {\n",
              "      margin-bottom: 4px;\n",
              "    }\n",
              "\n",
              "    [theme=dark] .colab-df-convert {\n",
              "      background-color: #3B4455;\n",
              "      fill: #D2E3FC;\n",
              "    }\n",
              "\n",
              "    [theme=dark] .colab-df-convert:hover {\n",
              "      background-color: #434B5C;\n",
              "      box-shadow: 0px 1px 3px 1px rgba(0, 0, 0, 0.15);\n",
              "      filter: drop-shadow(0px 1px 2px rgba(0, 0, 0, 0.3));\n",
              "      fill: #FFFFFF;\n",
              "    }\n",
              "  </style>\n",
              "\n",
              "    <script>\n",
              "      const buttonEl =\n",
              "        document.querySelector('#df-0b08aa92-d4e2-4431-b16b-a86be1b4c56e button.colab-df-convert');\n",
              "      buttonEl.style.display =\n",
              "        google.colab.kernel.accessAllowed ? 'block' : 'none';\n",
              "\n",
              "      async function convertToInteractive(key) {\n",
              "        const element = document.querySelector('#df-0b08aa92-d4e2-4431-b16b-a86be1b4c56e');\n",
              "        const dataTable =\n",
              "          await google.colab.kernel.invokeFunction('convertToInteractive',\n",
              "                                                    [key], {});\n",
              "        if (!dataTable) return;\n",
              "\n",
              "        const docLinkHtml = 'Like what you see? Visit the ' +\n",
              "          '<a target=\"_blank\" href=https://colab.research.google.com/notebooks/data_table.ipynb>data table notebook</a>'\n",
              "          + ' to learn more about interactive tables.';\n",
              "        element.innerHTML = '';\n",
              "        dataTable['output_type'] = 'display_data';\n",
              "        await google.colab.output.renderOutput(dataTable, element);\n",
              "        const docLink = document.createElement('div');\n",
              "        docLink.innerHTML = docLinkHtml;\n",
              "        element.appendChild(docLink);\n",
              "      }\n",
              "    </script>\n",
              "  </div>\n",
              "\n",
              "\n",
              "<div id=\"df-346c08f9-4070-42b3-851b-fec06e8362c7\">\n",
              "  <button class=\"colab-df-quickchart\" onclick=\"quickchart('df-346c08f9-4070-42b3-851b-fec06e8362c7')\"\n",
              "            title=\"Suggest charts\"\n",
              "            style=\"display:none;\">\n",
              "\n",
              "<svg xmlns=\"http://www.w3.org/2000/svg\" height=\"24px\"viewBox=\"0 0 24 24\"\n",
              "     width=\"24px\">\n",
              "    <g>\n",
              "        <path d=\"M19 3H5c-1.1 0-2 .9-2 2v14c0 1.1.9 2 2 2h14c1.1 0 2-.9 2-2V5c0-1.1-.9-2-2-2zM9 17H7v-7h2v7zm4 0h-2V7h2v10zm4 0h-2v-4h2v4z\"/>\n",
              "    </g>\n",
              "</svg>\n",
              "  </button>\n",
              "\n",
              "<style>\n",
              "  .colab-df-quickchart {\n",
              "      --bg-color: #E8F0FE;\n",
              "      --fill-color: #1967D2;\n",
              "      --hover-bg-color: #E2EBFA;\n",
              "      --hover-fill-color: #174EA6;\n",
              "      --disabled-fill-color: #AAA;\n",
              "      --disabled-bg-color: #DDD;\n",
              "  }\n",
              "\n",
              "  [theme=dark] .colab-df-quickchart {\n",
              "      --bg-color: #3B4455;\n",
              "      --fill-color: #D2E3FC;\n",
              "      --hover-bg-color: #434B5C;\n",
              "      --hover-fill-color: #FFFFFF;\n",
              "      --disabled-bg-color: #3B4455;\n",
              "      --disabled-fill-color: #666;\n",
              "  }\n",
              "\n",
              "  .colab-df-quickchart {\n",
              "    background-color: var(--bg-color);\n",
              "    border: none;\n",
              "    border-radius: 50%;\n",
              "    cursor: pointer;\n",
              "    display: none;\n",
              "    fill: var(--fill-color);\n",
              "    height: 32px;\n",
              "    padding: 0;\n",
              "    width: 32px;\n",
              "  }\n",
              "\n",
              "  .colab-df-quickchart:hover {\n",
              "    background-color: var(--hover-bg-color);\n",
              "    box-shadow: 0 1px 2px rgba(60, 64, 67, 0.3), 0 1px 3px 1px rgba(60, 64, 67, 0.15);\n",
              "    fill: var(--button-hover-fill-color);\n",
              "  }\n",
              "\n",
              "  .colab-df-quickchart-complete:disabled,\n",
              "  .colab-df-quickchart-complete:disabled:hover {\n",
              "    background-color: var(--disabled-bg-color);\n",
              "    fill: var(--disabled-fill-color);\n",
              "    box-shadow: none;\n",
              "  }\n",
              "\n",
              "  .colab-df-spinner {\n",
              "    border: 2px solid var(--fill-color);\n",
              "    border-color: transparent;\n",
              "    border-bottom-color: var(--fill-color);\n",
              "    animation:\n",
              "      spin 1s steps(1) infinite;\n",
              "  }\n",
              "\n",
              "  @keyframes spin {\n",
              "    0% {\n",
              "      border-color: transparent;\n",
              "      border-bottom-color: var(--fill-color);\n",
              "      border-left-color: var(--fill-color);\n",
              "    }\n",
              "    20% {\n",
              "      border-color: transparent;\n",
              "      border-left-color: var(--fill-color);\n",
              "      border-top-color: var(--fill-color);\n",
              "    }\n",
              "    30% {\n",
              "      border-color: transparent;\n",
              "      border-left-color: var(--fill-color);\n",
              "      border-top-color: var(--fill-color);\n",
              "      border-right-color: var(--fill-color);\n",
              "    }\n",
              "    40% {\n",
              "      border-color: transparent;\n",
              "      border-right-color: var(--fill-color);\n",
              "      border-top-color: var(--fill-color);\n",
              "    }\n",
              "    60% {\n",
              "      border-color: transparent;\n",
              "      border-right-color: var(--fill-color);\n",
              "    }\n",
              "    80% {\n",
              "      border-color: transparent;\n",
              "      border-right-color: var(--fill-color);\n",
              "      border-bottom-color: var(--fill-color);\n",
              "    }\n",
              "    90% {\n",
              "      border-color: transparent;\n",
              "      border-bottom-color: var(--fill-color);\n",
              "    }\n",
              "  }\n",
              "</style>\n",
              "\n",
              "  <script>\n",
              "    async function quickchart(key) {\n",
              "      const quickchartButtonEl =\n",
              "        document.querySelector('#' + key + ' button');\n",
              "      quickchartButtonEl.disabled = true;  // To prevent multiple clicks.\n",
              "      quickchartButtonEl.classList.add('colab-df-spinner');\n",
              "      try {\n",
              "        const charts = await google.colab.kernel.invokeFunction(\n",
              "            'suggestCharts', [key], {});\n",
              "      } catch (error) {\n",
              "        console.error('Error during call to suggestCharts:', error);\n",
              "      }\n",
              "      quickchartButtonEl.classList.remove('colab-df-spinner');\n",
              "      quickchartButtonEl.classList.add('colab-df-quickchart-complete');\n",
              "    }\n",
              "    (() => {\n",
              "      let quickchartButtonEl =\n",
              "        document.querySelector('#df-346c08f9-4070-42b3-851b-fec06e8362c7 button');\n",
              "      quickchartButtonEl.style.display =\n",
              "        google.colab.kernel.accessAllowed ? 'block' : 'none';\n",
              "    })();\n",
              "  </script>\n",
              "</div>\n",
              "\n",
              "    </div>\n",
              "  </div>\n"
            ],
            "application/vnd.google.colaboratory.intrinsic+json": {
              "type": "dataframe",
              "summary": "{\n  \"name\": \"display(tips\",\n  \"rows\": 3,\n  \"fields\": [\n    {\n      \"column\": \"total_bill\",\n      \"properties\": {\n        \"dtype\": \"number\",\n        \"std\": 5.388750628237806,\n        \"min\": 10.34,\n        \"max\": 21.01,\n        \"num_unique_values\": 3,\n        \"samples\": [\n          16.99,\n          10.34,\n          21.01\n        ],\n        \"semantic_type\": \"\",\n        \"description\": \"\"\n      }\n    },\n    {\n      \"column\": \"tip\",\n      \"properties\": {\n        \"dtype\": \"number\",\n        \"std\": 1.2915236479961694,\n        \"min\": 1.01,\n        \"max\": 3.5,\n        \"num_unique_values\": 3,\n        \"samples\": [\n          1.01,\n          1.66,\n          3.5\n        ],\n        \"semantic_type\": \"\",\n        \"description\": \"\"\n      }\n    },\n    {\n      \"column\": \"sex\",\n      \"properties\": {\n        \"dtype\": \"category\",\n        \"num_unique_values\": 2,\n        \"samples\": [\n          \"Male\",\n          \"Female\"\n        ],\n        \"semantic_type\": \"\",\n        \"description\": \"\"\n      }\n    },\n    {\n      \"column\": \"smoker\",\n      \"properties\": {\n        \"dtype\": \"category\",\n        \"num_unique_values\": 1,\n        \"samples\": [\n          \"No\"\n        ],\n        \"semantic_type\": \"\",\n        \"description\": \"\"\n      }\n    },\n    {\n      \"column\": \"day\",\n      \"properties\": {\n        \"dtype\": \"category\",\n        \"num_unique_values\": 1,\n        \"samples\": [\n          \"Sun\"\n        ],\n        \"semantic_type\": \"\",\n        \"description\": \"\"\n      }\n    },\n    {\n      \"column\": \"time\",\n      \"properties\": {\n        \"dtype\": \"category\",\n        \"num_unique_values\": 1,\n        \"samples\": [\n          \"Dinner\"\n        ],\n        \"semantic_type\": \"\",\n        \"description\": \"\"\n      }\n    },\n    {\n      \"column\": \"size\",\n      \"properties\": {\n        \"dtype\": \"number\",\n        \"std\": 0,\n        \"min\": 2,\n        \"max\": 3,\n        \"num_unique_values\": 2,\n        \"samples\": [\n          3\n        ],\n        \"semantic_type\": \"\",\n        \"description\": \"\"\n      }\n    }\n  ]\n}"
            }
          },
          "metadata": {}
        },
        {
          "output_type": "display_data",
          "data": {
            "text/plain": [
              "        total_bill         tip   sex smoker  day    time        size\n",
              "count   244.000000  244.000000   244    244  244     244  244.000000\n",
              "unique         NaN         NaN     2      2    4       2         NaN\n",
              "top            NaN         NaN  Male     No  Sat  Dinner         NaN\n",
              "freq           NaN         NaN   157    151   87     176         NaN\n",
              "mean     19.785943    2.998279   NaN    NaN  NaN     NaN    2.569672\n",
              "std       8.902412    1.383638   NaN    NaN  NaN     NaN    0.951100\n",
              "min       3.070000    1.000000   NaN    NaN  NaN     NaN    1.000000\n",
              "25%      13.347500    2.000000   NaN    NaN  NaN     NaN    2.000000\n",
              "50%      17.795000    2.900000   NaN    NaN  NaN     NaN    2.000000\n",
              "75%      24.127500    3.562500   NaN    NaN  NaN     NaN    3.000000\n",
              "max      50.810000   10.000000   NaN    NaN  NaN     NaN    6.000000"
            ],
            "text/html": [
              "\n",
              "  <div id=\"df-5e495a7c-1d42-4506-9bf9-aa4e72dd00e3\" class=\"colab-df-container\">\n",
              "    <div>\n",
              "<style scoped>\n",
              "    .dataframe tbody tr th:only-of-type {\n",
              "        vertical-align: middle;\n",
              "    }\n",
              "\n",
              "    .dataframe tbody tr th {\n",
              "        vertical-align: top;\n",
              "    }\n",
              "\n",
              "    .dataframe thead th {\n",
              "        text-align: right;\n",
              "    }\n",
              "</style>\n",
              "<table border=\"1\" class=\"dataframe\">\n",
              "  <thead>\n",
              "    <tr style=\"text-align: right;\">\n",
              "      <th></th>\n",
              "      <th>total_bill</th>\n",
              "      <th>tip</th>\n",
              "      <th>sex</th>\n",
              "      <th>smoker</th>\n",
              "      <th>day</th>\n",
              "      <th>time</th>\n",
              "      <th>size</th>\n",
              "    </tr>\n",
              "  </thead>\n",
              "  <tbody>\n",
              "    <tr>\n",
              "      <th>count</th>\n",
              "      <td>244.000000</td>\n",
              "      <td>244.000000</td>\n",
              "      <td>244</td>\n",
              "      <td>244</td>\n",
              "      <td>244</td>\n",
              "      <td>244</td>\n",
              "      <td>244.000000</td>\n",
              "    </tr>\n",
              "    <tr>\n",
              "      <th>unique</th>\n",
              "      <td>NaN</td>\n",
              "      <td>NaN</td>\n",
              "      <td>2</td>\n",
              "      <td>2</td>\n",
              "      <td>4</td>\n",
              "      <td>2</td>\n",
              "      <td>NaN</td>\n",
              "    </tr>\n",
              "    <tr>\n",
              "      <th>top</th>\n",
              "      <td>NaN</td>\n",
              "      <td>NaN</td>\n",
              "      <td>Male</td>\n",
              "      <td>No</td>\n",
              "      <td>Sat</td>\n",
              "      <td>Dinner</td>\n",
              "      <td>NaN</td>\n",
              "    </tr>\n",
              "    <tr>\n",
              "      <th>freq</th>\n",
              "      <td>NaN</td>\n",
              "      <td>NaN</td>\n",
              "      <td>157</td>\n",
              "      <td>151</td>\n",
              "      <td>87</td>\n",
              "      <td>176</td>\n",
              "      <td>NaN</td>\n",
              "    </tr>\n",
              "    <tr>\n",
              "      <th>mean</th>\n",
              "      <td>19.785943</td>\n",
              "      <td>2.998279</td>\n",
              "      <td>NaN</td>\n",
              "      <td>NaN</td>\n",
              "      <td>NaN</td>\n",
              "      <td>NaN</td>\n",
              "      <td>2.569672</td>\n",
              "    </tr>\n",
              "    <tr>\n",
              "      <th>std</th>\n",
              "      <td>8.902412</td>\n",
              "      <td>1.383638</td>\n",
              "      <td>NaN</td>\n",
              "      <td>NaN</td>\n",
              "      <td>NaN</td>\n",
              "      <td>NaN</td>\n",
              "      <td>0.951100</td>\n",
              "    </tr>\n",
              "    <tr>\n",
              "      <th>min</th>\n",
              "      <td>3.070000</td>\n",
              "      <td>1.000000</td>\n",
              "      <td>NaN</td>\n",
              "      <td>NaN</td>\n",
              "      <td>NaN</td>\n",
              "      <td>NaN</td>\n",
              "      <td>1.000000</td>\n",
              "    </tr>\n",
              "    <tr>\n",
              "      <th>25%</th>\n",
              "      <td>13.347500</td>\n",
              "      <td>2.000000</td>\n",
              "      <td>NaN</td>\n",
              "      <td>NaN</td>\n",
              "      <td>NaN</td>\n",
              "      <td>NaN</td>\n",
              "      <td>2.000000</td>\n",
              "    </tr>\n",
              "    <tr>\n",
              "      <th>50%</th>\n",
              "      <td>17.795000</td>\n",
              "      <td>2.900000</td>\n",
              "      <td>NaN</td>\n",
              "      <td>NaN</td>\n",
              "      <td>NaN</td>\n",
              "      <td>NaN</td>\n",
              "      <td>2.000000</td>\n",
              "    </tr>\n",
              "    <tr>\n",
              "      <th>75%</th>\n",
              "      <td>24.127500</td>\n",
              "      <td>3.562500</td>\n",
              "      <td>NaN</td>\n",
              "      <td>NaN</td>\n",
              "      <td>NaN</td>\n",
              "      <td>NaN</td>\n",
              "      <td>3.000000</td>\n",
              "    </tr>\n",
              "    <tr>\n",
              "      <th>max</th>\n",
              "      <td>50.810000</td>\n",
              "      <td>10.000000</td>\n",
              "      <td>NaN</td>\n",
              "      <td>NaN</td>\n",
              "      <td>NaN</td>\n",
              "      <td>NaN</td>\n",
              "      <td>6.000000</td>\n",
              "    </tr>\n",
              "  </tbody>\n",
              "</table>\n",
              "</div>\n",
              "    <div class=\"colab-df-buttons\">\n",
              "\n",
              "  <div class=\"colab-df-container\">\n",
              "    <button class=\"colab-df-convert\" onclick=\"convertToInteractive('df-5e495a7c-1d42-4506-9bf9-aa4e72dd00e3')\"\n",
              "            title=\"Convert this dataframe to an interactive table.\"\n",
              "            style=\"display:none;\">\n",
              "\n",
              "  <svg xmlns=\"http://www.w3.org/2000/svg\" height=\"24px\" viewBox=\"0 -960 960 960\">\n",
              "    <path d=\"M120-120v-720h720v720H120Zm60-500h600v-160H180v160Zm220 220h160v-160H400v160Zm0 220h160v-160H400v160ZM180-400h160v-160H180v160Zm440 0h160v-160H620v160ZM180-180h160v-160H180v160Zm440 0h160v-160H620v160Z\"/>\n",
              "  </svg>\n",
              "    </button>\n",
              "\n",
              "  <style>\n",
              "    .colab-df-container {\n",
              "      display:flex;\n",
              "      gap: 12px;\n",
              "    }\n",
              "\n",
              "    .colab-df-convert {\n",
              "      background-color: #E8F0FE;\n",
              "      border: none;\n",
              "      border-radius: 50%;\n",
              "      cursor: pointer;\n",
              "      display: none;\n",
              "      fill: #1967D2;\n",
              "      height: 32px;\n",
              "      padding: 0 0 0 0;\n",
              "      width: 32px;\n",
              "    }\n",
              "\n",
              "    .colab-df-convert:hover {\n",
              "      background-color: #E2EBFA;\n",
              "      box-shadow: 0px 1px 2px rgba(60, 64, 67, 0.3), 0px 1px 3px 1px rgba(60, 64, 67, 0.15);\n",
              "      fill: #174EA6;\n",
              "    }\n",
              "\n",
              "    .colab-df-buttons div {\n",
              "      margin-bottom: 4px;\n",
              "    }\n",
              "\n",
              "    [theme=dark] .colab-df-convert {\n",
              "      background-color: #3B4455;\n",
              "      fill: #D2E3FC;\n",
              "    }\n",
              "\n",
              "    [theme=dark] .colab-df-convert:hover {\n",
              "      background-color: #434B5C;\n",
              "      box-shadow: 0px 1px 3px 1px rgba(0, 0, 0, 0.15);\n",
              "      filter: drop-shadow(0px 1px 2px rgba(0, 0, 0, 0.3));\n",
              "      fill: #FFFFFF;\n",
              "    }\n",
              "  </style>\n",
              "\n",
              "    <script>\n",
              "      const buttonEl =\n",
              "        document.querySelector('#df-5e495a7c-1d42-4506-9bf9-aa4e72dd00e3 button.colab-df-convert');\n",
              "      buttonEl.style.display =\n",
              "        google.colab.kernel.accessAllowed ? 'block' : 'none';\n",
              "\n",
              "      async function convertToInteractive(key) {\n",
              "        const element = document.querySelector('#df-5e495a7c-1d42-4506-9bf9-aa4e72dd00e3');\n",
              "        const dataTable =\n",
              "          await google.colab.kernel.invokeFunction('convertToInteractive',\n",
              "                                                    [key], {});\n",
              "        if (!dataTable) return;\n",
              "\n",
              "        const docLinkHtml = 'Like what you see? Visit the ' +\n",
              "          '<a target=\"_blank\" href=https://colab.research.google.com/notebooks/data_table.ipynb>data table notebook</a>'\n",
              "          + ' to learn more about interactive tables.';\n",
              "        element.innerHTML = '';\n",
              "        dataTable['output_type'] = 'display_data';\n",
              "        await google.colab.output.renderOutput(dataTable, element);\n",
              "        const docLink = document.createElement('div');\n",
              "        docLink.innerHTML = docLinkHtml;\n",
              "        element.appendChild(docLink);\n",
              "      }\n",
              "    </script>\n",
              "  </div>\n",
              "\n",
              "\n",
              "<div id=\"df-4698738d-aa76-4957-9db3-1eb49d3b2a0b\">\n",
              "  <button class=\"colab-df-quickchart\" onclick=\"quickchart('df-4698738d-aa76-4957-9db3-1eb49d3b2a0b')\"\n",
              "            title=\"Suggest charts\"\n",
              "            style=\"display:none;\">\n",
              "\n",
              "<svg xmlns=\"http://www.w3.org/2000/svg\" height=\"24px\"viewBox=\"0 0 24 24\"\n",
              "     width=\"24px\">\n",
              "    <g>\n",
              "        <path d=\"M19 3H5c-1.1 0-2 .9-2 2v14c0 1.1.9 2 2 2h14c1.1 0 2-.9 2-2V5c0-1.1-.9-2-2-2zM9 17H7v-7h2v7zm4 0h-2V7h2v10zm4 0h-2v-4h2v4z\"/>\n",
              "    </g>\n",
              "</svg>\n",
              "  </button>\n",
              "\n",
              "<style>\n",
              "  .colab-df-quickchart {\n",
              "      --bg-color: #E8F0FE;\n",
              "      --fill-color: #1967D2;\n",
              "      --hover-bg-color: #E2EBFA;\n",
              "      --hover-fill-color: #174EA6;\n",
              "      --disabled-fill-color: #AAA;\n",
              "      --disabled-bg-color: #DDD;\n",
              "  }\n",
              "\n",
              "  [theme=dark] .colab-df-quickchart {\n",
              "      --bg-color: #3B4455;\n",
              "      --fill-color: #D2E3FC;\n",
              "      --hover-bg-color: #434B5C;\n",
              "      --hover-fill-color: #FFFFFF;\n",
              "      --disabled-bg-color: #3B4455;\n",
              "      --disabled-fill-color: #666;\n",
              "  }\n",
              "\n",
              "  .colab-df-quickchart {\n",
              "    background-color: var(--bg-color);\n",
              "    border: none;\n",
              "    border-radius: 50%;\n",
              "    cursor: pointer;\n",
              "    display: none;\n",
              "    fill: var(--fill-color);\n",
              "    height: 32px;\n",
              "    padding: 0;\n",
              "    width: 32px;\n",
              "  }\n",
              "\n",
              "  .colab-df-quickchart:hover {\n",
              "    background-color: var(--hover-bg-color);\n",
              "    box-shadow: 0 1px 2px rgba(60, 64, 67, 0.3), 0 1px 3px 1px rgba(60, 64, 67, 0.15);\n",
              "    fill: var(--button-hover-fill-color);\n",
              "  }\n",
              "\n",
              "  .colab-df-quickchart-complete:disabled,\n",
              "  .colab-df-quickchart-complete:disabled:hover {\n",
              "    background-color: var(--disabled-bg-color);\n",
              "    fill: var(--disabled-fill-color);\n",
              "    box-shadow: none;\n",
              "  }\n",
              "\n",
              "  .colab-df-spinner {\n",
              "    border: 2px solid var(--fill-color);\n",
              "    border-color: transparent;\n",
              "    border-bottom-color: var(--fill-color);\n",
              "    animation:\n",
              "      spin 1s steps(1) infinite;\n",
              "  }\n",
              "\n",
              "  @keyframes spin {\n",
              "    0% {\n",
              "      border-color: transparent;\n",
              "      border-bottom-color: var(--fill-color);\n",
              "      border-left-color: var(--fill-color);\n",
              "    }\n",
              "    20% {\n",
              "      border-color: transparent;\n",
              "      border-left-color: var(--fill-color);\n",
              "      border-top-color: var(--fill-color);\n",
              "    }\n",
              "    30% {\n",
              "      border-color: transparent;\n",
              "      border-left-color: var(--fill-color);\n",
              "      border-top-color: var(--fill-color);\n",
              "      border-right-color: var(--fill-color);\n",
              "    }\n",
              "    40% {\n",
              "      border-color: transparent;\n",
              "      border-right-color: var(--fill-color);\n",
              "      border-top-color: var(--fill-color);\n",
              "    }\n",
              "    60% {\n",
              "      border-color: transparent;\n",
              "      border-right-color: var(--fill-color);\n",
              "    }\n",
              "    80% {\n",
              "      border-color: transparent;\n",
              "      border-right-color: var(--fill-color);\n",
              "      border-bottom-color: var(--fill-color);\n",
              "    }\n",
              "    90% {\n",
              "      border-color: transparent;\n",
              "      border-bottom-color: var(--fill-color);\n",
              "    }\n",
              "  }\n",
              "</style>\n",
              "\n",
              "  <script>\n",
              "    async function quickchart(key) {\n",
              "      const quickchartButtonEl =\n",
              "        document.querySelector('#' + key + ' button');\n",
              "      quickchartButtonEl.disabled = true;  // To prevent multiple clicks.\n",
              "      quickchartButtonEl.classList.add('colab-df-spinner');\n",
              "      try {\n",
              "        const charts = await google.colab.kernel.invokeFunction(\n",
              "            'suggestCharts', [key], {});\n",
              "      } catch (error) {\n",
              "        console.error('Error during call to suggestCharts:', error);\n",
              "      }\n",
              "      quickchartButtonEl.classList.remove('colab-df-spinner');\n",
              "      quickchartButtonEl.classList.add('colab-df-quickchart-complete');\n",
              "    }\n",
              "    (() => {\n",
              "      let quickchartButtonEl =\n",
              "        document.querySelector('#df-4698738d-aa76-4957-9db3-1eb49d3b2a0b button');\n",
              "      quickchartButtonEl.style.display =\n",
              "        google.colab.kernel.accessAllowed ? 'block' : 'none';\n",
              "    })();\n",
              "  </script>\n",
              "</div>\n",
              "\n",
              "    </div>\n",
              "  </div>\n"
            ],
            "application/vnd.google.colaboratory.intrinsic+json": {
              "type": "dataframe",
              "summary": "{\n  \"name\": \"display(tips\",\n  \"rows\": 11,\n  \"fields\": [\n    {\n      \"column\": \"total_bill\",\n      \"properties\": {\n        \"dtype\": \"number\",\n        \"std\": 80.57800601480773,\n        \"min\": 3.07,\n        \"max\": 244.0,\n        \"num_unique_values\": 8,\n        \"samples\": [\n          19.78594262295082,\n          17.795,\n          244.0\n        ],\n        \"semantic_type\": \"\",\n        \"description\": \"\"\n      }\n    },\n    {\n      \"column\": \"tip\",\n      \"properties\": {\n        \"dtype\": \"number\",\n        \"std\": 85.10953159599222,\n        \"min\": 1.0,\n        \"max\": 244.0,\n        \"num_unique_values\": 8,\n        \"samples\": [\n          2.99827868852459,\n          2.9,\n          244.0\n        ],\n        \"semantic_type\": \"\",\n        \"description\": \"\"\n      }\n    },\n    {\n      \"column\": \"sex\",\n      \"properties\": {\n        \"dtype\": \"category\",\n        \"num_unique_values\": 4,\n        \"samples\": [\n          2,\n          \"157\",\n          \"244\"\n        ],\n        \"semantic_type\": \"\",\n        \"description\": \"\"\n      }\n    },\n    {\n      \"column\": \"smoker\",\n      \"properties\": {\n        \"dtype\": \"category\",\n        \"num_unique_values\": 4,\n        \"samples\": [\n          2,\n          \"151\",\n          \"244\"\n        ],\n        \"semantic_type\": \"\",\n        \"description\": \"\"\n      }\n    },\n    {\n      \"column\": \"day\",\n      \"properties\": {\n        \"dtype\": \"category\",\n        \"num_unique_values\": 4,\n        \"samples\": [\n          4,\n          \"87\",\n          \"244\"\n        ],\n        \"semantic_type\": \"\",\n        \"description\": \"\"\n      }\n    },\n    {\n      \"column\": \"time\",\n      \"properties\": {\n        \"dtype\": \"category\",\n        \"num_unique_values\": 4,\n        \"samples\": [\n          2,\n          \"176\",\n          \"244\"\n        ],\n        \"semantic_type\": \"\",\n        \"description\": \"\"\n      }\n    },\n    {\n      \"column\": \"size\",\n      \"properties\": {\n        \"dtype\": \"number\",\n        \"std\": 85.39686221774684,\n        \"min\": 0.9510998047322332,\n        \"max\": 244.0,\n        \"num_unique_values\": 7,\n        \"samples\": [\n          244.0,\n          2.569672131147541,\n          3.0\n        ],\n        \"semantic_type\": \"\",\n        \"description\": \"\"\n      }\n    }\n  ]\n}"
            }
          },
          "metadata": {}
        }
      ]
    },
    {
      "cell_type": "code",
      "source": [
        "mean = tips['total_bill'].mean()\n",
        "median = tips['total_bill'].median()\n",
        "variance = tips['total_bill'].var()\n",
        "std_dev = tips['total_bill'].std()\n",
        "\n",
        "\n",
        "\n",
        "print(f\"Mean: {mean:.3f}, Median: {median:.3f}, Variance: {variance:.3f}, Std Dev: {std_dev:.3f}\")"
      ],
      "metadata": {
        "colab": {
          "base_uri": "https://localhost:8080/"
        },
        "id": "ETZtyuc8-V3j",
        "outputId": "412a4e8b-c450-4f16-8216-58febf42c9ae"
      },
      "execution_count": null,
      "outputs": [
        {
          "output_type": "stream",
          "name": "stdout",
          "text": [
            "Mean: 19.786, Median: 17.795, Variance: 79.253, Std Dev: 8.902\n"
          ]
        }
      ]
    },
    {
      "cell_type": "markdown",
      "source": [
        "2. 요일별 팁의 평균 비교\n",
        "문제: 요일(day)별 팁(tip)의 평균을 계산하고, 가장 팁이 많이 주어진 요일을 구하시오."
      ],
      "metadata": {
        "id": "4JaGgsHb-lJD"
      }
    },
    {
      "cell_type": "code",
      "source": [
        "tips.groupby('day')['tip'].mean()\n"
      ],
      "metadata": {
        "colab": {
          "base_uri": "https://localhost:8080/",
          "height": 297
        },
        "id": "L-LROAXD-eWv",
        "outputId": "2f207819-6329-4cff-d626-b9b0eeb1dab5"
      },
      "execution_count": null,
      "outputs": [
        {
          "output_type": "stream",
          "name": "stderr",
          "text": [
            "<ipython-input-50-046d32ab0197>:1: FutureWarning: The default of observed=False is deprecated and will be changed to True in a future version of pandas. Pass observed=False to retain current behavior or observed=True to adopt the future default and silence this warning.\n",
            "  tips.groupby('day')['tip'].mean()\n"
          ]
        },
        {
          "output_type": "execute_result",
          "data": {
            "text/plain": [
              "day\n",
              "Thur    2.771452\n",
              "Fri     2.734737\n",
              "Sat     2.993103\n",
              "Sun     3.255132\n",
              "Name: tip, dtype: float64"
            ],
            "text/html": [
              "<div>\n",
              "<style scoped>\n",
              "    .dataframe tbody tr th:only-of-type {\n",
              "        vertical-align: middle;\n",
              "    }\n",
              "\n",
              "    .dataframe tbody tr th {\n",
              "        vertical-align: top;\n",
              "    }\n",
              "\n",
              "    .dataframe thead th {\n",
              "        text-align: right;\n",
              "    }\n",
              "</style>\n",
              "<table border=\"1\" class=\"dataframe\">\n",
              "  <thead>\n",
              "    <tr style=\"text-align: right;\">\n",
              "      <th></th>\n",
              "      <th>tip</th>\n",
              "    </tr>\n",
              "    <tr>\n",
              "      <th>day</th>\n",
              "      <th></th>\n",
              "    </tr>\n",
              "  </thead>\n",
              "  <tbody>\n",
              "    <tr>\n",
              "      <th>Thur</th>\n",
              "      <td>2.771452</td>\n",
              "    </tr>\n",
              "    <tr>\n",
              "      <th>Fri</th>\n",
              "      <td>2.734737</td>\n",
              "    </tr>\n",
              "    <tr>\n",
              "      <th>Sat</th>\n",
              "      <td>2.993103</td>\n",
              "    </tr>\n",
              "    <tr>\n",
              "      <th>Sun</th>\n",
              "      <td>3.255132</td>\n",
              "    </tr>\n",
              "  </tbody>\n",
              "</table>\n",
              "</div><br><label><b>dtype:</b> float64</label>"
            ]
          },
          "metadata": {},
          "execution_count": 50
        }
      ]
    },
    {
      "cell_type": "markdown",
      "source": [
        "3. 흡연자와 비흡연자(smoker)의 total_bill 평균과 표준편차를 비교하시오."
      ],
      "metadata": {
        "id": "E_yWZhF2-8ui"
      }
    },
    {
      "cell_type": "code",
      "source": [
        "tips.groupby('smoker')['total_bill'].agg(['mean', 'std'])\n"
      ],
      "metadata": {
        "colab": {
          "base_uri": "https://localhost:8080/",
          "height": 199
        },
        "id": "QkgK2Peb-8H1",
        "outputId": "6e2786dd-d9f3-44ff-86ed-17376f0a2949"
      },
      "execution_count": null,
      "outputs": [
        {
          "output_type": "stream",
          "name": "stderr",
          "text": [
            "<ipython-input-60-ecc32d4b6a0a>:1: FutureWarning: The default of observed=False is deprecated and will be changed to True in a future version of pandas. Pass observed=False to retain current behavior or observed=True to adopt the future default and silence this warning.\n",
            "  tips.groupby('smoker')['total_bill'].agg(['mean', 'std'])\n"
          ]
        },
        {
          "output_type": "execute_result",
          "data": {
            "text/plain": [
              "             mean       std\n",
              "smoker                     \n",
              "Yes     20.756344  9.832154\n",
              "No      19.188278  8.255582"
            ],
            "text/html": [
              "\n",
              "  <div id=\"df-3845ee38-c906-40be-b41d-8431b76d0954\" class=\"colab-df-container\">\n",
              "    <div>\n",
              "<style scoped>\n",
              "    .dataframe tbody tr th:only-of-type {\n",
              "        vertical-align: middle;\n",
              "    }\n",
              "\n",
              "    .dataframe tbody tr th {\n",
              "        vertical-align: top;\n",
              "    }\n",
              "\n",
              "    .dataframe thead th {\n",
              "        text-align: right;\n",
              "    }\n",
              "</style>\n",
              "<table border=\"1\" class=\"dataframe\">\n",
              "  <thead>\n",
              "    <tr style=\"text-align: right;\">\n",
              "      <th></th>\n",
              "      <th>mean</th>\n",
              "      <th>std</th>\n",
              "    </tr>\n",
              "    <tr>\n",
              "      <th>smoker</th>\n",
              "      <th></th>\n",
              "      <th></th>\n",
              "    </tr>\n",
              "  </thead>\n",
              "  <tbody>\n",
              "    <tr>\n",
              "      <th>Yes</th>\n",
              "      <td>20.756344</td>\n",
              "      <td>9.832154</td>\n",
              "    </tr>\n",
              "    <tr>\n",
              "      <th>No</th>\n",
              "      <td>19.188278</td>\n",
              "      <td>8.255582</td>\n",
              "    </tr>\n",
              "  </tbody>\n",
              "</table>\n",
              "</div>\n",
              "    <div class=\"colab-df-buttons\">\n",
              "\n",
              "  <div class=\"colab-df-container\">\n",
              "    <button class=\"colab-df-convert\" onclick=\"convertToInteractive('df-3845ee38-c906-40be-b41d-8431b76d0954')\"\n",
              "            title=\"Convert this dataframe to an interactive table.\"\n",
              "            style=\"display:none;\">\n",
              "\n",
              "  <svg xmlns=\"http://www.w3.org/2000/svg\" height=\"24px\" viewBox=\"0 -960 960 960\">\n",
              "    <path d=\"M120-120v-720h720v720H120Zm60-500h600v-160H180v160Zm220 220h160v-160H400v160Zm0 220h160v-160H400v160ZM180-400h160v-160H180v160Zm440 0h160v-160H620v160ZM180-180h160v-160H180v160Zm440 0h160v-160H620v160Z\"/>\n",
              "  </svg>\n",
              "    </button>\n",
              "\n",
              "  <style>\n",
              "    .colab-df-container {\n",
              "      display:flex;\n",
              "      gap: 12px;\n",
              "    }\n",
              "\n",
              "    .colab-df-convert {\n",
              "      background-color: #E8F0FE;\n",
              "      border: none;\n",
              "      border-radius: 50%;\n",
              "      cursor: pointer;\n",
              "      display: none;\n",
              "      fill: #1967D2;\n",
              "      height: 32px;\n",
              "      padding: 0 0 0 0;\n",
              "      width: 32px;\n",
              "    }\n",
              "\n",
              "    .colab-df-convert:hover {\n",
              "      background-color: #E2EBFA;\n",
              "      box-shadow: 0px 1px 2px rgba(60, 64, 67, 0.3), 0px 1px 3px 1px rgba(60, 64, 67, 0.15);\n",
              "      fill: #174EA6;\n",
              "    }\n",
              "\n",
              "    .colab-df-buttons div {\n",
              "      margin-bottom: 4px;\n",
              "    }\n",
              "\n",
              "    [theme=dark] .colab-df-convert {\n",
              "      background-color: #3B4455;\n",
              "      fill: #D2E3FC;\n",
              "    }\n",
              "\n",
              "    [theme=dark] .colab-df-convert:hover {\n",
              "      background-color: #434B5C;\n",
              "      box-shadow: 0px 1px 3px 1px rgba(0, 0, 0, 0.15);\n",
              "      filter: drop-shadow(0px 1px 2px rgba(0, 0, 0, 0.3));\n",
              "      fill: #FFFFFF;\n",
              "    }\n",
              "  </style>\n",
              "\n",
              "    <script>\n",
              "      const buttonEl =\n",
              "        document.querySelector('#df-3845ee38-c906-40be-b41d-8431b76d0954 button.colab-df-convert');\n",
              "      buttonEl.style.display =\n",
              "        google.colab.kernel.accessAllowed ? 'block' : 'none';\n",
              "\n",
              "      async function convertToInteractive(key) {\n",
              "        const element = document.querySelector('#df-3845ee38-c906-40be-b41d-8431b76d0954');\n",
              "        const dataTable =\n",
              "          await google.colab.kernel.invokeFunction('convertToInteractive',\n",
              "                                                    [key], {});\n",
              "        if (!dataTable) return;\n",
              "\n",
              "        const docLinkHtml = 'Like what you see? Visit the ' +\n",
              "          '<a target=\"_blank\" href=https://colab.research.google.com/notebooks/data_table.ipynb>data table notebook</a>'\n",
              "          + ' to learn more about interactive tables.';\n",
              "        element.innerHTML = '';\n",
              "        dataTable['output_type'] = 'display_data';\n",
              "        await google.colab.output.renderOutput(dataTable, element);\n",
              "        const docLink = document.createElement('div');\n",
              "        docLink.innerHTML = docLinkHtml;\n",
              "        element.appendChild(docLink);\n",
              "      }\n",
              "    </script>\n",
              "  </div>\n",
              "\n",
              "\n",
              "<div id=\"df-33f76e79-dff6-47aa-8c4c-c5146501077b\">\n",
              "  <button class=\"colab-df-quickchart\" onclick=\"quickchart('df-33f76e79-dff6-47aa-8c4c-c5146501077b')\"\n",
              "            title=\"Suggest charts\"\n",
              "            style=\"display:none;\">\n",
              "\n",
              "<svg xmlns=\"http://www.w3.org/2000/svg\" height=\"24px\"viewBox=\"0 0 24 24\"\n",
              "     width=\"24px\">\n",
              "    <g>\n",
              "        <path d=\"M19 3H5c-1.1 0-2 .9-2 2v14c0 1.1.9 2 2 2h14c1.1 0 2-.9 2-2V5c0-1.1-.9-2-2-2zM9 17H7v-7h2v7zm4 0h-2V7h2v10zm4 0h-2v-4h2v4z\"/>\n",
              "    </g>\n",
              "</svg>\n",
              "  </button>\n",
              "\n",
              "<style>\n",
              "  .colab-df-quickchart {\n",
              "      --bg-color: #E8F0FE;\n",
              "      --fill-color: #1967D2;\n",
              "      --hover-bg-color: #E2EBFA;\n",
              "      --hover-fill-color: #174EA6;\n",
              "      --disabled-fill-color: #AAA;\n",
              "      --disabled-bg-color: #DDD;\n",
              "  }\n",
              "\n",
              "  [theme=dark] .colab-df-quickchart {\n",
              "      --bg-color: #3B4455;\n",
              "      --fill-color: #D2E3FC;\n",
              "      --hover-bg-color: #434B5C;\n",
              "      --hover-fill-color: #FFFFFF;\n",
              "      --disabled-bg-color: #3B4455;\n",
              "      --disabled-fill-color: #666;\n",
              "  }\n",
              "\n",
              "  .colab-df-quickchart {\n",
              "    background-color: var(--bg-color);\n",
              "    border: none;\n",
              "    border-radius: 50%;\n",
              "    cursor: pointer;\n",
              "    display: none;\n",
              "    fill: var(--fill-color);\n",
              "    height: 32px;\n",
              "    padding: 0;\n",
              "    width: 32px;\n",
              "  }\n",
              "\n",
              "  .colab-df-quickchart:hover {\n",
              "    background-color: var(--hover-bg-color);\n",
              "    box-shadow: 0 1px 2px rgba(60, 64, 67, 0.3), 0 1px 3px 1px rgba(60, 64, 67, 0.15);\n",
              "    fill: var(--button-hover-fill-color);\n",
              "  }\n",
              "\n",
              "  .colab-df-quickchart-complete:disabled,\n",
              "  .colab-df-quickchart-complete:disabled:hover {\n",
              "    background-color: var(--disabled-bg-color);\n",
              "    fill: var(--disabled-fill-color);\n",
              "    box-shadow: none;\n",
              "  }\n",
              "\n",
              "  .colab-df-spinner {\n",
              "    border: 2px solid var(--fill-color);\n",
              "    border-color: transparent;\n",
              "    border-bottom-color: var(--fill-color);\n",
              "    animation:\n",
              "      spin 1s steps(1) infinite;\n",
              "  }\n",
              "\n",
              "  @keyframes spin {\n",
              "    0% {\n",
              "      border-color: transparent;\n",
              "      border-bottom-color: var(--fill-color);\n",
              "      border-left-color: var(--fill-color);\n",
              "    }\n",
              "    20% {\n",
              "      border-color: transparent;\n",
              "      border-left-color: var(--fill-color);\n",
              "      border-top-color: var(--fill-color);\n",
              "    }\n",
              "    30% {\n",
              "      border-color: transparent;\n",
              "      border-left-color: var(--fill-color);\n",
              "      border-top-color: var(--fill-color);\n",
              "      border-right-color: var(--fill-color);\n",
              "    }\n",
              "    40% {\n",
              "      border-color: transparent;\n",
              "      border-right-color: var(--fill-color);\n",
              "      border-top-color: var(--fill-color);\n",
              "    }\n",
              "    60% {\n",
              "      border-color: transparent;\n",
              "      border-right-color: var(--fill-color);\n",
              "    }\n",
              "    80% {\n",
              "      border-color: transparent;\n",
              "      border-right-color: var(--fill-color);\n",
              "      border-bottom-color: var(--fill-color);\n",
              "    }\n",
              "    90% {\n",
              "      border-color: transparent;\n",
              "      border-bottom-color: var(--fill-color);\n",
              "    }\n",
              "  }\n",
              "</style>\n",
              "\n",
              "  <script>\n",
              "    async function quickchart(key) {\n",
              "      const quickchartButtonEl =\n",
              "        document.querySelector('#' + key + ' button');\n",
              "      quickchartButtonEl.disabled = true;  // To prevent multiple clicks.\n",
              "      quickchartButtonEl.classList.add('colab-df-spinner');\n",
              "      try {\n",
              "        const charts = await google.colab.kernel.invokeFunction(\n",
              "            'suggestCharts', [key], {});\n",
              "      } catch (error) {\n",
              "        console.error('Error during call to suggestCharts:', error);\n",
              "      }\n",
              "      quickchartButtonEl.classList.remove('colab-df-spinner');\n",
              "      quickchartButtonEl.classList.add('colab-df-quickchart-complete');\n",
              "    }\n",
              "    (() => {\n",
              "      let quickchartButtonEl =\n",
              "        document.querySelector('#df-33f76e79-dff6-47aa-8c4c-c5146501077b button');\n",
              "      quickchartButtonEl.style.display =\n",
              "        google.colab.kernel.accessAllowed ? 'block' : 'none';\n",
              "    })();\n",
              "  </script>\n",
              "</div>\n",
              "\n",
              "    </div>\n",
              "  </div>\n"
            ],
            "application/vnd.google.colaboratory.intrinsic+json": {
              "type": "dataframe",
              "summary": "{\n  \"name\": \"tips\",\n  \"rows\": 2,\n  \"fields\": [\n    {\n      \"column\": \"smoker\",\n      \"properties\": {\n        \"dtype\": \"category\",\n        \"num_unique_values\": 2,\n        \"samples\": [\n          \"No\",\n          \"Yes\"\n        ],\n        \"semantic_type\": \"\",\n        \"description\": \"\"\n      }\n    },\n    {\n      \"column\": \"mean\",\n      \"properties\": {\n        \"dtype\": \"number\",\n        \"std\": 1.1087900597522733,\n        \"min\": 19.188278145695364,\n        \"max\": 20.756344086021503,\n        \"num_unique_values\": 2,\n        \"samples\": [\n          19.188278145695364,\n          20.756344086021503\n        ],\n        \"semantic_type\": \"\",\n        \"description\": \"\"\n      }\n    },\n    {\n      \"column\": \"std\",\n      \"properties\": {\n        \"dtype\": \"number\",\n        \"std\": 1.1148049940192506,\n        \"min\": 8.255581850004226,\n        \"max\": 9.832154191947508,\n        \"num_unique_values\": 2,\n        \"samples\": [\n          8.255581850004226,\n          9.832154191947508\n        ],\n        \"semantic_type\": \"\",\n        \"description\": \"\"\n      }\n    }\n  ]\n}"
            }
          },
          "metadata": {},
          "execution_count": 60
        }
      ]
    },
    {
      "cell_type": "markdown",
      "source": [
        "4. 성별(sex)과 흡연 여부(smoker)에 따라 평균 팁이 어떻게 달라지는지 확인하시오."
      ],
      "metadata": {
        "id": "r3wfOGda_H9X"
      }
    },
    {
      "cell_type": "code",
      "source": [
        "tips.groupby(['sex','smoker'])['total_bill'].mean()\n"
      ],
      "metadata": {
        "colab": {
          "base_uri": "https://localhost:8080/",
          "height": 297
        },
        "id": "6cS97VoQ_Mrk",
        "outputId": "68113b9f-2f69-480c-d495-6f1c80312769"
      },
      "execution_count": null,
      "outputs": [
        {
          "output_type": "stream",
          "name": "stderr",
          "text": [
            "<ipython-input-62-a12bb6bf2df8>:1: FutureWarning: The default of observed=False is deprecated and will be changed to True in a future version of pandas. Pass observed=False to retain current behavior or observed=True to adopt the future default and silence this warning.\n",
            "  tips.groupby(['sex','smoker'])['total_bill'].mean()\n"
          ]
        },
        {
          "output_type": "execute_result",
          "data": {
            "text/plain": [
              "sex     smoker\n",
              "Male    Yes       22.284500\n",
              "        No        19.791237\n",
              "Female  Yes       17.977879\n",
              "        No        18.105185\n",
              "Name: total_bill, dtype: float64"
            ],
            "text/html": [
              "<div>\n",
              "<style scoped>\n",
              "    .dataframe tbody tr th:only-of-type {\n",
              "        vertical-align: middle;\n",
              "    }\n",
              "\n",
              "    .dataframe tbody tr th {\n",
              "        vertical-align: top;\n",
              "    }\n",
              "\n",
              "    .dataframe thead th {\n",
              "        text-align: right;\n",
              "    }\n",
              "</style>\n",
              "<table border=\"1\" class=\"dataframe\">\n",
              "  <thead>\n",
              "    <tr style=\"text-align: right;\">\n",
              "      <th></th>\n",
              "      <th></th>\n",
              "      <th>total_bill</th>\n",
              "    </tr>\n",
              "    <tr>\n",
              "      <th>sex</th>\n",
              "      <th>smoker</th>\n",
              "      <th></th>\n",
              "    </tr>\n",
              "  </thead>\n",
              "  <tbody>\n",
              "    <tr>\n",
              "      <th rowspan=\"2\" valign=\"top\">Male</th>\n",
              "      <th>Yes</th>\n",
              "      <td>22.284500</td>\n",
              "    </tr>\n",
              "    <tr>\n",
              "      <th>No</th>\n",
              "      <td>19.791237</td>\n",
              "    </tr>\n",
              "    <tr>\n",
              "      <th rowspan=\"2\" valign=\"top\">Female</th>\n",
              "      <th>Yes</th>\n",
              "      <td>17.977879</td>\n",
              "    </tr>\n",
              "    <tr>\n",
              "      <th>No</th>\n",
              "      <td>18.105185</td>\n",
              "    </tr>\n",
              "  </tbody>\n",
              "</table>\n",
              "</div><br><label><b>dtype:</b> float64</label>"
            ]
          },
          "metadata": {},
          "execution_count": 62
        }
      ]
    },
    {
      "cell_type": "markdown",
      "source": [
        "5. 요일별 총 total_bill의 합계를 계산하고, 어떤 요일에 가장 많은 매출이 발생했는지 확인하시오."
      ],
      "metadata": {
        "id": "HXy1TRBd_Qbu"
      }
    },
    {
      "cell_type": "code",
      "source": [
        "tips.groupby('day')['total_bill'].sum()\n"
      ],
      "metadata": {
        "colab": {
          "base_uri": "https://localhost:8080/",
          "height": 297
        },
        "id": "6QeKFEux_Opj",
        "outputId": "535c9da0-da68-408e-ece5-42a4c40de06e"
      },
      "execution_count": null,
      "outputs": [
        {
          "output_type": "stream",
          "name": "stderr",
          "text": [
            "<ipython-input-63-6181df36f9ff>:1: FutureWarning: The default of observed=False is deprecated and will be changed to True in a future version of pandas. Pass observed=False to retain current behavior or observed=True to adopt the future default and silence this warning.\n",
            "  tips.groupby('day')['total_bill'].sum()\n"
          ]
        },
        {
          "output_type": "execute_result",
          "data": {
            "text/plain": [
              "day\n",
              "Thur    1096.33\n",
              "Fri      325.88\n",
              "Sat     1778.40\n",
              "Sun     1627.16\n",
              "Name: total_bill, dtype: float64"
            ],
            "text/html": [
              "<div>\n",
              "<style scoped>\n",
              "    .dataframe tbody tr th:only-of-type {\n",
              "        vertical-align: middle;\n",
              "    }\n",
              "\n",
              "    .dataframe tbody tr th {\n",
              "        vertical-align: top;\n",
              "    }\n",
              "\n",
              "    .dataframe thead th {\n",
              "        text-align: right;\n",
              "    }\n",
              "</style>\n",
              "<table border=\"1\" class=\"dataframe\">\n",
              "  <thead>\n",
              "    <tr style=\"text-align: right;\">\n",
              "      <th></th>\n",
              "      <th>total_bill</th>\n",
              "    </tr>\n",
              "    <tr>\n",
              "      <th>day</th>\n",
              "      <th></th>\n",
              "    </tr>\n",
              "  </thead>\n",
              "  <tbody>\n",
              "    <tr>\n",
              "      <th>Thur</th>\n",
              "      <td>1096.33</td>\n",
              "    </tr>\n",
              "    <tr>\n",
              "      <th>Fri</th>\n",
              "      <td>325.88</td>\n",
              "    </tr>\n",
              "    <tr>\n",
              "      <th>Sat</th>\n",
              "      <td>1778.40</td>\n",
              "    </tr>\n",
              "    <tr>\n",
              "      <th>Sun</th>\n",
              "      <td>1627.16</td>\n",
              "    </tr>\n",
              "  </tbody>\n",
              "</table>\n",
              "</div><br><label><b>dtype:</b> float64</label>"
            ]
          },
          "metadata": {},
          "execution_count": 63
        }
      ]
    },
    {
      "cell_type": "markdown",
      "source": [
        "### Q6) 시각화"
      ],
      "metadata": {
        "id": "1KVTPBKA-Qrz"
      }
    },
    {
      "cell_type": "code",
      "source": [
        "# countplot: x축 범주형, y축 관측치\n",
        "\n",
        "\n",
        "sns.countplot( x = 'day' , data = tips)\n",
        "\n",
        "plt.xlabel = 'day'\n",
        "plt.ylabel = 'tips'\n",
        "plt.show()\n"
      ],
      "metadata": {
        "colab": {
          "base_uri": "https://localhost:8080/",
          "height": 449
        },
        "id": "CUvNv22E2T6Z",
        "outputId": "cb6d2175-b338-47a4-e85a-0338c62b69b3"
      },
      "execution_count": null,
      "outputs": [
        {
          "output_type": "display_data",
          "data": {
            "text/plain": [
              "<Figure size 640x480 with 1 Axes>"
            ],
            "image/png": "[encoded data removed]"
          },
          "metadata": {}
        }
      ]
    },
    {
      "cell_type": "code",
      "source": [
        "# barplot: X축이 범주형, Y축이 연속형 값\n",
        "\n",
        "sns.barplot( x = 'sex' , y = 'tip', data = tips)\n",
        "\n",
        "plt.xlabel='sex'\n",
        "plt.ylabel='tip'\n",
        "plt.grid = 'True'\n",
        "plt.show()"
      ],
      "metadata": {
        "colab": {
          "base_uri": "https://localhost:8080/",
          "height": 455
        },
        "id": "TulDufZ62Viv",
        "outputId": "161991b7-8c02-42ba-ecaf-b7f600b034a7"
      },
      "execution_count": null,
      "outputs": [
        {
          "output_type": "display_data",
          "data": {
            "text/plain": [
              "<Figure size 640x480 with 1 Axes>"
            ],
            "image/png": "[encoded data removed]"
          },
          "metadata": {}
        }
      ]
    },
    {
      "cell_type": "code",
      "source": [
        "#boxplot: X축이 범주형, Y축이 수치형\n",
        "\n",
        "\n",
        "sns.barplot( x = 'time' , y = 'total_bill' , data = tips)\n",
        "\n",
        "plt.xlabel = 'time'\n",
        "plt.ylabel = 'total_bill'\n",
        "plt.show()\n",
        "\n"
      ],
      "metadata": {
        "colab": {
          "base_uri": "https://localhost:8080/",
          "height": 449
        },
        "id": "b182QYW92XBV",
        "outputId": "c3b86d70-64c4-4f81-a34f-8ba181157791"
      },
      "execution_count": null,
      "outputs": [
        {
          "output_type": "display_data",
          "data": {
            "text/plain": [
              "<Figure size 640x480 with 1 Axes>"
            ],
            "image/png": "[encoded data removed]"
          },
          "metadata": {}
        }
      ]
    },
    {
      "cell_type": "code",
      "source": [
        "#histplot: X축 수치형, Y축 자료의 빈도수\n",
        "\n",
        "sns.histplot( x = 'total_bill' , data = tips, bins = 30)\n",
        "\n",
        "plt.xlabel = 'total_bill'\n",
        "plt.ylabel = 'Count'\n",
        "\n",
        "plt.show()"
      ],
      "metadata": {
        "colab": {
          "base_uri": "https://localhost:8080/",
          "height": 450
        },
        "id": "yYTd0Vz-2YrB",
        "outputId": "1b051b71-5142-487d-b6ea-75cd2cddf1ba"
      },
      "execution_count": null,
      "outputs": [
        {
          "output_type": "display_data",
          "data": {
            "text/plain": [
              "<Figure size 640x480 with 1 Axes>"
            ],
            "image/png": "[encoded data removed]"
          },
          "metadata": {}
        }
      ]
    },
    {
      "cell_type": "code",
      "source": [
        "#scatterplot X축 수치형, Y축 수치형\n",
        "\n",
        "sns.scatterplot( x = 'total_bill', y = 'tip', data = tips)\n",
        "\n",
        "plt.xlabel = 'total_bill'\n",
        "plt.ylabel = 'tip'\n",
        "plt.title(\"Axes: xlabel='total_bill', ylabel='tip'\")\n",
        "plt.show()"
      ],
      "metadata": {
        "colab": {
          "base_uri": "https://localhost:8080/",
          "height": 472
        },
        "id": "FfYamRpi2bEK",
        "outputId": "44baf58d-7dfd-42a3-eee0-8e900d564874"
      },
      "execution_count": null,
      "outputs": [
        {
          "output_type": "display_data",
          "data": {
            "text/plain": [
              "<Figure size 640x480 with 1 Axes>"
            ],
            "image/png": "[encoded data removed]"
          },
          "metadata": {}
        }
      ]
    },
    {
      "cell_type": "code",
      "source": [
        "#pairplot: X,Y축 모두 수치형\n",
        "\n",
        "\n",
        "\n",
        "data2 = tips[['total_bill','tips','size']]\n",
        "sns.pairplot(data2)"
      ],
      "metadata": {
        "id": "bLKhYdl52chB",
        "outputId": "087e0407-ef0e-41c1-f2e0-dc69058903c6",
        "colab": {
          "base_uri": "https://localhost:8080/",
          "height": 347
        }
      },
      "execution_count": null,
      "outputs": [
        {
          "output_type": "error",
          "ename": "KeyError",
          "evalue": "\"['tips'] not in index\"",
          "traceback": [
            "\u001b[0;31m---------------------------------------------------------------------------\u001b[0m",
            "\u001b[0;31mKeyError\u001b[0m                                  Traceback (most recent call last)",
            "\u001b[0;32m<ipython-input-88-6a9af1826dc3>\u001b[0m in \u001b[0;36m<cell line: 0>\u001b[0;34m()\u001b[0m\n\u001b[1;32m      3\u001b[0m \u001b[0;34m\u001b[0m\u001b[0m\n\u001b[1;32m      4\u001b[0m \u001b[0;34m\u001b[0m\u001b[0m\n\u001b[0;32m----> 5\u001b[0;31m \u001b[0mdata2\u001b[0m \u001b[0;34m=\u001b[0m \u001b[0mtips\u001b[0m\u001b[0;34m[\u001b[0m\u001b[0;34m[\u001b[0m\u001b[0;34m'total_bill'\u001b[0m\u001b[0;34m,\u001b[0m\u001b[0;34m'tips'\u001b[0m\u001b[0;34m,\u001b[0m\u001b[0;34m'size'\u001b[0m\u001b[0;34m]\u001b[0m\u001b[0;34m]\u001b[0m\u001b[0;34m\u001b[0m\u001b[0;34m\u001b[0m\u001b[0m\n\u001b[0m\u001b[1;32m      6\u001b[0m \u001b[0msns\u001b[0m\u001b[0;34m.\u001b[0m\u001b[0mpairplot\u001b[0m\u001b[0;34m(\u001b[0m\u001b[0mdata2\u001b[0m\u001b[0;34m)\u001b[0m\u001b[0;34m\u001b[0m\u001b[0;34m\u001b[0m\u001b[0m\n",
            "\u001b[0;32m/usr/local/lib/python3.11/dist-packages/pandas/core/frame.py\u001b[0m in \u001b[0;36m__getitem__\u001b[0;34m(self, key)\u001b[0m\n\u001b[1;32m   4106\u001b[0m             \u001b[0;32mif\u001b[0m \u001b[0mis_iterator\u001b[0m\u001b[0;34m(\u001b[0m\u001b[0mkey\u001b[0m\u001b[0;34m)\u001b[0m\u001b[0;34m:\u001b[0m\u001b[0;34m\u001b[0m\u001b[0;34m\u001b[0m\u001b[0m\n\u001b[1;32m   4107\u001b[0m                 \u001b[0mkey\u001b[0m \u001b[0;34m=\u001b[0m \u001b[0mlist\u001b[0m\u001b[0;34m(\u001b[0m\u001b[0mkey\u001b[0m\u001b[0;34m)\u001b[0m\u001b[0;34m\u001b[0m\u001b[0;34m\u001b[0m\u001b[0m\n\u001b[0;32m-> 4108\u001b[0;31m             \u001b[0mindexer\u001b[0m \u001b[0;34m=\u001b[0m \u001b[0mself\u001b[0m\u001b[0;34m.\u001b[0m\u001b[0mcolumns\u001b[0m\u001b[0;34m.\u001b[0m\u001b[0m_get_indexer_strict\u001b[0m\u001b[0;34m(\u001b[0m\u001b[0mkey\u001b[0m\u001b[0;34m,\u001b[0m \u001b[0;34m\"columns\"\u001b[0m\u001b[0;34m)\u001b[0m\u001b[0;34m[\u001b[0m\u001b[0;36m1\u001b[0m\u001b[0;34m]\u001b[0m\u001b[0;34m\u001b[0m\u001b[0;34m\u001b[0m\u001b[0m\n\u001b[0m\u001b[1;32m   4109\u001b[0m \u001b[0;34m\u001b[0m\u001b[0m\n\u001b[1;32m   4110\u001b[0m         \u001b[0;31m# take() does not accept boolean indexers\u001b[0m\u001b[0;34m\u001b[0m\u001b[0;34m\u001b[0m\u001b[0m\n",
            "\u001b[0;32m/usr/local/lib/python3.11/dist-packages/pandas/core/indexes/base.py\u001b[0m in \u001b[0;36m_get_indexer_strict\u001b[0;34m(self, key, axis_name)\u001b[0m\n\u001b[1;32m   6198\u001b[0m             \u001b[0mkeyarr\u001b[0m\u001b[0;34m,\u001b[0m \u001b[0mindexer\u001b[0m\u001b[0;34m,\u001b[0m \u001b[0mnew_indexer\u001b[0m \u001b[0;34m=\u001b[0m \u001b[0mself\u001b[0m\u001b[0;34m.\u001b[0m\u001b[0m_reindex_non_unique\u001b[0m\u001b[0;34m(\u001b[0m\u001b[0mkeyarr\u001b[0m\u001b[0;34m)\u001b[0m\u001b[0;34m\u001b[0m\u001b[0;34m\u001b[0m\u001b[0m\n\u001b[1;32m   6199\u001b[0m \u001b[0;34m\u001b[0m\u001b[0m\n\u001b[0;32m-> 6200\u001b[0;31m         \u001b[0mself\u001b[0m\u001b[0;34m.\u001b[0m\u001b[0m_raise_if_missing\u001b[0m\u001b[0;34m(\u001b[0m\u001b[0mkeyarr\u001b[0m\u001b[0;34m,\u001b[0m \u001b[0mindexer\u001b[0m\u001b[0;34m,\u001b[0m \u001b[0maxis_name\u001b[0m\u001b[0;34m)\u001b[0m\u001b[0;34m\u001b[0m\u001b[0;34m\u001b[0m\u001b[0m\n\u001b[0m\u001b[1;32m   6201\u001b[0m \u001b[0;34m\u001b[0m\u001b[0m\n\u001b[1;32m   6202\u001b[0m         \u001b[0mkeyarr\u001b[0m \u001b[0;34m=\u001b[0m \u001b[0mself\u001b[0m\u001b[0;34m.\u001b[0m\u001b[0mtake\u001b[0m\u001b[0;34m(\u001b[0m\u001b[0mindexer\u001b[0m\u001b[0;34m)\u001b[0m\u001b[0;34m\u001b[0m\u001b[0;34m\u001b[0m\u001b[0m\n",
            "\u001b[0;32m/usr/local/lib/python3.11/dist-packages/pandas/core/indexes/base.py\u001b[0m in \u001b[0;36m_raise_if_missing\u001b[0;34m(self, key, indexer, axis_name)\u001b[0m\n\u001b[1;32m   6250\u001b[0m \u001b[0;34m\u001b[0m\u001b[0m\n\u001b[1;32m   6251\u001b[0m             \u001b[0mnot_found\u001b[0m \u001b[0;34m=\u001b[0m \u001b[0mlist\u001b[0m\u001b[0;34m(\u001b[0m\u001b[0mensure_index\u001b[0m\u001b[0;34m(\u001b[0m\u001b[0mkey\u001b[0m\u001b[0;34m)\u001b[0m\u001b[0;34m[\u001b[0m\u001b[0mmissing_mask\u001b[0m\u001b[0;34m.\u001b[0m\u001b[0mnonzero\u001b[0m\u001b[0;34m(\u001b[0m\u001b[0;34m)\u001b[0m\u001b[0;34m[\u001b[0m\u001b[0;36m0\u001b[0m\u001b[0;34m]\u001b[0m\u001b[0;34m]\u001b[0m\u001b[0;34m.\u001b[0m\u001b[0munique\u001b[0m\u001b[0;34m(\u001b[0m\u001b[0;34m)\u001b[0m\u001b[0;34m)\u001b[0m\u001b[0;34m\u001b[0m\u001b[0;34m\u001b[0m\u001b[0m\n\u001b[0;32m-> 6252\u001b[0;31m             \u001b[0;32mraise\u001b[0m \u001b[0mKeyError\u001b[0m\u001b[0;34m(\u001b[0m\u001b[0;34mf\"{not_found} not in index\"\u001b[0m\u001b[0;34m)\u001b[0m\u001b[0;34m\u001b[0m\u001b[0;34m\u001b[0m\u001b[0m\n\u001b[0m\u001b[1;32m   6253\u001b[0m \u001b[0;34m\u001b[0m\u001b[0m\n\u001b[1;32m   6254\u001b[0m     \u001b[0;34m@\u001b[0m\u001b[0moverload\u001b[0m\u001b[0;34m\u001b[0m\u001b[0;34m\u001b[0m\u001b[0m\n",
            "\u001b[0;31mKeyError\u001b[0m: \"['tips'] not in index\""
          ]
        }
      ]
    },
    {
      "cell_type": "markdown",
      "source": [
        "## Numpy.random\n",
        "- 다음은 Numpy.random모듈을 학습하기위한 문제입니다.\n",
        "- 출력 결과를 재현하기 위한 코드를 작성해보세요\n",
        "- Numpy docs 혹은 블로그를 참고하기 바라며 LLM 서비스는 자제해주세요"
      ],
      "metadata": {
        "id": "ZV5WC0wWBECT"
      }
    },
    {
      "cell_type": "markdown",
      "source": [
        "### Q7) 균등분포에서 난수 생성\n",
        "- 0과 1사이의 실수 난수 100개를 생성하고 평균과 표준편차를 소수점 3번째짜리 까지 계산"
      ],
      "metadata": {
        "id": "5zWe5QbrG8TA"
      }
    },
    {
      "cell_type": "code",
      "source": [
        "# 난수 생성, 평균과 표준편차 계산\n",
        "\n",
        "'''\n",
        "\n",
        "여기에 코드를 작성해주세요\n",
        "\n",
        "\n",
        "'''\n",
        "\n",
        "print(f\"Mean: {_mean:.3f}\")\n",
        "print(f\"Standard Deviation: {_std_dev:.3f}\")"
      ],
      "metadata": {
        "colab": {
          "base_uri": "https://localhost:8080/"
        },
        "id": "54uxVT8DG-cq",
        "outputId": "55a84c5c-8bd3-4bcd-ba49-f65bde54ffe2"
      },
      "execution_count": null,
      "outputs": [
        {
          "output_type": "stream",
          "name": "stdout",
          "text": [
            "Mean: 0.486\n",
            "Standard Deviation: 0.271\n"
          ]
        }
      ]
    },
    {
      "cell_type": "markdown",
      "source": [
        "### Q8) 주사위 시뮬레이션\n",
        "- 주사위를 100번 던졌을때 나올 숫자를 시뮬레이션하고 각 숫자가 나온 횟수를 계산"
      ],
      "metadata": {
        "id": "u2Px_UPfH3Rn"
      }
    },
    {
      "cell_type": "code",
      "source": [
        "import numpy as np\n",
        "import matplotlib.pyplot as plt\n",
        "\n",
        "# 1. 주사위 던지기 시뮬레이션\n",
        "rolls = []\n",
        "\n",
        "'''\n",
        "\n",
        "여기에 코드를 작성해주세요\n",
        "\n",
        "\n",
        "'''\n",
        "\n",
        "# 2. 각 숫자의 빈도 계산\n",
        "roll_counts = {}\n",
        "\n",
        "'''\n",
        "\n",
        "여기에 코드를 작성해주세요\n",
        "\n",
        "\n",
        "'''\n",
        "\n",
        "# 3. 결과 출력\n",
        "print(\"Dice roll counts:\", roll_counts)\n",
        "\n",
        "# 4. 히스토그램 그리기\n",
        "plt.hist(rolls, bins=np.arange(1, 8) - 0.5, color='skyblue', edgecolor='black')\n",
        "plt.title(\"Dice Roll Simulation (100 Rolls)\")\n",
        "plt.xlabel(\"Dice Number\")\n",
        "plt.ylabel(\"Frequency\")\n",
        "plt.xticks(range(1, 7))  # X축에 1부터 6까지 숫자를 표시\n",
        "plt.show()"
      ],
      "metadata": {
        "colab": {
          "base_uri": "https://localhost:8080/",
          "height": 491
        },
        "id": "CJC3J3F5H81h",
        "outputId": "59cd23d8-e606-440f-c597-76313ee8962b"
      },
      "execution_count": null,
      "outputs": [
        {
          "output_type": "stream",
          "name": "stdout",
          "text": [
            "Dice roll counts: {1: 16, 2: 18, 3: 12, 4: 14, 5: 20, 6: 20}\n"
          ]
        },
        {
          "output_type": "display_data",
          "data": {
            "text/plain": [
              "<Figure size 640x480 with 1 Axes>"
            ],
            "image/png": "[encoded data removed]"
          },
          "metadata": {}
        }
      ]
    },
    {
      "cell_type": "markdown",
      "source": [
        "### Q9) 정규분포 데이터 생성\n",
        "\n",
        "- 평균 50, 표준편차 10인 정규분포에서 1,000개의 데이터를 생성하고 히스토그램 그리기"
      ],
      "metadata": {
        "id": "yQK3kyqdG7bJ"
      }
    },
    {
      "cell_type": "code",
      "source": [
        "import matplotlib.pyplot as plt\n",
        "\n",
        "# 정규분포 데이터 생성\n",
        "'''\n",
        "\n",
        "여기에 코드를 작성해주세요\n",
        "\n",
        "\n",
        "'''\n",
        "\n",
        "# 히스토그램 그리기\n",
        "\n",
        "'''\n",
        "\n",
        "여기에 코드를 작성해주세요\n",
        "\n",
        "\n",
        "'''\n",
        "\n",
        "plt.title(\"Histogram of Normal Distribution\")\n",
        "plt.xlabel(\"Value\")\n",
        "plt.ylabel(\"Frequency\")\n",
        "plt.show()"
      ],
      "metadata": {
        "colab": {
          "base_uri": "https://localhost:8080/",
          "height": 472
        },
        "id": "xcDwZPTKBEvQ",
        "outputId": "949ced25-1b95-4eb7-f197-36b3bdf2d130"
      },
      "execution_count": 8,
      "outputs": [
        {
          "output_type": "display_data",
          "data": {
            "text/plain": [
              "<Figure size 640x480 with 1 Axes>"
            ],
            "image/png": "[encoded data removed]"
          },
          "metadata": {}
        }
      ]
    },
    {
      "cell_type": "markdown",
      "source": [
        "### Q10) 로또 생성기 만들기"
      ],
      "metadata": {
        "id": "Q2VE2VSOIJ-d"
      }
    },
    {
      "cell_type": "markdown",
      "source": [
        "#### Part1: 단 1번의 추출\n",
        "- 기능1: 1부터 45사이의 숫자 중 6개의 번호를 중복없이 추출(힌트 np.random.choice)\n",
        "- 기능2: 추가적으로 보너스 번호 1개를 추출\n",
        "-  로또 번호 풀: `lotto_pool`\n",
        "-  로또 번호 6개 담는 자료형 `lotto_numbers`\n",
        "-  보너스 번호 자료형 `bonus_numbers`"
      ],
      "metadata": {
        "id": "yKIaOtRrN_uS"
      }
    },
    {
      "cell_type": "code",
      "source": [
        "import numpy as np\n",
        "\n",
        "# 로또 번호 생성\n",
        "# 1부터 45 사이의 숫자 중 6개의 번호를 무작위로 추첨\n",
        "# replace = False를 통해 중복 없이 추첨\n",
        "\n",
        "lotto_pool = list(range(1,46))\n",
        "\n",
        "lotto_numbers = np.random.choice(lotto_pool, 6, replace = False)\n",
        "lotto_numbers = [int(num) for num in lotto_numbers]  # np.int64 → int\n",
        "\n",
        "# 보너스 번호 생성 (이미 선택된 번호를 제외하고 추첨)\n",
        "\n",
        "bonus_pool = list(set(lotto_pool) - set(lotto_numbers))\n",
        "bonus_number = int(np.random.choice(bonus_pool, 1))  # np.int64 → int\n",
        "\n",
        "\n",
        "# 결과 출력\n",
        "print(\"당첨 번호:\", sorted(lotto_numbers))\n",
        "print(\"보너스 번호:\", bonus_number)"
      ],
      "metadata": {
        "colab": {
          "base_uri": "https://localhost:8080/"
        },
        "id": "5Sc97vhqIdlU",
        "outputId": "52a6463d-75fa-4fd6-c19f-468f9850e17e"
      },
      "execution_count": 1,
      "outputs": [
        {
          "output_type": "stream",
          "name": "stdout",
          "text": [
            "당첨 번호: [4, 10, 21, 22, 25, 37]\n",
            "보너스 번호: 44\n"
          ]
        },
        {
          "output_type": "stream",
          "name": "stderr",
          "text": [
            "<ipython-input-1-d0e8b40bdacd>:15: DeprecationWarning: Conversion of an array with ndim > 0 to a scalar is deprecated, and will error in future. Ensure you extract a single element from your array before performing this operation. (Deprecated NumPy 1.25.)\n",
            "  bonus_number = int(np.random.choice(bonus_pool, 1))  # np.int64 → int\n"
          ]
        }
      ]
    },
    {
      "cell_type": "markdown",
      "source": [
        "#### Part2: 1000회 반복 수행했을때 히스토그램으로시각화\n",
        "- 입력할 세트 수 (ex 1000개): `n_tickets `\n",
        "-  로또 번호 6개 담는 자료형 `lotto_numbers`"
      ],
      "metadata": {
        "id": "DEKfq9DvOCpq"
      }
    },
    {
      "cell_type": "code",
      "source": [
        "# 사용자 입력\n",
        "n_tickets = int(input(\"몇 세트의 로또 번호를 생성하시겠습니까? \"))\n",
        "\n",
        "# 여러 세트의 로또 번호 생성\n",
        "for i in range(n_tickets):\n",
        "    lotto_numbers = np.random.choice(lotto_pool, 6, replace = False)\n",
        "\n",
        "    # 보너스 번호 추첨\n",
        "    bonus_pool = list(set(lotto_pool) - set(lotto_numbers))\n",
        "    bonus_number = np.random.choice(bonus_pool, 1)\n",
        "\n",
        "    # 결과 출력\n",
        "    print(f\"세트 {i+1}: 당첨 번호={sorted(lotto_numbers)}, 보너스 번호={bonus_number[0]}\")"
      ],
      "metadata": {
        "colab": {
          "base_uri": "https://localhost:8080/"
        },
        "id": "9hHXkXOpIevR",
        "outputId": "d7d0665e-302b-4802-d5d2-8d04203ce000"
      },
      "execution_count": 2,
      "outputs": [
        {
          "output_type": "stream",
          "name": "stdout",
          "text": [
            "몇 세트의 로또 번호를 생성하시겠습니까? 3\n",
            "세트 1: 당첨 번호=[np.int64(3), np.int64(4), np.int64(8), np.int64(11), np.int64(13), np.int64(43)], 보너스 번호=17\n",
            "세트 2: 당첨 번호=[np.int64(17), np.int64(20), np.int64(22), np.int64(31), np.int64(36), np.int64(39)], 보너스 번호=40\n",
            "세트 3: 당첨 번호=[np.int64(15), np.int64(18), np.int64(30), np.int64(33), np.int64(41), np.int64(44)], 보너스 번호=26\n"
          ]
        }
      ]
    },
    {
      "cell_type": "markdown",
      "source": [
        "#### Part3 사용자의 로또 구매 횟수(ex 1000회)를 전달 받아 여러번의 로또번호 생성하는 코드 작성\n",
        "- 로또 번호 생성함수명: `generate_lotto_numbers`\n",
        "- 로또 번호 6개 담는 자료형 `lotto_numbers`\n",
        "- 모든 로또번호를 담는 자료형 `all_numbers`"
      ],
      "metadata": {
        "id": "eKkxBgIJOENr"
      }
    },
    {
      "cell_type": "code",
      "source": [
        "# 로또 번호 생성 함수\n",
        "def generate_lotto_numbers(n_trials):\n",
        "    lotto_pool = list(range(1,46))\n",
        "    all_numbers = []\n",
        "    # 6개의 번호 추첨\n",
        "    for _ in range(n_trials):\n",
        "      lotto_numbers = np.random.choice(lotto_pool, 6, replace = False)\n",
        "      all_numbers.extend(lotto_numbers)\n",
        "\n",
        "    return all_numbers\n",
        "\n",
        "# 빈도 분석용 데이터 생성\n",
        "n_trials = 1000  # 로또 번호를 생성할 횟수\n",
        "\n",
        "all_numbers = generate_lotto_numbers(n_trials)\n",
        "\n",
        "# 히스토그램 시각화\n",
        "plt.figure(figsize = (10,8))\n",
        "plt.hist(all_numbers, bins=range(1, 47), align='left', color='skyblue', alpha=0.7, edgecolor='black')\n",
        "plt.title(\"Lotto Number Frequency (1000 Draws)\")\n",
        "plt.xlabel(\"Lotto Numbers\")\n",
        "plt.ylabel(\"Frequency\")\n",
        "plt.xticks(rotation = 90)\n",
        "plt.xticks(range(1, 46))  # 1부터 45까지의 숫자\n",
        "plt.show()"
      ],
      "metadata": {
        "colab": {
          "base_uri": "https://localhost:8080/",
          "height": 695
        },
        "id": "yqY9iIbxJN80",
        "outputId": "660ebb52-34bc-40b8-99ed-144c591c9d8e"
      },
      "execution_count": 9,
      "outputs": [
        {
          "output_type": "display_data",
          "data": {
            "text/plain": [
              "<Figure size 1000x800 with 1 Axes>"
            ],
            "image/png": "[encoded data removed]"
          },
          "metadata": {}
        }
      ]
    },
    {
      "cell_type": "code",
      "source": [
        "a"
      ],
      "metadata": {
        "id": "8ilvFmPEixw-"
      },
      "execution_count": null,
      "outputs": []
    }
  ]
}